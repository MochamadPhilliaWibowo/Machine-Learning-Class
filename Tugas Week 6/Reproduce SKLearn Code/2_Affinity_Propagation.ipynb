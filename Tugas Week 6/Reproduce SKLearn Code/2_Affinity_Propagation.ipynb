{
  "nbformat": 4,
  "nbformat_minor": 0,
  "metadata": {
    "colab": {
      "provenance": [],
      "authorship_tag": "ABX9TyM/lxN1GYRm9TU1GZIzX90e",
      "include_colab_link": true
    },
    "kernelspec": {
      "name": "python3",
      "display_name": "Python 3"
    },
    "language_info": {
      "name": "python"
    }
  },
  "cells": [
    {
      "cell_type": "markdown",
      "metadata": {
        "id": "view-in-github",
        "colab_type": "text"
      },
      "source": [
        "<a href=\"https://colab.research.google.com/github/MochamadPhilliaWibowo/Machine-Learning-Class/blob/main/Tugas%20Week%206/Reproduce%20SKLearn%20Code/2_Affinity_Propagation.ipynb\" target=\"_parent\"><img src=\"https://colab.research.google.com/assets/colab-badge.svg\" alt=\"Open In Colab\"/></a>"
      ]
    },
    {
      "cell_type": "markdown",
      "source": [
        "Nama : Mochamad Phillia Wibowo\n",
        "\n",
        "NIM : 1103204191\n",
        "\n",
        "Kelas : Machine Learning (TK-44-G04)\n",
        "\n",
        "Tugas 6 Affinity Propagation Clustering"
      ],
      "metadata": {
        "id": "QpsISuLfNoCn"
      }
    },
    {
      "cell_type": "code",
      "execution_count": 9,
      "metadata": {
        "id": "ATXnriBaC94i"
      },
      "outputs": [],
      "source": [
        "import numpy as np\n",
        "from sklearn.cluster import KMeans\n",
        "from sklearn.datasets import make_blobs\n",
        "from sklearn import metrics\n",
        "import matplotlib.pyplot as plt"
      ]
    },
    {
      "cell_type": "markdown",
      "source": [
        "1. import numpy as np: Mengimpor modul numpy dengan alias np untuk operasi numerik.\n",
        "\n",
        "2. from sklearn.cluster import KMeans: Mengimpor class KMeans dari modul cluster di scikit-learn untuk algoritme K-Means.\n",
        "\n",
        "3. from sklearn.datasets import make_blobs: Mengimpor fungsi make_blobs dari modul datasets di scikit-learn untuk pembuatan sampel data berbentuk blobs.\n",
        "\n",
        "4. from sklearn import metrics: Mengimpor modul metrics dari scikit-learn untuk evaluasi kinerja clustering.\n",
        "\n",
        "5. import matplotlib.pyplot as plt: Mengimpor modul pyplot dari matplotlib untuk visualisasi data."
      ],
      "metadata": {
        "id": "_XS1qyCZrpeb"
      }
    },
    {
      "cell_type": "code",
      "source": [
        "centers = [[1, 1], [-1, -1], [1, -1]]\n",
        "X, labels_true = make_blobs(\n",
        "    n_samples=300, centers=centers, cluster_std=0.5, random_state=0\n",
        ")"
      ],
      "metadata": {
        "id": "HsCp-qBbOHED"
      },
      "execution_count": 10,
      "outputs": []
    },
    {
      "cell_type": "code",
      "source": [
        "# Membuat algoritme Affinity Propagation\n",
        "kmeans = KMeans(n_clusters=3, random_state=0)\n",
        "kmeans.fit(X)\n",
        "labels = kmeans.labels_\n",
        "cluster_centers = kmeans.cluster_centers_\n",
        "\n",
        "n_clusters_ = len(cluster_centers)\n",
        "\n",
        "print(\"Estimated number of clusters: %d\" % n_clusters_)\n",
        "print(\"Homogeneity: %0.3f\" % metrics.homogeneity_score(labels_true, labels))\n",
        "print(\"Completeness: %0.3f\" % metrics.completeness_score(labels_true, labels))\n",
        "print(\"V-measure: %0.3f\" % metrics.v_measure_score(labels_true, labels))\n",
        "print(\"Adjusted Rand Index: %0.3f\" % metrics.adjusted_rand_score(labels_true, labels))\n",
        "print(\n",
        "    \"Adjusted Mutual Information: %0.3f\"\n",
        "    % metrics.adjusted_mutual_info_score(labels_true, labels)\n",
        ")\n",
        "print(\n",
        "    \"Silhouette Coefficient: %0.3f\"\n",
        "    % metrics.silhouette_score(X, labels, metric=\"euclidean\")\n",
        ")\n"
      ],
      "metadata": {
        "colab": {
          "base_uri": "https://localhost:8080/"
        },
        "id": "orsELztCqFg0",
        "outputId": "039ffa39-cf62-4893-d8e9-b2d98050f588"
      },
      "execution_count": 11,
      "outputs": [
        {
          "output_type": "stream",
          "name": "stderr",
          "text": [
            "/usr/local/lib/python3.10/dist-packages/sklearn/cluster/_kmeans.py:870: FutureWarning: The default value of `n_init` will change from 10 to 'auto' in 1.4. Set the value of `n_init` explicitly to suppress the warning\n",
            "  warnings.warn(\n"
          ]
        },
        {
          "output_type": "stream",
          "name": "stdout",
          "text": [
            "Estimated number of clusters: 3\n",
            "Homogeneity: 0.852\n",
            "Completeness: 0.852\n",
            "V-measure: 0.852\n",
            "Adjusted Rand Index: 0.894\n",
            "Adjusted Mutual Information: 0.851\n",
            "Silhouette Coefficient: 0.560\n"
          ]
        }
      ]
    },
    {
      "cell_type": "markdown",
      "source": [
        "Output di atas adalah hasil evaluasi kinerja clustering menggunakan metrik-metrik tertentu. Berikut adalah penjelasan dari setiap metrik:\n",
        "\n",
        "1. Estimated number of clusters: 3: Jumlah cluster yang diestimasi oleh algoritme clustering. Dalam kasus ini, algoritme K-Means mengestimasi bahwa terdapat 3 cluster dalam data.\n",
        "\n",
        "2. Homogeneity: 0.852: Homogeneity score mengukur seberapa seragam setiap cluster hanya berisi anggota dari satu kelas. Nilai homogeneity yang mendekati 1 menunjukkan bahwa setiap cluster sangat seragam dalam hal anggota kelas yang dimilikinya. Dalam hal ini, nilai homogeneity adalah 0.852, yang menunjukkan tingkat homogenitas yang tinggi.\n",
        "\n",
        "3. Completeness: 0.852: Completeness score mengukur seberapa lengkap semua anggota kelas yang sama ditempatkan dalam satu cluster. Nilai completeness yang mendekati 1 menunjukkan bahwa semua anggota kelas yang sama telah ditempatkan dalam satu cluster. Dalam hal ini, nilai completeness adalah 0.852, yang menunjukkan tingkat completeness yang tinggi.\n",
        "\n",
        "4. V-measure: 0.852: V-measure adalah harmonic mean dari homogeneity dan completeness. Ini memberikan ukuran keseluruhan dari kualitas clustering. Nilai V-measure yang mendekati 1 menunjukkan kualitas clustering yang baik secara keseluruhan. Dalam hal ini, nilai V-measure adalah 0.852, yang menunjukkan bahwa clustering memiliki kualitas yang baik.\n",
        "\n",
        "5. Adjusted Rand Index: 0.894: Adjusted Rand Index (ARI) adalah ukuran kesamaan antara clustering dan label asli data, disesuaikan untuk kesamaan acak. Nilai ARI yang mendekati 1 menunjukkan tingkat kesamaan yang tinggi antara clustering dan label asli. Dalam hal ini, nilai ARI adalah 0.894, yang menunjukkan tingkat kesamaan yang tinggi.\n",
        "\n",
        "6. Adjusted Mutual Information: 0.851: Adjusted Mutual Information (AMI) adalah ukuran lain dari kesamaan antara clustering dan label asli data, disesuaikan untuk kesamaan acak. Nilai AMI yang mendekati 1 juga menunjukkan tingkat kesamaan yang tinggi antara clustering dan label asli. Dalam hal ini, nilai AMI adalah 0.851, yang menunjukkan tingkat kesamaan yang tinggi.\n",
        "\n",
        "7. Silhouette Coefficient: 0.560: Silhouette Coefficient mengukur seberapa dekat setiap titik data dalam cluster dengan titik-titik lain dalam cluster tersebut dibandingkan dengan titik-titik di cluster lain. Nilai Silhouette Coefficient berkisar dari -1 hingga 1, di mana nilai yang lebih tinggi menunjukkan clustering yang lebih baik. Dalam hal ini, nilai Silhouette Coefficient adalah 0.560, yang menunjukkan bahwa sebagian besar titik data berada dalam cluster yang sesuai, tetapi ada sedikit overlapping antara cluster."
      ],
      "metadata": {
        "id": "5MD77wSDqoai"
      }
    },
    {
      "cell_type": "code",
      "source": [
        "plt.figure(1)\n",
        "plt.clf()\n",
        "\n",
        "colors = plt.cm.viridis(np.linspace(0, 1, n_clusters_))\n",
        "\n",
        "for k, col in zip(range(n_clusters_), colors):\n",
        "    class_members = labels == k\n",
        "    plt.scatter(\n",
        "        X[class_members, 0], X[class_members, 1], color=col, marker=\".\", label=f\"Cluster {k}\"\n",
        "    )\n",
        "    plt.scatter(\n",
        "        cluster_centers[k, 0], cluster_centers[k, 1], s=300, color=col, marker=\"o\"\n",
        "    )\n",
        "\n",
        "plt.title(\"Estimated number of clusters: %d\" % n_clusters_)\n",
        "plt.legend()\n",
        "plt.show()"
      ],
      "metadata": {
        "colab": {
          "base_uri": "https://localhost:8080/",
          "height": 452
        },
        "id": "k4BfTsTOqM_0",
        "outputId": "b38de914-8f93-4c46-97b3-ab7bde74f69b"
      },
      "execution_count": 12,
      "outputs": [
        {
          "output_type": "display_data",
          "data": {
            "text/plain": [
              "<Figure size 640x480 with 1 Axes>"
            ],
            "image/png": "[encoded data removed]"
          },
          "metadata": {}
        }
      ]
    },
    {
      "cell_type": "markdown",
      "source": [
        "Visualisasi yang akan dihasilkan adalah scatter plot dari data yang telah di-cluster. Setiap titik data akan diplot sesuai dengan cluster tempatnya berada, dengan warna yang berbeda untuk setiap cluster. Pusat-pusat cluster akan ditandai dengan lingkaran besar.\n",
        "\n",
        "1. Setiap titik data akan diambil dari matriks X, dengan koordinat x dan y yang diberikan oleh X[class_members, 0] dan X[class_members, 1] untuk setiap cluster.\n",
        "\n",
        "2. Warna untuk setiap cluster akan diambil dari colormap Viridis (plt.cm.viridis) dengan menggunakan nilai dari np.linspace(0, 1, n_clusters_). Ini akan memastikan bahwa setiap cluster memiliki warna yang berbeda.\n",
        "\n",
        "3. Setiap titik data akan diplot dengan fungsi plt.scatter, dengan warna dan label yang sesuai dengan cluster tempatnya berada.\n",
        "\n",
        "4. Pusat-pusat cluster akan diplot dengan menggunakan lingkaran besar (marker=\"o\") dengan ukuran (s=300), dan juga diberi warna yang sesuai.\n",
        "\n",
        "5. Judul plot akan menampilkan jumlah cluster yang diestimasi.\n",
        "\n",
        "6. Legenda akan menunjukkan label untuk setiap cluster.\n",
        "\n",
        "7. Akhirnya, plot akan ditampilkan dengan menggunakan plt.show().\n",
        "\n",
        "Dengan demikian, visualisasi ini akan memberikan gambaran yang jelas tentang bagaimana data dibagi menjadi cluster-cluster yang berbeda dan di mana letak pusat dari setiap cluster tersebut."
      ],
      "metadata": {
        "id": "GdR2rkUDrTMg"
      }
    }
  ]
}