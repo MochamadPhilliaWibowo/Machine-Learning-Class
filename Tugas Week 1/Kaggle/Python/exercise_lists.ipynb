{
  "metadata": {
    "kernelspec": {
      "display_name": "Python 3",
      "language": "python",
      "name": "python3"
    },
    "language_info": {
      "name": "python",
      "version": "3.10.13",
      "mimetype": "text/x-python",
      "codemirror_mode": {
        "name": "ipython",
        "version": 3
      },
      "pygments_lexer": "ipython3",
      "nbconvert_exporter": "python",
      "file_extension": ".py"
    },
    "learntools_metadata": {
      "lesson_index": 3,
      "type": "exercise"
    },
    "kaggle": {
      "accelerator": "none",
      "dataSources": [],
      "isInternetEnabled": false,
      "language": "python",
      "sourceType": "notebook",
      "isGpuEnabled": false
    },
    "colab": {
      "provenance": [],
      "include_colab_link": true
    }
  },
  "nbformat_minor": 0,
  "nbformat": 4,
  "cells": [
    {
      "cell_type": "markdown",
      "metadata": {
        "id": "view-in-github",
        "colab_type": "text"
      },
      "source": [
        "<a href=\"https://colab.research.google.com/github/MochamadPhilliaWibowo/Machine-Learning-Class/blob/main/Tugas%20Week%201/Kaggle/Python/exercise_lists.ipynb\" target=\"_parent\"><img src=\"https://colab.research.google.com/assets/colab-badge.svg\" alt=\"Open In Colab\"/></a>"
      ]
    },
    {
      "cell_type": "markdown",
      "source": [
        "Nama : Mochamad Phillia Wibowo\n",
        "\n",
        "NIM  : 1103204191\n",
        "\n",
        "Kelas : Machine Learning (TK-44-G04)"
      ],
      "metadata": {
        "id": "LlCQIj6uCnMF"
      }
    },
    {
      "cell_type": "markdown",
      "source": [
        "**This notebook is an exercise in the [Python](https://www.kaggle.com/learn/python) course.  You can reference the tutorial at [this link](https://www.kaggle.com/colinmorris/lists).**\n",
        "\n",
        "---\n"
      ],
      "metadata": {
        "id": "ebM5-MmWCjId"
      }
    },
    {
      "cell_type": "markdown",
      "source": [
        "Things get more interesting with lists. You'll apply your new knowledge to solve the questions below. Remember to run the following cell first."
      ],
      "metadata": {
        "id": "Avo-GlWMCjIf"
      }
    },
    {
      "cell_type": "code",
      "source": [
        "from learntools.core import binder; binder.bind(globals())\n",
        "from learntools.python.ex4 import *\n",
        "print('Setup complete.')"
      ],
      "metadata": {
        "execution": {
          "iopub.status.busy": "2024-03-06T09:06:04.329635Z",
          "iopub.execute_input": "2024-03-06T09:06:04.330217Z",
          "iopub.status.idle": "2024-03-06T09:06:05.497337Z",
          "shell.execute_reply.started": "2024-03-06T09:06:04.330188Z",
          "shell.execute_reply": "2024-03-06T09:06:05.496578Z"
        },
        "trusted": true,
        "id": "7WpNIp_vCjIg",
        "outputId": "6aff3ed4-c474-4706-898e-db0ac32a17e3"
      },
      "execution_count": null,
      "outputs": [
        {
          "name": "stdout",
          "text": "Setup complete.\n",
          "output_type": "stream"
        }
      ]
    },
    {
      "cell_type": "markdown",
      "source": [
        "# 1.\n",
        "\n",
        "Complete the function below according to its docstring."
      ],
      "metadata": {
        "id": "fnUaeL4hCjIh"
      }
    },
    {
      "cell_type": "code",
      "source": [
        "def select_second(L):\n",
        "    \"\"\"Return the second element of the given list. If the list has no second\n",
        "    element, return None.\n",
        "    \"\"\"\n",
        "    if len(L) < 2:\n",
        "        return None\n",
        "    return L[1]\n",
        "\n",
        "# Check your answer\n",
        "q1.check()"
      ],
      "metadata": {
        "execution": {
          "iopub.status.busy": "2024-03-06T09:06:49.420963Z",
          "iopub.execute_input": "2024-03-06T09:06:49.421370Z",
          "iopub.status.idle": "2024-03-06T09:06:49.430494Z",
          "shell.execute_reply.started": "2024-03-06T09:06:49.421341Z",
          "shell.execute_reply": "2024-03-06T09:06:49.429235Z"
        },
        "trusted": true,
        "id": "qvMGvHEPCjIh",
        "outputId": "28278c7e-6b71-42f6-dba3-48f56a054e85"
      },
      "execution_count": null,
      "outputs": [
        {
          "output_type": "display_data",
          "data": {
            "text/plain": "<IPython.core.display.Javascript object>",
            "application/javascript": "parent.postMessage({\"jupyterEvent\": \"custom.exercise_interaction\", \"data\": {\"outcomeType\": 1, \"valueTowardsCompletion\": 0.2, \"interactionType\": 1, \"questionType\": 2, \"questionId\": \"1_SelectSecondItem\", \"learnToolsVersion\": \"0.3.4\", \"failureMessage\": \"\", \"exceptionClass\": \"\", \"trace\": \"\"}}, \"*\")"
          },
          "metadata": {}
        },
        {
          "output_type": "display_data",
          "data": {
            "text/plain": "Correct",
            "text/markdown": "<span style=\"color:#33cc33\">Correct</span>"
          },
          "metadata": {}
        }
      ]
    },
    {
      "cell_type": "code",
      "source": [
        "#q1.hint()\n",
        "#q1.solution()"
      ],
      "metadata": {
        "execution": {
          "iopub.status.busy": "2024-03-06T09:06:19.837247Z",
          "iopub.execute_input": "2024-03-06T09:06:19.837601Z",
          "iopub.status.idle": "2024-03-06T09:06:19.841702Z",
          "shell.execute_reply.started": "2024-03-06T09:06:19.837577Z",
          "shell.execute_reply": "2024-03-06T09:06:19.840447Z"
        },
        "trusted": true,
        "id": "HicsBSw_CjIi"
      },
      "execution_count": null,
      "outputs": []
    },
    {
      "cell_type": "markdown",
      "source": [
        "# 2.\n",
        "\n",
        "You are analyzing sports teams.  Members of each team are stored in a list. The Coach is the first name in the list, the captain is the second name in the list, and other players are listed after that.\n",
        "These lists are stored in another list, which starts with the best team and proceeds through the list to the worst team last.  Complete the function below to select the **captain** of the worst team."
      ],
      "metadata": {
        "id": "2OUquuVUCjIi"
      }
    },
    {
      "cell_type": "code",
      "source": [
        "def losing_team_captain(teams):\n",
        "    \"\"\"Given a list of teams, where each team is a list of names, return the 2nd player (captain)\n",
        "    from the last listed team\n",
        "    \"\"\"\n",
        "    return teams[-1][1]\n",
        "\n",
        "# Check your answer\n",
        "q2.check()"
      ],
      "metadata": {
        "execution": {
          "iopub.status.busy": "2024-03-06T09:07:15.119985Z",
          "iopub.execute_input": "2024-03-06T09:07:15.120278Z",
          "iopub.status.idle": "2024-03-06T09:07:15.127299Z",
          "shell.execute_reply.started": "2024-03-06T09:07:15.120256Z",
          "shell.execute_reply": "2024-03-06T09:07:15.126707Z"
        },
        "trusted": true,
        "id": "hyS6TksaCjIi",
        "outputId": "d6e46c3b-1138-47f9-ef39-89884db018c5"
      },
      "execution_count": null,
      "outputs": [
        {
          "output_type": "display_data",
          "data": {
            "text/plain": "<IPython.core.display.Javascript object>",
            "application/javascript": "parent.postMessage({\"jupyterEvent\": \"custom.exercise_interaction\", \"data\": {\"outcomeType\": 1, \"valueTowardsCompletion\": 0.2, \"interactionType\": 1, \"questionType\": 2, \"questionId\": \"2_LosingTeamCaptain\", \"learnToolsVersion\": \"0.3.4\", \"failureMessage\": \"\", \"exceptionClass\": \"\", \"trace\": \"\"}}, \"*\")"
          },
          "metadata": {}
        },
        {
          "output_type": "display_data",
          "data": {
            "text/plain": "Correct",
            "text/markdown": "<span style=\"color:#33cc33\">Correct</span>"
          },
          "metadata": {}
        }
      ]
    },
    {
      "cell_type": "code",
      "source": [
        "#q2.hint()\n",
        "#q2.solution()"
      ],
      "metadata": {
        "execution": {
          "iopub.status.busy": "2024-03-06T09:07:12.098363Z",
          "iopub.execute_input": "2024-03-06T09:07:12.098689Z",
          "iopub.status.idle": "2024-03-06T09:07:12.103110Z",
          "shell.execute_reply.started": "2024-03-06T09:07:12.098665Z",
          "shell.execute_reply": "2024-03-06T09:07:12.102035Z"
        },
        "trusted": true,
        "id": "85D9vGOnCjIi"
      },
      "execution_count": null,
      "outputs": []
    },
    {
      "cell_type": "markdown",
      "source": [
        "# 3.\n",
        "\n",
        "The next iteration of Mario Kart will feature an extra-infuriating new item, the *Purple Shell*. When used, it warps the last place racer into first place and the first place racer into last place. Complete the function below to implement the Purple Shell's effect."
      ],
      "metadata": {
        "id": "aANcKcz9CjIj"
      }
    },
    {
      "cell_type": "code",
      "source": [
        "def purple_shell(racers):\n",
        "    \"\"\"Given a list of racers, set the first place racer (at the front of the list) to last\n",
        "    place and vice versa.\n",
        "\n",
        "    >>> r = [\"Mario\", \"Bowser\", \"Luigi\"]\n",
        "    >>> purple_shell(r)\n",
        "    >>> r\n",
        "    [\"Luigi\", \"Bowser\", \"Mario\"]\n",
        "    \"\"\"\n",
        "    temp = racers[0]\n",
        "    racers[0] = racers[-1]\n",
        "    racers[-1] = temp\n",
        "\n",
        "# Check your answer\n",
        "q3.check()"
      ],
      "metadata": {
        "execution": {
          "iopub.status.busy": "2024-03-06T09:07:40.247434Z",
          "iopub.execute_input": "2024-03-06T09:07:40.247774Z",
          "iopub.status.idle": "2024-03-06T09:07:40.257784Z",
          "shell.execute_reply.started": "2024-03-06T09:07:40.247748Z",
          "shell.execute_reply": "2024-03-06T09:07:40.256229Z"
        },
        "trusted": true,
        "id": "_7oEOl9KCjIj",
        "outputId": "29caa58a-4409-4303-fc54-625d2edfc49c"
      },
      "execution_count": null,
      "outputs": [
        {
          "output_type": "display_data",
          "data": {
            "text/plain": "<IPython.core.display.Javascript object>",
            "application/javascript": "parent.postMessage({\"jupyterEvent\": \"custom.exercise_interaction\", \"data\": {\"outcomeType\": 1, \"valueTowardsCompletion\": 0.2, \"interactionType\": 1, \"questionType\": 2, \"questionId\": \"3_PurpleShell\", \"learnToolsVersion\": \"0.3.4\", \"failureMessage\": \"\", \"exceptionClass\": \"\", \"trace\": \"\"}}, \"*\")"
          },
          "metadata": {}
        },
        {
          "output_type": "display_data",
          "data": {
            "text/plain": "Correct",
            "text/markdown": "<span style=\"color:#33cc33\">Correct</span>"
          },
          "metadata": {}
        }
      ]
    },
    {
      "cell_type": "code",
      "source": [
        "#q3.hint()\n",
        "#q3.solution()"
      ],
      "metadata": {
        "execution": {
          "iopub.status.busy": "2024-03-06T09:07:45.339851Z",
          "iopub.execute_input": "2024-03-06T09:07:45.340213Z",
          "iopub.status.idle": "2024-03-06T09:07:45.344612Z",
          "shell.execute_reply.started": "2024-03-06T09:07:45.340179Z",
          "shell.execute_reply": "2024-03-06T09:07:45.343308Z"
        },
        "trusted": true,
        "id": "pxPvXqsICjIj"
      },
      "execution_count": null,
      "outputs": []
    },
    {
      "cell_type": "markdown",
      "source": [
        "# 4.\n",
        "\n",
        "What are the lengths of the following lists? Fill in the variable `lengths` with your predictions. (Try to make a prediction for each list *without* just calling `len()` on it.)"
      ],
      "metadata": {
        "id": "hr0Qr8zfCjIj"
      }
    },
    {
      "cell_type": "code",
      "source": [
        "a = [1, 2, 3]\n",
        "b = [1, [2, 3]]\n",
        "c = []\n",
        "d = [1, 2, 3][1:]\n",
        "\n",
        "# Put your predictions in the list below. Lengths should contain 4 numbers, the\n",
        "# first being the length of a, the second being the length of b and so on.\n",
        "lengths = [len(a), len(b), len(c), len(d)]\n",
        "\n",
        "# Check your answer\n",
        "q4.check()"
      ],
      "metadata": {
        "execution": {
          "iopub.status.busy": "2024-03-06T09:10:36.041691Z",
          "iopub.execute_input": "2024-03-06T09:10:36.042059Z",
          "iopub.status.idle": "2024-03-06T09:10:36.053992Z",
          "shell.execute_reply.started": "2024-03-06T09:10:36.042010Z",
          "shell.execute_reply": "2024-03-06T09:10:36.052848Z"
        },
        "trusted": true,
        "id": "X7Z6KW43CjIj",
        "outputId": "030ca57e-d1ed-42da-a74d-90f2fa24510e"
      },
      "execution_count": null,
      "outputs": [
        {
          "output_type": "display_data",
          "data": {
            "text/plain": "<IPython.core.display.Javascript object>",
            "application/javascript": "parent.postMessage({\"jupyterEvent\": \"custom.exercise_interaction\", \"data\": {\"outcomeType\": 1, \"valueTowardsCompletion\": 0.2, \"interactionType\": 1, \"questionType\": 1, \"questionId\": \"4_UnderstandLen\", \"learnToolsVersion\": \"0.3.4\", \"failureMessage\": \"\", \"exceptionClass\": \"\", \"trace\": \"\"}}, \"*\")"
          },
          "metadata": {}
        },
        {
          "output_type": "display_data",
          "data": {
            "text/plain": "Correct: \n\n\n- a: There are three items in this list. Nothing tricky yet.\n- b: The list `[2, 3]` counts as a single item. It has one item before it. So we have 2 items in the list\n- c: The empty list has 0 items\n- d: The expression is the same as the list `[2, 3]`, which has length 2.",
            "text/markdown": "<span style=\"color:#33cc33\">Correct:</span> \n\n\n- a: There are three items in this list. Nothing tricky yet.\n- b: The list `[2, 3]` counts as a single item. It has one item before it. So we have 2 items in the list\n- c: The empty list has 0 items\n- d: The expression is the same as the list `[2, 3]`, which has length 2."
          },
          "metadata": {}
        }
      ]
    },
    {
      "cell_type": "code",
      "source": [
        "# line below provides some explanation\n",
        "#q4.solution()"
      ],
      "metadata": {
        "execution": {
          "iopub.status.busy": "2024-03-06T09:10:51.828703Z",
          "iopub.execute_input": "2024-03-06T09:10:51.829026Z",
          "iopub.status.idle": "2024-03-06T09:10:51.834049Z",
          "shell.execute_reply.started": "2024-03-06T09:10:51.829003Z",
          "shell.execute_reply": "2024-03-06T09:10:51.833381Z"
        },
        "trusted": true,
        "id": "mDkXdrizCjIj"
      },
      "execution_count": null,
      "outputs": []
    },
    {
      "cell_type": "markdown",
      "source": [
        "# 5. <span title=\"A bit spicy\" style=\"color: darkgreen \">🌶️</span>\n",
        "\n",
        "We're using lists to record people who attended our party and what order they arrived in. For example, the following list represents a party with 7 guests, in which Adela showed up first and Ford was the last to arrive:\n",
        "\n",
        "    party_attendees = ['Adela', 'Fleda', 'Owen', 'May', 'Mona', 'Gilbert', 'Ford']\n",
        "\n",
        "A guest is considered 'fashionably late' if they arrived after at least half of the party's guests. However, they must not be the very last guest (that's taking it too far). In the above example, Mona and Gilbert are the only guests who were fashionably late.\n",
        "\n",
        "Complete the function below which takes a list of party attendees as well as a person, and tells us whether that person is fashionably late."
      ],
      "metadata": {
        "id": "AkarBZnCCjIk"
      }
    },
    {
      "cell_type": "code",
      "source": [
        "def fashionably_late(arrivals, name):\n",
        "    \"\"\"Given an ordered list of arrivals to the party and a name, return whether the guest with that\n",
        "    name was fashionably late.\n",
        "    \"\"\"\n",
        "    order = arrivals.index(name)\n",
        "    return order >= len(arrivals) / 2 and order != len(arrivals) - 1\n",
        "\n",
        "# Check your answer\n",
        "q5.check()"
      ],
      "metadata": {
        "execution": {
          "iopub.status.busy": "2024-03-06T09:11:08.642689Z",
          "iopub.execute_input": "2024-03-06T09:11:08.643008Z",
          "iopub.status.idle": "2024-03-06T09:11:08.651062Z",
          "shell.execute_reply.started": "2024-03-06T09:11:08.642983Z",
          "shell.execute_reply": "2024-03-06T09:11:08.650381Z"
        },
        "trusted": true,
        "id": "-1fuo9hwCjIk",
        "outputId": "e39b0a66-1bee-4e0b-dddf-fff86fff0491"
      },
      "execution_count": null,
      "outputs": [
        {
          "output_type": "display_data",
          "data": {
            "text/plain": "<IPython.core.display.Javascript object>",
            "application/javascript": "parent.postMessage({\"jupyterEvent\": \"custom.exercise_interaction\", \"data\": {\"outcomeType\": 1, \"valueTowardsCompletion\": 0.2, \"interactionType\": 1, \"questionType\": 2, \"questionId\": \"5_FashionablyLate\", \"learnToolsVersion\": \"0.3.4\", \"failureMessage\": \"\", \"exceptionClass\": \"\", \"trace\": \"\"}}, \"*\")"
          },
          "metadata": {}
        },
        {
          "output_type": "display_data",
          "data": {
            "text/plain": "Correct",
            "text/markdown": "<span style=\"color:#33cc33\">Correct</span>"
          },
          "metadata": {}
        }
      ]
    },
    {
      "cell_type": "code",
      "source": [
        "#q5.hint()\n",
        "#q5.solution()"
      ],
      "metadata": {
        "execution": {
          "iopub.status.busy": "2024-03-06T09:11:12.636239Z",
          "iopub.execute_input": "2024-03-06T09:11:12.636807Z",
          "iopub.status.idle": "2024-03-06T09:11:12.640611Z",
          "shell.execute_reply.started": "2024-03-06T09:11:12.636767Z",
          "shell.execute_reply": "2024-03-06T09:11:12.639701Z"
        },
        "trusted": true,
        "id": "5mwl1kkkCjIk"
      },
      "execution_count": null,
      "outputs": []
    },
    {
      "cell_type": "markdown",
      "source": [
        "# Keep Going\n",
        "\n",
        "That's it for lists and tuples! Now you have the baseline knowledge to **[learn about loops](https://www.kaggle.com/colinmorris/loops-and-list-comprehensions)**, which is where lists and tuples get really interesting."
      ],
      "metadata": {
        "id": "4G0MTegVCjIk"
      }
    },
    {
      "cell_type": "markdown",
      "source": [
        "---\n",
        "\n",
        "\n",
        "\n",
        "\n",
        "*Have questions or comments? Visit the [course discussion forum](https://www.kaggle.com/learn/python/discussion) to chat with other learners.*"
      ],
      "metadata": {
        "id": "swKxY_StCjIk"
      }
    }
  ]
}