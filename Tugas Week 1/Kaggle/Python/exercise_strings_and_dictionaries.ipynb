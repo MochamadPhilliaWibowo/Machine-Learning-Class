{
  "metadata": {
    "kernelspec": {
      "display_name": "Python 3",
      "language": "python",
      "name": "python3"
    },
    "language_info": {
      "name": "python",
      "version": "3.10.13",
      "mimetype": "text/x-python",
      "codemirror_mode": {
        "name": "ipython",
        "version": 3
      },
      "pygments_lexer": "ipython3",
      "nbconvert_exporter": "python",
      "file_extension": ".py"
    },
    "learntools_metadata": {
      "lesson_index": 5,
      "type": "exercise"
    },
    "kaggle": {
      "accelerator": "none",
      "dataSources": [],
      "isInternetEnabled": false,
      "language": "python",
      "sourceType": "notebook",
      "isGpuEnabled": false
    },
    "colab": {
      "provenance": [],
      "include_colab_link": true
    }
  },
  "nbformat_minor": 0,
  "nbformat": 4,
  "cells": [
    {
      "cell_type": "markdown",
      "metadata": {
        "id": "view-in-github",
        "colab_type": "text"
      },
      "source": [
        "<a href=\"https://colab.research.google.com/github/MochamadPhilliaWibowo/Machine-Learning-Class/blob/main/Tugas%20Week%201/Kaggle/Python/exercise_strings_and_dictionaries.ipynb\" target=\"_parent\"><img src=\"https://colab.research.google.com/assets/colab-badge.svg\" alt=\"Open In Colab\"/></a>"
      ]
    },
    {
      "cell_type": "markdown",
      "source": [
        "Nama : Mochamad Phillia Wibowo\n",
        "\n",
        "NIM  : 1103204191\n",
        "\n",
        "Kelas : Machine Learning (TK-44-G04)"
      ],
      "metadata": {
        "id": "Tt5q41XFGhYH"
      }
    },
    {
      "cell_type": "markdown",
      "source": [
        "**This notebook is an exercise in the [Python](https://www.kaggle.com/learn/python) course.  You can reference the tutorial at [this link](https://www.kaggle.com/colinmorris/strings-and-dictionaries).**\n",
        "\n",
        "---\n"
      ],
      "metadata": {
        "id": "kT9GC3E6GcC8"
      }
    },
    {
      "cell_type": "markdown",
      "source": [
        "You are almost done with the course. Nice job!\n",
        "\n",
        "We have a couple more interesting problems for you before you go.\n",
        "\n",
        "As always, run the setup code below before working on the questions."
      ],
      "metadata": {
        "id": "HtCzyZP9GcC9"
      }
    },
    {
      "cell_type": "code",
      "source": [
        "from learntools.core import binder; binder.bind(globals())\n",
        "from learntools.python.ex6 import *\n",
        "print('Setup complete.')"
      ],
      "metadata": {
        "execution": {
          "iopub.status.busy": "2024-03-06T09:23:29.683991Z",
          "iopub.execute_input": "2024-03-06T09:23:29.684417Z",
          "iopub.status.idle": "2024-03-06T09:23:31.225967Z",
          "shell.execute_reply.started": "2024-03-06T09:23:29.684386Z",
          "shell.execute_reply": "2024-03-06T09:23:31.224937Z"
        },
        "trusted": true,
        "id": "vIFPxcrEGcC-",
        "outputId": "4878a469-1a57-42e0-b8e0-b2b037b2a251"
      },
      "execution_count": null,
      "outputs": [
        {
          "name": "stdout",
          "text": "Setup complete.\n",
          "output_type": "stream"
        }
      ]
    },
    {
      "cell_type": "markdown",
      "source": [
        "Let's start with a string lightning round to warm up. What are the lengths of the strings below?\n",
        "\n",
        "For each of the five strings below, predict what `len()` would return when passed that string. Use the variable `length` to record your answer, then run the cell to check whether you were right.  \n",
        "\n",
        "# 0a."
      ],
      "metadata": {
        "id": "p5HmJATUGcC-"
      }
    },
    {
      "cell_type": "code",
      "source": [
        "a = \"\"\n",
        "length = len(a)\n",
        "q0.a.check()"
      ],
      "metadata": {
        "execution": {
          "iopub.status.busy": "2024-03-06T09:26:01.832474Z",
          "iopub.execute_input": "2024-03-06T09:26:01.833052Z",
          "iopub.status.idle": "2024-03-06T09:26:01.845182Z",
          "shell.execute_reply.started": "2024-03-06T09:26:01.833002Z",
          "shell.execute_reply": "2024-03-06T09:26:01.844064Z"
        },
        "trusted": true,
        "id": "JLwIUNjkGcC-",
        "outputId": "68de3585-f773-4038-eb9e-6df1c214fb76"
      },
      "execution_count": null,
      "outputs": [
        {
          "output_type": "display_data",
          "data": {
            "text/plain": "<IPython.core.display.Javascript object>",
            "application/javascript": "parent.postMessage({\"jupyterEvent\": \"custom.exercise_interaction\", \"data\": {\"outcomeType\": 1, \"valueTowardsCompletion\": 0.3333333333333333, \"interactionType\": 1, \"questionType\": 1, \"questionId\": \"0.1_ZA\", \"learnToolsVersion\": \"0.3.4\", \"failureMessage\": \"\", \"exceptionClass\": \"\", \"trace\": \"\"}}, \"*\")"
          },
          "metadata": {}
        },
        {
          "output_type": "display_data",
          "data": {
            "text/plain": "Correct: \n\nThe empty string has length zero. Note that the empty string is also the only string that Python considers as False when converting to boolean.",
            "text/markdown": "<span style=\"color:#33cc33\">Correct:</span> \n\nThe empty string has length zero. Note that the empty string is also the only string that Python considers as False when converting to boolean."
          },
          "metadata": {}
        }
      ]
    },
    {
      "cell_type": "markdown",
      "source": [
        "# 0b."
      ],
      "metadata": {
        "id": "XBFZGtKgGcC_"
      }
    },
    {
      "cell_type": "code",
      "source": [
        "b = \"it's ok\"\n",
        "length = len(b)\n",
        "q0.b.check()"
      ],
      "metadata": {
        "execution": {
          "iopub.status.busy": "2024-03-06T09:26:13.865377Z",
          "iopub.execute_input": "2024-03-06T09:26:13.865786Z",
          "iopub.status.idle": "2024-03-06T09:26:13.881442Z",
          "shell.execute_reply.started": "2024-03-06T09:26:13.865749Z",
          "shell.execute_reply": "2024-03-06T09:26:13.879908Z"
        },
        "trusted": true,
        "id": "aLi34N6aGcC_",
        "outputId": "735031ba-2d41-448e-8793-9df8bdf818bb"
      },
      "execution_count": null,
      "outputs": [
        {
          "output_type": "display_data",
          "data": {
            "text/plain": "<IPython.core.display.Javascript object>",
            "application/javascript": "parent.postMessage({\"jupyterEvent\": \"custom.exercise_interaction\", \"data\": {\"outcomeType\": 1, \"valueTowardsCompletion\": 0.3333333333333333, \"interactionType\": 1, \"questionType\": 1, \"questionId\": \"0.2_ZB\", \"learnToolsVersion\": \"0.3.4\", \"failureMessage\": \"\", \"exceptionClass\": \"\", \"trace\": \"\"}}, \"*\")"
          },
          "metadata": {}
        },
        {
          "output_type": "display_data",
          "data": {
            "text/plain": "Correct: \n\nKeep in mind Python includes spaces (and punctuation) when counting string length.",
            "text/markdown": "<span style=\"color:#33cc33\">Correct:</span> \n\nKeep in mind Python includes spaces (and punctuation) when counting string length."
          },
          "metadata": {}
        }
      ]
    },
    {
      "cell_type": "markdown",
      "source": [
        "# 0c."
      ],
      "metadata": {
        "id": "nTbGYa7BGcC_"
      }
    },
    {
      "cell_type": "code",
      "source": [
        "c = 'it\\'s ok'\n",
        "length = len(c)\n",
        "q0.c.check()"
      ],
      "metadata": {
        "execution": {
          "iopub.status.busy": "2024-03-06T09:26:22.590110Z",
          "iopub.execute_input": "2024-03-06T09:26:22.590527Z",
          "iopub.status.idle": "2024-03-06T09:26:22.601317Z",
          "shell.execute_reply.started": "2024-03-06T09:26:22.590494Z",
          "shell.execute_reply": "2024-03-06T09:26:22.599728Z"
        },
        "trusted": true,
        "id": "Nrcv4qzKGcC_",
        "outputId": "f2e94d0d-0948-455b-bdff-7a21553faee2"
      },
      "execution_count": null,
      "outputs": [
        {
          "output_type": "display_data",
          "data": {
            "text/plain": "<IPython.core.display.Javascript object>",
            "application/javascript": "parent.postMessage({\"jupyterEvent\": \"custom.exercise_interaction\", \"data\": {\"outcomeType\": 1, \"valueTowardsCompletion\": 0.3333333333333333, \"interactionType\": 1, \"questionType\": 1, \"questionId\": \"0.3_ZC\", \"learnToolsVersion\": \"0.3.4\", \"failureMessage\": \"\", \"exceptionClass\": \"\", \"trace\": \"\"}}, \"*\")"
          },
          "metadata": {}
        },
        {
          "output_type": "display_data",
          "data": {
            "text/plain": "Correct: \n\nEven though we use different syntax to create it, the string `c` is identical to `b`. In particular, note that the backslash is not part of the string, so it doesn't contribute to its length.",
            "text/markdown": "<span style=\"color:#33cc33\">Correct:</span> \n\nEven though we use different syntax to create it, the string `c` is identical to `b`. In particular, note that the backslash is not part of the string, so it doesn't contribute to its length."
          },
          "metadata": {}
        }
      ]
    },
    {
      "cell_type": "markdown",
      "source": [
        "# 0d."
      ],
      "metadata": {
        "id": "HlB2lzLfGcC_"
      }
    },
    {
      "cell_type": "code",
      "source": [
        "d = \"\"\"hey\"\"\"\n",
        "length = len(d)\n",
        "q0.d.check()"
      ],
      "metadata": {
        "execution": {
          "iopub.status.busy": "2024-03-06T09:26:31.099677Z",
          "iopub.execute_input": "2024-03-06T09:26:31.100138Z",
          "iopub.status.idle": "2024-03-06T09:26:31.110564Z",
          "shell.execute_reply.started": "2024-03-06T09:26:31.100102Z",
          "shell.execute_reply": "2024-03-06T09:26:31.109088Z"
        },
        "trusted": true,
        "id": "8bYWewFeGcC_",
        "outputId": "fbc93984-6b5c-4a76-8f3e-b2a0932057bd"
      },
      "execution_count": null,
      "outputs": [
        {
          "output_type": "display_data",
          "data": {
            "text/plain": "<IPython.core.display.Javascript object>",
            "application/javascript": "parent.postMessage({\"jupyterEvent\": \"custom.exercise_interaction\", \"data\": {\"outcomeType\": 1, \"valueTowardsCompletion\": 0.3333333333333333, \"interactionType\": 1, \"questionType\": 1, \"questionId\": \"0.4_ZD\", \"learnToolsVersion\": \"0.3.4\", \"failureMessage\": \"\", \"exceptionClass\": \"\", \"trace\": \"\"}}, \"*\")"
          },
          "metadata": {}
        },
        {
          "output_type": "display_data",
          "data": {
            "text/plain": "Correct: \n\nThe fact that this string was created using triple-quote syntax doesn't make any difference in terms of its content or length. This string is exactly the same as `'hey'`.",
            "text/markdown": "<span style=\"color:#33cc33\">Correct:</span> \n\nThe fact that this string was created using triple-quote syntax doesn't make any difference in terms of its content or length. This string is exactly the same as `'hey'`."
          },
          "metadata": {}
        }
      ]
    },
    {
      "cell_type": "markdown",
      "source": [
        "# 0e."
      ],
      "metadata": {
        "id": "eiAmmuTnGcDA"
      }
    },
    {
      "cell_type": "code",
      "source": [
        "e = '\\n'\n",
        "length = len(e)\n",
        "q0.e.check()"
      ],
      "metadata": {
        "execution": {
          "iopub.status.busy": "2024-03-06T09:26:42.122284Z",
          "iopub.execute_input": "2024-03-06T09:26:42.122711Z",
          "iopub.status.idle": "2024-03-06T09:26:42.133626Z",
          "shell.execute_reply.started": "2024-03-06T09:26:42.122679Z",
          "shell.execute_reply": "2024-03-06T09:26:42.132232Z"
        },
        "trusted": true,
        "id": "TLMAfnu2GcDA",
        "outputId": "92232403-7289-44aa-eb2b-9d4a971187ac"
      },
      "execution_count": null,
      "outputs": [
        {
          "output_type": "display_data",
          "data": {
            "text/plain": "<IPython.core.display.Javascript object>",
            "application/javascript": "parent.postMessage({\"jupyterEvent\": \"custom.exercise_interaction\", \"data\": {\"outcomeType\": 1, \"valueTowardsCompletion\": 0.3333333333333333, \"interactionType\": 1, \"questionType\": 1, \"questionId\": \"0.5_ZE\", \"learnToolsVersion\": \"0.3.4\", \"failureMessage\": \"\", \"exceptionClass\": \"\", \"trace\": \"\"}}, \"*\")"
          },
          "metadata": {}
        },
        {
          "output_type": "display_data",
          "data": {
            "text/plain": "Correct: \n\nThe newline character is just a single character! (Even though we represent it to Python using a combination of two characters.)",
            "text/markdown": "<span style=\"color:#33cc33\">Correct:</span> \n\nThe newline character is just a single character! (Even though we represent it to Python using a combination of two characters.)"
          },
          "metadata": {}
        }
      ]
    },
    {
      "cell_type": "markdown",
      "source": [
        "# 1.\n",
        "\n",
        "There is a saying that \"Data scientists spend 80% of their time cleaning data, and 20% of their time complaining about cleaning data.\" Let's see if you can write a function to help clean US zip code data. Given a string, it should return whether or not that string represents a valid zip code. For our purposes, a valid zip code is any string consisting of exactly 5 digits.\n",
        "\n",
        "HINT: `str` has a method that will be useful here. Use `help(str)` to review a list of string methods."
      ],
      "metadata": {
        "id": "f6Krf3KQGcDA"
      }
    },
    {
      "cell_type": "code",
      "source": [
        "def is_valid_zip(zip_code):\n",
        "    \"\"\"Returns whether the input string is a valid (5 digit) zip code\n",
        "    \"\"\"\n",
        "    return len(zip_code) == 5 and zip_code.isdigit()\n",
        "\n",
        "# Check your answer\n",
        "q1.check()"
      ],
      "metadata": {
        "execution": {
          "iopub.status.busy": "2024-03-06T09:27:18.247129Z",
          "iopub.execute_input": "2024-03-06T09:27:18.247544Z",
          "iopub.status.idle": "2024-03-06T09:27:18.265337Z",
          "shell.execute_reply.started": "2024-03-06T09:27:18.247514Z",
          "shell.execute_reply": "2024-03-06T09:27:18.263838Z"
        },
        "trusted": true,
        "id": "vMcUL-B1GcDA",
        "outputId": "83ca2969-b250-4a23-decf-e73cc7a063e5"
      },
      "execution_count": null,
      "outputs": [
        {
          "output_type": "display_data",
          "data": {
            "text/plain": "<IPython.core.display.Javascript object>",
            "application/javascript": "parent.postMessage({\"jupyterEvent\": \"custom.exercise_interaction\", \"data\": {\"outcomeType\": 1, \"valueTowardsCompletion\": 0.3333333333333333, \"interactionType\": 1, \"questionType\": 2, \"questionId\": \"1_ZipValidator\", \"learnToolsVersion\": \"0.3.4\", \"failureMessage\": \"\", \"exceptionClass\": \"\", \"trace\": \"\"}}, \"*\")"
          },
          "metadata": {}
        },
        {
          "output_type": "display_data",
          "data": {
            "text/plain": "Correct",
            "text/markdown": "<span style=\"color:#33cc33\">Correct</span>"
          },
          "metadata": {}
        }
      ]
    },
    {
      "cell_type": "code",
      "source": [
        "#q1.hint()\n",
        "#q1.solution()"
      ],
      "metadata": {
        "execution": {
          "iopub.status.busy": "2024-03-06T09:27:22.265368Z",
          "iopub.execute_input": "2024-03-06T09:27:22.265790Z",
          "iopub.status.idle": "2024-03-06T09:27:22.271262Z",
          "shell.execute_reply.started": "2024-03-06T09:27:22.265757Z",
          "shell.execute_reply": "2024-03-06T09:27:22.269952Z"
        },
        "trusted": true,
        "id": "45NAd_FkGcDA"
      },
      "execution_count": null,
      "outputs": []
    },
    {
      "cell_type": "markdown",
      "source": [
        "# 2.\n",
        "\n",
        "A researcher has gathered thousands of news articles. But she wants to focus her attention on articles including a specific word. Complete the function below to help her filter her list of articles.\n",
        "\n",
        "Your function should meet the following criteria:\n",
        "\n",
        "- Do not include documents where the keyword string shows up only as a part of a larger word. For example, if she were looking for the keyword “closed”, you would not include the string “enclosed.”\n",
        "- She does not want you to distinguish upper case from lower case letters. So the phrase “Closed the case.” would be included when the keyword is “closed”\n",
        "- Do not let periods or commas affect what is matched. “It is closed.” would be included when the keyword is “closed”. But you can assume there are no other types of punctuation."
      ],
      "metadata": {
        "id": "-OW4H8DSGcDA"
      }
    },
    {
      "cell_type": "code",
      "source": [
        "def word_search(doc_list, keyword):\n",
        "    \"\"\"\n",
        "    Takes a list of documents (each document is a string) and a keyword.\n",
        "    Returns list of the index values into the original list for all documents\n",
        "    containing the keyword.\n",
        "\n",
        "    Example:\n",
        "    doc_list = [\"The Learn Python Challenge Casino.\", \"They bought a car\", \"Casinoville\"]\n",
        "    >>> word_search(doc_list, 'casino')\n",
        "    >>> [0]\n",
        "    \"\"\"\n",
        "    # list to hold the indices of matching documents\n",
        "    indices = []\n",
        "    # Iterate through the indices (i) and elements (doc) of documents\n",
        "    for i, doc in enumerate(doc_list):\n",
        "        # Split the string doc into a list of words (according to whitespace)\n",
        "        tokens = doc.split()\n",
        "        # Make a transformed list where we 'normalize' each word to facilitate matching.\n",
        "        # Periods and commas are removed from the end of each word, and it's set to all lowercase.\n",
        "        normalized = [token.rstrip('.,').lower() for token in tokens]\n",
        "        # Is there a match? If so, update the list of matching indices.\n",
        "        if keyword.lower() in normalized:\n",
        "            indices.append(i)\n",
        "    return indices\n",
        "\n",
        "# Check your answer\n",
        "q2.check()"
      ],
      "metadata": {
        "execution": {
          "iopub.status.busy": "2024-03-06T09:27:46.284296Z",
          "iopub.execute_input": "2024-03-06T09:27:46.284666Z",
          "iopub.status.idle": "2024-03-06T09:27:46.297065Z",
          "shell.execute_reply.started": "2024-03-06T09:27:46.284638Z",
          "shell.execute_reply": "2024-03-06T09:27:46.295806Z"
        },
        "trusted": true,
        "id": "1KfrfIIxGcDB",
        "outputId": "e702faca-5dd2-45fe-e468-eea817161225"
      },
      "execution_count": null,
      "outputs": [
        {
          "output_type": "display_data",
          "data": {
            "text/plain": "<IPython.core.display.Javascript object>",
            "application/javascript": "parent.postMessage({\"jupyterEvent\": \"custom.exercise_interaction\", \"data\": {\"outcomeType\": 1, \"valueTowardsCompletion\": 0.3333333333333333, \"interactionType\": 1, \"questionType\": 2, \"questionId\": \"2_WordSearch\", \"learnToolsVersion\": \"0.3.4\", \"failureMessage\": \"\", \"exceptionClass\": \"\", \"trace\": \"\"}}, \"*\")"
          },
          "metadata": {}
        },
        {
          "output_type": "display_data",
          "data": {
            "text/plain": "Correct",
            "text/markdown": "<span style=\"color:#33cc33\">Correct</span>"
          },
          "metadata": {}
        }
      ]
    },
    {
      "cell_type": "code",
      "source": [
        "#q2.hint()\n",
        "#q2.solution()"
      ],
      "metadata": {
        "execution": {
          "iopub.status.busy": "2024-03-06T09:27:51.621371Z",
          "iopub.execute_input": "2024-03-06T09:27:51.621759Z",
          "iopub.status.idle": "2024-03-06T09:27:51.626510Z",
          "shell.execute_reply.started": "2024-03-06T09:27:51.621729Z",
          "shell.execute_reply": "2024-03-06T09:27:51.625135Z"
        },
        "trusted": true,
        "id": "b2PgeJCTGcDB"
      },
      "execution_count": null,
      "outputs": []
    },
    {
      "cell_type": "markdown",
      "source": [
        "# 3.\n",
        "\n",
        "Now the researcher wants to supply multiple keywords to search for. Complete the function below to help her.\n",
        "\n",
        "(You're encouraged to use the `word_search` function you just wrote when implementing this function. Reusing code in this way makes your programs more robust and readable - and it saves typing!)"
      ],
      "metadata": {
        "id": "A3aqapxLGcDB"
      }
    },
    {
      "cell_type": "code",
      "source": [
        "def multi_word_search(documents, keywords):\n",
        "    \"\"\"\n",
        "    Takes list of documents (each document is a string) and a list of keywords.\n",
        "    Returns a dictionary where each key is a keyword, and the value is a list of indices\n",
        "    (from doc_list) of the documents containing that keyword\n",
        "\n",
        "    >>> doc_list = [\"The Learn Python Challenge Casino.\", \"They bought a car and a casino\", \"Casinoville\"]\n",
        "    >>> keywords = ['casino', 'they']\n",
        "    >>> multi_word_search(doc_list, keywords)\n",
        "    {'casino': [0, 1], 'they': [1]}\n",
        "    \"\"\"\n",
        "    keyword_to_indices = {}\n",
        "    for keyword in keywords:\n",
        "        keyword_to_indices[keyword] = word_search(documents, keyword)\n",
        "    return keyword_to_indices\n",
        "\n",
        "# Check your answer\n",
        "q3.check()"
      ],
      "metadata": {
        "execution": {
          "iopub.status.busy": "2024-03-06T09:28:48.830196Z",
          "iopub.execute_input": "2024-03-06T09:28:48.830591Z",
          "iopub.status.idle": "2024-03-06T09:28:48.844278Z",
          "shell.execute_reply.started": "2024-03-06T09:28:48.830562Z",
          "shell.execute_reply": "2024-03-06T09:28:48.842493Z"
        },
        "trusted": true,
        "id": "73jpLyHaGcDB",
        "outputId": "a2cff260-b446-4b4c-c816-659061d644da"
      },
      "execution_count": null,
      "outputs": [
        {
          "output_type": "display_data",
          "data": {
            "text/plain": "<IPython.core.display.Javascript object>",
            "application/javascript": "parent.postMessage({\"jupyterEvent\": \"custom.exercise_interaction\", \"data\": {\"outcomeType\": 1, \"valueTowardsCompletion\": 0.3333333333333333, \"interactionType\": 1, \"questionType\": 2, \"questionId\": \"3_MultiWordSearch\", \"learnToolsVersion\": \"0.3.4\", \"failureMessage\": \"\", \"exceptionClass\": \"\", \"trace\": \"\"}}, \"*\")"
          },
          "metadata": {}
        },
        {
          "output_type": "display_data",
          "data": {
            "text/plain": "Correct",
            "text/markdown": "<span style=\"color:#33cc33\">Correct</span>"
          },
          "metadata": {}
        }
      ]
    },
    {
      "cell_type": "code",
      "source": [
        "#q3.solution()"
      ],
      "metadata": {
        "execution": {
          "iopub.status.busy": "2024-03-06T09:28:55.001443Z",
          "iopub.execute_input": "2024-03-06T09:28:55.001828Z",
          "iopub.status.idle": "2024-03-06T09:28:55.007963Z",
          "shell.execute_reply.started": "2024-03-06T09:28:55.001798Z",
          "shell.execute_reply": "2024-03-06T09:28:55.006618Z"
        },
        "trusted": true,
        "id": "LbQvZJ1XGcDB"
      },
      "execution_count": null,
      "outputs": []
    },
    {
      "cell_type": "markdown",
      "source": [
        "# Keep Going\n",
        "\n",
        "You've learned a lot. But even the best programmers rely heavily on \"libraries\" of code from other programmers. You'll learn about that in **[the last lesson](https://www.kaggle.com/colinmorris/working-with-external-libraries)**.\n"
      ],
      "metadata": {
        "id": "aLM8XLOxGcDB"
      }
    },
    {
      "cell_type": "markdown",
      "source": [
        "---\n",
        "\n",
        "\n",
        "\n",
        "\n",
        "*Have questions or comments? Visit the [course discussion forum](https://www.kaggle.com/learn/python/discussion) to chat with other learners.*"
      ],
      "metadata": {
        "id": "OS7CJiwIGcDB"
      }
    }
  ]
}