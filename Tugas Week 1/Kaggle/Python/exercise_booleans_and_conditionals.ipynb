{
  "metadata": {
    "kernelspec": {
      "display_name": "Python 3",
      "language": "python",
      "name": "python3"
    },
    "language_info": {
      "name": "python",
      "version": "3.10.13",
      "mimetype": "text/x-python",
      "codemirror_mode": {
        "name": "ipython",
        "version": 3
      },
      "pygments_lexer": "ipython3",
      "nbconvert_exporter": "python",
      "file_extension": ".py"
    },
    "learntools_metadata": {
      "lesson_index": 2,
      "type": "exercise"
    },
    "kaggle": {
      "accelerator": "none",
      "dataSources": [],
      "isInternetEnabled": false,
      "language": "python",
      "sourceType": "notebook",
      "isGpuEnabled": false
    },
    "colab": {
      "provenance": [],
      "include_colab_link": true
    }
  },
  "nbformat_minor": 0,
  "nbformat": 4,
  "cells": [
    {
      "cell_type": "markdown",
      "metadata": {
        "id": "view-in-github",
        "colab_type": "text"
      },
      "source": [
        "<a href=\"https://colab.research.google.com/github/MochamadPhilliaWibowo/Machine-Learning-Class/blob/main/Tugas%20Week%201/Kaggle/Python/exercise_booleans_and_conditionals.ipynb\" target=\"_parent\"><img src=\"https://colab.research.google.com/assets/colab-badge.svg\" alt=\"Open In Colab\"/></a>"
      ]
    },
    {
      "cell_type": "markdown",
      "source": [
        "Nama : Mochamad Phillia Wibowo\n",
        "\n",
        "NIM : 1103204191\n",
        "\n",
        "Kelas : TK-44-G04"
      ],
      "metadata": {
        "id": "LrmO-jBxO_md"
      }
    },
    {
      "cell_type": "markdown",
      "source": [
        "**This notebook is an exercise in the [Python](https://www.kaggle.com/learn/python) course.  You can reference the tutorial at [this link](https://www.kaggle.com/colinmorris/booleans-and-conditionals).**\n",
        "\n",
        "---\n"
      ],
      "metadata": {
        "id": "pEKWDn1hO-_j"
      }
    },
    {
      "cell_type": "markdown",
      "source": [
        "In this exercise, you'll put to work what you have learned about booleans and conditionals.\n",
        "\n",
        "To get started, **run the setup code below** before writing your own code (and if you leave this notebook and come back later, don't forget to run the setup code again)."
      ],
      "metadata": {
        "id": "iM1a4AwdO-_l"
      }
    },
    {
      "cell_type": "code",
      "source": [
        "from learntools.core import binder; binder.bind(globals())\n",
        "from learntools.python.ex3 import *\n",
        "print('Setup complete.')"
      ],
      "metadata": {
        "execution": {
          "iopub.status.busy": "2024-03-05T15:16:58.576386Z",
          "iopub.execute_input": "2024-03-05T15:16:58.577275Z",
          "iopub.status.idle": "2024-03-05T15:17:00.036285Z",
          "shell.execute_reply.started": "2024-03-05T15:16:58.577232Z",
          "shell.execute_reply": "2024-03-05T15:17:00.034995Z"
        },
        "trusted": true,
        "id": "5cTy69EOO-_m",
        "outputId": "a887c0df-7dfe-4a92-e17e-083568040ab9"
      },
      "execution_count": null,
      "outputs": [
        {
          "name": "stdout",
          "text": "Setup complete.\n",
          "output_type": "stream"
        }
      ]
    },
    {
      "cell_type": "markdown",
      "source": [
        "# 1.\n",
        "\n",
        "Many programming languages have [`sign`](https://en.wikipedia.org/wiki/Sign_function) available as a built-in function. Python doesn't, but we can define our own!\n",
        "\n",
        "In the cell below, define a function called `sign` which takes a numerical argument and returns -1 if it's negative, 1 if it's positive, and 0 if it's 0."
      ],
      "metadata": {
        "id": "FZCNi0tjO-_n"
      }
    },
    {
      "cell_type": "code",
      "source": [
        "# Your code goes here. Define a function called 'sign'\n",
        "def sign(x):\n",
        "    if x > 0:\n",
        "        return 1\n",
        "    elif x < 0:\n",
        "        return -1\n",
        "    else:\n",
        "        return 0\n",
        "\n",
        "# Check your answer\n",
        "q1.check()"
      ],
      "metadata": {
        "execution": {
          "iopub.status.busy": "2024-03-05T15:17:19.361399Z",
          "iopub.execute_input": "2024-03-05T15:17:19.362759Z",
          "iopub.status.idle": "2024-03-05T15:17:19.374761Z",
          "shell.execute_reply.started": "2024-03-05T15:17:19.362705Z",
          "shell.execute_reply": "2024-03-05T15:17:19.373391Z"
        },
        "trusted": true,
        "id": "o3Hh1fjNO-_n",
        "outputId": "416f0876-0af2-46dc-f82f-9ab5c8518017"
      },
      "execution_count": null,
      "outputs": [
        {
          "output_type": "display_data",
          "data": {
            "text/plain": "<IPython.core.display.Javascript object>",
            "application/javascript": "parent.postMessage({\"jupyterEvent\": \"custom.exercise_interaction\", \"data\": {\"outcomeType\": 1, \"valueTowardsCompletion\": 0.2, \"interactionType\": 1, \"questionType\": 2, \"questionId\": \"1_SignFunctionProblem\", \"learnToolsVersion\": \"0.3.4\", \"failureMessage\": \"\", \"exceptionClass\": \"\", \"trace\": \"\"}}, \"*\")"
          },
          "metadata": {}
        },
        {
          "output_type": "display_data",
          "data": {
            "text/plain": "Correct",
            "text/markdown": "<span style=\"color:#33cc33\">Correct</span>"
          },
          "metadata": {}
        }
      ]
    },
    {
      "cell_type": "code",
      "source": [
        "#q1.solution()"
      ],
      "metadata": {
        "execution": {
          "iopub.status.busy": "2024-03-05T15:17:23.153699Z",
          "iopub.execute_input": "2024-03-05T15:17:23.154170Z",
          "iopub.status.idle": "2024-03-05T15:17:23.159509Z",
          "shell.execute_reply.started": "2024-03-05T15:17:23.154136Z",
          "shell.execute_reply": "2024-03-05T15:17:23.158437Z"
        },
        "trusted": true,
        "id": "QuHxeCw6O-_o"
      },
      "execution_count": null,
      "outputs": []
    },
    {
      "cell_type": "markdown",
      "source": [
        "# 2.\n",
        "\n",
        "We've decided to add \"logging\" to our `to_smash` function from the previous exercise."
      ],
      "metadata": {
        "id": "DCHMF6F_O-_o"
      }
    },
    {
      "cell_type": "code",
      "source": [
        "def to_smash(total_candies):\n",
        "    \"\"\"Return the number of leftover candies that must be smashed after distributing\n",
        "    the given number of candies evenly between 3 friends.\n",
        "\n",
        "    >>> to_smash(91)\n",
        "    1\n",
        "    \"\"\"\n",
        "    print(\"Splitting\", total_candies, \"candies\")\n",
        "    return total_candies % 3\n",
        "\n",
        "to_smash(91)"
      ],
      "metadata": {
        "execution": {
          "iopub.status.busy": "2024-03-05T15:17:34.036237Z",
          "iopub.execute_input": "2024-03-05T15:17:34.036758Z",
          "iopub.status.idle": "2024-03-05T15:17:34.047507Z",
          "shell.execute_reply.started": "2024-03-05T15:17:34.036716Z",
          "shell.execute_reply": "2024-03-05T15:17:34.045946Z"
        },
        "trusted": true,
        "id": "sOFeY2IFO-_o",
        "outputId": "93b8b8da-184d-426b-e4bf-055019852176"
      },
      "execution_count": null,
      "outputs": [
        {
          "name": "stdout",
          "text": "Splitting 91 candies\n",
          "output_type": "stream"
        },
        {
          "execution_count": 5,
          "output_type": "execute_result",
          "data": {
            "text/plain": "1"
          },
          "metadata": {}
        }
      ]
    },
    {
      "cell_type": "markdown",
      "source": [
        "What happens if we call it with `total_candies = 1`?"
      ],
      "metadata": {
        "id": "bEvmsi-QO-_o"
      }
    },
    {
      "cell_type": "code",
      "source": [
        "to_smash(1)"
      ],
      "metadata": {
        "execution": {
          "iopub.status.busy": "2024-03-05T15:17:36.861966Z",
          "iopub.execute_input": "2024-03-05T15:17:36.862660Z",
          "iopub.status.idle": "2024-03-05T15:17:36.871944Z",
          "shell.execute_reply.started": "2024-03-05T15:17:36.862610Z",
          "shell.execute_reply": "2024-03-05T15:17:36.869551Z"
        },
        "trusted": true,
        "id": "vGEczPiQO-_o",
        "outputId": "7a767b99-a434-426e-8faf-fe86c6f3c349"
      },
      "execution_count": null,
      "outputs": [
        {
          "name": "stdout",
          "text": "Splitting 1 candies\n",
          "output_type": "stream"
        },
        {
          "execution_count": 6,
          "output_type": "execute_result",
          "data": {
            "text/plain": "1"
          },
          "metadata": {}
        }
      ]
    },
    {
      "cell_type": "markdown",
      "source": [
        "That isn't great grammar!\n",
        "\n",
        "Modify the definition in the cell below to correct the grammar of our print statement. (If there's only one candy, we should use the singular \"candy\" instead of the plural \"candies\")"
      ],
      "metadata": {
        "id": "V_RJ5B-HO-_o"
      }
    },
    {
      "cell_type": "code",
      "source": [
        "def to_smash(total_candies):\n",
        "    \"\"\"Return the number of leftover candies that must be smashed after distributing\n",
        "    the given number of candies evenly between 3 friends.\n",
        "\n",
        "   >>> to_smash(91)\n",
        "    1\n",
        "    \"\"\"\n",
        "    print(\"Splitting\", total_candies, \"Candies\")  # Mencetak pesan yang memberi tahu kita sedang membagi permen\n",
        "    return total_candies % 3  # Mengembalikan sisa permen setelah pembagian dengan 3\n",
        "\n",
        "to_smash(91)  # Memanggil fungsi to_smash dengan argumen 91\n",
        "to_smash(1)   # Memanggil fungsi to_smash dengan argumen 1"
      ],
      "metadata": {
        "execution": {
          "iopub.status.busy": "2024-03-05T15:20:48.366631Z",
          "iopub.execute_input": "2024-03-05T15:20:48.367112Z",
          "iopub.status.idle": "2024-03-05T15:20:48.378434Z",
          "shell.execute_reply.started": "2024-03-05T15:20:48.367077Z",
          "shell.execute_reply": "2024-03-05T15:20:48.377071Z"
        },
        "trusted": true,
        "id": "w8-iefP_O-_p",
        "outputId": "01924438-60aa-4d30-dc26-967b3a6af84e"
      },
      "execution_count": null,
      "outputs": [
        {
          "name": "stdout",
          "text": "Splitting 91 Candies\nSplitting 1 Candies\n",
          "output_type": "stream"
        },
        {
          "execution_count": 12,
          "output_type": "execute_result",
          "data": {
            "text/plain": "1"
          },
          "metadata": {}
        }
      ]
    },
    {
      "cell_type": "markdown",
      "source": [
        "To get credit for completing this problem, and to see the official answer, run the code cell below."
      ],
      "metadata": {
        "id": "BrYfC4tMO-_p"
      }
    },
    {
      "cell_type": "code",
      "source": [
        "# Check your answer (Run this code cell to receive credit!)\n",
        "#q2.solution()"
      ],
      "metadata": {
        "execution": {
          "iopub.status.busy": "2024-03-05T15:20:55.037108Z",
          "iopub.execute_input": "2024-03-05T15:20:55.037534Z",
          "iopub.status.idle": "2024-03-05T15:20:55.042541Z",
          "shell.execute_reply.started": "2024-03-05T15:20:55.037485Z",
          "shell.execute_reply": "2024-03-05T15:20:55.041245Z"
        },
        "trusted": true,
        "id": "SpSwDaEiO-_p"
      },
      "execution_count": null,
      "outputs": []
    },
    {
      "cell_type": "markdown",
      "source": [
        "# 3. <span title=\"A bit spicy\" style=\"color: darkgreen \">🌶️</span>\n",
        "\n",
        "In the tutorial, we talked about deciding whether we're prepared for the weather. I said that I'm safe from today's weather if...\n",
        "- I have an umbrella...\n",
        "- or if the rain isn't too heavy and I have a hood...\n",
        "- otherwise, I'm still fine unless it's raining *and* it's a workday\n",
        "\n",
        "The function below uses our first attempt at turning this logic into a Python expression. I claimed that there was a bug in that code. Can you find it?\n",
        "\n",
        "To prove that `prepared_for_weather` is buggy, come up with a set of inputs where either:\n",
        "- the function returns `False` (but should have returned `True`), or\n",
        "- the function returned `True` (but should have returned `False`).\n",
        "\n",
        "To get credit for completing this question, your code should return a <font color='#33cc33'>Correct</font> result."
      ],
      "metadata": {
        "id": "UJXorXFmO-_p"
      }
    },
    {
      "cell_type": "code",
      "source": [
        "def prepared_for_weather(have_umbrella, rain_level, have_hood, is_workday):\n",
        "    # Don't change this code. Our goal is just to find the bug, not fix it!\n",
        "    return have_umbrella or rain_level < 5 and have_hood or not rain_level > 0 and is_workday\n",
        "\n",
        "# Change the values of these inputs so they represent a case where prepared_for_weather\n",
        "# returns the wrong answer.\n",
        "have_umbrella = False\n",
        "rain_level = 0.0\n",
        "have_hood = False\n",
        "is_workday = False\n",
        "\n",
        "# Check what the function returns given the current values of the variables above\n",
        "actual = prepared_for_weather(have_umbrella, rain_level, have_hood, is_workday)\n",
        "print(actual)\n",
        "\n",
        "# Check your answer\n",
        "q3.check()"
      ],
      "metadata": {
        "execution": {
          "iopub.status.busy": "2024-03-05T15:21:57.814956Z",
          "iopub.execute_input": "2024-03-05T15:21:57.815414Z",
          "iopub.status.idle": "2024-03-05T15:21:57.830229Z",
          "shell.execute_reply.started": "2024-03-05T15:21:57.815370Z",
          "shell.execute_reply": "2024-03-05T15:21:57.829097Z"
        },
        "trusted": true,
        "id": "G8LADWMQO-_q",
        "outputId": "b09a7afd-f11a-4bdb-9731-f15898a56e1c"
      },
      "execution_count": null,
      "outputs": [
        {
          "name": "stdout",
          "text": "False\n",
          "output_type": "stream"
        },
        {
          "output_type": "display_data",
          "data": {
            "text/plain": "<IPython.core.display.Javascript object>",
            "application/javascript": "parent.postMessage({\"jupyterEvent\": \"custom.exercise_interaction\", \"data\": {\"outcomeType\": 1, \"valueTowardsCompletion\": 0.2, \"interactionType\": 1, \"questionType\": 1, \"questionId\": \"3_WeatherDebug\", \"learnToolsVersion\": \"0.3.4\", \"failureMessage\": \"\", \"exceptionClass\": \"\", \"trace\": \"\"}}, \"*\")"
          },
          "metadata": {}
        },
        {
          "output_type": "display_data",
          "data": {
            "text/plain": "Correct: \n\nOne example of a failing test case is:\n\n```python\nhave_umbrella = False\nrain_level = 0.0\nhave_hood = False\nis_workday = False\n```\n\nClearly we're prepared for the weather in this case. It's not raining. Not only that, it's not a workday, so we don't even need to leave the house! But our function will return False on these inputs.\n\nThe key problem is that Python implictly parenthesizes the last part as:\n\n```python\n(not (rain_level > 0)) and is_workday\n```\n\nWhereas what we were trying to express would look more like:\n\n```python\nnot (rain_level > 0 and is_workday)\n```",
            "text/markdown": "<span style=\"color:#33cc33\">Correct:</span> \n\nOne example of a failing test case is:\n\n```python\nhave_umbrella = False\nrain_level = 0.0\nhave_hood = False\nis_workday = False\n```\n\nClearly we're prepared for the weather in this case. It's not raining. Not only that, it's not a workday, so we don't even need to leave the house! But our function will return False on these inputs.\n\nThe key problem is that Python implictly parenthesizes the last part as:\n\n```python\n(not (rain_level > 0)) and is_workday\n```\n\nWhereas what we were trying to express would look more like:\n\n```python\nnot (rain_level > 0 and is_workday)\n```\n"
          },
          "metadata": {}
        }
      ]
    },
    {
      "cell_type": "code",
      "source": [
        "#q3.hint()\n",
        "#q3.solution()"
      ],
      "metadata": {
        "execution": {
          "iopub.status.busy": "2024-03-05T15:21:51.417913Z",
          "iopub.execute_input": "2024-03-05T15:21:51.418368Z",
          "iopub.status.idle": "2024-03-05T15:21:51.423963Z",
          "shell.execute_reply.started": "2024-03-05T15:21:51.418335Z",
          "shell.execute_reply": "2024-03-05T15:21:51.422678Z"
        },
        "trusted": true,
        "id": "4o46VxMQO-_q"
      },
      "execution_count": null,
      "outputs": []
    },
    {
      "cell_type": "markdown",
      "source": [
        "# 4.\n",
        "\n",
        "The function `is_negative` below is implemented correctly - it returns True if the given number is negative and False otherwise.\n",
        "\n",
        "However, it's more verbose than it needs to be. We can actually reduce the number of lines of code in this function by *75%* while keeping the same behaviour.\n",
        "\n",
        "See if you can come up with an equivalent body that uses just **one line** of code, and put it in the function `concise_is_negative`. (HINT: you don't even need Python's ternary syntax)"
      ],
      "metadata": {
        "id": "y7S6jouNO-_q"
      }
    },
    {
      "cell_type": "code",
      "source": [
        "def is_negative(number):\n",
        "    if number < 0:\n",
        "        return True\n",
        "    else:\n",
        "        return False\n",
        "\n",
        "def concise_is_negative(number):\n",
        "    return number < 0 # Your code goes here (try to keep it to one line!)\n",
        "\n",
        "# Check your answer\n",
        "q4.check()"
      ],
      "metadata": {
        "execution": {
          "iopub.status.busy": "2024-03-05T15:23:32.381432Z",
          "iopub.execute_input": "2024-03-05T15:23:32.382122Z",
          "iopub.status.idle": "2024-03-05T15:23:32.401251Z",
          "shell.execute_reply.started": "2024-03-05T15:23:32.382075Z",
          "shell.execute_reply": "2024-03-05T15:23:32.398840Z"
        },
        "trusted": true,
        "id": "N8Q2UsBiO-_q",
        "outputId": "0d694abc-8cd1-4f13-b761-22514f6ef913"
      },
      "execution_count": null,
      "outputs": [
        {
          "output_type": "display_data",
          "data": {
            "text/plain": "<IPython.core.display.Javascript object>",
            "application/javascript": "parent.postMessage({\"jupyterEvent\": \"custom.exercise_interaction\", \"data\": {\"outcomeType\": 1, \"valueTowardsCompletion\": 0.2, \"interactionType\": 1, \"questionType\": 2, \"questionId\": \"4_ConciseIsNegative\", \"learnToolsVersion\": \"0.3.4\", \"failureMessage\": \"\", \"exceptionClass\": \"\", \"trace\": \"\"}}, \"*\")"
          },
          "metadata": {}
        },
        {
          "output_type": "display_data",
          "data": {
            "text/plain": "Correct",
            "text/markdown": "<span style=\"color:#33cc33\">Correct</span>"
          },
          "metadata": {}
        }
      ]
    },
    {
      "cell_type": "code",
      "source": [
        "#q4.hint()\n",
        "#q4.solution()"
      ],
      "metadata": {
        "execution": {
          "iopub.status.busy": "2024-03-05T15:23:36.947044Z",
          "iopub.execute_input": "2024-03-05T15:23:36.947548Z",
          "iopub.status.idle": "2024-03-05T15:23:36.953554Z",
          "shell.execute_reply.started": "2024-03-05T15:23:36.947483Z",
          "shell.execute_reply": "2024-03-05T15:23:36.951972Z"
        },
        "trusted": true,
        "id": "ywsY-4laO-_r"
      },
      "execution_count": null,
      "outputs": []
    },
    {
      "cell_type": "markdown",
      "source": [
        "# 5a.\n",
        "\n",
        "The boolean variables `ketchup`, `mustard` and `onion` represent whether a customer wants a particular topping on their hot dog. We want to implement a number of boolean functions that correspond to some yes-or-no questions about the customer's order. For example:"
      ],
      "metadata": {
        "id": "IYnldx6lO-_r"
      }
    },
    {
      "cell_type": "code",
      "source": [
        "def onionless(ketchup, mustard, onion):\n",
        "    \"\"\"Return whether the customer doesn't want onions.\n",
        "    \"\"\"\n",
        "    return not onion"
      ],
      "metadata": {
        "execution": {
          "iopub.status.busy": "2024-03-05T15:23:40.827819Z",
          "iopub.execute_input": "2024-03-05T15:23:40.828347Z",
          "iopub.status.idle": "2024-03-05T15:23:40.834964Z",
          "shell.execute_reply.started": "2024-03-05T15:23:40.828304Z",
          "shell.execute_reply": "2024-03-05T15:23:40.833535Z"
        },
        "trusted": true,
        "id": "PKAAwvasO-_r"
      },
      "execution_count": null,
      "outputs": []
    },
    {
      "cell_type": "code",
      "source": [
        "def wants_all_toppings(ketchup, mustard, onion):\n",
        "    \"\"\"Return whether the customer wants \"the works\" (all 3 toppings)\n",
        "    \"\"\"\n",
        "    return ketchup and mustard and onion\n",
        "\n",
        "# Check your answer\n",
        "q5.a.check()"
      ],
      "metadata": {
        "execution": {
          "iopub.status.busy": "2024-03-05T15:23:53.644481Z",
          "iopub.execute_input": "2024-03-05T15:23:53.644960Z",
          "iopub.status.idle": "2024-03-05T15:23:53.656188Z",
          "shell.execute_reply.started": "2024-03-05T15:23:53.644927Z",
          "shell.execute_reply": "2024-03-05T15:23:53.654623Z"
        },
        "trusted": true,
        "id": "257x7VL-O-_r",
        "outputId": "78be0313-c1d8-4c62-9b2f-573c387ba731"
      },
      "execution_count": null,
      "outputs": [
        {
          "output_type": "display_data",
          "data": {
            "text/plain": "<IPython.core.display.Javascript object>",
            "application/javascript": "parent.postMessage({\"jupyterEvent\": \"custom.exercise_interaction\", \"data\": {\"outcomeType\": 1, \"valueTowardsCompletion\": 0.2, \"interactionType\": 1, \"questionType\": 2, \"questionId\": \"5.1_AllToppings\", \"learnToolsVersion\": \"0.3.4\", \"failureMessage\": \"\", \"exceptionClass\": \"\", \"trace\": \"\"}}, \"*\")"
          },
          "metadata": {}
        },
        {
          "output_type": "display_data",
          "data": {
            "text/plain": "Correct",
            "text/markdown": "<span style=\"color:#33cc33\">Correct</span>"
          },
          "metadata": {}
        }
      ]
    },
    {
      "cell_type": "code",
      "source": [
        "#q5.a.hint()\n",
        "#q5.a.solution()"
      ],
      "metadata": {
        "execution": {
          "iopub.status.busy": "2024-03-05T15:23:59.678539Z",
          "iopub.execute_input": "2024-03-05T15:23:59.678982Z",
          "iopub.status.idle": "2024-03-05T15:23:59.684029Z",
          "shell.execute_reply.started": "2024-03-05T15:23:59.678949Z",
          "shell.execute_reply": "2024-03-05T15:23:59.682652Z"
        },
        "trusted": true,
        "id": "dk0tJDw0O-_r"
      },
      "execution_count": null,
      "outputs": []
    },
    {
      "cell_type": "markdown",
      "source": [
        "# 5b.\n",
        "\n",
        "For the next function, fill in the body to match the English description in the docstring."
      ],
      "metadata": {
        "id": "hsU7wmeRO-_r"
      }
    },
    {
      "cell_type": "code",
      "source": [
        "def wants_plain_hotdog(ketchup, mustard, onion):\n",
        "    \"\"\"Return whether the customer wants a plain hot dog with no toppings.\n",
        "    \"\"\"\n",
        "    return not ketchup and not mustard and not onion\n",
        "\n",
        "# Check your answer\n",
        "q5.b.check()"
      ],
      "metadata": {
        "execution": {
          "iopub.status.busy": "2024-03-05T15:24:16.222621Z",
          "iopub.execute_input": "2024-03-05T15:24:16.223091Z",
          "iopub.status.idle": "2024-03-05T15:24:16.235235Z",
          "shell.execute_reply.started": "2024-03-05T15:24:16.223058Z",
          "shell.execute_reply": "2024-03-05T15:24:16.233752Z"
        },
        "trusted": true,
        "id": "ovH0Cs2lO-_s",
        "outputId": "5c9752bc-7953-43d3-aeb1-88b7ee72c419"
      },
      "execution_count": null,
      "outputs": [
        {
          "output_type": "display_data",
          "data": {
            "text/plain": "<IPython.core.display.Javascript object>",
            "application/javascript": "parent.postMessage({\"jupyterEvent\": \"custom.exercise_interaction\", \"data\": {\"outcomeType\": 1, \"valueTowardsCompletion\": 0.2, \"interactionType\": 1, \"questionType\": 2, \"questionId\": \"5.2_PlainDog\", \"learnToolsVersion\": \"0.3.4\", \"failureMessage\": \"\", \"exceptionClass\": \"\", \"trace\": \"\"}}, \"*\")"
          },
          "metadata": {}
        },
        {
          "output_type": "display_data",
          "data": {
            "text/plain": "Correct: \n\nOne solution looks like:\n```python\nreturn not ketchup and not mustard and not onion\n```\n\nWe can also [\"factor out\" the nots](https://en.wikipedia.org/wiki/De_Morgan%27s_laws) to get:\n\n```python\nreturn not (ketchup or mustard or onion)\n```",
            "text/markdown": "<span style=\"color:#33cc33\">Correct:</span> \n\nOne solution looks like:\n```python\nreturn not ketchup and not mustard and not onion\n```\n\nWe can also [\"factor out\" the nots](https://en.wikipedia.org/wiki/De_Morgan%27s_laws) to get:\n\n```python\nreturn not (ketchup or mustard or onion)\n```"
          },
          "metadata": {}
        }
      ]
    },
    {
      "cell_type": "code",
      "source": [
        "#q5.b.hint()\n",
        "#q5.b.solution()"
      ],
      "metadata": {
        "execution": {
          "iopub.status.busy": "2024-03-05T15:24:20.451348Z",
          "iopub.execute_input": "2024-03-05T15:24:20.451843Z",
          "iopub.status.idle": "2024-03-05T15:24:20.456985Z",
          "shell.execute_reply.started": "2024-03-05T15:24:20.451808Z",
          "shell.execute_reply": "2024-03-05T15:24:20.455712Z"
        },
        "trusted": true,
        "id": "R0ozucl7O-_s"
      },
      "execution_count": null,
      "outputs": []
    },
    {
      "cell_type": "markdown",
      "source": [
        "# 5c.\n",
        "\n",
        "You know what to do: for the next function, fill in the body to match the English description in the docstring."
      ],
      "metadata": {
        "id": "8Q_CEAAbO-_s"
      }
    },
    {
      "cell_type": "code",
      "source": [
        "def exactly_one_sauce(ketchup, mustard, onion):\n",
        "    \"\"\"Return whether the customer wants either ketchup or mustard, but not both.\n",
        "    (You may be familiar with this operation under the name \"exclusive or\")\n",
        "    \"\"\"\n",
        "    return (ketchup and not mustard) or (mustard and not ketchup)\n",
        "\n",
        "# Check your answer\n",
        "q5.c.check()"
      ],
      "metadata": {
        "execution": {
          "iopub.status.busy": "2024-03-05T15:24:44.638905Z",
          "iopub.execute_input": "2024-03-05T15:24:44.639342Z",
          "iopub.status.idle": "2024-03-05T15:24:44.650500Z",
          "shell.execute_reply.started": "2024-03-05T15:24:44.639309Z",
          "shell.execute_reply": "2024-03-05T15:24:44.649279Z"
        },
        "trusted": true,
        "id": "c1pq7VzJO-_s",
        "outputId": "7fd8c7a2-7a71-4ab0-e979-1f05b5e6d9e7"
      },
      "execution_count": null,
      "outputs": [
        {
          "output_type": "display_data",
          "data": {
            "text/plain": "<IPython.core.display.Javascript object>",
            "application/javascript": "parent.postMessage({\"jupyterEvent\": \"custom.exercise_interaction\", \"data\": {\"outcomeType\": 1, \"valueTowardsCompletion\": 0.2, \"interactionType\": 1, \"questionType\": 2, \"questionId\": \"5.3_OneSauce\", \"learnToolsVersion\": \"0.3.4\", \"failureMessage\": \"\", \"exceptionClass\": \"\", \"trace\": \"\"}}, \"*\")"
          },
          "metadata": {}
        },
        {
          "output_type": "display_data",
          "data": {
            "text/plain": "Correct",
            "text/markdown": "<span style=\"color:#33cc33\">Correct</span>"
          },
          "metadata": {}
        }
      ]
    },
    {
      "cell_type": "code",
      "source": [
        "#q5.c.hint()\n",
        "#q5.c.solution()"
      ],
      "metadata": {
        "execution": {
          "iopub.status.busy": "2024-03-05T15:24:50.280758Z",
          "iopub.execute_input": "2024-03-05T15:24:50.281217Z",
          "iopub.status.idle": "2024-03-05T15:24:50.286612Z",
          "shell.execute_reply.started": "2024-03-05T15:24:50.281183Z",
          "shell.execute_reply": "2024-03-05T15:24:50.285251Z"
        },
        "trusted": true,
        "id": "d5nSc_deO-_s"
      },
      "execution_count": null,
      "outputs": []
    },
    {
      "cell_type": "markdown",
      "source": [
        "# 6. <span title=\"A bit spicy\" style=\"color: darkgreen \">🌶️</span>\n",
        "\n",
        "We’ve seen that calling `bool()` on an integer returns `False` if it’s equal to 0 and `True` otherwise. What happens if we call `int()` on a bool? Try it out in the notebook cell below.\n",
        "\n",
        "Can you take advantage of this to write a succinct function that corresponds to the English sentence \"does the customer want exactly one topping?\"?"
      ],
      "metadata": {
        "id": "9zlU7pamO-_s"
      }
    },
    {
      "cell_type": "code",
      "source": [
        "def exactly_one_topping(ketchup, mustard, onion):\n",
        "    \"\"\"Return whether the customer wants exactly one of the three available toppings\n",
        "    on their hot dog.\n",
        "    \"\"\"\n",
        "    return (int(ketchup) + int(mustard) + int(onion)) == 1\n",
        "\n",
        "# Check your answer\n",
        "q6.check()"
      ],
      "metadata": {
        "execution": {
          "iopub.status.busy": "2024-03-05T15:25:06.797511Z",
          "iopub.execute_input": "2024-03-05T15:25:06.797948Z",
          "iopub.status.idle": "2024-03-05T15:25:06.809853Z",
          "shell.execute_reply.started": "2024-03-05T15:25:06.797915Z",
          "shell.execute_reply": "2024-03-05T15:25:06.808579Z"
        },
        "trusted": true,
        "id": "Q_Hx4KCBO-_t",
        "outputId": "4b86befc-55a0-409d-b994-1a5cd5439256"
      },
      "execution_count": null,
      "outputs": [
        {
          "output_type": "display_data",
          "data": {
            "text/plain": "<IPython.core.display.Javascript object>",
            "application/javascript": "parent.postMessage({\"jupyterEvent\": \"custom.exercise_interaction\", \"data\": {\"outcomeType\": 1, \"valueTowardsCompletion\": 0.2, \"interactionType\": 1, \"questionType\": 2, \"questionId\": \"6_OneTopping\", \"learnToolsVersion\": \"0.3.4\", \"failureMessage\": \"\", \"exceptionClass\": \"\", \"trace\": \"\"}}, \"*\")"
          },
          "metadata": {}
        },
        {
          "output_type": "display_data",
          "data": {
            "text/plain": "Correct: \n\nThis condition would be pretty complicated to express using just `and`, `or` and `not`, but using boolean-to-integer conversion gives us this short solution:\n```python\nreturn (int(ketchup) + int(mustard) + int(onion)) == 1\n```\n\nFun fact: we don't technically need to call `int` on the arguments. Just by doing addition with booleans, Python implicitly does the integer conversion. So we could also write...\n\n```python\nreturn (ketchup + mustard + onion) == 1\n```",
            "text/markdown": "<span style=\"color:#33cc33\">Correct:</span> \n\nThis condition would be pretty complicated to express using just `and`, `or` and `not`, but using boolean-to-integer conversion gives us this short solution:\n```python\nreturn (int(ketchup) + int(mustard) + int(onion)) == 1\n```\n\nFun fact: we don't technically need to call `int` on the arguments. Just by doing addition with booleans, Python implicitly does the integer conversion. So we could also write...\n\n```python\nreturn (ketchup + mustard + onion) == 1\n```"
          },
          "metadata": {}
        }
      ]
    },
    {
      "cell_type": "code",
      "source": [
        "#q6.hint()\n",
        "#q6.solution()"
      ],
      "metadata": {
        "execution": {
          "iopub.status.busy": "2024-03-05T15:25:11.744212Z",
          "iopub.execute_input": "2024-03-05T15:25:11.744790Z",
          "iopub.status.idle": "2024-03-05T15:25:11.751007Z",
          "shell.execute_reply.started": "2024-03-05T15:25:11.744745Z",
          "shell.execute_reply": "2024-03-05T15:25:11.749370Z"
        },
        "trusted": true,
        "id": "VhH330wrO-_t"
      },
      "execution_count": null,
      "outputs": []
    },
    {
      "cell_type": "markdown",
      "source": [
        "# 7. <span title=\"A bit spicy\" style=\"color: darkgreen \">🌶️</span> (Optional)\n",
        "\n",
        "In this problem we'll be working with a simplified version of [blackjack](https://en.wikipedia.org/wiki/Blackjack) (aka twenty-one). In this version there is one player (who you'll control) and a dealer. Play proceeds as follows:\n",
        "\n",
        "- The player is dealt two face-up cards. The dealer is dealt one face-up card.\n",
        "- The player may ask to be dealt another card ('hit') as many times as they wish. If the sum of their cards exceeds 21, they lose the round immediately.\n",
        "- The dealer then deals additional cards to himself until either:\n",
        "    - the sum of the dealer's cards exceeds 21, in which case the player wins the round\n",
        "    - the sum of the dealer's cards is greater than or equal to 17. If the player's total is greater than the dealer's, the player wins. Otherwise, the dealer wins (even in case of a tie).\n",
        "    \n",
        "When calculating the sum of cards, Jack, Queen, and King count for 10. Aces can count as 1 or 11 (when referring to a player's \"total\" above, we mean the largest total that can be made without exceeding 21. So e.g. A+8 = 19, A+8+8 = 17)\n",
        "\n",
        "For this problem, you'll write a function representing the player's decision-making strategy in this game. We've provided a very unintelligent implementation below:"
      ],
      "metadata": {
        "id": "pYSHvLX0O-_t"
      }
    },
    {
      "cell_type": "code",
      "source": [
        "def should_hit(dealer_total, player_total, player_low_aces, player_high_aces):\n",
        "    \"\"\"Return True if the player should hit (request another card) given the current game\n",
        "    state, or False if the player should stay.\n",
        "    When calculating a hand's total value, we count aces as \"high\" (with value 11) if doing so\n",
        "    doesn't bring the total above 21, otherwise we count them as low (with value 1).\n",
        "    For example, if the player's hand is {A, A, A, 7}, we will count it as 11 + 1 + 1 + 7,\n",
        "    and therefore set player_total=20, player_low_aces=2, player_high_aces=1.\n",
        "    \"\"\"\n",
        "    return False"
      ],
      "metadata": {
        "execution": {
          "iopub.status.busy": "2024-03-05T15:25:21.572243Z",
          "iopub.execute_input": "2024-03-05T15:25:21.573767Z",
          "iopub.status.idle": "2024-03-05T15:25:21.581507Z",
          "shell.execute_reply.started": "2024-03-05T15:25:21.573708Z",
          "shell.execute_reply": "2024-03-05T15:25:21.579560Z"
        },
        "trusted": true,
        "id": "VlfaOivJO-_t"
      },
      "execution_count": null,
      "outputs": []
    },
    {
      "cell_type": "markdown",
      "source": [
        "This very conservative agent *always* sticks with the hand of two cards that they're dealt.\n",
        "\n",
        "We'll be simulating games between your player agent and our own dealer agent by calling your function.\n",
        "\n",
        "Try running the function below to see an example of a simulated game:"
      ],
      "metadata": {
        "id": "1777CIb4O-_t"
      }
    },
    {
      "cell_type": "code",
      "source": [
        "q7.simulate_one_game()"
      ],
      "metadata": {
        "execution": {
          "iopub.status.busy": "2024-03-05T15:25:24.582172Z",
          "iopub.execute_input": "2024-03-05T15:25:24.582803Z",
          "iopub.status.idle": "2024-03-05T15:25:24.590051Z",
          "shell.execute_reply.started": "2024-03-05T15:25:24.582742Z",
          "shell.execute_reply": "2024-03-05T15:25:24.588995Z"
        },
        "trusted": true,
        "id": "D-M48VYlO-_t",
        "outputId": "772f4b54-c267-498d-ea4d-0505d18950ed"
      },
      "execution_count": null,
      "outputs": [
        {
          "name": "stdout",
          "text": "Player starts with 7 and Q (total = 17)\nDealer starts with 9\n\n__Player's turn__\nPlayer stays\n\n__Dealer's turn__\nDealer hits and receives K. (total = 19)\nDealer stands.\nDealer wins. 19 >= 17\n",
          "output_type": "stream"
        }
      ]
    },
    {
      "cell_type": "markdown",
      "source": [
        "The real test of your agent's mettle is their average win rate over many games. Try calling the function below to simulate 50000 games of blackjack (it may take a couple seconds):"
      ],
      "metadata": {
        "id": "CS_ISSnfO-_t"
      }
    },
    {
      "cell_type": "code",
      "source": [
        "q7.simulate(n_games=50000)"
      ],
      "metadata": {
        "execution": {
          "iopub.status.busy": "2024-03-05T15:25:27.280695Z",
          "iopub.execute_input": "2024-03-05T15:25:27.281166Z",
          "iopub.status.idle": "2024-03-05T15:25:29.457709Z",
          "shell.execute_reply.started": "2024-03-05T15:25:27.281131Z",
          "shell.execute_reply": "2024-03-05T15:25:29.456433Z"
        },
        "trusted": true,
        "id": "_cy2a2tHO-_u",
        "outputId": "f248ef3f-1d0e-4962-b938-bcb7912e1c61"
      },
      "execution_count": null,
      "outputs": [
        {
          "name": "stdout",
          "text": "Player won 19081 out of 50000 games (win rate = 38.2%)\n",
          "output_type": "stream"
        }
      ]
    },
    {
      "cell_type": "markdown",
      "source": [
        "Our dumb agent that completely ignores the game state still manages to win shockingly often!\n",
        "\n",
        "Try adding some more smarts to the `should_hit` function and see how it affects the results."
      ],
      "metadata": {
        "id": "JjpsueksO-_0"
      }
    },
    {
      "cell_type": "code",
      "source": [
        "def should_hit(dealer_total, player_total, player_low_aces, player_high_aces):\n",
        "    \"\"\"Return True if the player should hit (request another card) given the current game\n",
        "    state, or False if the player should stay.\n",
        "    When calculating a hand's total value, we count aces as \"high\" (with value 11) if doing so\n",
        "    doesn't bring the total above 21, otherwise we count them as low (with value 1).\n",
        "    For example, if the player's hand is {A, A, A, 7}, we will count it as 11 + 1 + 1 + 7,\n",
        "    and therefore set player_total=20, player_low_aces=2, player_high_aces=1.\n",
        "    \"\"\"\n",
        "    return False\n",
        "\n",
        "q7.simulate(n_games=50000)"
      ],
      "metadata": {
        "execution": {
          "iopub.status.busy": "2024-03-05T15:25:34.287662Z",
          "iopub.execute_input": "2024-03-05T15:25:34.288043Z",
          "iopub.status.idle": "2024-03-05T15:25:36.447104Z",
          "shell.execute_reply.started": "2024-03-05T15:25:34.288014Z",
          "shell.execute_reply": "2024-03-05T15:25:36.445822Z"
        },
        "trusted": true,
        "id": "01emyYq3O-_0",
        "outputId": "4aacb7bc-fffb-4974-c88a-ac2b47531bbe"
      },
      "execution_count": null,
      "outputs": [
        {
          "name": "stdout",
          "text": "Player won 18997 out of 50000 games (win rate = 38.0%)\n",
          "output_type": "stream"
        }
      ]
    },
    {
      "cell_type": "markdown",
      "source": [
        "# Keep Going\n",
        "\n",
        "Learn about **[lists and tuples](https://www.kaggle.com/colinmorris/lists)** to handle multiple items of data in a systematic way."
      ],
      "metadata": {
        "id": "tLLe8EIjO-_0"
      }
    },
    {
      "cell_type": "markdown",
      "source": [
        "---\n",
        "\n",
        "\n",
        "\n",
        "\n",
        "*Have questions or comments? Visit the [course discussion forum](https://www.kaggle.com/learn/python/discussion) to chat with other learners.*"
      ],
      "metadata": {
        "id": "oaRot8-CO-_1"
      }
    }
  ]
}