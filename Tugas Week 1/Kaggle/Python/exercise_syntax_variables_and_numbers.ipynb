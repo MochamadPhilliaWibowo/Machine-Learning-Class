{
  "metadata": {
    "kernelspec": {
      "display_name": "Python 3",
      "language": "python",
      "name": "python3"
    },
    "language_info": {
      "name": "python",
      "version": "3.10.13",
      "mimetype": "text/x-python",
      "codemirror_mode": {
        "name": "ipython",
        "version": 3
      },
      "pygments_lexer": "ipython3",
      "nbconvert_exporter": "python",
      "file_extension": ".py"
    },
    "learntools_metadata": {
      "lesson_index": 0,
      "type": "exercise"
    },
    "kaggle": {
      "accelerator": "none",
      "dataSources": [],
      "isInternetEnabled": false,
      "language": "python",
      "sourceType": "notebook",
      "isGpuEnabled": false
    },
    "colab": {
      "provenance": [],
      "include_colab_link": true
    }
  },
  "nbformat_minor": 0,
  "nbformat": 4,
  "cells": [
    {
      "cell_type": "markdown",
      "metadata": {
        "id": "view-in-github",
        "colab_type": "text"
      },
      "source": [
        "<a href=\"https://colab.research.google.com/github/MochamadPhilliaWibowo/Machine-Learning-Class/blob/main/Tugas%20Week%201/Kaggle/Python/exercise_syntax_variables_and_numbers.ipynb\" target=\"_parent\"><img src=\"https://colab.research.google.com/assets/colab-badge.svg\" alt=\"Open In Colab\"/></a>"
      ]
    },
    {
      "cell_type": "markdown",
      "source": [
        "Nama : Mochamad Phillia Wibowo\n",
        "\n",
        "NIM : 1103204191\n",
        "\n",
        "Kelas : TK-44-G04"
      ],
      "metadata": {
        "id": "7PKs1RQjKXm1"
      }
    },
    {
      "cell_type": "markdown",
      "source": [
        "**This notebook is an exercise in the [Python](https://www.kaggle.com/learn/python) course.  You can reference the tutorial at [this link](https://www.kaggle.com/colinmorris/hello-python).**\n",
        "\n",
        "---\n"
      ],
      "metadata": {
        "id": "2GYFoMkMKXH9"
      }
    },
    {
      "cell_type": "markdown",
      "source": [
        "Welcome to your first set of Python coding problems.  If this is your first time using Kaggle Notebooks, welcome!\n",
        "\n",
        "Notebooks are composed of blocks (called \"cells\") of text and code. Each of these is editable, though you'll mainly be editing the code cells to answer some questions.\n",
        "\n",
        "To get started, try running the code cell below (by pressing the ► button, or clicking on the cell and pressing ctrl+enter on your keyboard)."
      ],
      "metadata": {
        "id": "ceSvPExYKXIA"
      }
    },
    {
      "cell_type": "code",
      "source": [
        "print(\"You've successfully run some Python code\")\n",
        "print(\"Congratulations!\")"
      ],
      "metadata": {
        "execution": {
          "iopub.status.busy": "2024-03-05T14:56:19.464559Z",
          "iopub.execute_input": "2024-03-05T14:56:19.465753Z",
          "iopub.status.idle": "2024-03-05T14:56:19.501315Z",
          "shell.execute_reply.started": "2024-03-05T14:56:19.465687Z",
          "shell.execute_reply": "2024-03-05T14:56:19.499627Z"
        },
        "trusted": true,
        "id": "B8nxW_nNKXIA",
        "outputId": "4a3d12e6-0748-4bfc-95ca-149ec9f9caa4"
      },
      "execution_count": null,
      "outputs": [
        {
          "name": "stdout",
          "text": "You've successfully run some Python code\nCongratulations!\n",
          "output_type": "stream"
        }
      ]
    },
    {
      "cell_type": "markdown",
      "source": [
        "Try adding another line of code in the cell above and re-running it.\n",
        "\n",
        "Now let's get a little fancier:  Add a new code cell by clicking on an existing code cell, hitting the escape key, and then hitting the `a` or `b` key.  The `a` key will add a cell above the current cell, and `b` adds a cell below.\n",
        "\n",
        "Great! Now you know how to use Notebooks.\n",
        "\n",
        "Each hands-on exercise starts by setting up our feedback and code checking mechanism. Run the code cell below to do that. Then you'll be ready to move on to question 0."
      ],
      "metadata": {
        "id": "wU2KfS0RKXIB"
      }
    },
    {
      "cell_type": "code",
      "source": [
        "from learntools.core import binder; binder.bind(globals())\n",
        "from learntools.python.ex1 import *\n",
        "print(\"Setup complete! You're ready to start question 0.\")"
      ],
      "metadata": {
        "_kg_hide-input": true,
        "_kg_hide-output": true,
        "execution": {
          "iopub.status.busy": "2024-03-05T14:57:32.471629Z",
          "iopub.execute_input": "2024-03-05T14:57:32.472077Z",
          "iopub.status.idle": "2024-03-05T14:57:32.929104Z",
          "shell.execute_reply.started": "2024-03-05T14:57:32.472042Z",
          "shell.execute_reply": "2024-03-05T14:57:32.927937Z"
        },
        "trusted": true,
        "id": "NJNz90npKXIC",
        "outputId": "47d101c0-8081-4541-e659-cef6f6b9739d"
      },
      "execution_count": null,
      "outputs": [
        {
          "name": "stdout",
          "text": "Setup complete! You're ready to start question 0.\n",
          "output_type": "stream"
        }
      ]
    },
    {
      "cell_type": "markdown",
      "source": [
        "# 0.\n",
        "\n",
        "*This is a silly question intended as an introduction to the format we use for hands-on exercises throughout all Kaggle courses.*\n",
        "\n",
        "**What is your favorite color? **\n",
        "\n",
        "To complete this question, create a variable called `color` in the cell below with an appropriate value. The function call `q0.check()` (which we've already provided in the cell below) will check your answer."
      ],
      "metadata": {
        "id": "Cl8mWVJnKXIC"
      }
    },
    {
      "cell_type": "code",
      "source": [
        "# create a variable called color with an appropriate value on the line below\n",
        "# (Remember, strings in Python must be enclosed in 'single' or \"double\" quotes)\n",
        "color = \"blue\"\n",
        "\n",
        "# Check your answer\n",
        "q0.check()"
      ],
      "metadata": {
        "execution": {
          "iopub.status.busy": "2024-03-05T14:57:50.451283Z",
          "iopub.execute_input": "2024-03-05T14:57:50.451642Z",
          "iopub.status.idle": "2024-03-05T14:57:50.461458Z",
          "shell.execute_reply.started": "2024-03-05T14:57:50.451613Z",
          "shell.execute_reply": "2024-03-05T14:57:50.460314Z"
        },
        "trusted": true,
        "id": "-7nQmdY3KXIC",
        "outputId": "acfc2cdc-bdff-443c-da93-35ee98b1bbd8"
      },
      "execution_count": null,
      "outputs": [
        {
          "output_type": "display_data",
          "data": {
            "text/plain": "<IPython.core.display.Javascript object>",
            "application/javascript": "parent.postMessage({\"jupyterEvent\": \"custom.exercise_interaction\", \"data\": {\"outcomeType\": 1, \"valueTowardsCompletion\": 0.25, \"interactionType\": 1, \"questionType\": 2, \"questionId\": \"0_ExerciseFormatTutorial\", \"learnToolsVersion\": \"0.3.4\", \"failureMessage\": \"\", \"exceptionClass\": \"\", \"trace\": \"\"}}, \"*\")"
          },
          "metadata": {}
        },
        {
          "output_type": "display_data",
          "data": {
            "text/plain": "Correct",
            "text/markdown": "<span style=\"color:#33cc33\">Correct</span>"
          },
          "metadata": {}
        }
      ]
    },
    {
      "cell_type": "markdown",
      "source": [
        "Didn't get the right answer? How do you not even know your own favorite color?!\n",
        "\n",
        "Delete the `#` in the line below to make one of the lines run. You can choose between getting a hint or the full answer by choosing which line to remove the `#` from.\n",
        "\n",
        "Removing the `#` is called uncommenting, because it changes that line from a \"comment\" which Python doesn't run to code, which Python does run."
      ],
      "metadata": {
        "id": "3xw4O-TFKXIC"
      }
    },
    {
      "cell_type": "code",
      "source": [
        "#q0.hint()\n",
        "#q0.solution()"
      ],
      "metadata": {
        "execution": {
          "iopub.status.busy": "2024-03-05T14:57:56.634769Z",
          "iopub.execute_input": "2024-03-05T14:57:56.635377Z",
          "iopub.status.idle": "2024-03-05T14:57:56.641339Z",
          "shell.execute_reply.started": "2024-03-05T14:57:56.635329Z",
          "shell.execute_reply": "2024-03-05T14:57:56.639252Z"
        },
        "trusted": true,
        "id": "puKLKWQQKXID"
      },
      "execution_count": null,
      "outputs": []
    },
    {
      "cell_type": "markdown",
      "source": [
        "The upcoming questions work the same way. The only thing that will change are the question numbers. For the next question, you'll call `q1.check()`, `q1.hint()`, `q1.solution()`, for question 2, you'll call `q2.check()`, and so on."
      ],
      "metadata": {
        "id": "-R2SLCi7KXID"
      }
    },
    {
      "cell_type": "markdown",
      "source": [
        "<hr/>\n",
        "\n",
        "# 1.\n",
        "\n",
        "Complete the code below. In case it's helpful, here is the table of available arithmetic operations:\n",
        "\n",
        "\n",
        "\n",
        "| Operator     | Name           | Description                                            |\n",
        "|--------------|----------------|--------------------------------------------------------|\n",
        "| ``a + b``    | Addition       | Sum of ``a`` and ``b``                                 |\n",
        "| ``a - b``    | Subtraction    | Difference of ``a`` and ``b``                          |\n",
        "| ``a * b``    | Multiplication | Product of ``a`` and ``b``                             |\n",
        "| ``a / b``    | True division  | Quotient of ``a`` and ``b``                            |\n",
        "| ``a // b``   | Floor division | Quotient of ``a`` and ``b``, removing fractional parts |\n",
        "| ``a % b``    | Modulus        | Integer remainder after division of ``a`` by ``b``     |\n",
        "| ``a ** b``   | Exponentiation | ``a`` raised to the power of ``b``                     |\n",
        "| ``-a``       | Negation       | The negative of ``a``                                  |\n",
        "\n",
        "<span style=\"display:none\"></span>\n"
      ],
      "metadata": {
        "id": "ywJdLky5KXID"
      }
    },
    {
      "cell_type": "code",
      "source": [
        "pi = 3.14159 # approximate\n",
        "diameter = 3\n",
        "\n",
        "# Create a variable called 'radius' equal to half the diameter\n",
        "radius = diameter / 2\n",
        "\n",
        "# Create a variable called 'area', using the formula for the area of a circle: pi times the radius squared\n",
        "area = pi * radius ** 2\n",
        "\n",
        "# Check your answer\n",
        "q1.check()"
      ],
      "metadata": {
        "execution": {
          "iopub.status.busy": "2024-03-05T14:58:27.635349Z",
          "iopub.execute_input": "2024-03-05T14:58:27.635749Z",
          "iopub.status.idle": "2024-03-05T14:58:27.645746Z",
          "shell.execute_reply.started": "2024-03-05T14:58:27.635721Z",
          "shell.execute_reply": "2024-03-05T14:58:27.644566Z"
        },
        "trusted": true,
        "id": "CGi_9kdtKXID",
        "outputId": "7764ceaf-7c4c-48a4-ee77-90d3db356692"
      },
      "execution_count": null,
      "outputs": [
        {
          "output_type": "display_data",
          "data": {
            "text/plain": "<IPython.core.display.Javascript object>",
            "application/javascript": "parent.postMessage({\"jupyterEvent\": \"custom.exercise_interaction\", \"data\": {\"outcomeType\": 1, \"valueTowardsCompletion\": 0.25, \"interactionType\": 1, \"questionType\": 1, \"questionId\": \"1_CircleArea\", \"learnToolsVersion\": \"0.3.4\", \"failureMessage\": \"\", \"exceptionClass\": \"\", \"trace\": \"\"}}, \"*\")"
          },
          "metadata": {}
        },
        {
          "output_type": "display_data",
          "data": {
            "text/plain": "Correct",
            "text/markdown": "<span style=\"color:#33cc33\">Correct</span>"
          },
          "metadata": {}
        }
      ]
    },
    {
      "cell_type": "code",
      "source": [
        "# Uncomment and run the lines below if you need help.\n",
        "#q1.hint()\n",
        "#q1.solution()"
      ],
      "metadata": {
        "execution": {
          "iopub.status.busy": "2024-03-05T14:58:33.338395Z",
          "iopub.execute_input": "2024-03-05T14:58:33.338997Z",
          "iopub.status.idle": "2024-03-05T14:58:33.344655Z",
          "shell.execute_reply.started": "2024-03-05T14:58:33.338955Z",
          "shell.execute_reply": "2024-03-05T14:58:33.343038Z"
        },
        "trusted": true,
        "id": "peWgl5EHKXIE"
      },
      "execution_count": null,
      "outputs": []
    },
    {
      "cell_type": "markdown",
      "source": [
        "<hr/>\n",
        "\n",
        "# 2.\n",
        "\n",
        "Add code to the following cell to swap variables `a` and `b` (so that `a` refers to the object previously referred to by `b` and vice versa)."
      ],
      "metadata": {
        "id": "TxvOau1LKXIE"
      }
    },
    {
      "cell_type": "code",
      "source": [
        "########### Setup code - don't touch this part ######################\n",
        "# If you're curious, these are examples of lists. We'll talk about\n",
        "# them in depth a few lessons from now. For now, just know that they're\n",
        "# yet another type of Python object, like int or float.\n",
        "a = [1, 2, 3]\n",
        "b = [3, 2, 1]\n",
        "q2.store_original_ids()\n",
        "######################################################################\n",
        "\n",
        "# Your code goes here. Swap the values to which a and b refer.\n",
        "tmp = a\n",
        "a = b\n",
        "b = tmp\n",
        "\n",
        "# If you get stuck, you can always uncomment one or both of the lines in\n",
        "# the next cell for a hint, or to peek at the solution.\n",
        "\n",
        "######################################################################\n",
        "\n",
        "# Check your answer\n",
        "q2.check()"
      ],
      "metadata": {
        "execution": {
          "iopub.status.busy": "2024-03-05T14:59:44.788349Z",
          "iopub.execute_input": "2024-03-05T14:59:44.788843Z",
          "iopub.status.idle": "2024-03-05T14:59:44.804556Z",
          "shell.execute_reply.started": "2024-03-05T14:59:44.788806Z",
          "shell.execute_reply": "2024-03-05T14:59:44.803346Z"
        },
        "trusted": true,
        "id": "ehE6ot3IKXIE",
        "outputId": "84996b67-1b52-44b0-9889-56a9d44eef4d"
      },
      "execution_count": null,
      "outputs": [
        {
          "output_type": "display_data",
          "data": {
            "text/plain": "<IPython.core.display.Javascript object>",
            "application/javascript": "parent.postMessage({\"jupyterEvent\": \"custom.exercise_interaction\", \"data\": {\"outcomeType\": 1, \"valueTowardsCompletion\": 0.25, \"interactionType\": 1, \"questionType\": 2, \"questionId\": \"2_VariableSwap\", \"learnToolsVersion\": \"0.3.4\", \"failureMessage\": \"\", \"exceptionClass\": \"\", \"trace\": \"\"}}, \"*\")"
          },
          "metadata": {}
        },
        {
          "output_type": "display_data",
          "data": {
            "text/plain": "Correct: \n\nThe most straightforward solution is to use a third variable to temporarily store one of the old values. e.g.:\n\n    tmp = a\n    a = b\n    b = tmp\n\nIf you've read lots of Python code, you might have seen the following trick to swap two variables in one line:\n\n    a, b = b, a\n\nWe'll demystify this bit of Python magic later when we talk about *tuples*.",
            "text/markdown": "<span style=\"color:#33cc33\">Correct:</span> \n\nThe most straightforward solution is to use a third variable to temporarily store one of the old values. e.g.:\n\n    tmp = a\n    a = b\n    b = tmp\n\nIf you've read lots of Python code, you might have seen the following trick to swap two variables in one line:\n\n    a, b = b, a\n\nWe'll demystify this bit of Python magic later when we talk about *tuples*."
          },
          "metadata": {}
        }
      ]
    },
    {
      "cell_type": "code",
      "source": [
        "#q2.hint()"
      ],
      "metadata": {
        "id": "OIZYsHuSKXIE"
      },
      "execution_count": null,
      "outputs": []
    },
    {
      "cell_type": "code",
      "source": [
        "#q2.solution()"
      ],
      "metadata": {
        "execution": {
          "iopub.status.busy": "2024-03-05T14:59:49.852986Z",
          "iopub.execute_input": "2024-03-05T14:59:49.853371Z",
          "iopub.status.idle": "2024-03-05T14:59:49.857783Z",
          "shell.execute_reply.started": "2024-03-05T14:59:49.853344Z",
          "shell.execute_reply": "2024-03-05T14:59:49.856694Z"
        },
        "trusted": true,
        "id": "r4nytieyKXIE"
      },
      "execution_count": null,
      "outputs": []
    },
    {
      "cell_type": "markdown",
      "source": [
        "<hr/>\n",
        "\n",
        "# 3a.\n",
        "\n",
        "Add parentheses to the following expression so that it evaluates to 1."
      ],
      "metadata": {
        "id": "ZNSwVsurKXIF"
      }
    },
    {
      "cell_type": "code",
      "source": [
        "5 - 3 // 2"
      ],
      "metadata": {
        "execution": {
          "iopub.status.busy": "2024-03-05T14:59:57.157837Z",
          "iopub.execute_input": "2024-03-05T14:59:57.158301Z",
          "iopub.status.idle": "2024-03-05T14:59:57.165771Z",
          "shell.execute_reply.started": "2024-03-05T14:59:57.158256Z",
          "shell.execute_reply": "2024-03-05T14:59:57.164432Z"
        },
        "trusted": true,
        "id": "SoENr6oyKXIF",
        "outputId": "5987f37e-8b44-4c6a-e795-973dabea9c5a"
      },
      "execution_count": null,
      "outputs": [
        {
          "execution_count": 13,
          "output_type": "execute_result",
          "data": {
            "text/plain": "4"
          },
          "metadata": {}
        }
      ]
    },
    {
      "cell_type": "code",
      "source": [
        "#q3.a.hint()"
      ],
      "metadata": {
        "id": "IG2XWhMaKXIF"
      },
      "execution_count": null,
      "outputs": []
    },
    {
      "cell_type": "code",
      "source": [
        "# Check your answer (Run this code cell to receive credit!)\n",
        "q3.a.solution()"
      ],
      "metadata": {
        "execution": {
          "iopub.status.busy": "2024-03-05T15:00:03.257797Z",
          "iopub.execute_input": "2024-03-05T15:00:03.258283Z",
          "iopub.status.idle": "2024-03-05T15:00:03.267642Z",
          "shell.execute_reply.started": "2024-03-05T15:00:03.258252Z",
          "shell.execute_reply": "2024-03-05T15:00:03.266446Z"
        },
        "trusted": true,
        "id": "Iy6UP_BFKXIF",
        "outputId": "24e2541a-e6fb-4a28-ee69-81b060dcab85"
      },
      "execution_count": null,
      "outputs": [
        {
          "output_type": "display_data",
          "data": {
            "text/plain": "<IPython.core.display.Javascript object>",
            "application/javascript": "parent.postMessage({\"jupyterEvent\": \"custom.exercise_interaction\", \"data\": {\"interactionType\": 3, \"questionType\": 4, \"questionId\": \"3.1_ArithmeticParensEasy\", \"learnToolsVersion\": \"0.3.4\", \"valueTowardsCompletion\": 0.0, \"failureMessage\": \"\", \"exceptionClass\": \"\", \"trace\": \"\", \"outcomeType\": 4}}, \"*\")"
          },
          "metadata": {}
        },
        {
          "output_type": "display_data",
          "data": {
            "text/plain": "Solution: \n```python\n(5 - 3) // 2\n```",
            "text/markdown": "<span style=\"color:#33cc99\">Solution:</span> \n```python\n(5 - 3) // 2\n```"
          },
          "metadata": {}
        }
      ]
    },
    {
      "cell_type": "markdown",
      "source": [
        "# 3b.  <span title=\"A bit spicy\" style=\"color: darkgreen \">🌶️</span>\n",
        "\n",
        "<small>Questions, like this one, marked a spicy pepper are a bit harder.</small>\n",
        "\n",
        "Add parentheses to the following expression so that it evaluates to 0."
      ],
      "metadata": {
        "id": "fsJ0LYbTKXIF"
      }
    },
    {
      "cell_type": "code",
      "source": [
        "8 - 3 * 2 - 1 + 1"
      ],
      "metadata": {
        "execution": {
          "iopub.status.busy": "2024-03-05T15:00:13.648437Z",
          "iopub.execute_input": "2024-03-05T15:00:13.648906Z",
          "iopub.status.idle": "2024-03-05T15:00:13.656352Z",
          "shell.execute_reply.started": "2024-03-05T15:00:13.648872Z",
          "shell.execute_reply": "2024-03-05T15:00:13.655064Z"
        },
        "trusted": true,
        "id": "hZRXzVi4KXIG",
        "outputId": "c1647b10-1654-4fda-b45e-338e90909129"
      },
      "execution_count": null,
      "outputs": [
        {
          "execution_count": 15,
          "output_type": "execute_result",
          "data": {
            "text/plain": "2"
          },
          "metadata": {}
        }
      ]
    },
    {
      "cell_type": "code",
      "source": [
        "#q3.b.hint()"
      ],
      "metadata": {
        "id": "o0e11_XDKXIG"
      },
      "execution_count": null,
      "outputs": []
    },
    {
      "cell_type": "code",
      "source": [
        "# Check your answer (Run this code cell to receive credit!)\n",
        "q3.b.solution()"
      ],
      "metadata": {
        "execution": {
          "iopub.status.busy": "2024-03-05T15:00:16.315295Z",
          "iopub.execute_input": "2024-03-05T15:00:16.315713Z",
          "iopub.status.idle": "2024-03-05T15:00:16.328895Z",
          "shell.execute_reply.started": "2024-03-05T15:00:16.315682Z",
          "shell.execute_reply": "2024-03-05T15:00:16.327155Z"
        },
        "trusted": true,
        "id": "KBPpVGNFKXIG",
        "outputId": "e2d44cb2-576b-4c8e-efb2-9f6523406915"
      },
      "execution_count": null,
      "outputs": [
        {
          "output_type": "display_data",
          "data": {
            "text/plain": "<IPython.core.display.Javascript object>",
            "application/javascript": "parent.postMessage({\"jupyterEvent\": \"custom.exercise_interaction\", \"data\": {\"interactionType\": 3, \"questionType\": 4, \"questionId\": \"3.2_ArithmeticParensHard\", \"learnToolsVersion\": \"0.3.4\", \"valueTowardsCompletion\": 0.0, \"failureMessage\": \"\", \"exceptionClass\": \"\", \"trace\": \"\", \"outcomeType\": 4}}, \"*\")"
          },
          "metadata": {}
        },
        {
          "output_type": "display_data",
          "data": {
            "text/plain": "Solution: `(8 - 3) * (2 - (1 + 1))` is one solution. There may be others.",
            "text/markdown": "<span style=\"color:#33cc99\">Solution:</span> `(8 - 3) * (2 - (1 + 1))` is one solution. There may be others."
          },
          "metadata": {}
        }
      ]
    },
    {
      "cell_type": "markdown",
      "source": [
        "<hr/>\n",
        "\n",
        "# 4.\n",
        "Alice, Bob and Carol have agreed to pool their Halloween candy and split it evenly among themselves.\n",
        "For the sake of their friendship, any candies left over will be smashed. For example, if they collectively\n",
        "bring home 91 candies, they'll take 30 each and smash 1.\n",
        "\n",
        "Write an arithmetic expression below to calculate how many candies they must smash for a given haul."
      ],
      "metadata": {
        "id": "tKqvwIPoKXIG"
      }
    },
    {
      "cell_type": "code",
      "source": [
        "# Variables representing the number of candies collected by alice, bob, and carol\n",
        "alice_candies = 121\n",
        "bob_candies = 77\n",
        "carol_candies = 109\n",
        "\n",
        "# Your code goes here! Replace the right-hand side of this assignment with an expression\n",
        "# involving alice_candies, bob_candies, and carol_candies\n",
        "to_smash = (alice_candies + bob_candies + carol_candies) % 3\n",
        "\n",
        "# Check your answer\n",
        "q4.check()"
      ],
      "metadata": {
        "execution": {
          "iopub.status.busy": "2024-03-05T15:04:04.217344Z",
          "iopub.execute_input": "2024-03-05T15:04:04.217928Z",
          "iopub.status.idle": "2024-03-05T15:04:04.229216Z",
          "shell.execute_reply.started": "2024-03-05T15:04:04.217896Z",
          "shell.execute_reply": "2024-03-05T15:04:04.228216Z"
        },
        "trusted": true,
        "id": "70W_pqnJKXIH",
        "outputId": "02916ef1-4cb5-4e92-e4b8-588be2ab5151"
      },
      "execution_count": null,
      "outputs": [
        {
          "output_type": "display_data",
          "data": {
            "text/plain": "<IPython.core.display.Javascript object>",
            "application/javascript": "parent.postMessage({\"jupyterEvent\": \"custom.exercise_interaction\", \"data\": {\"outcomeType\": 1, \"valueTowardsCompletion\": 0.25, \"interactionType\": 1, \"questionType\": 1, \"questionId\": \"4_CandySplitting\", \"learnToolsVersion\": \"0.3.4\", \"failureMessage\": \"\", \"exceptionClass\": \"\", \"trace\": \"\"}}, \"*\")"
          },
          "metadata": {}
        },
        {
          "output_type": "display_data",
          "data": {
            "text/plain": "Correct",
            "text/markdown": "<span style=\"color:#33cc33\">Correct</span>"
          },
          "metadata": {}
        }
      ]
    },
    {
      "cell_type": "code",
      "source": [
        "#q4.hint()\n",
        "#q4.solution()"
      ],
      "metadata": {
        "execution": {
          "iopub.status.busy": "2024-03-05T15:04:21.154142Z",
          "iopub.execute_input": "2024-03-05T15:04:21.154525Z",
          "iopub.status.idle": "2024-03-05T15:04:21.159099Z",
          "shell.execute_reply.started": "2024-03-05T15:04:21.154497Z",
          "shell.execute_reply": "2024-03-05T15:04:21.157921Z"
        },
        "trusted": true,
        "id": "JK5Dm7IBKXIH"
      },
      "execution_count": null,
      "outputs": []
    },
    {
      "cell_type": "markdown",
      "source": [
        "# Keep Going\n",
        "\n",
        "Next up, you'll **[learn to write new functions and understand functions others write](https://www.kaggle.com/colinmorris/functions-and-getting-help)**. This will make you at least 10 times more productive as a Python programmer."
      ],
      "metadata": {
        "id": "thakNw26KXIH"
      }
    },
    {
      "cell_type": "markdown",
      "source": [
        "---\n",
        "\n",
        "\n",
        "\n",
        "\n",
        "*Have questions or comments? Visit the [course discussion forum](https://www.kaggle.com/learn/python/discussion) to chat with other learners.*"
      ],
      "metadata": {
        "id": "LvEaxqytKXIH"
      }
    }
  ]
}