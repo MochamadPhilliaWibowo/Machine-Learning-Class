{
  "metadata": {
    "kernelspec": {
      "display_name": "Python 3",
      "language": "python",
      "name": "python3"
    },
    "language_info": {
      "name": "python",
      "version": "3.10.13",
      "mimetype": "text/x-python",
      "codemirror_mode": {
        "name": "ipython",
        "version": 3
      },
      "pygments_lexer": "ipython3",
      "nbconvert_exporter": "python",
      "file_extension": ".py"
    },
    "learntools_metadata": {
      "lesson_index": 1,
      "type": "exercise"
    },
    "kaggle": {
      "accelerator": "none",
      "dataSources": [],
      "isInternetEnabled": false,
      "language": "python",
      "sourceType": "notebook",
      "isGpuEnabled": false
    },
    "colab": {
      "provenance": [],
      "include_colab_link": true
    }
  },
  "nbformat_minor": 0,
  "nbformat": 4,
  "cells": [
    {
      "cell_type": "markdown",
      "metadata": {
        "id": "view-in-github",
        "colab_type": "text"
      },
      "source": [
        "<a href=\"https://colab.research.google.com/github/MochamadPhilliaWibowo/Machine-Learning-Class/blob/main/Tugas%20Week%201/Kaggle/Python/exercise_functions_and_getting_help.ipynb\" target=\"_parent\"><img src=\"https://colab.research.google.com/assets/colab-badge.svg\" alt=\"Open In Colab\"/></a>"
      ]
    },
    {
      "cell_type": "markdown",
      "source": [
        "Nama : Mochamad Phillia Wibowo\n",
        "\n",
        "NIM : 1103204191\n",
        "\n",
        "Kelas : TK-44-G04"
      ],
      "metadata": {
        "id": "v0T22cf6Lwpp"
      }
    },
    {
      "cell_type": "markdown",
      "source": [
        "**This notebook is an exercise in the [Python](https://www.kaggle.com/learn/python) course.  You can reference the tutorial at [this link](https://www.kaggle.com/colinmorris/functions-and-getting-help).**\n",
        "\n",
        "---\n"
      ],
      "metadata": {
        "id": "7vV1mlaZLvr6"
      }
    },
    {
      "cell_type": "markdown",
      "source": [
        "Functions are powerful. Try writing some yourself.\n",
        "\n",
        "As before, don't forget to run the setup code below before jumping into question 1."
      ],
      "metadata": {
        "id": "5EO6jyzqLvr8"
      }
    },
    {
      "cell_type": "code",
      "source": [
        "# SETUP. You don't need to worry for now about what this code does or how it works.\n",
        "from learntools.core import binder; binder.bind(globals())\n",
        "from learntools.python.ex2 import *\n",
        "print('Setup complete.')"
      ],
      "metadata": {
        "_kg_hide-input": true,
        "_kg_hide-output": true,
        "execution": {
          "iopub.status.busy": "2024-03-05T15:11:21.864214Z",
          "iopub.execute_input": "2024-03-05T15:11:21.865377Z",
          "iopub.status.idle": "2024-03-05T15:11:23.178643Z",
          "shell.execute_reply.started": "2024-03-05T15:11:21.865341Z",
          "shell.execute_reply": "2024-03-05T15:11:23.177477Z"
        },
        "trusted": true,
        "id": "ka6kyWWELvr9",
        "outputId": "5c2ac5cb-368e-448b-e1aa-72d5971486a9"
      },
      "execution_count": null,
      "outputs": [
        {
          "name": "stdout",
          "text": "Setup complete.\n",
          "output_type": "stream"
        }
      ]
    },
    {
      "cell_type": "markdown",
      "source": [
        "# 1.\n",
        "\n",
        "Complete the body of the following function according to its docstring.\n",
        "\n",
        "HINT: Python has a built-in function `round`."
      ],
      "metadata": {
        "id": "QBemWq8kLvr_"
      }
    },
    {
      "cell_type": "code",
      "source": [
        "def round_to_two_places(num):\n",
        "    \"\"\"Return the given number rounded to two decimal places.\n",
        "\n",
        "    >>> round_to_two_places(3.14159)\n",
        "    3.14\n",
        "    \"\"\"\n",
        "    return round(num, 2)\n",
        "\n",
        "    # Replace this body with your own code.\n",
        "    # (\"pass\" is a keyword that does literally nothing. We used it as a placeholder\n",
        "    # because after we begin a code block, Python requires at least one line of code)\n",
        "    pass\n",
        "\n",
        "# Check your answer\n",
        "q1.check()"
      ],
      "metadata": {
        "execution": {
          "iopub.status.busy": "2024-03-05T15:12:05.772210Z",
          "iopub.execute_input": "2024-03-05T15:12:05.772599Z",
          "iopub.status.idle": "2024-03-05T15:12:05.783904Z",
          "shell.execute_reply.started": "2024-03-05T15:12:05.772572Z",
          "shell.execute_reply": "2024-03-05T15:12:05.782730Z"
        },
        "trusted": true,
        "id": "8zFwA-OtLvr_",
        "outputId": "a90850fd-83c9-444a-e8dc-4addc84ccb53"
      },
      "execution_count": null,
      "outputs": [
        {
          "output_type": "display_data",
          "data": {
            "text/plain": "<IPython.core.display.Javascript object>",
            "application/javascript": "parent.postMessage({\"jupyterEvent\": \"custom.exercise_interaction\", \"data\": {\"outcomeType\": 1, \"valueTowardsCompletion\": 0.16666666666666666, \"interactionType\": 1, \"questionType\": 2, \"questionId\": \"1_RoundFunctionProblem\", \"learnToolsVersion\": \"0.3.4\", \"failureMessage\": \"\", \"exceptionClass\": \"\", \"trace\": \"\"}}, \"*\")"
          },
          "metadata": {}
        },
        {
          "output_type": "display_data",
          "data": {
            "text/plain": "Correct",
            "text/markdown": "<span style=\"color:#33cc33\">Correct</span>"
          },
          "metadata": {}
        }
      ]
    },
    {
      "cell_type": "code",
      "source": [
        "# Uncomment the following for a hint\n",
        "#q1.hint()\n",
        "# Or uncomment the following to peek at the solution\n",
        "#q1.solution()"
      ],
      "metadata": {
        "execution": {
          "iopub.status.busy": "2024-03-05T15:12:14.235780Z",
          "iopub.execute_input": "2024-03-05T15:12:14.236236Z",
          "iopub.status.idle": "2024-03-05T15:12:14.242281Z",
          "shell.execute_reply.started": "2024-03-05T15:12:14.236207Z",
          "shell.execute_reply": "2024-03-05T15:12:14.240734Z"
        },
        "trusted": true,
        "id": "mX4wEvcyLvsA"
      },
      "execution_count": null,
      "outputs": []
    },
    {
      "cell_type": "markdown",
      "source": [
        "# 2.\n",
        "The help for `round` says that `ndigits` (the second argument) may be negative.\n",
        "What do you think will happen when it is? Try some examples in the following cell."
      ],
      "metadata": {
        "id": "IhnVtVerLvsA"
      }
    },
    {
      "cell_type": "code",
      "source": [
        "# Put your test code here\n",
        "number = 1234.56789\n",
        "\n",
        "# Menggunakan round dengan ndigits negatif\n",
        "rounded = round(number, -2)\n",
        "\n",
        "# Menampilkan hasilnya\n",
        "print(rounded)"
      ],
      "metadata": {
        "execution": {
          "iopub.status.busy": "2024-03-05T15:12:44.735259Z",
          "iopub.execute_input": "2024-03-05T15:12:44.735695Z",
          "iopub.status.idle": "2024-03-05T15:12:44.743434Z",
          "shell.execute_reply.started": "2024-03-05T15:12:44.735667Z",
          "shell.execute_reply": "2024-03-05T15:12:44.741693Z"
        },
        "trusted": true,
        "id": "W4i8HgYuLvsA",
        "outputId": "dfa5e1a0-3359-44e9-8998-bb322f822057"
      },
      "execution_count": null,
      "outputs": [
        {
          "name": "stdout",
          "text": "1200.0\n",
          "output_type": "stream"
        }
      ]
    },
    {
      "cell_type": "markdown",
      "source": [
        "Can you think of a case where this would be useful?  Once you're ready, run the code cell below to see the answer and to receive credit for completing the problem."
      ],
      "metadata": {
        "id": "y55hRWoxLvsB"
      }
    },
    {
      "cell_type": "code",
      "source": [
        "# Check your answer (Run this code cell to receive credit!)\n",
        "q2.solution()"
      ],
      "metadata": {
        "execution": {
          "iopub.status.busy": "2024-03-05T15:12:54.144949Z",
          "iopub.execute_input": "2024-03-05T15:12:54.145379Z",
          "iopub.status.idle": "2024-03-05T15:12:54.154866Z",
          "shell.execute_reply.started": "2024-03-05T15:12:54.145351Z",
          "shell.execute_reply": "2024-03-05T15:12:54.153565Z"
        },
        "trusted": true,
        "id": "AdsdyrWCLvsB",
        "outputId": "b142ba25-2bcf-4dc4-be28-9a9103321221"
      },
      "execution_count": null,
      "outputs": [
        {
          "output_type": "display_data",
          "data": {
            "text/plain": "<IPython.core.display.Javascript object>",
            "application/javascript": "parent.postMessage({\"jupyterEvent\": \"custom.exercise_interaction\", \"data\": {\"interactionType\": 3, \"questionType\": 4, \"questionId\": \"2_RoundNdigitsProblem\", \"learnToolsVersion\": \"0.3.4\", \"valueTowardsCompletion\": 0.0, \"failureMessage\": \"\", \"exceptionClass\": \"\", \"trace\": \"\", \"outcomeType\": 4}}, \"*\")"
          },
          "metadata": {}
        },
        {
          "output_type": "display_data",
          "data": {
            "text/plain": "Solution: As you've seen, `ndigits=-1` rounds to the nearest 10, `ndigits=-2` rounds to the nearest 100 and so on. Where might this be useful? Suppose we're dealing with large numbers:\n\n> The area of Finland is 338,424 km²  \n> The area of Greenland is 2,166,086 km²\n\nWe probably don't care whether it's really 338,424, or 338,425, or 338,177. All those digits of accuracy are just distracting. We can chop them off by calling `round()` with `ndigits=-3`:\n\n> The area of Finland is 338,000 km²  \n> The area of Greenland is 2,166,000 km²\n\n(We'll talk about how we would get the commas later when we talk about string formatting :))",
            "text/markdown": "<span style=\"color:#33cc99\">Solution:</span> As you've seen, `ndigits=-1` rounds to the nearest 10, `ndigits=-2` rounds to the nearest 100 and so on. Where might this be useful? Suppose we're dealing with large numbers:\n\n> The area of Finland is 338,424 km²  \n> The area of Greenland is 2,166,086 km²\n\nWe probably don't care whether it's really 338,424, or 338,425, or 338,177. All those digits of accuracy are just distracting. We can chop them off by calling `round()` with `ndigits=-3`:\n\n> The area of Finland is 338,000 km²  \n> The area of Greenland is 2,166,000 km²\n\n(We'll talk about how we would get the commas later when we talk about string formatting :))\n"
          },
          "metadata": {}
        }
      ]
    },
    {
      "cell_type": "markdown",
      "source": [
        "# 3.\n",
        "\n",
        "In the previous exercise, the candy-sharing friends Alice, Bob and Carol tried to split candies evenly. For the sake of their friendship, any candies left over would be smashed. For example, if they collectively bring home 91 candies, they'll take 30 each and smash 1.\n",
        "\n",
        "Below is a simple function that will calculate the number of candies to smash for *any* number of total candies.\n",
        "\n",
        "Modify it so that it optionally takes a second argument representing the number of friends the candies are being split between. If no second argument is provided, it should assume 3 friends, as before.\n",
        "\n",
        "Update the docstring to reflect this new behaviour."
      ],
      "metadata": {
        "id": "mlbpiWzZLvsB"
      }
    },
    {
      "cell_type": "code",
      "source": [
        "def to_smash(total_candies, n_friends=3):\n",
        "    \"\"\"Return the number of leftover candies that must be smashed after distributing\n",
        "    the given number of candies evenly between 3 friends.\n",
        "\n",
        "    >>> to_smash(91)\n",
        "    1\n",
        "    \"\"\"\n",
        "    return total_candies % n_friends\n",
        "\n",
        "# Check your answer\n",
        "q3.check()"
      ],
      "metadata": {
        "execution": {
          "iopub.status.busy": "2024-03-05T15:13:38.835686Z",
          "iopub.execute_input": "2024-03-05T15:13:38.836153Z",
          "iopub.status.idle": "2024-03-05T15:13:38.846433Z",
          "shell.execute_reply.started": "2024-03-05T15:13:38.836114Z",
          "shell.execute_reply": "2024-03-05T15:13:38.845004Z"
        },
        "trusted": true,
        "id": "VJhZSVQ7LvsC",
        "outputId": "33840292-aa72-4243-daef-5928f0a51aa8"
      },
      "execution_count": null,
      "outputs": [
        {
          "output_type": "display_data",
          "data": {
            "text/plain": "<IPython.core.display.Javascript object>",
            "application/javascript": "parent.postMessage({\"jupyterEvent\": \"custom.exercise_interaction\", \"data\": {\"outcomeType\": 1, \"valueTowardsCompletion\": 0.16666666666666666, \"interactionType\": 1, \"questionType\": 2, \"questionId\": \"3_CandySmashingFunctionProblem\", \"learnToolsVersion\": \"0.3.4\", \"failureMessage\": \"\", \"exceptionClass\": \"\", \"trace\": \"\"}}, \"*\")"
          },
          "metadata": {}
        },
        {
          "output_type": "display_data",
          "data": {
            "text/plain": "Correct",
            "text/markdown": "<span style=\"color:#33cc33\">Correct</span>"
          },
          "metadata": {}
        }
      ]
    },
    {
      "cell_type": "code",
      "source": [
        "#q3.hint()"
      ],
      "metadata": {
        "id": "dK7cUsiILvsC"
      },
      "execution_count": null,
      "outputs": []
    },
    {
      "cell_type": "code",
      "source": [
        "#q3.solution()"
      ],
      "metadata": {
        "execution": {
          "iopub.status.busy": "2024-03-05T15:13:44.973319Z",
          "iopub.execute_input": "2024-03-05T15:13:44.973751Z",
          "iopub.status.idle": "2024-03-05T15:13:44.978585Z",
          "shell.execute_reply.started": "2024-03-05T15:13:44.973722Z",
          "shell.execute_reply": "2024-03-05T15:13:44.977546Z"
        },
        "trusted": true,
        "id": "D8FZa6u6LvsC"
      },
      "execution_count": null,
      "outputs": []
    },
    {
      "cell_type": "markdown",
      "source": [
        "# 4. (Optional)\n",
        "\n",
        "It may not be fun, but reading and understanding error messages will be an important part of your Python career.\n",
        "\n",
        "Each code cell below contains some commented buggy code. For each cell...\n",
        "\n",
        "1. Read the code and predict what you think will happen when it's run.\n",
        "2. Then uncomment the code and run it to see what happens. (**Tip**: In the kernel editor, you can highlight several lines and press `ctrl`+`/` to toggle commenting.)\n",
        "3. Fix the code (so that it accomplishes its intended purpose without throwing an exception)\n",
        "\n",
        "<!-- TODO: should this be autochecked? Delta is probably pretty small. -->"
      ],
      "metadata": {
        "id": "do9oeH07LvsC"
      }
    },
    {
      "cell_type": "code",
      "source": [
        "# ruound_to_two_places(9.9999)\n",
        "\n",
        "# Menggunakan fungsi round untuk membulatkan 9.9999 menjadi 2 desimal\n",
        "result = round(9.9999, 2)\n",
        "# Mencetak hasilnya\n",
        "print(result)"
      ],
      "metadata": {
        "execution": {
          "iopub.status.busy": "2024-03-05T15:14:00.735709Z",
          "iopub.execute_input": "2024-03-05T15:14:00.736114Z",
          "iopub.status.idle": "2024-03-05T15:14:00.743455Z",
          "shell.execute_reply.started": "2024-03-05T15:14:00.736087Z",
          "shell.execute_reply": "2024-03-05T15:14:00.741480Z"
        },
        "trusted": true,
        "id": "-arTsLYGLvsC",
        "outputId": "98535d8d-b466-4e04-f67c-fc4ccac2d4af"
      },
      "execution_count": null,
      "outputs": [
        {
          "name": "stdout",
          "text": "10.0\n",
          "output_type": "stream"
        }
      ]
    },
    {
      "cell_type": "code",
      "source": [
        "# x = -10\n",
        "# y = 5\n",
        "# # Which of the two variables above has the smallest absolute value?\n",
        "# smallest_abs = min(abs(x, y))\n",
        "\n",
        "# Mendefinisikan dua variabel x dan y\n",
        "x = -10\n",
        "y = 5\n",
        "\n",
        "# Mencari nilai absolut terkecil antara x dan y\n",
        "smallest_abs = min(abs(x), abs(y))\n",
        "\n",
        "# Mencetak nilai absolut terkecil\n",
        "print(smallest_abs)\n"
      ],
      "metadata": {
        "execution": {
          "iopub.status.busy": "2024-03-05T15:14:12.665661Z",
          "iopub.execute_input": "2024-03-05T15:14:12.666596Z",
          "iopub.status.idle": "2024-03-05T15:14:12.672584Z",
          "shell.execute_reply.started": "2024-03-05T15:14:12.666559Z",
          "shell.execute_reply": "2024-03-05T15:14:12.671632Z"
        },
        "trusted": true,
        "id": "0ivt3iiKLvsD",
        "outputId": "8bdba862-4ff6-45f4-bc1b-ed77572a86ee"
      },
      "execution_count": null,
      "outputs": [
        {
          "name": "stdout",
          "text": "5\n",
          "output_type": "stream"
        }
      ]
    },
    {
      "cell_type": "code",
      "source": [
        "# def f(x):\n",
        "#     y = abs(x)\n",
        "# return y\n",
        "\n",
        "# print(f(5))\n",
        "\n",
        "# Mendefinisikan fungsi f(x) yang mengembalikan nilai absolut dari x\n",
        "def f(x):\n",
        "    y = abs(x)\n",
        "    return y\n",
        "\n",
        "# Memanggil fungsi f dengan argumen 5\n",
        "print(f(5))"
      ],
      "metadata": {
        "execution": {
          "iopub.status.busy": "2024-03-05T15:14:26.838353Z",
          "iopub.execute_input": "2024-03-05T15:14:26.838768Z",
          "iopub.status.idle": "2024-03-05T15:14:26.844770Z",
          "shell.execute_reply.started": "2024-03-05T15:14:26.838738Z",
          "shell.execute_reply": "2024-03-05T15:14:26.843535Z"
        },
        "trusted": true,
        "id": "t8IL-OfPLvsD",
        "outputId": "8f7e793f-ca05-4691-d768-50b45ba5ca1e"
      },
      "execution_count": null,
      "outputs": [
        {
          "name": "stdout",
          "text": "5\n",
          "output_type": "stream"
        }
      ]
    },
    {
      "cell_type": "markdown",
      "source": [
        "# Keep Going\n",
        "\n",
        "Nice job with the code. Next up, you'll learn about *conditionals*, which you'll need to **[write interesting programs](https://www.kaggle.com/colinmorris/booleans-and-conditionals)**."
      ],
      "metadata": {
        "id": "1zJ9_7juLvsD"
      }
    },
    {
      "cell_type": "markdown",
      "source": [
        "---\n",
        "\n",
        "\n",
        "\n",
        "\n",
        "*Have questions or comments? Visit the [course discussion forum](https://www.kaggle.com/learn/python/discussion) to chat with other learners.*"
      ],
      "metadata": {
        "id": "PEylldFKLvsD"
      }
    }
  ]
}