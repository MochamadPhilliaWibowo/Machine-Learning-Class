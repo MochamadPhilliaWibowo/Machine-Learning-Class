{
  "metadata": {
    "kernelspec": {
      "display_name": "Python 3",
      "language": "python",
      "name": "python3"
    },
    "language_info": {
      "name": "python",
      "version": "3.10.13",
      "mimetype": "text/x-python",
      "codemirror_mode": {
        "name": "ipython",
        "version": 3
      },
      "pygments_lexer": "ipython3",
      "nbconvert_exporter": "python",
      "file_extension": ".py"
    },
    "kaggle": {
      "accelerator": "none",
      "dataSources": [
        {
          "sourceId": 10211,
          "databundleVersionId": 111096,
          "sourceType": "competition"
        },
        {
          "sourceId": 15520,
          "sourceType": "datasetVersion",
          "datasetId": 11167
        },
        {
          "sourceId": 38454,
          "sourceType": "datasetVersion",
          "datasetId": 2709
        }
      ],
      "isInternetEnabled": false,
      "language": "python",
      "sourceType": "notebook",
      "isGpuEnabled": false
    },
    "colab": {
      "provenance": [],
      "include_colab_link": true
    }
  },
  "nbformat_minor": 0,
  "nbformat": 4,
  "cells": [
    {
      "cell_type": "markdown",
      "metadata": {
        "id": "view-in-github",
        "colab_type": "text"
      },
      "source": [
        "<a href=\"https://colab.research.google.com/github/MochamadPhilliaWibowo/Machine-Learning-Class/blob/main/Tugas%20Week%201/Kaggle/Intro%20to%20Machine%20Learning/exercise_underfitting_and_overfitting.ipynb\" target=\"_parent\"><img src=\"https://colab.research.google.com/assets/colab-badge.svg\" alt=\"Open In Colab\"/></a>"
      ]
    },
    {
      "cell_type": "markdown",
      "source": [
        "**This notebook is an exercise in the [Introduction to Machine Learning](https://www.kaggle.com/learn/intro-to-machine-learning) course.  You can reference the tutorial at [this link](https://www.kaggle.com/dansbecker/underfitting-and-overfitting).**\n",
        "\n",
        "---\n"
      ],
      "metadata": {
        "id": "x14P8x_G5tU1"
      }
    },
    {
      "cell_type": "markdown",
      "source": [
        "## Recap\n",
        "You've built your first model, and now it's time to optimize the size of the tree to make better predictions. Run this cell to set up your coding environment where the previous step left off."
      ],
      "metadata": {
        "id": "oU2thlaG5tU5"
      }
    },
    {
      "cell_type": "code",
      "source": [
        "# Code you have previously used to load data\n",
        "import pandas as pd\n",
        "from sklearn.metrics import mean_absolute_error\n",
        "from sklearn.model_selection import train_test_split\n",
        "from sklearn.tree import DecisionTreeRegressor\n",
        "\n",
        "\n",
        "# Path of the file to read\n",
        "iowa_file_path = '../input/home-data-for-ml-course/train.csv'\n",
        "\n",
        "home_data = pd.read_csv(iowa_file_path)\n",
        "# Create target object and call it y\n",
        "y = home_data.SalePrice\n",
        "# Create X\n",
        "features = ['LotArea', 'YearBuilt', '1stFlrSF', '2ndFlrSF', 'FullBath', 'BedroomAbvGr', 'TotRmsAbvGrd']\n",
        "X = home_data[features]\n",
        "\n",
        "# Split into validation and training data\n",
        "train_X, val_X, train_y, val_y = train_test_split(X, y, random_state=1)\n",
        "\n",
        "# Specify Model\n",
        "iowa_model = DecisionTreeRegressor(random_state=1)\n",
        "# Fit Model\n",
        "iowa_model.fit(train_X, train_y)\n",
        "\n",
        "# Make validation predictions and calculate mean absolute error\n",
        "val_predictions = iowa_model.predict(val_X)\n",
        "val_mae = mean_absolute_error(val_predictions, val_y)\n",
        "print(\"Validation MAE: {:,.0f}\".format(val_mae))\n",
        "\n",
        "# Set up code checking\n",
        "from learntools.core import binder\n",
        "binder.bind(globals())\n",
        "from learntools.machine_learning.ex5 import *\n",
        "print(\"\\nSetup complete\")"
      ],
      "metadata": {
        "execution": {
          "iopub.status.busy": "2024-02-29T07:20:07.136408Z",
          "iopub.execute_input": "2024-02-29T07:20:07.136797Z",
          "iopub.status.idle": "2024-02-29T07:20:07.169377Z",
          "shell.execute_reply.started": "2024-02-29T07:20:07.136767Z",
          "shell.execute_reply": "2024-02-29T07:20:07.168015Z"
        },
        "trusted": true,
        "id": "Egwr19Za5tU7",
        "outputId": "ff248659-0734-43eb-829b-3b60554118a2"
      },
      "execution_count": null,
      "outputs": [
        {
          "name": "stdout",
          "text": "Validation MAE: 29,653\n\nSetup complete\n",
          "output_type": "stream"
        }
      ]
    },
    {
      "cell_type": "markdown",
      "source": [
        "# Exercises\n",
        "You could write the function `get_mae` yourself. For now, we'll supply it. This is the same function you read about in the previous lesson. Just run the cell below."
      ],
      "metadata": {
        "id": "1Xm3-U1V5tU-"
      }
    },
    {
      "cell_type": "code",
      "source": [
        "def get_mae(max_leaf_nodes, train_X, val_X, train_y, val_y):\n",
        "    model = DecisionTreeRegressor(max_leaf_nodes=max_leaf_nodes, random_state=0)\n",
        "    model.fit(train_X, train_y)\n",
        "    preds_val = model.predict(val_X)\n",
        "    mae = mean_absolute_error(val_y, preds_val)\n",
        "    return(mae)"
      ],
      "metadata": {
        "execution": {
          "iopub.status.busy": "2024-02-29T07:20:07.171296Z",
          "iopub.execute_input": "2024-02-29T07:20:07.171681Z",
          "iopub.status.idle": "2024-02-29T07:20:07.176768Z",
          "shell.execute_reply.started": "2024-02-29T07:20:07.171657Z",
          "shell.execute_reply": "2024-02-29T07:20:07.175851Z"
        },
        "trusted": true,
        "id": "55g5dIzo5tU_"
      },
      "execution_count": null,
      "outputs": []
    },
    {
      "cell_type": "markdown",
      "source": [
        "## Step 1: Compare Different Tree Sizes\n",
        "Write a loop that tries the following values for *max_leaf_nodes* from a set of possible values.\n",
        "\n",
        "Call the *get_mae* function on each value of max_leaf_nodes. Store the output in some way that allows you to select the value of `max_leaf_nodes` that gives the most accurate model on your data."
      ],
      "metadata": {
        "id": "8GramQ0z5tVA"
      }
    },
    {
      "cell_type": "code",
      "source": [
        "# Initialize variables to store best MAE and corresponding value of max_leaf_nodes\n",
        "best_mae = float(\"inf\")\n",
        "best_max_leaf_nodes = None\n",
        "\n",
        "# Write loop to find the ideal tree size from candidate_max_leaf_nodes\n",
        "for max_leaf_nodes in [5, 25, 50, 100, 250, 500]:\n",
        "    mae = get_mae(max_leaf_nodes, train_X, val_X, train_y, val_y)\n",
        "    if mae < best_mae:\n",
        "        best_mae = mae\n",
        "        best_max_leaf_nodes = max_leaf_nodes\n",
        "\n",
        "# Store the best value of max_leaf_nodes\n",
        "best_tree_size = best_max_leaf_nodes\n",
        "\n",
        "# Check your answer\n",
        "step_1.check()"
      ],
      "metadata": {
        "execution": {
          "iopub.status.busy": "2024-02-29T07:20:07.178106Z",
          "iopub.execute_input": "2024-02-29T07:20:07.178595Z",
          "iopub.status.idle": "2024-02-29T07:20:07.226362Z",
          "shell.execute_reply.started": "2024-02-29T07:20:07.178562Z",
          "shell.execute_reply": "2024-02-29T07:20:07.225378Z"
        },
        "trusted": true,
        "id": "ZGDDFcB95tVB",
        "outputId": "b98c9ba5-7281-4c43-9654-afb27872a635"
      },
      "execution_count": null,
      "outputs": [
        {
          "output_type": "display_data",
          "data": {
            "text/plain": "<IPython.core.display.Javascript object>",
            "application/javascript": "parent.postMessage({\"jupyterEvent\": \"custom.exercise_interaction\", \"data\": {\"outcomeType\": 1, \"valueTowardsCompletion\": 0.5, \"interactionType\": 1, \"questionType\": 1, \"questionId\": \"1_BestTreeSize\", \"learnToolsVersion\": \"0.3.4\", \"failureMessage\": \"\", \"exceptionClass\": \"\", \"trace\": \"\"}}, \"*\")"
          },
          "metadata": {}
        },
        {
          "output_type": "display_data",
          "data": {
            "text/plain": "Correct",
            "text/markdown": "<span style=\"color:#33cc33\">Correct</span>"
          },
          "metadata": {}
        }
      ]
    },
    {
      "cell_type": "code",
      "source": [
        "# The lines below will show you a hint or the solution.\n",
        "# step_1.hint()\n",
        "# step_1.solution()"
      ],
      "metadata": {
        "execution": {
          "iopub.status.busy": "2024-02-29T07:20:07.227744Z",
          "iopub.execute_input": "2024-02-29T07:20:07.228109Z",
          "iopub.status.idle": "2024-02-29T07:20:07.232863Z",
          "shell.execute_reply.started": "2024-02-29T07:20:07.228076Z",
          "shell.execute_reply": "2024-02-29T07:20:07.231517Z"
        },
        "trusted": true,
        "id": "WnCtRtZW5tVC"
      },
      "execution_count": null,
      "outputs": []
    },
    {
      "cell_type": "markdown",
      "source": [
        "## Step 2: Fit Model Using All Data\n",
        "You know the best tree size. If you were going to deploy this model in practice, you would make it even more accurate by using all of the data and keeping that tree size.  That is, you don't need to hold out the validation data now that you've made all your modeling decisions."
      ],
      "metadata": {
        "id": "AiQrwqkU5tVD"
      }
    },
    {
      "cell_type": "code",
      "source": [
        "# Fill in argument to make optimal size and uncomment\n",
        "final_model = DecisionTreeRegressor(max_leaf_nodes=best_tree_size)\n",
        "\n",
        "# fit the final model and uncomment the next two lines\n",
        "final_model.fit(X, y)\n",
        "\n",
        "# Check your answer\n",
        "step_2.check()"
      ],
      "metadata": {
        "execution": {
          "iopub.status.busy": "2024-02-29T07:20:07.235407Z",
          "iopub.execute_input": "2024-02-29T07:20:07.235799Z",
          "iopub.status.idle": "2024-02-29T07:20:07.259996Z",
          "shell.execute_reply.started": "2024-02-29T07:20:07.235763Z",
          "shell.execute_reply": "2024-02-29T07:20:07.259154Z"
        },
        "trusted": true,
        "id": "6LO29YWa5tVE",
        "outputId": "ad1f8804-e6da-4f98-f933-73b99a94b2a7"
      },
      "execution_count": null,
      "outputs": [
        {
          "output_type": "display_data",
          "data": {
            "text/plain": "<IPython.core.display.Javascript object>",
            "application/javascript": "parent.postMessage({\"jupyterEvent\": \"custom.exercise_interaction\", \"data\": {\"outcomeType\": 1, \"valueTowardsCompletion\": 0.5, \"interactionType\": 1, \"questionType\": 2, \"questionId\": \"2_FitModelWithAllData\", \"learnToolsVersion\": \"0.3.4\", \"failureMessage\": \"\", \"exceptionClass\": \"\", \"trace\": \"\"}}, \"*\")"
          },
          "metadata": {}
        },
        {
          "output_type": "display_data",
          "data": {
            "text/plain": "Correct",
            "text/markdown": "<span style=\"color:#33cc33\">Correct</span>"
          },
          "metadata": {}
        }
      ]
    },
    {
      "cell_type": "code",
      "source": [
        "# step_2.hint()\n",
        "# step_2.solution()"
      ],
      "metadata": {
        "execution": {
          "iopub.status.busy": "2024-02-29T07:20:07.260931Z",
          "iopub.execute_input": "2024-02-29T07:20:07.261143Z",
          "iopub.status.idle": "2024-02-29T07:20:07.264836Z",
          "shell.execute_reply.started": "2024-02-29T07:20:07.261122Z",
          "shell.execute_reply": "2024-02-29T07:20:07.263345Z"
        },
        "trusted": true,
        "id": "--T4cDM65tVF"
      },
      "execution_count": null,
      "outputs": []
    },
    {
      "cell_type": "markdown",
      "source": [
        "You've tuned this model and improved your results. But we are still using Decision Tree models, which are not very sophisticated by modern machine learning standards. In the next step you will learn to use Random Forests to improve your models even more.\n",
        "\n",
        "# Keep Going\n",
        "\n",
        "You are ready for **[Random Forests](https://www.kaggle.com/dansbecker/random-forests).**\n"
      ],
      "metadata": {
        "id": "7n2w-0lQ5tVG"
      }
    },
    {
      "cell_type": "markdown",
      "source": [
        "---\n",
        "\n",
        "\n",
        "\n",
        "\n",
        "*Have questions or comments? Visit the [course discussion forum](https://www.kaggle.com/learn/intro-to-machine-learning/discussion) to chat with other learners.*"
      ],
      "metadata": {
        "id": "snFpNM4C5tVG"
      }
    }
  ]
}