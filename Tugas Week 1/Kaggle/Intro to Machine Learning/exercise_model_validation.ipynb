{
  "metadata": {
    "kernelspec": {
      "display_name": "Python 3",
      "language": "python",
      "name": "python3"
    },
    "language_info": {
      "name": "python",
      "version": "3.10.13",
      "mimetype": "text/x-python",
      "codemirror_mode": {
        "name": "ipython",
        "version": 3
      },
      "pygments_lexer": "ipython3",
      "nbconvert_exporter": "python",
      "file_extension": ".py"
    },
    "kaggle": {
      "accelerator": "none",
      "dataSources": [
        {
          "sourceId": 10211,
          "databundleVersionId": 111096,
          "sourceType": "competition"
        },
        {
          "sourceId": 15520,
          "sourceType": "datasetVersion",
          "datasetId": 11167
        },
        {
          "sourceId": 38454,
          "sourceType": "datasetVersion",
          "datasetId": 2709
        }
      ],
      "isInternetEnabled": false,
      "language": "python",
      "sourceType": "notebook",
      "isGpuEnabled": false
    },
    "colab": {
      "provenance": [],
      "include_colab_link": true
    }
  },
  "nbformat_minor": 0,
  "nbformat": 4,
  "cells": [
    {
      "cell_type": "markdown",
      "metadata": {
        "id": "view-in-github",
        "colab_type": "text"
      },
      "source": [
        "<a href=\"https://colab.research.google.com/github/MochamadPhilliaWibowo/Machine-Learning-Class/blob/main/Tugas%20Week%201/Kaggle/Intro%20to%20Machine%20Learning/exercise_model_validation.ipynb\" target=\"_parent\"><img src=\"https://colab.research.google.com/assets/colab-badge.svg\" alt=\"Open In Colab\"/></a>"
      ]
    },
    {
      "cell_type": "markdown",
      "source": [
        "Nama : Mochamad Phillia Wibowo\n",
        "\n",
        "NIM : 1103204191\n",
        "\n",
        "Kelas : TK-44-G04"
      ],
      "metadata": {
        "id": "FTePehrdpbG8"
      }
    },
    {
      "cell_type": "markdown",
      "source": [
        "**This notebook is an exercise in the [Introduction to Machine Learning](https://www.kaggle.com/learn/intro-to-machine-learning) course.  You can reference the tutorial at [this link](https://www.kaggle.com/dansbecker/model-validation).**\n",
        "\n",
        "---\n"
      ],
      "metadata": {
        "id": "POwp8CQQpSmH"
      }
    },
    {
      "cell_type": "markdown",
      "source": [
        "## Recap\n",
        "You've built a model. In this exercise you will test how good your model is.\n",
        "\n",
        "Run the cell below to set up your coding environment where the previous exercise left off."
      ],
      "metadata": {
        "id": "ajZWrjSBpSmJ"
      }
    },
    {
      "cell_type": "code",
      "source": [
        "# Code you have previously used to load data\n",
        "import pandas as pd\n",
        "from sklearn.tree import DecisionTreeRegressor\n",
        "\n",
        "# Path of the file to read\n",
        "iowa_file_path = '../input/home-data-for-ml-course/train.csv'\n",
        "\n",
        "home_data = pd.read_csv(iowa_file_path)\n",
        "y = home_data.SalePrice\n",
        "feature_columns = ['LotArea', 'YearBuilt', '1stFlrSF', '2ndFlrSF', 'FullBath', 'BedroomAbvGr', 'TotRmsAbvGrd']\n",
        "X = home_data[feature_columns]\n",
        "\n",
        "# Specify Model\n",
        "iowa_model = DecisionTreeRegressor()\n",
        "# Fit Model\n",
        "iowa_model.fit(X, y)\n",
        "\n",
        "print(\"First in-sample predictions:\", iowa_model.predict(X.head()))\n",
        "print(\"Actual target values for those homes:\", y.head().tolist())\n",
        "\n",
        "# Set up code checking\n",
        "from learntools.core import binder\n",
        "binder.bind(globals())\n",
        "from learntools.machine_learning.ex4 import *\n",
        "print(\"Setup Complete\")"
      ],
      "metadata": {
        "execution": {
          "iopub.status.busy": "2024-02-29T06:52:52.198357Z",
          "iopub.execute_input": "2024-02-29T06:52:52.198793Z",
          "iopub.status.idle": "2024-02-29T06:52:52.877117Z",
          "shell.execute_reply.started": "2024-02-29T06:52:52.198762Z",
          "shell.execute_reply": "2024-02-29T06:52:52.876251Z"
        },
        "trusted": true,
        "id": "SS9B1uTvpSmK",
        "outputId": "82bb15d7-8b9b-499e-a71f-b589747ca1d3"
      },
      "execution_count": null,
      "outputs": [
        {
          "name": "stdout",
          "text": "First in-sample predictions: [208500. 181500. 223500. 140000. 250000.]\nActual target values for those homes: [208500, 181500, 223500, 140000, 250000]\nSetup Complete\n",
          "output_type": "stream"
        }
      ]
    },
    {
      "cell_type": "markdown",
      "source": [
        "# Exercises\n",
        "\n",
        "## Step 1: Split Your Data\n",
        "Use the `train_test_split` function to split up your data.\n",
        "\n",
        "Give it the argument `random_state=1` so the `check` functions know what to expect when verifying your code.\n",
        "\n",
        "Recall, your features are loaded in the DataFrame **X** and your target is loaded in **y**.\n"
      ],
      "metadata": {
        "id": "HaprFiDEpSmM"
      }
    },
    {
      "cell_type": "code",
      "source": [
        "# Import the train_test_split function and uncomment\n",
        "# from _ import _\n",
        "\n",
        "from sklearn.model_selection import train_test_split\n",
        "\n",
        "# fill in and uncomment\n",
        "# train_X, val_X, train_y, val_y = ____\n",
        "\n",
        "train_X, val_X, train_y, val_y = train_test_split(X, y, random_state = 1)\n",
        "\n",
        "# Check your answer\n",
        "step_1.check()"
      ],
      "metadata": {
        "execution": {
          "iopub.status.busy": "2024-02-29T06:52:58.053345Z",
          "iopub.execute_input": "2024-02-29T06:52:58.053750Z",
          "iopub.status.idle": "2024-02-29T06:52:58.072246Z",
          "shell.execute_reply.started": "2024-02-29T06:52:58.053720Z",
          "shell.execute_reply": "2024-02-29T06:52:58.070582Z"
        },
        "trusted": true,
        "id": "YzHSdUg9pSmM",
        "outputId": "a9b56626-be3b-4ee3-93be-30a87ffad285"
      },
      "execution_count": null,
      "outputs": [
        {
          "output_type": "display_data",
          "data": {
            "text/plain": "<IPython.core.display.Javascript object>",
            "application/javascript": "parent.postMessage({\"jupyterEvent\": \"custom.exercise_interaction\", \"data\": {\"outcomeType\": 1, \"valueTowardsCompletion\": 0.25, \"interactionType\": 1, \"questionType\": 2, \"questionId\": \"1_SplitData\", \"learnToolsVersion\": \"0.3.4\", \"failureMessage\": \"\", \"exceptionClass\": \"\", \"trace\": \"\"}}, \"*\")"
          },
          "metadata": {}
        },
        {
          "output_type": "display_data",
          "data": {
            "text/plain": "Correct",
            "text/markdown": "<span style=\"color:#33cc33\">Correct</span>"
          },
          "metadata": {}
        }
      ]
    },
    {
      "cell_type": "code",
      "source": [
        "# The lines below will show you a hint or the solution.\n",
        "# step_1.hint()\n",
        "# step_1.solution()\n"
      ],
      "metadata": {
        "id": "ZeyvTztgpSmM"
      },
      "execution_count": null,
      "outputs": []
    },
    {
      "cell_type": "markdown",
      "source": [
        "## Step 2: Specify and Fit the Model\n",
        "\n",
        "Create a `DecisionTreeRegressor` model and fit it to the relevant data.\n",
        "Set `random_state` to 1 again when creating the model."
      ],
      "metadata": {
        "id": "bew8LlORpSmN"
      }
    },
    {
      "cell_type": "code",
      "source": [
        "# You imported DecisionTreeRegressor in your last exercise\n",
        "# and that code has been copied to the setup code above. So, no need to\n",
        "# import it again\n",
        "\n",
        "# Specify the model\n",
        "iowa_model = DecisionTreeRegressor(random_state=1)\n",
        "\n",
        "# Fit iowa_model with the training data.\n",
        "iowa_model.fit(train_X, train_y)\n",
        "\n",
        "# Check your answer\n",
        "step_2.check()"
      ],
      "metadata": {
        "execution": {
          "iopub.status.busy": "2024-02-29T06:53:01.196385Z",
          "iopub.execute_input": "2024-02-29T06:53:01.196808Z",
          "iopub.status.idle": "2024-02-29T06:53:01.219444Z",
          "shell.execute_reply.started": "2024-02-29T06:53:01.196774Z",
          "shell.execute_reply": "2024-02-29T06:53:01.218824Z"
        },
        "trusted": true,
        "id": "s9abPCKkpSmN",
        "outputId": "d66911e4-9ac1-47a4-ed81-7bfedccfe3f0"
      },
      "execution_count": null,
      "outputs": [
        {
          "name": "stdout",
          "text": "[186500. 184000. 130000.  92000. 164500. 220000. 335000. 144152. 215000.\n 262000.]\n[186500. 184000. 130000.  92000. 164500. 220000. 335000. 144152. 215000.\n 262000.]\n",
          "output_type": "stream"
        },
        {
          "output_type": "display_data",
          "data": {
            "text/plain": "<IPython.core.display.Javascript object>",
            "application/javascript": "parent.postMessage({\"jupyterEvent\": \"custom.exercise_interaction\", \"data\": {\"outcomeType\": 1, \"valueTowardsCompletion\": 0.25, \"interactionType\": 1, \"questionType\": 2, \"questionId\": \"2_FitModelWithTrain\", \"learnToolsVersion\": \"0.3.4\", \"failureMessage\": \"\", \"exceptionClass\": \"\", \"trace\": \"\"}}, \"*\")"
          },
          "metadata": {}
        },
        {
          "output_type": "display_data",
          "data": {
            "text/plain": "Correct",
            "text/markdown": "<span style=\"color:#33cc33\">Correct</span>"
          },
          "metadata": {}
        }
      ]
    },
    {
      "cell_type": "code",
      "source": [
        "# step_2.hint()\n",
        "# step_2.solution()"
      ],
      "metadata": {
        "id": "vBKnq8WMpSmN"
      },
      "execution_count": null,
      "outputs": []
    },
    {
      "cell_type": "markdown",
      "source": [
        "## Step 3: Make Predictions with Validation data\n"
      ],
      "metadata": {
        "id": "It1FgBzKpSmO"
      }
    },
    {
      "cell_type": "code",
      "source": [
        "# Predict with all validation observations\n",
        "val_predictions = iowa_model.predict(val_X)\n",
        "\n",
        "# Check your answer\n",
        "step_3.check()"
      ],
      "metadata": {
        "execution": {
          "iopub.status.busy": "2024-02-29T06:53:04.689886Z",
          "iopub.execute_input": "2024-02-29T06:53:04.690318Z",
          "iopub.status.idle": "2024-02-29T06:53:04.703194Z",
          "shell.execute_reply.started": "2024-02-29T06:53:04.690291Z",
          "shell.execute_reply": "2024-02-29T06:53:04.702358Z"
        },
        "trusted": true,
        "id": "c29AQP1FpSmO",
        "outputId": "eee11224-cda7-4820-b78e-cc68d93f6d06"
      },
      "execution_count": null,
      "outputs": [
        {
          "output_type": "display_data",
          "data": {
            "text/plain": "<IPython.core.display.Javascript object>",
            "application/javascript": "parent.postMessage({\"jupyterEvent\": \"custom.exercise_interaction\", \"data\": {\"outcomeType\": 1, \"valueTowardsCompletion\": 0.25, \"interactionType\": 1, \"questionType\": 2, \"questionId\": \"3_ValPreds\", \"learnToolsVersion\": \"0.3.4\", \"failureMessage\": \"\", \"exceptionClass\": \"\", \"trace\": \"\"}}, \"*\")"
          },
          "metadata": {}
        },
        {
          "output_type": "display_data",
          "data": {
            "text/plain": "Correct",
            "text/markdown": "<span style=\"color:#33cc33\">Correct</span>"
          },
          "metadata": {}
        }
      ]
    },
    {
      "cell_type": "code",
      "source": [
        "# step_3.hint()\n",
        "# step_3.solution()"
      ],
      "metadata": {
        "id": "7OW9Avq1pSmO"
      },
      "execution_count": null,
      "outputs": []
    },
    {
      "cell_type": "markdown",
      "source": [
        "Inspect your predictions and actual values from validation data."
      ],
      "metadata": {
        "id": "fMCr1b5VpSmO"
      }
    },
    {
      "cell_type": "code",
      "source": [
        "# print the top few validation predictions\n",
        "print(val_y)\n",
        "# print the top few actual prices from validation data\n",
        "print(val_predictions)"
      ],
      "metadata": {
        "execution": {
          "iopub.status.busy": "2024-02-29T06:53:07.509112Z",
          "iopub.execute_input": "2024-02-29T06:53:07.509517Z",
          "iopub.status.idle": "2024-02-29T06:53:07.520234Z",
          "shell.execute_reply.started": "2024-02-29T06:53:07.509485Z",
          "shell.execute_reply": "2024-02-29T06:53:07.518960Z"
        },
        "trusted": true,
        "id": "XFNG7vXvpSmP",
        "outputId": "b6e21b04-2484-4b5c-a293-362f0be1ffa7"
      },
      "execution_count": null,
      "outputs": [
        {
          "name": "stdout",
          "text": "258     231500\n267     179500\n288     122000\n649      84500\n1233    142000\n         ...  \n1017    187500\n534     178000\n1334    125000\n1369    232000\n628     135000\nName: SalePrice, Length: 365, dtype: int64\n[186500. 184000. 130000.  92000. 164500. 220000. 335000. 144152. 215000.\n 262000. 180000. 121000. 175900. 210000. 248900. 131000. 100000. 149350.\n 235000. 156000. 149900. 265979. 193500. 377500. 100000. 162900. 145000.\n 180000. 582933. 146000. 140000.  91500. 112500. 113000. 145000. 312500.\n 110000. 132000. 305000. 128000. 162900. 115000. 110000. 124000. 215200.\n 180000.  79000. 192000. 282922. 235000. 132000. 325000.  80000. 237000.\n 208300. 100000. 120500. 162000. 153000. 187000. 185750. 335000. 129000.\n 124900. 185750. 133700. 127000. 230000. 146800. 157900. 136000. 153575.\n 335000. 177500. 143000. 202500. 168500. 105000. 305900. 192000. 190000.\n 140200. 134900. 128950. 213000. 108959. 149500. 190000. 175900. 160000.\n 250580. 157000. 120500. 147500. 118000. 117000. 110000. 130000. 148500.\n 148000. 190000. 130500. 127000. 120500. 135000. 168000. 176432. 128000.\n 147000. 260000. 132000. 129500. 171000. 181134. 227875. 189000. 282922.\n  94750. 185000. 194000. 159000. 279500. 290000. 135000. 299800. 165000.\n 394432. 135750. 155000. 212000. 310000. 134800.  84000. 122900.  80000.\n 191000. 755000. 147000. 248000. 106500. 145000. 359100. 145000. 192500.\n 149000. 252000. 109000. 215000. 220000. 138500. 185000. 185000. 120500.\n 181000. 173000. 335000.  67000. 149350.  67000. 156000. 119000. 110500.\n 184000. 147000. 156000. 171000. 177000. 159000. 125000. 105000. 284000.\n 167500. 200000. 312500. 213000. 135960. 205000. 237000. 107000. 163000.\n 132500. 155835. 165500. 138500. 257000. 160000. 394617. 281213. 161000.\n 127500.  88000. 139000.  89500. 132500. 134800. 335000. 248900. 155000.\n 147000.  86000. 185000. 200000. 180500. 215200. 319900. 105000. 194000.\n 340000. 256000. 280000. 186500. 105500. 155000. 133500. 255500. 253000.\n 130000.  92900. 256000. 100000. 755000. 138500. 168500. 112000. 127000.\n 109008. 197000. 245500. 171900. 162000. 128000. 173000. 132000. 118000.\n 235128. 118964. 260000. 116000. 185000. 315750. 236500. 140000. 151500.\n 184000.  84000. 130000. 154000. 205000. 110000. 151500. 123000. 129500.\n 173900. 181500. 165500. 106500. 184900.  84500. 377500. 118500. 180000.\n 190000. 208500. 181000.  98000. 157000. 151500.  84000. 139000. 100000.\n 161750. 165600. 116000. 118500. 187000. 147000. 112000. 132000. 230000.\n 128000. 147000. 125000. 145000. 151000. 284000. 221000. 140200. 129000.\n 290000. 105000.  96500. 310000. 140000. 132000. 203000. 221000. 215200.\n 214000. 139000.  91500. 148000. 155000. 115000. 180000. 165500. 223000.\n 139000. 179900. 150000. 185000. 163000. 176000. 127000. 227000. 146000.\n  99900. 275000. 180500. 180000. 157000. 186500. 179900. 137500. 219500.\n 155000. 345000. 197000. 205000. 159000. 159434. 156000. 196000. 252678.\n 255500. 213000. 150900. 143750. 139000. 260000. 189000. 213250. 207500.\n  80000. 221000. 109500. 155000. 165000. 149350. 204900. 105900. 155000.\n 176000. 395000. 149700. 147000. 143900. 226700. 176000. 116000. 325300.\n 133750. 188500. 148500. 284000. 201800.]\n",
          "output_type": "stream"
        }
      ]
    },
    {
      "cell_type": "markdown",
      "source": [
        "What do you notice that is different from what you saw with in-sample predictions (which are printed after the top code cell in this page).\n",
        "\n",
        "Do you remember why validation predictions differ from in-sample (or training) predictions? This is an important idea from the last lesson.\n",
        "\n",
        "## Step 4: Calculate the Mean Absolute Error in Validation Data\n"
      ],
      "metadata": {
        "id": "LpwZvtgfpSmP"
      }
    },
    {
      "cell_type": "code",
      "source": [
        "from sklearn.metrics import mean_absolute_error\n",
        "\n",
        "val_predictions = iowa_model.predict(val_X)\n",
        "val_mae = mean_absolute_error(val_y, val_predictions)\n",
        "\n",
        "# uncomment following line to see the validation_mae\n",
        "#print(val_mae)\n",
        "\n",
        "print(val_mae)\n",
        "\n",
        "# Check your answer\n",
        "step_4.check()"
      ],
      "metadata": {
        "execution": {
          "iopub.status.busy": "2024-02-29T06:53:10.367373Z",
          "iopub.execute_input": "2024-02-29T06:53:10.367862Z",
          "iopub.status.idle": "2024-02-29T06:53:10.382583Z",
          "shell.execute_reply.started": "2024-02-29T06:53:10.367826Z",
          "shell.execute_reply": "2024-02-29T06:53:10.381337Z"
        },
        "trusted": true,
        "id": "bWkuNbAtpSmP",
        "outputId": "447c9c65-e6c1-4a8d-c1ed-22b4c787412b"
      },
      "execution_count": null,
      "outputs": [
        {
          "name": "stdout",
          "text": "29652.931506849316\n",
          "output_type": "stream"
        },
        {
          "output_type": "display_data",
          "data": {
            "text/plain": "<IPython.core.display.Javascript object>",
            "application/javascript": "parent.postMessage({\"jupyterEvent\": \"custom.exercise_interaction\", \"data\": {\"outcomeType\": 1, \"valueTowardsCompletion\": 0.25, \"interactionType\": 1, \"questionType\": 1, \"questionId\": \"4_MAE\", \"learnToolsVersion\": \"0.3.4\", \"failureMessage\": \"\", \"exceptionClass\": \"\", \"trace\": \"\"}}, \"*\")"
          },
          "metadata": {}
        },
        {
          "output_type": "display_data",
          "data": {
            "text/plain": "Correct",
            "text/markdown": "<span style=\"color:#33cc33\">Correct</span>"
          },
          "metadata": {}
        }
      ]
    },
    {
      "cell_type": "code",
      "source": [
        "# step_4.hint()\n",
        "# step_4.solution()"
      ],
      "metadata": {
        "id": "R2OFO3DqpSmP"
      },
      "execution_count": null,
      "outputs": []
    },
    {
      "cell_type": "markdown",
      "source": [
        "Is that MAE good?  There isn't a general rule for what values are good that applies across applications. But you'll see how to use (and improve) this number in the next step.\n",
        "\n",
        "# Keep Going\n",
        "\n",
        "You are ready for **[Underfitting and Overfitting](https://www.kaggle.com/dansbecker/underfitting-and-overfitting).**\n"
      ],
      "metadata": {
        "id": "Mw90k-WMpSmQ"
      }
    },
    {
      "cell_type": "markdown",
      "source": [
        "---\n",
        "\n",
        "\n",
        "\n",
        "\n",
        "*Have questions or comments? Visit the [course discussion forum](https://www.kaggle.com/learn/intro-to-machine-learning/discussion) to chat with other learners.*"
      ],
      "metadata": {
        "id": "qi3QggYppSmQ"
      }
    }
  ]
}