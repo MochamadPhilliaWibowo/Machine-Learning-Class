{
  "metadata": {
    "kernelspec": {
      "display_name": "Python 3",
      "language": "python",
      "name": "python3"
    },
    "language_info": {
      "name": "python",
      "version": "3.10.13",
      "mimetype": "text/x-python",
      "codemirror_mode": {
        "name": "ipython",
        "version": 3
      },
      "pygments_lexer": "ipython3",
      "nbconvert_exporter": "python",
      "file_extension": ".py"
    },
    "papermill": {
      "default_parameters": {},
      "duration": 15.996115,
      "end_time": "2022-02-15T23:56:55.998786",
      "environment_variables": {},
      "exception": null,
      "input_path": "__notebook__.ipynb",
      "output_path": "__notebook__.ipynb",
      "parameters": {},
      "start_time": "2022-02-15T23:56:40.002671",
      "version": "2.3.3"
    },
    "kaggle": {
      "accelerator": "none",
      "dataSources": [],
      "isInternetEnabled": false,
      "language": "python",
      "sourceType": "notebook",
      "isGpuEnabled": false
    },
    "colab": {
      "provenance": [],
      "include_colab_link": true
    }
  },
  "nbformat_minor": 5,
  "nbformat": 4,
  "cells": [
    {
      "cell_type": "markdown",
      "metadata": {
        "id": "view-in-github",
        "colab_type": "text"
      },
      "source": [
        "<a href=\"https://colab.research.google.com/github/MochamadPhilliaWibowo/Machine-Learning-Class/blob/main/Tugas%20Week%201/Kaggle/Intro%20to%20Programming/exercise_data_types.ipynb\" target=\"_parent\"><img src=\"https://colab.research.google.com/assets/colab-badge.svg\" alt=\"Open In Colab\"/></a>"
      ]
    },
    {
      "cell_type": "markdown",
      "source": [
        "Nama : Mochamad Phillia Wibowo\n",
        "\n",
        "NIM : 1103204191\n",
        "\n",
        "Kelas : TK-44-G04"
      ],
      "metadata": {
        "id": "XWcy80RE_0bt"
      },
      "id": "XWcy80RE_0bt"
    },
    {
      "cell_type": "markdown",
      "source": [
        "**This notebook is an exercise in the [Intro to Programming](https://www.kaggle.com/learn/intro-to-programming) course.  You can reference the tutorial at [this link](https://www.kaggle.com/alexisbcook/data-types).**\n",
        "\n",
        "---\n"
      ],
      "metadata": {
        "id": "IXNGjfL3_y_w"
      },
      "id": "IXNGjfL3_y_w"
    },
    {
      "cell_type": "markdown",
      "source": [
        "In the tutorial, you learned about four different data types: floats, integers, strings, and booleans.  In this exercise, you'll experiment with them.\n",
        "\n",
        "# Set up the notebook\n",
        "\n",
        "Run the next code cell without changes to set up the notebook."
      ],
      "metadata": {
        "papermill": {
          "duration": 0.024307,
          "end_time": "2022-02-15T23:56:51.875254",
          "exception": false,
          "start_time": "2022-02-15T23:56:51.850947",
          "status": "completed"
        },
        "tags": [],
        "id": "GMska_4D_y_x"
      },
      "id": "GMska_4D_y_x"
    },
    {
      "cell_type": "code",
      "source": [
        "# Set up the exercise\n",
        "from learntools.core import binder\n",
        "binder.bind(globals())\n",
        "from learntools.intro_to_programming.ex3 import *\n",
        "print('Setup complete.')"
      ],
      "metadata": {
        "papermill": {
          "duration": 0.041266,
          "end_time": "2022-02-15T23:56:51.940173",
          "exception": false,
          "start_time": "2022-02-15T23:56:51.898907",
          "status": "completed"
        },
        "tags": [],
        "execution": {
          "iopub.status.busy": "2024-03-05T14:14:40.959637Z",
          "iopub.execute_input": "2024-03-05T14:14:40.960076Z",
          "iopub.status.idle": "2024-03-05T14:14:42.322986Z",
          "shell.execute_reply.started": "2024-03-05T14:14:40.960042Z",
          "shell.execute_reply": "2024-03-05T14:14:42.321778Z"
        },
        "trusted": true,
        "id": "Z8o7b_Je_y_y",
        "outputId": "7bec13ba-4dd9-4744-d733-ee65ee678892"
      },
      "execution_count": null,
      "outputs": [
        {
          "name": "stdout",
          "text": "Setup complete.\n",
          "output_type": "stream"
        }
      ],
      "id": "Z8o7b_Je_y_y"
    },
    {
      "cell_type": "markdown",
      "source": [
        "# Question 1\n",
        "\n",
        "You have seen how to convert a float to an integer with the `int` function.  Try this out yourself by running the code cell below."
      ],
      "metadata": {
        "papermill": {
          "duration": 0.024941,
          "end_time": "2022-02-15T23:56:51.990804",
          "exception": false,
          "start_time": "2022-02-15T23:56:51.965863",
          "status": "completed"
        },
        "tags": [],
        "id": "MRu-lbS1_y_z"
      },
      "id": "MRu-lbS1_y_z"
    },
    {
      "cell_type": "code",
      "source": [
        "# Define a float\n",
        "y = 1.\n",
        "print(y)\n",
        "print(type(y))\n",
        "\n",
        "# Convert float to integer with the int function\n",
        "z = int(y)\n",
        "print(z)\n",
        "print(type(z))"
      ],
      "metadata": {
        "papermill": {
          "duration": 0.036351,
          "end_time": "2022-02-15T23:56:52.050571",
          "exception": false,
          "start_time": "2022-02-15T23:56:52.01422",
          "status": "completed"
        },
        "tags": [],
        "execution": {
          "iopub.status.busy": "2024-03-05T14:15:00.448809Z",
          "iopub.execute_input": "2024-03-05T14:15:00.449487Z",
          "iopub.status.idle": "2024-03-05T14:15:00.456278Z",
          "shell.execute_reply.started": "2024-03-05T14:15:00.449444Z",
          "shell.execute_reply": "2024-03-05T14:15:00.455396Z"
        },
        "trusted": true,
        "id": "iNKDu28Y_y_z",
        "outputId": "543a14b7-2257-45c3-8b1d-bf0d25332537"
      },
      "execution_count": null,
      "outputs": [
        {
          "name": "stdout",
          "text": "1.0\n<class 'float'>\n1\n<class 'int'>\n",
          "output_type": "stream"
        }
      ],
      "id": "iNKDu28Y_y_z"
    },
    {
      "cell_type": "markdown",
      "source": [
        "In this case, the float you are using has no numbers after the decimal.  \n",
        "- But what happens when you try to convert a float with a fractional part to an integer?  \n",
        "- How does the outcome of the `int` function change for positive and negative numbers?\n",
        "\n",
        "Use the next code cell to investigate and answer these questions.  Feel free to add or remove any lines of code -- it is your workspace!"
      ],
      "metadata": {
        "papermill": {
          "duration": 0.015746,
          "end_time": "2022-02-15T23:56:52.082635",
          "exception": false,
          "start_time": "2022-02-15T23:56:52.066889",
          "status": "completed"
        },
        "tags": [],
        "id": "AcR86xDe_y_0"
      },
      "id": "AcR86xDe_y_0"
    },
    {
      "cell_type": "code",
      "source": [
        "# Uncomment and run this code to get started!\n",
        "print(int(1.2321))\n",
        "print(int(1.747))\n",
        "print(int(-3.94535))\n",
        "print(int(-2.19774))"
      ],
      "metadata": {
        "papermill": {
          "duration": 0.023189,
          "end_time": "2022-02-15T23:56:52.121169",
          "exception": false,
          "start_time": "2022-02-15T23:56:52.09798",
          "status": "completed"
        },
        "tags": [],
        "execution": {
          "iopub.status.busy": "2024-03-05T14:15:17.783021Z",
          "iopub.execute_input": "2024-03-05T14:15:17.784046Z",
          "iopub.status.idle": "2024-03-05T14:15:17.791549Z",
          "shell.execute_reply.started": "2024-03-05T14:15:17.784001Z",
          "shell.execute_reply": "2024-03-05T14:15:17.790418Z"
        },
        "trusted": true,
        "id": "smvI95-d_y_0",
        "outputId": "34a70dea-9a92-40ab-cf36-bbaa8c74d747"
      },
      "execution_count": null,
      "outputs": [
        {
          "name": "stdout",
          "text": "1\n1\n-3\n-2\n",
          "output_type": "stream"
        }
      ],
      "id": "smvI95-d_y_0"
    },
    {
      "cell_type": "markdown",
      "source": [
        "Once you have an answer, run the code cell below to see the solution.  Viewing the solution will give you credit for answering the problem."
      ],
      "metadata": {
        "papermill": {
          "duration": 0.015044,
          "end_time": "2022-02-15T23:56:52.153268",
          "exception": false,
          "start_time": "2022-02-15T23:56:52.138224",
          "status": "completed"
        },
        "tags": [],
        "id": "b9hn4SLX_y_0"
      },
      "id": "b9hn4SLX_y_0"
    },
    {
      "cell_type": "code",
      "source": [
        "# Check your answer (Run this code cell to receive credit!)\n",
        "q1.check()"
      ],
      "metadata": {
        "papermill": {
          "duration": 0.022309,
          "end_time": "2022-02-15T23:56:52.19068",
          "exception": false,
          "start_time": "2022-02-15T23:56:52.168371",
          "status": "completed"
        },
        "tags": [],
        "execution": {
          "iopub.status.busy": "2024-03-05T14:15:25.820772Z",
          "iopub.execute_input": "2024-03-05T14:15:25.821278Z",
          "iopub.status.idle": "2024-03-05T14:15:25.832921Z",
          "shell.execute_reply.started": "2024-03-05T14:15:25.821232Z",
          "shell.execute_reply": "2024-03-05T14:15:25.831762Z"
        },
        "trusted": true,
        "id": "OFpMj8kS_y_0",
        "outputId": "11379255-6f52-4d37-d515-5040937450b8"
      },
      "execution_count": null,
      "outputs": [
        {
          "output_type": "display_data",
          "data": {
            "text/plain": "<IPython.core.display.Javascript object>",
            "application/javascript": "parent.postMessage({\"jupyterEvent\": \"custom.exercise_interaction\", \"data\": {\"outcomeType\": 1, \"valueTowardsCompletion\": 0.2, \"interactionType\": 1, \"questionType\": 4, \"questionId\": \"1_FloatToInt\", \"learnToolsVersion\": \"0.3.4\", \"failureMessage\": \"\", \"exceptionClass\": \"\", \"trace\": \"\"}}, \"*\")"
          },
          "metadata": {}
        },
        {
          "output_type": "display_data",
          "data": {
            "text/plain": "Correct: \n\nNegative floats are always rounded UP to the closest integer (for instance, both -1.1 and -1.9 are rounded up to -1). Positive floats are always rounded DOWN to the closest integer (for instance, 2.1 and 2.9 are rounded down to 2).",
            "text/markdown": "<span style=\"color:#33cc33\">Correct:</span> \n\nNegative floats are always rounded UP to the closest integer (for instance, both -1.1 and -1.9 are rounded up to -1). Positive floats are always rounded DOWN to the closest integer (for instance, 2.1 and 2.9 are rounded down to 2)."
          },
          "metadata": {}
        }
      ],
      "id": "OFpMj8kS_y_0"
    },
    {
      "cell_type": "markdown",
      "source": [
        "# Question 2\n",
        "\n",
        "In the tutorial, you learned about booleans (which can take a value of `True` or `False`), in addition to integers, floats, and strings.  For this question, your goal is to determine what happens when you multiply a boolean by any of these data types.  Specifically,\n",
        "- What happens when you multiply an integer or float by `True`?  What happens when you multiply them by `False`?  How does the answer change if the numbers are positive or negative?\n",
        "- What happens when you multiply a string by `True`?  By `False`?\n",
        "\n",
        "Use the next code cell for your investigation."
      ],
      "metadata": {
        "papermill": {
          "duration": 0.015624,
          "end_time": "2022-02-15T23:56:52.222102",
          "exception": false,
          "start_time": "2022-02-15T23:56:52.206478",
          "status": "completed"
        },
        "tags": [],
        "id": "VAtXxhqj_y_0"
      },
      "id": "VAtXxhqj_y_0"
    },
    {
      "cell_type": "code",
      "source": [
        "# Uncomment and run this code to get started!\n",
        "print(3 * True)\n",
        "print(-3.1 * True)\n",
        "print(type(\"abc\" * False))\n",
        "print(len(\"abc\" * False))"
      ],
      "metadata": {
        "papermill": {
          "duration": 0.026529,
          "end_time": "2022-02-15T23:56:52.26436",
          "exception": false,
          "start_time": "2022-02-15T23:56:52.237831",
          "status": "completed"
        },
        "tags": [],
        "execution": {
          "iopub.status.busy": "2024-03-05T14:21:11.023354Z",
          "iopub.execute_input": "2024-03-05T14:21:11.023820Z",
          "iopub.status.idle": "2024-03-05T14:21:11.031206Z",
          "shell.execute_reply.started": "2024-03-05T14:21:11.023791Z",
          "shell.execute_reply": "2024-03-05T14:21:11.029891Z"
        },
        "trusted": true,
        "id": "kK6GdpTc_y_0",
        "outputId": "dac03b0a-8f0c-4a5e-9e36-ed5cfbcdb6b1"
      },
      "execution_count": null,
      "outputs": [
        {
          "name": "stdout",
          "text": "3\n-3.1\n<class 'str'>\n0\n",
          "output_type": "stream"
        }
      ],
      "id": "kK6GdpTc_y_0"
    },
    {
      "cell_type": "markdown",
      "source": [
        "Once you have an answer, run the code cell below to see the solution.  Viewing the solution will give you credit for answering the problem."
      ],
      "metadata": {
        "papermill": {
          "duration": 0.024547,
          "end_time": "2022-02-15T23:56:52.314813",
          "exception": false,
          "start_time": "2022-02-15T23:56:52.290266",
          "status": "completed"
        },
        "tags": [],
        "id": "b_gtpFYh_y_1"
      },
      "id": "b_gtpFYh_y_1"
    },
    {
      "cell_type": "code",
      "source": [
        "# Check your answer (Run this code cell to receive credit!)\n",
        "q2.check()"
      ],
      "metadata": {
        "papermill": {
          "duration": 0.033338,
          "end_time": "2022-02-15T23:56:52.372842",
          "exception": false,
          "start_time": "2022-02-15T23:56:52.339504",
          "status": "completed"
        },
        "tags": [],
        "execution": {
          "iopub.status.busy": "2024-03-05T14:21:14.764266Z",
          "iopub.execute_input": "2024-03-05T14:21:14.764802Z",
          "iopub.status.idle": "2024-03-05T14:21:14.774951Z",
          "shell.execute_reply.started": "2024-03-05T14:21:14.764762Z",
          "shell.execute_reply": "2024-03-05T14:21:14.773732Z"
        },
        "trusted": true,
        "id": "pILdowYo_y_1",
        "outputId": "9923a73f-c90b-4e3a-9a31-06965af2e543"
      },
      "execution_count": null,
      "outputs": [
        {
          "output_type": "display_data",
          "data": {
            "text/plain": "<IPython.core.display.Javascript object>",
            "application/javascript": "parent.postMessage({\"jupyterEvent\": \"custom.exercise_interaction\", \"data\": {\"outcomeType\": 1, \"valueTowardsCompletion\": 0.2, \"interactionType\": 1, \"questionType\": 4, \"questionId\": \"2_MultiplyBooleans\", \"learnToolsVersion\": \"0.3.4\", \"failureMessage\": \"\", \"exceptionClass\": \"\", \"trace\": \"\"}}, \"*\")"
          },
          "metadata": {}
        },
        {
          "output_type": "display_data",
          "data": {
            "text/plain": "Correct: \n\nWhen you multiple an integer or float by a boolean with value `True`, it just returns that same integer or float (and is equivalent to multiplying by 1).  If you multiply an integer or float by a boolean with value `False`, it always returns 0.  This is true for both positive and negative numbers.  If you multiply a string by a boolean with value `True`, it just returns that same string.  And if you multiply a string by a boolean with value `False`, it returns an empty string (or a string with length zero).",
            "text/markdown": "<span style=\"color:#33cc33\">Correct:</span> \n\nWhen you multiple an integer or float by a boolean with value `True`, it just returns that same integer or float (and is equivalent to multiplying by 1).  If you multiply an integer or float by a boolean with value `False`, it always returns 0.  This is true for both positive and negative numbers.  If you multiply a string by a boolean with value `True`, it just returns that same string.  And if you multiply a string by a boolean with value `False`, it returns an empty string (or a string with length zero)."
          },
          "metadata": {}
        }
      ],
      "id": "pILdowYo_y_1"
    },
    {
      "cell_type": "markdown",
      "source": [
        "# Question 3\n",
        "\n",
        "In this question, you will build off your work from the previous exercise to write a function that estimates the value of a house.\n",
        "\n",
        "Use the next code cell to create a function `get_expected_cost` that takes as input three variables:\n",
        "- `beds` - number of bedrooms (data type float)\n",
        "- `baths` - number of bathrooms (data type float)\n",
        "- `has_basement` - whether or not the house has a basement (data type boolean)\n",
        "\n",
        "It should return the expected cost of a house with those characteristics. Assume that:\n",
        "- the expected cost for a house with 0 bedrooms and 0 bathrooms, and no basement is 80000,\n",
        "- each bedroom adds 30000 to the expected cost,\n",
        "- each bathroom adds 10000 to the expected cost, and\n",
        "- a basement adds 40000 to the expected cost.\n",
        "\n",
        "For instance,\n",
        "- a house with 1 bedroom, 1 bathroom, and no basement has an expected cost of 80000 + 30000 + 10000 = 120000.  This value will be calculated with `get_expected_cost(1, 1, False)`.\n",
        "- a house with 2 bedrooms, 1 bathroom, and a basement has an expected cost of 80000 + 2*30000 + 10000 + 40000 = 190000.  This value will be calculated with `get_expected_cost(2, 1, True)`.\n",
        "\n",
        "Remember you can always get a hint by uncommenting `q3.hint()` in the code cell following the next!"
      ],
      "metadata": {
        "papermill": {
          "duration": 0.024657,
          "end_time": "2022-02-15T23:56:52.423541",
          "exception": false,
          "start_time": "2022-02-15T23:56:52.398884",
          "status": "completed"
        },
        "tags": [],
        "id": "9GC3ArZw_y_1"
      },
      "id": "9GC3ArZw_y_1"
    },
    {
      "cell_type": "code",
      "source": [
        "# TODO: Complete the function\n",
        "def get_expected_cost(beds, baths, has_basement):\n",
        "    value = 80000 + 30000 * beds + 10000 * baths + 40000 * has_basement\n",
        "    return value\n",
        "\n",
        "# Check your answer\n",
        "q3.check()"
      ],
      "metadata": {
        "papermill": {
          "duration": 0.033124,
          "end_time": "2022-02-15T23:56:52.48129",
          "exception": false,
          "start_time": "2022-02-15T23:56:52.448166",
          "status": "completed"
        },
        "tags": [],
        "execution": {
          "iopub.status.busy": "2024-03-05T14:21:33.297433Z",
          "iopub.execute_input": "2024-03-05T14:21:33.297856Z",
          "iopub.status.idle": "2024-03-05T14:21:33.308209Z",
          "shell.execute_reply.started": "2024-03-05T14:21:33.297825Z",
          "shell.execute_reply": "2024-03-05T14:21:33.306843Z"
        },
        "trusted": true,
        "id": "q28_mAdn_y_1",
        "outputId": "d1232554-4eb7-47f5-dfd0-1e59c64d923e"
      },
      "execution_count": null,
      "outputs": [
        {
          "output_type": "display_data",
          "data": {
            "text/plain": "<IPython.core.display.Javascript object>",
            "application/javascript": "parent.postMessage({\"jupyterEvent\": \"custom.exercise_interaction\", \"data\": {\"outcomeType\": 1, \"valueTowardsCompletion\": 0.2, \"interactionType\": 1, \"questionType\": 2, \"questionId\": \"3_EstimateHouseValueBool\", \"learnToolsVersion\": \"0.3.4\", \"failureMessage\": \"\", \"exceptionClass\": \"\", \"trace\": \"\"}}, \"*\")"
          },
          "metadata": {}
        },
        {
          "output_type": "display_data",
          "data": {
            "text/plain": "Correct",
            "text/markdown": "<span style=\"color:#33cc33\">Correct</span>"
          },
          "metadata": {}
        }
      ],
      "id": "q28_mAdn_y_1"
    },
    {
      "cell_type": "code",
      "source": [
        "# Uncomment to see a hint\n",
        "#q3.hint()\n",
        "\n",
        "# Uncomment to view the solution\n",
        "#q3.solution()"
      ],
      "metadata": {
        "papermill": {
          "duration": 0.032803,
          "end_time": "2022-02-15T23:56:52.53896",
          "exception": false,
          "start_time": "2022-02-15T23:56:52.506157",
          "status": "completed"
        },
        "tags": [],
        "execution": {
          "iopub.status.busy": "2024-03-05T14:21:37.508042Z",
          "iopub.execute_input": "2024-03-05T14:21:37.508773Z",
          "iopub.status.idle": "2024-03-05T14:21:37.513726Z",
          "shell.execute_reply.started": "2024-03-05T14:21:37.508738Z",
          "shell.execute_reply": "2024-03-05T14:21:37.512717Z"
        },
        "trusted": true,
        "id": "7j1DF6xG_y_2"
      },
      "execution_count": null,
      "outputs": [],
      "id": "7j1DF6xG_y_2"
    },
    {
      "cell_type": "markdown",
      "source": [
        "# Question 4\n",
        "\n",
        "We'll continue our study of boolean arithmetic.  For this question, your task is to provide a description of what happpens when you add booleans.\n",
        "\n",
        "Use the next code cell for your investigation.  Feel free to add or remove any lines of code - use it as your workspace!"
      ],
      "metadata": {
        "papermill": {
          "duration": 0.02506,
          "end_time": "2022-02-15T23:56:52.588859",
          "exception": false,
          "start_time": "2022-02-15T23:56:52.563799",
          "status": "completed"
        },
        "tags": [],
        "id": "JxrPjm9y_y_2"
      },
      "id": "JxrPjm9y_y_2"
    },
    {
      "cell_type": "code",
      "source": [
        "print(False + False)\n",
        "print(True + False)\n",
        "print(False + True)\n",
        "print(True + True)\n",
        "print(False + True + True + True)"
      ],
      "metadata": {
        "papermill": {
          "duration": 0.034215,
          "end_time": "2022-02-15T23:56:52.649292",
          "exception": false,
          "start_time": "2022-02-15T23:56:52.615077",
          "status": "completed"
        },
        "tags": [],
        "execution": {
          "iopub.status.busy": "2024-03-05T14:21:39.831213Z",
          "iopub.execute_input": "2024-03-05T14:21:39.831730Z",
          "iopub.status.idle": "2024-03-05T14:21:39.838185Z",
          "shell.execute_reply.started": "2024-03-05T14:21:39.831690Z",
          "shell.execute_reply": "2024-03-05T14:21:39.836947Z"
        },
        "trusted": true,
        "id": "9_e05t0t_y_2",
        "outputId": "bf7d10ef-99c7-476b-d243-3971e6ab961c"
      },
      "execution_count": null,
      "outputs": [
        {
          "name": "stdout",
          "text": "0\n1\n1\n2\n3\n",
          "output_type": "stream"
        }
      ],
      "id": "9_e05t0t_y_2"
    },
    {
      "cell_type": "markdown",
      "source": [
        "Once you have an answer, run the code cell below to see the solution.  Viewing the solution will give you credit for answering the problem."
      ],
      "metadata": {
        "papermill": {
          "duration": 0.025079,
          "end_time": "2022-02-15T23:56:52.700169",
          "exception": false,
          "start_time": "2022-02-15T23:56:52.67509",
          "status": "completed"
        },
        "tags": [],
        "id": "dW-QC5kl_y_2"
      },
      "id": "dW-QC5kl_y_2"
    },
    {
      "cell_type": "code",
      "source": [
        "# Check your answer (Run this code cell to receive credit!)\n",
        "q4.check()"
      ],
      "metadata": {
        "papermill": {
          "duration": 0.031532,
          "end_time": "2022-02-15T23:56:52.761705",
          "exception": false,
          "start_time": "2022-02-15T23:56:52.730173",
          "status": "completed"
        },
        "tags": [],
        "execution": {
          "iopub.status.busy": "2024-03-05T14:21:42.733045Z",
          "iopub.execute_input": "2024-03-05T14:21:42.733642Z",
          "iopub.status.idle": "2024-03-05T14:21:42.743927Z",
          "shell.execute_reply.started": "2024-03-05T14:21:42.733596Z",
          "shell.execute_reply": "2024-03-05T14:21:42.742555Z"
        },
        "trusted": true,
        "id": "4fIdByll_y_2",
        "outputId": "04d2e6da-e9f0-4871-c8ff-2ef10effd4f8"
      },
      "execution_count": null,
      "outputs": [
        {
          "output_type": "display_data",
          "data": {
            "text/plain": "<IPython.core.display.Javascript object>",
            "application/javascript": "parent.postMessage({\"jupyterEvent\": \"custom.exercise_interaction\", \"data\": {\"outcomeType\": 1, \"valueTowardsCompletion\": 0.2, \"interactionType\": 1, \"questionType\": 4, \"questionId\": \"4_AddingBooleans\", \"learnToolsVersion\": \"0.3.4\", \"failureMessage\": \"\", \"exceptionClass\": \"\", \"trace\": \"\"}}, \"*\")"
          },
          "metadata": {}
        },
        {
          "output_type": "display_data",
          "data": {
            "text/plain": "Correct: \n\nWhen you add booleans, adding `False` is equivalent to adding 0, and adding `True` is equivalent to adding 1.",
            "text/markdown": "<span style=\"color:#33cc33\">Correct:</span> \n\nWhen you add booleans, adding `False` is equivalent to adding 0, and adding `True` is equivalent to adding 1."
          },
          "metadata": {}
        }
      ],
      "id": "4fIdByll_y_2"
    },
    {
      "cell_type": "markdown",
      "source": [
        "# 🌶️ Question 5\n",
        "\n",
        "You own an online shop where you sell rings with custom engravings.  You offer both gold plated and solid gold rings.\n",
        "- Gold plated rings have a base cost of \\\\$50, and you charge \\\\$7 per engraved unit.  \n",
        "- Solid gold rings have a base cost of \\\\$100, and you charge \\\\$10 per engraved unit.\n",
        "- Spaces and punctuation are counted as engraved units.\n",
        "\n",
        "Write a function `cost_of_project()` that takes two arguments:\n",
        "- `engraving` - a Python string with the text of the engraving\n",
        "- `solid_gold` - a Boolean that indicates whether the ring is solid gold\n",
        "\n",
        "It should return the cost of the project.  This question should be fairly challenging, and you may need a hint."
      ],
      "metadata": {
        "papermill": {
          "duration": 0.024396,
          "end_time": "2022-02-15T23:56:52.81114",
          "exception": false,
          "start_time": "2022-02-15T23:56:52.786744",
          "status": "completed"
        },
        "tags": [],
        "id": "xCtovExA_y_3"
      },
      "id": "xCtovExA_y_3"
    },
    {
      "cell_type": "code",
      "source": [
        "def cost_of_project(engraving, solid_gold):\n",
        "    cost = solid_gold * (100 + 10 * len(engraving)) + (not solid_gold) * (50 + 7 * len(engraving))\n",
        "    return cost\n",
        "\n",
        "# Check your answer\n",
        "q5.check()"
      ],
      "metadata": {
        "papermill": {
          "duration": 0.034931,
          "end_time": "2022-02-15T23:56:52.871015",
          "exception": false,
          "start_time": "2022-02-15T23:56:52.836084",
          "status": "completed"
        },
        "tags": [],
        "execution": {
          "iopub.status.busy": "2024-03-05T14:22:04.175226Z",
          "iopub.execute_input": "2024-03-05T14:22:04.175706Z",
          "iopub.status.idle": "2024-03-05T14:22:04.186908Z",
          "shell.execute_reply.started": "2024-03-05T14:22:04.175672Z",
          "shell.execute_reply": "2024-03-05T14:22:04.185823Z"
        },
        "trusted": true,
        "id": "zhmaLu6q_y_3",
        "outputId": "ded4a96b-4be4-4d43-f1b2-46c89bccda2d"
      },
      "execution_count": null,
      "outputs": [
        {
          "output_type": "display_data",
          "data": {
            "text/plain": "<IPython.core.display.Javascript object>",
            "application/javascript": "parent.postMessage({\"jupyterEvent\": \"custom.exercise_interaction\", \"data\": {\"outcomeType\": 1, \"valueTowardsCompletion\": 0.2, \"interactionType\": 1, \"questionType\": 2, \"questionId\": \"5_CustomEngravings\", \"learnToolsVersion\": \"0.3.4\", \"failureMessage\": \"\", \"exceptionClass\": \"\", \"trace\": \"\"}}, \"*\")"
          },
          "metadata": {}
        },
        {
          "output_type": "display_data",
          "data": {
            "text/plain": "Correct",
            "text/markdown": "<span style=\"color:#33cc33\">Correct</span>"
          },
          "metadata": {}
        }
      ],
      "id": "zhmaLu6q_y_3"
    },
    {
      "cell_type": "code",
      "source": [
        "# Uncomment to see a hint\n",
        "#q5.hint()\n",
        "\n",
        "# Uncomment to view the solution\n",
        "#q5.solution()"
      ],
      "metadata": {
        "papermill": {
          "duration": 0.032387,
          "end_time": "2022-02-15T23:56:52.929176",
          "exception": false,
          "start_time": "2022-02-15T23:56:52.896789",
          "status": "completed"
        },
        "tags": [],
        "execution": {
          "iopub.status.busy": "2024-03-05T14:22:06.792092Z",
          "iopub.execute_input": "2024-03-05T14:22:06.792845Z",
          "iopub.status.idle": "2024-03-05T14:22:06.797324Z",
          "shell.execute_reply.started": "2024-03-05T14:22:06.792808Z",
          "shell.execute_reply": "2024-03-05T14:22:06.795856Z"
        },
        "trusted": true,
        "id": "YJtCCrgq_y_3"
      },
      "execution_count": null,
      "outputs": [],
      "id": "YJtCCrgq_y_3"
    },
    {
      "cell_type": "markdown",
      "source": [
        "Run the next code cell to calculate the cost of engraving `Charlie+Denver` on a solid gold ring."
      ],
      "metadata": {
        "papermill": {
          "duration": 0.025442,
          "end_time": "2022-02-15T23:56:52.981178",
          "exception": false,
          "start_time": "2022-02-15T23:56:52.955736",
          "status": "completed"
        },
        "tags": [],
        "id": "U3HnRoBz_y_3"
      },
      "id": "U3HnRoBz_y_3"
    },
    {
      "cell_type": "code",
      "source": [
        "project_one = cost_of_project(\"Charlie+Denver\", True)\n",
        "print(project_one)"
      ],
      "metadata": {
        "papermill": {
          "duration": 0.033363,
          "end_time": "2022-02-15T23:56:53.041309",
          "exception": false,
          "start_time": "2022-02-15T23:56:53.007946",
          "status": "completed"
        },
        "tags": [],
        "execution": {
          "iopub.status.busy": "2024-03-05T14:22:10.136438Z",
          "iopub.execute_input": "2024-03-05T14:22:10.136881Z",
          "iopub.status.idle": "2024-03-05T14:22:10.142870Z",
          "shell.execute_reply.started": "2024-03-05T14:22:10.136850Z",
          "shell.execute_reply": "2024-03-05T14:22:10.141602Z"
        },
        "trusted": true,
        "id": "VSqbrx23_y_3",
        "outputId": "b757278e-07d6-4dd3-f791-eda94db166a3"
      },
      "execution_count": null,
      "outputs": [
        {
          "name": "stdout",
          "text": "240\n",
          "output_type": "stream"
        }
      ],
      "id": "VSqbrx23_y_3"
    },
    {
      "cell_type": "markdown",
      "source": [
        "Use the next code cell to calculate the cost of engraving `08/10/2000` on a gold plated ring."
      ],
      "metadata": {
        "papermill": {
          "duration": 0.025504,
          "end_time": "2022-02-15T23:56:53.093394",
          "exception": false,
          "start_time": "2022-02-15T23:56:53.06789",
          "status": "completed"
        },
        "tags": [],
        "id": "FKRL4B2H_y_4"
      },
      "id": "FKRL4B2H_y_4"
    },
    {
      "cell_type": "code",
      "source": [
        "project_two = cost_of_project(\"08/10/2000\", False)\n",
        "print(project_two)"
      ],
      "metadata": {
        "papermill": {
          "duration": 0.03374,
          "end_time": "2022-02-15T23:56:53.154559",
          "exception": false,
          "start_time": "2022-02-15T23:56:53.120819",
          "status": "completed"
        },
        "tags": [],
        "execution": {
          "iopub.status.busy": "2024-03-05T14:22:13.073095Z",
          "iopub.execute_input": "2024-03-05T14:22:13.073945Z",
          "iopub.status.idle": "2024-03-05T14:22:13.080165Z",
          "shell.execute_reply.started": "2024-03-05T14:22:13.073902Z",
          "shell.execute_reply": "2024-03-05T14:22:13.079058Z"
        },
        "trusted": true,
        "id": "ZP2goiop_y_4",
        "outputId": "0e60ba5a-c87d-420a-c979-a7eee0fa927c"
      },
      "execution_count": null,
      "outputs": [
        {
          "name": "stdout",
          "text": "120\n",
          "output_type": "stream"
        }
      ],
      "id": "ZP2goiop_y_4"
    },
    {
      "cell_type": "markdown",
      "source": [
        "# Keep going\n",
        "\n",
        "Continue to the next lesson to **[learn about conditions and conditional statements](https://www.kaggle.com/alexisbcook/conditions-and-conditional-statements)**."
      ],
      "metadata": {
        "papermill": {
          "duration": 0.016828,
          "end_time": "2022-02-15T23:56:53.189102",
          "exception": false,
          "start_time": "2022-02-15T23:56:53.172274",
          "status": "completed"
        },
        "tags": [],
        "id": "Kaz_lt3g_y_4"
      },
      "id": "Kaz_lt3g_y_4"
    },
    {
      "cell_type": "markdown",
      "source": [
        "---\n",
        "\n",
        "\n",
        "\n",
        "\n",
        "*Have questions or comments? Visit the [course discussion forum](https://www.kaggle.com/learn/intro-to-programming/discussion) to chat with other learners.*"
      ],
      "metadata": {
        "id": "2sAHR8pQ_y_4"
      },
      "id": "2sAHR8pQ_y_4"
    }
  ]
}