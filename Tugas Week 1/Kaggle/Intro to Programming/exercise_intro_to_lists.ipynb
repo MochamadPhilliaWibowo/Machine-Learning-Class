{
  "metadata": {
    "kernelspec": {
      "display_name": "Python 3",
      "language": "python",
      "name": "python3"
    },
    "language_info": {
      "name": "python",
      "version": "3.10.13",
      "mimetype": "text/x-python",
      "codemirror_mode": {
        "name": "ipython",
        "version": 3
      },
      "pygments_lexer": "ipython3",
      "nbconvert_exporter": "python",
      "file_extension": ".py"
    },
    "kaggle": {
      "accelerator": "none",
      "dataSources": [],
      "isInternetEnabled": false,
      "language": "python",
      "sourceType": "notebook",
      "isGpuEnabled": false
    },
    "colab": {
      "provenance": [],
      "include_colab_link": true
    }
  },
  "nbformat_minor": 0,
  "nbformat": 4,
  "cells": [
    {
      "cell_type": "markdown",
      "metadata": {
        "id": "view-in-github",
        "colab_type": "text"
      },
      "source": [
        "<a href=\"https://colab.research.google.com/github/MochamadPhilliaWibowo/Machine-Learning-Class/blob/main/Tugas%20Week%201/Kaggle/Intro%20to%20Programming/exercise_intro_to_lists.ipynb\" target=\"_parent\"><img src=\"https://colab.research.google.com/assets/colab-badge.svg\" alt=\"Open In Colab\"/></a>"
      ]
    },
    {
      "cell_type": "markdown",
      "source": [
        "Nama : Mochamad Phillia Wibowo\n",
        "\n",
        "NIM : 1103204191\n",
        "\n",
        "Kelas : TK-44-G04"
      ],
      "metadata": {
        "id": "fARs6oUXDfjj"
      }
    },
    {
      "cell_type": "markdown",
      "source": [
        "**This notebook is an exercise in the [Intro to Programming](https://www.kaggle.com/learn/intro-to-programming) course.  You can reference the tutorial at [this link](https://www.kaggle.com/alexisbcook/intro-to-lists).**\n",
        "\n",
        "---\n"
      ],
      "metadata": {
        "id": "3BKbIWW8DcSK"
      }
    },
    {
      "cell_type": "markdown",
      "source": [
        "In the tutorial, you learned how to define and modify Python lists.  In this exercise, you will use your new knowledge to solve several problems.\n",
        "\n",
        "# Set up the notebook\n",
        "\n",
        "Run the next code cell without changes to set up the notebook."
      ],
      "metadata": {
        "id": "64-8DVSvDcSM"
      }
    },
    {
      "cell_type": "code",
      "source": [
        "from learntools.core import binder\n",
        "binder.bind(globals())\n",
        "from learntools.intro_to_programming.ex5 import *\n",
        "print('Setup complete.')"
      ],
      "metadata": {
        "execution": {
          "iopub.status.busy": "2024-03-05T14:33:33.639613Z",
          "iopub.execute_input": "2024-03-05T14:33:33.639966Z",
          "iopub.status.idle": "2024-03-05T14:33:34.710273Z",
          "shell.execute_reply.started": "2024-03-05T14:33:33.639938Z",
          "shell.execute_reply": "2024-03-05T14:33:34.709155Z"
        },
        "trusted": true,
        "id": "uL-lubeBDcSN",
        "outputId": "e66dc992-55c9-4392-f8bb-6ef947698e87"
      },
      "execution_count": null,
      "outputs": [
        {
          "name": "stdout",
          "text": "Setup complete.\n",
          "output_type": "stream"
        }
      ]
    },
    {
      "cell_type": "markdown",
      "source": [
        "# Question 1\n",
        "\n",
        "You own a restaurant with five food dishes, organized in the Python list `menu` below.  One day, you decide to:\n",
        "- remove bean soup (`'bean soup'`) from the menu, and\n",
        "- add roasted beet salad (`'roasted beet salad'`) to the menu.\n",
        "\n",
        "Implement this change to the list below.  While completing this task,\n",
        "- do not change the line that creates the `menu` list.  \n",
        "- your answer should use `.remove()` and `.append()`.  "
      ],
      "metadata": {
        "id": "99Cy98LoDcSO"
      }
    },
    {
      "cell_type": "code",
      "source": [
        "# Do not change: Initial menu for your restaurant\n",
        "menu = ['stewed meat with onions', 'bean soup', 'risotto with trout and shrimp',\n",
        "       'fish soup with cream and onion', 'gyro']\n",
        "\n",
        "# TODO: remove 'bean soup', and add 'roasted beet salad' to the end of the menu\n",
        "menu.remove('bean soup')\n",
        "menu.append('roasted beet salad')\n",
        "\n",
        "# Do not change: Check your answer\n",
        "q1.check()"
      ],
      "metadata": {
        "execution": {
          "iopub.status.busy": "2024-03-05T14:34:54.216786Z",
          "iopub.execute_input": "2024-03-05T14:34:54.217174Z",
          "iopub.status.idle": "2024-03-05T14:34:54.227238Z",
          "shell.execute_reply.started": "2024-03-05T14:34:54.217147Z",
          "shell.execute_reply": "2024-03-05T14:34:54.226105Z"
        },
        "trusted": true,
        "id": "hekdNVUEDcSO",
        "outputId": "423da767-9df0-4de8-bce2-acc877dfe1e3"
      },
      "execution_count": null,
      "outputs": [
        {
          "output_type": "display_data",
          "data": {
            "text/plain": "<IPython.core.display.Javascript object>",
            "application/javascript": "parent.postMessage({\"jupyterEvent\": \"custom.exercise_interaction\", \"data\": {\"outcomeType\": 1, \"valueTowardsCompletion\": 0.2, \"interactionType\": 1, \"questionType\": 2, \"questionId\": \"1_FoodMenu\", \"learnToolsVersion\": \"0.3.4\", \"failureMessage\": \"\", \"exceptionClass\": \"\", \"trace\": \"\"}}, \"*\")"
          },
          "metadata": {}
        },
        {
          "output_type": "display_data",
          "data": {
            "text/plain": "Correct",
            "text/markdown": "<span style=\"color:#33cc33\">Correct</span>"
          },
          "metadata": {}
        }
      ]
    },
    {
      "cell_type": "code",
      "source": [
        "# Uncomment to see a hint\n",
        "#q1.hint()\n",
        "\n",
        "# Uncomment to see the solution\n",
        "#q1.solution()"
      ],
      "metadata": {
        "execution": {
          "iopub.status.busy": "2024-03-05T14:34:58.309603Z",
          "iopub.execute_input": "2024-03-05T14:34:58.309976Z",
          "iopub.status.idle": "2024-03-05T14:34:58.314558Z",
          "shell.execute_reply.started": "2024-03-05T14:34:58.309947Z",
          "shell.execute_reply": "2024-03-05T14:34:58.313276Z"
        },
        "trusted": true,
        "id": "V2O_-v4qDcSP"
      },
      "execution_count": null,
      "outputs": []
    },
    {
      "cell_type": "markdown",
      "source": [
        "# Question 2\n",
        "\n",
        "The list `num_customers` contains the number of customers who came into your restaurant every day over the last month (which lasted thirty days).  Fill in values for each of the following:\n",
        "- `avg_first_seven` - average number of customers who visited in the first seven days\n",
        "- `avg_last_seven` - average number of customers who visited in the last seven days\n",
        "- `max_month` - number of customers on the day that got the most customers in the last month\n",
        "- `min_month` - number of customers on the day that got the least customers in the last month\n",
        "\n",
        "Answer this question by writing code.  For instance, if you have to find the minimum value in a list, use `min()` instead of scanning for the smallest value and directly filling in a number."
      ],
      "metadata": {
        "id": "A3nJXgPrDcSP"
      }
    },
    {
      "cell_type": "code",
      "source": [
        "# Do not change: Number of customers each day for the last month\n",
        "num_customers = [137, 147, 135, 128, 170, 174, 165, 146, 126, 159,\n",
        "                 141, 148, 132, 147, 168, 153, 170, 161, 148, 152,\n",
        "                 141, 151, 131, 149, 164, 163, 143, 143, 166, 171]\n",
        "\n",
        "# TODO: Fill in values for the variables below\n",
        "avg_first_seven = sum(num_customers[:7])/7\n",
        "avg_last_seven = sum(num_customers[-7:])/7\n",
        "max_month = max(num_customers)\n",
        "min_month = min(num_customers)\n",
        "\n",
        "# Do not change: Check your answer\n",
        "q2.check()"
      ],
      "metadata": {
        "execution": {
          "iopub.status.busy": "2024-03-05T14:35:21.293756Z",
          "iopub.execute_input": "2024-03-05T14:35:21.294145Z",
          "iopub.status.idle": "2024-03-05T14:35:21.304842Z",
          "shell.execute_reply.started": "2024-03-05T14:35:21.294114Z",
          "shell.execute_reply": "2024-03-05T14:35:21.303869Z"
        },
        "trusted": true,
        "id": "CZSFU1RJDcSP",
        "outputId": "6aefdbd4-bafd-47a7-b053-0f39edfa0511"
      },
      "execution_count": null,
      "outputs": [
        {
          "output_type": "display_data",
          "data": {
            "text/plain": "<IPython.core.display.Javascript object>",
            "application/javascript": "parent.postMessage({\"jupyterEvent\": \"custom.exercise_interaction\", \"data\": {\"outcomeType\": 1, \"valueTowardsCompletion\": 0.2, \"interactionType\": 1, \"questionType\": 1, \"questionId\": \"2_NumCustomers\", \"learnToolsVersion\": \"0.3.4\", \"failureMessage\": \"\", \"exceptionClass\": \"\", \"trace\": \"\"}}, \"*\")"
          },
          "metadata": {}
        },
        {
          "output_type": "display_data",
          "data": {
            "text/plain": "Correct",
            "text/markdown": "<span style=\"color:#33cc33\">Correct</span>"
          },
          "metadata": {}
        }
      ]
    },
    {
      "cell_type": "code",
      "source": [
        "# Uncomment to see a hint\n",
        "#q2.hint()\n",
        "\n",
        "# Uncomment to see the solution\n",
        "#q2.solution()"
      ],
      "metadata": {
        "execution": {
          "iopub.status.busy": "2024-03-05T14:35:16.600468Z",
          "iopub.execute_input": "2024-03-05T14:35:16.600857Z",
          "iopub.status.idle": "2024-03-05T14:35:16.605932Z",
          "shell.execute_reply.started": "2024-03-05T14:35:16.600829Z",
          "shell.execute_reply": "2024-03-05T14:35:16.604627Z"
        },
        "trusted": true,
        "id": "BaKH94QdDcSP"
      },
      "execution_count": null,
      "outputs": []
    },
    {
      "cell_type": "markdown",
      "source": [
        "# Question 3\n",
        "\n",
        "In the tutorial, we gave an example of a Python string with information that was better as a list."
      ],
      "metadata": {
        "id": "bgME0Hu9DcSP"
      }
    },
    {
      "cell_type": "code",
      "source": [
        "flowers = \"pink primrose,hard-leaved pocket orchid,canterbury bells,sweet pea,english marigold,tiger lily,moon orchid,bird of paradise,monkshood,globe thistle\""
      ],
      "metadata": {
        "execution": {
          "iopub.status.busy": "2024-03-05T14:35:27.745829Z",
          "iopub.execute_input": "2024-03-05T14:35:27.746185Z",
          "iopub.status.idle": "2024-03-05T14:35:27.751099Z",
          "shell.execute_reply.started": "2024-03-05T14:35:27.746160Z",
          "shell.execute_reply": "2024-03-05T14:35:27.750036Z"
        },
        "trusted": true,
        "id": "H2_6hpv7DcSQ"
      },
      "execution_count": null,
      "outputs": []
    },
    {
      "cell_type": "markdown",
      "source": [
        "You can actually use Python to quickly turn this string into a list with `.split()`.  In the parentheses, we need to provide the character should be used to mark the end of one list item and the beginning of another, and enclose it in quotation marks.  In this case, that character is a comma."
      ],
      "metadata": {
        "id": "l46UHDleDcSQ"
      }
    },
    {
      "cell_type": "code",
      "source": [
        " print(flowers.split(\",\"))"
      ],
      "metadata": {
        "execution": {
          "iopub.status.busy": "2024-03-05T14:35:29.727922Z",
          "iopub.execute_input": "2024-03-05T14:35:29.728322Z",
          "iopub.status.idle": "2024-03-05T14:35:29.733483Z",
          "shell.execute_reply.started": "2024-03-05T14:35:29.728293Z",
          "shell.execute_reply": "2024-03-05T14:35:29.732471Z"
        },
        "trusted": true,
        "id": "ByYiMdQ4DcSQ",
        "outputId": "032e5ac1-8be6-45d1-8540-e04eae1c352c"
      },
      "execution_count": null,
      "outputs": [
        {
          "name": "stdout",
          "text": "['pink primrose', 'hard-leaved pocket orchid', 'canterbury bells', 'sweet pea', 'english marigold', 'tiger lily', 'moon orchid', 'bird of paradise', 'monkshood', 'globe thistle']\n",
          "output_type": "stream"
        }
      ]
    },
    {
      "cell_type": "markdown",
      "source": [
        "Now it is your turn to try this out!  Create two Python lists:\n",
        "- `letters` should be a Python list where each entry is an uppercase letter of the English alphabet.  For instance, the first two entries should be `\"A\"` and `\"B\"`, and the final two entries should be `\"Y\"` and `\"Z\"`.  Use the string `alphabet` to create this list.\n",
        "- `address` should be a Python list where each row in `address` is a different item in the list.  Currently, each row in `address` is separated by a comma."
      ],
      "metadata": {
        "id": "qtgDjcyvDcSQ"
      }
    },
    {
      "cell_type": "code",
      "source": [
        "# DO not change: Define two Python strings\n",
        "alphabet = \"A.B.C.D.E.F.G.H.I.J.K.L.M.N.O.P.Q.R.S.T.U.V.W.X.Y.Z\"\n",
        "address = \"Mr. H. Potter,The cupboard under the Stairs,4 Privet Drive,Little Whinging,Surrey\"\n",
        "\n",
        "# TODO: Convert strings into Python lists\n",
        "letters = alphabet.split(\".\")\n",
        "formatted_address = address.split(\",\")\n",
        "\n",
        "# Do not change: Check your answer\n",
        "q3.check()"
      ],
      "metadata": {
        "execution": {
          "iopub.status.busy": "2024-03-05T14:35:46.146634Z",
          "iopub.execute_input": "2024-03-05T14:35:46.147044Z",
          "iopub.status.idle": "2024-03-05T14:35:46.155971Z",
          "shell.execute_reply.started": "2024-03-05T14:35:46.147010Z",
          "shell.execute_reply": "2024-03-05T14:35:46.155099Z"
        },
        "trusted": true,
        "id": "h8ukc-YnDcSR",
        "outputId": "7003e4ee-66f6-4247-aabc-44717c4fcb8a"
      },
      "execution_count": null,
      "outputs": [
        {
          "output_type": "display_data",
          "data": {
            "text/plain": "<IPython.core.display.Javascript object>",
            "application/javascript": "parent.postMessage({\"jupyterEvent\": \"custom.exercise_interaction\", \"data\": {\"outcomeType\": 1, \"valueTowardsCompletion\": 0.2, \"interactionType\": 1, \"questionType\": 1, \"questionId\": \"3_SplitString\", \"learnToolsVersion\": \"0.3.4\", \"failureMessage\": \"\", \"exceptionClass\": \"\", \"trace\": \"\"}}, \"*\")"
          },
          "metadata": {}
        },
        {
          "output_type": "display_data",
          "data": {
            "text/plain": "Correct",
            "text/markdown": "<span style=\"color:#33cc33\">Correct</span>"
          },
          "metadata": {}
        }
      ]
    },
    {
      "cell_type": "code",
      "source": [
        "# Uncomment to see a hint\n",
        "#q3.hint()\n",
        "\n",
        "# Uncomment to see the solution\n",
        "#q3.solution()"
      ],
      "metadata": {
        "execution": {
          "iopub.status.busy": "2024-03-05T14:35:50.179024Z",
          "iopub.execute_input": "2024-03-05T14:35:50.179377Z",
          "iopub.status.idle": "2024-03-05T14:35:50.183510Z",
          "shell.execute_reply.started": "2024-03-05T14:35:50.179351Z",
          "shell.execute_reply": "2024-03-05T14:35:50.182622Z"
        },
        "trusted": true,
        "id": "Dy9ASk64DcSR"
      },
      "execution_count": null,
      "outputs": []
    },
    {
      "cell_type": "markdown",
      "source": [
        "# Question 4\n",
        "\n",
        "In the Python course, you'll learn all about **list comprehensions**, which allow you to create a list based on the values in another list.  In this question, you'll get a brief preview of how they work.\n",
        "\n",
        "Say we're working with the list below."
      ],
      "metadata": {
        "id": "pclhgGNSDcSR"
      }
    },
    {
      "cell_type": "code",
      "source": [
        "test_ratings = [1, 2, 3, 4, 5]"
      ],
      "metadata": {
        "execution": {
          "iopub.status.busy": "2024-03-05T14:35:54.018843Z",
          "iopub.execute_input": "2024-03-05T14:35:54.019237Z",
          "iopub.status.idle": "2024-03-05T14:35:54.024103Z",
          "shell.execute_reply.started": "2024-03-05T14:35:54.019207Z",
          "shell.execute_reply": "2024-03-05T14:35:54.023123Z"
        },
        "trusted": true,
        "id": "2-A9pkzHDcSR"
      },
      "execution_count": null,
      "outputs": []
    },
    {
      "cell_type": "markdown",
      "source": [
        "Then we can use this list (`test_ratings`) to create a new list (`test_liked`) where each item has been turned into a boolean, depending on whether or not the item is greater than or equal to four."
      ],
      "metadata": {
        "id": "kCSXIXGIDcSR"
      }
    },
    {
      "cell_type": "code",
      "source": [
        "test_liked = [i>=4 for i in test_ratings]\n",
        "print(test_liked)"
      ],
      "metadata": {
        "execution": {
          "iopub.status.busy": "2024-03-05T14:35:56.064956Z",
          "iopub.execute_input": "2024-03-05T14:35:56.065350Z",
          "iopub.status.idle": "2024-03-05T14:35:56.073720Z",
          "shell.execute_reply.started": "2024-03-05T14:35:56.065318Z",
          "shell.execute_reply": "2024-03-05T14:35:56.072734Z"
        },
        "trusted": true,
        "id": "i2HpM5wGDcSR",
        "outputId": "cd72a675-c805-42a0-e3cf-c8b2a1ad698e"
      },
      "execution_count": null,
      "outputs": [
        {
          "name": "stdout",
          "text": "[False, False, False, True, True]\n",
          "output_type": "stream"
        }
      ]
    },
    {
      "cell_type": "markdown",
      "source": [
        "In this question, you'll use this list comprehension to define a function `percentage_liked()` that takes one argument as input:\n",
        "- `ratings`: list of ratings that people gave to a movie, where each rating is a number between 1-5, inclusive\n",
        "\n",
        "We say someone liked the movie, if they gave a rating of either 4 or 5.  Your function should return the percentage of people who liked the movie.\n",
        "\n",
        "For instance, if we supply a value of `[1, 2, 3, 4, 5, 4, 5, 1]`, then 50% (4/8) of the people liked the movie, and the function should return `0.5`.\n",
        "\n",
        "Part of the function has already been completed for you.  You need only use `list_liked` to calculate `percentage_liked`."
      ],
      "metadata": {
        "id": "sgALRqbtDcSS"
      }
    },
    {
      "cell_type": "code",
      "source": [
        "def percentage_liked(ratings):\n",
        "    list_liked = [i >= 4 for i in ratings]\n",
        "    percentage_liked = sum(list_liked)/len(list_liked)\n",
        "    return percentage_liked\n",
        "\n",
        "# Do not change: should return 0.5\n",
        "percentage_liked([1, 2, 3, 4, 5, 4, 5, 1])\n",
        "\n",
        "# Do not change: Check your answer\n",
        "q4.check()"
      ],
      "metadata": {
        "execution": {
          "iopub.status.busy": "2024-03-05T14:36:34.527951Z",
          "iopub.execute_input": "2024-03-05T14:36:34.528723Z",
          "iopub.status.idle": "2024-03-05T14:36:34.540001Z",
          "shell.execute_reply.started": "2024-03-05T14:36:34.528685Z",
          "shell.execute_reply": "2024-03-05T14:36:34.539229Z"
        },
        "trusted": true,
        "id": "e2gN1GPODcSS",
        "outputId": "29053e5b-ef77-4b74-c5b2-47f41308ee1e"
      },
      "execution_count": null,
      "outputs": [
        {
          "output_type": "display_data",
          "data": {
            "text/plain": "<IPython.core.display.Javascript object>",
            "application/javascript": "parent.postMessage({\"jupyterEvent\": \"custom.exercise_interaction\", \"data\": {\"outcomeType\": 1, \"valueTowardsCompletion\": 0.2, \"interactionType\": 1, \"questionType\": 2, \"questionId\": \"4_PercentageLiked\", \"learnToolsVersion\": \"0.3.4\", \"failureMessage\": \"\", \"exceptionClass\": \"\", \"trace\": \"\"}}, \"*\")"
          },
          "metadata": {}
        },
        {
          "output_type": "display_data",
          "data": {
            "text/plain": "Correct",
            "text/markdown": "<span style=\"color:#33cc33\">Correct</span>"
          },
          "metadata": {}
        }
      ]
    },
    {
      "cell_type": "code",
      "source": [
        "# Uncomment to see a hint\n",
        "#q4.hint()\n",
        "\n",
        "# Uncomment to see the solution\n",
        "#q4.solution()"
      ],
      "metadata": {
        "execution": {
          "iopub.status.busy": "2024-03-05T14:36:38.751609Z",
          "iopub.execute_input": "2024-03-05T14:36:38.751984Z",
          "iopub.status.idle": "2024-03-05T14:36:38.757322Z",
          "shell.execute_reply.started": "2024-03-05T14:36:38.751954Z",
          "shell.execute_reply": "2024-03-05T14:36:38.756141Z"
        },
        "trusted": true,
        "id": "STJlUMQMDcSS"
      },
      "execution_count": null,
      "outputs": []
    },
    {
      "cell_type": "markdown",
      "source": [
        "# 🌶️ Question 5\n",
        "\n",
        "Say you're doing analytics for a website.  You need to write a function that returns the percentage growth in the total number of users relative to a specified number of years ago.\n",
        "\n",
        "Your function `percentage_growth()` should take two arguments as input:\n",
        "- `num_users` = Python list with the total number of users each year.  So `num_users[0]` is the total number of users in the first year, `num_users[1]` is the total number of users in the second year, and so on.  The final entry in the list gives the total number of users in the most recently completed year.\n",
        "- `yrs_ago` = number of years to go back in time when calculating the growth percentage\n",
        "\n",
        "For instance, say `num_users = [920344, 1043553, 1204334, 1458996, 1503323, 1593432, 1623463, 1843064, 1930992, 2001078]`.\n",
        "- if `yrs_ago = 1`, we want the function to return a value of about `0.036`. This corresponds to a percentage growth of approximately 3.6%, calculated as (2001078 - 1930992)/1930992.\n",
        "- if `years_ago = 7`, we would want to return approximately `0.66`.  This corresponds to a percentage growth of approximately 66%, calculated as (2001078 - 1204334)/1204334.\n",
        "\n",
        "Your coworker sent you a draft of a function, but it doesn't seem to be doing the correct calculation.  Can you figure out what has gone wrong and make the needed changes?"
      ],
      "metadata": {
        "id": "4pJ4zokeDcSS"
      }
    },
    {
      "cell_type": "code",
      "source": [
        "# TODO: Edit the function\n",
        "def percentage_growth(num_users, yrs_ago):\n",
        "    growth = (num_users[len(num_users)-1] - num_users[len(num_users)-yrs_ago-1])/num_users[len(num_users)-yrs_ago-1]\n",
        "    return growth\n",
        "\n",
        "# Do not change: Variable for calculating some test examples\n",
        "num_users_test = [920344, 1043553, 1204334, 1458996, 1503323, 1593432, 1623463, 1843064, 1930992, 2001078]\n",
        "\n",
        "# Do not change: Should return .036\n",
        "print(percentage_growth(num_users_test, 1))\n",
        "\n",
        "# Do not change: Should return 0.66\n",
        "print(percentage_growth(num_users_test, 7))\n",
        "\n",
        "# Do not change: Check your answer\n",
        "q5.check()"
      ],
      "metadata": {
        "execution": {
          "iopub.status.busy": "2024-03-05T14:37:10.250945Z",
          "iopub.execute_input": "2024-03-05T14:37:10.251332Z",
          "iopub.status.idle": "2024-03-05T14:37:10.262498Z",
          "shell.execute_reply.started": "2024-03-05T14:37:10.251302Z",
          "shell.execute_reply": "2024-03-05T14:37:10.261360Z"
        },
        "trusted": true,
        "id": "kjslHSQoDcSZ",
        "outputId": "270b44e9-1402-4f94-f9d5-8d3f117c8e0d"
      },
      "execution_count": null,
      "outputs": [
        {
          "name": "stdout",
          "text": "0.03629533421163837\n0.6615639847417742\n",
          "output_type": "stream"
        },
        {
          "output_type": "display_data",
          "data": {
            "text/plain": "<IPython.core.display.Javascript object>",
            "application/javascript": "parent.postMessage({\"jupyterEvent\": \"custom.exercise_interaction\", \"data\": {\"outcomeType\": 1, \"valueTowardsCompletion\": 0.2, \"interactionType\": 1, \"questionType\": 2, \"questionId\": \"5_WebsiteAnalytics\", \"learnToolsVersion\": \"0.3.4\", \"failureMessage\": \"\", \"exceptionClass\": \"\", \"trace\": \"\"}}, \"*\")"
          },
          "metadata": {}
        },
        {
          "output_type": "display_data",
          "data": {
            "text/plain": "Correct",
            "text/markdown": "<span style=\"color:#33cc33\">Correct</span>"
          },
          "metadata": {}
        }
      ]
    },
    {
      "cell_type": "code",
      "source": [
        "# Uncomment to see a hint\n",
        "#q5.hint()\n",
        "\n",
        "# Uncomment to see the solution\n",
        "#q5.solution()"
      ],
      "metadata": {
        "execution": {
          "iopub.status.busy": "2024-03-05T14:37:05.200008Z",
          "iopub.execute_input": "2024-03-05T14:37:05.200376Z",
          "iopub.status.idle": "2024-03-05T14:37:05.204919Z",
          "shell.execute_reply.started": "2024-03-05T14:37:05.200346Z",
          "shell.execute_reply": "2024-03-05T14:37:05.203978Z"
        },
        "trusted": true,
        "id": "dpcNF7nnDcSZ"
      },
      "execution_count": null,
      "outputs": []
    },
    {
      "cell_type": "markdown",
      "source": [
        "# Congratulations!\n",
        "\n",
        "Congratulations for finishing the Intro to Programming course!  You should be proud of your very first steps with learning programming.  As next steps, we recommend taking:\n",
        "- the **[Python course](http://www.kaggle.com/learn/python)**, and\n",
        "- the **[Intro to Machine Learning course](https://www.kaggle.com/learn/intro-to-machine-learning)**."
      ],
      "metadata": {
        "id": "_p-ChEKuDcSZ"
      }
    },
    {
      "cell_type": "markdown",
      "source": [
        "---\n",
        "\n",
        "\n",
        "\n",
        "\n",
        "*Have questions or comments? Visit the [course discussion forum](https://www.kaggle.com/learn/intro-to-programming/discussion) to chat with other learners.*"
      ],
      "metadata": {
        "id": "-d_7HpX8DcSZ"
      }
    }
  ]
}