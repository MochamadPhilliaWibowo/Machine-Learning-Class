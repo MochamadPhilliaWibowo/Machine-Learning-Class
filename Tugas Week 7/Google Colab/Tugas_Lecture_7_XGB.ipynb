{
  "nbformat": 4,
  "nbformat_minor": 0,
  "metadata": {
    "colab": {
      "provenance": [],
      "authorship_tag": "ABX9TyNDC+I4dR25xRoMbs7tV61k",
      "include_colab_link": true
    },
    "kernelspec": {
      "name": "python3",
      "display_name": "Python 3"
    },
    "language_info": {
      "name": "python"
    }
  },
  "cells": [
    {
      "cell_type": "markdown",
      "metadata": {
        "id": "view-in-github",
        "colab_type": "text"
      },
      "source": [
        "<a href=\"https://colab.research.google.com/github/MochamadPhilliaWibowo/Machine-Learning-Class/blob/main/Tugas%20Week%207/Google%20Colab/Tugas_Lecture_7_XGB.ipynb\" target=\"_parent\"><img src=\"https://colab.research.google.com/assets/colab-badge.svg\" alt=\"Open In Colab\"/></a>"
      ]
    },
    {
      "cell_type": "markdown",
      "source": [
        "Nama : Mochamad Phillia Wibowo\n",
        "\n",
        "NIM : 1103204191\n",
        "\n",
        "Kelas : Machine Learning (TK-44-G04)\n",
        "\n",
        "Tugas 7 XGBoost pada dataset melb_data.csv"
      ],
      "metadata": {
        "id": "dFhP7XZCcxjZ"
      }
    },
    {
      "cell_type": "markdown",
      "source": [
        "# Menghubungkan GDrive ke GColab"
      ],
      "metadata": {
        "id": "zVOk9EzsdRkJ"
      }
    },
    {
      "cell_type": "code",
      "execution_count": 1,
      "metadata": {
        "colab": {
          "base_uri": "https://localhost:8080/"
        },
        "id": "XVH6wMKiY3TB",
        "outputId": "299b9f43-b180-4802-ef71-27e7c2448728"
      },
      "outputs": [
        {
          "output_type": "stream",
          "name": "stdout",
          "text": [
            "Mounted at /content/drive\n"
          ]
        }
      ],
      "source": [
        "# Import library Google Colab untuk mengakses Google Drive\n",
        "from google.colab import drive\n",
        "\n",
        "# Mount (pasang) Google Drive pada direktori /content/drive\n",
        "drive.mount('/content/drive')"
      ]
    },
    {
      "cell_type": "markdown",
      "source": [
        "Kode di atas adalah penggunaan library Google Colab untuk mengakses Google Drive. Pertama, kita mengimpor modul drive dari google.colab. Kemudian, kita melakukan mount Google Drive pada direktori /content/drive menggunakan fungsi drive.mount(). Setelah dieksekusi, kita dapat mengakses file yang ada di Google Drive dari Google Colab."
      ],
      "metadata": {
        "id": "9u3OaYFliT6R"
      }
    },
    {
      "cell_type": "markdown",
      "source": [
        "# Memuat Library"
      ],
      "metadata": {
        "id": "9BHO8ZRwdYgL"
      }
    },
    {
      "cell_type": "code",
      "source": [
        "# Import library Pandas dan menggantikan 'pd' sebagai alias untuk penggunaan lebih lanjut\n",
        "import pandas as pd\n",
        "import seaborn as sns\n",
        "import matplotlib.pyplot as plt"
      ],
      "metadata": {
        "id": "3nQWRdqvZy5I"
      },
      "execution_count": 26,
      "outputs": []
    },
    {
      "cell_type": "markdown",
      "source": [
        "Kode di atas mengimpor library Pandas dengan alias pd, serta library Seaborn dan Matplotlib. Dengan mengggunakan pd sebagai alias, kita dapat menggunakan fungsi-fungsi dari Pandas dengan penulisan yang lebih singkat dan mudah dibaca. Sedangkan, Seaborn dan Matplotlib digunakan untuk visualisasi data."
      ],
      "metadata": {
        "id": "ZWsgiGq0iVGU"
      }
    },
    {
      "cell_type": "markdown",
      "source": [
        "# Eksplor Data"
      ],
      "metadata": {
        "id": "0BalfFOudb6T"
      }
    },
    {
      "cell_type": "code",
      "source": [
        "#Membaca file CSV yang berisi data ke dalam sebuah DataFrame\n",
        "data = pd.read_csv('/content/drive/MyDrive/Dataset/melb_data.csv')"
      ],
      "metadata": {
        "id": "qWMcwLNYZy29"
      },
      "execution_count": 3,
      "outputs": []
    },
    {
      "cell_type": "code",
      "source": [
        "#Menampilkan isi dari dataset\n",
        "data"
      ],
      "metadata": {
        "colab": {
          "base_uri": "https://localhost:8080/",
          "height": 704
        },
        "id": "iHUqHT9UZy0s",
        "outputId": "2734228c-cec9-44a0-c064-e59068895ee9"
      },
      "execution_count": 4,
      "outputs": [
        {
          "output_type": "execute_result",
          "data": {
            "text/plain": [
              "       Unnamed: 0        Suburb           Address  Rooms Type      Price  \\\n",
              "0               1    Abbotsford      85 Turner St      2    h  1480000.0   \n",
              "1               2    Abbotsford   25 Bloomburg St      2    h  1035000.0   \n",
              "2               4    Abbotsford      5 Charles St      3    h  1465000.0   \n",
              "3               5    Abbotsford  40 Federation La      3    h   850000.0   \n",
              "4               6    Abbotsford       55a Park St      4    h  1600000.0   \n",
              "...           ...           ...               ...    ...  ...        ...   \n",
              "18391       23540  Williamstown   8/2 Thompson St      2    t   622500.0   \n",
              "18392       23541  Williamstown      96 Verdon St      4    h  2500000.0   \n",
              "18393       23544     Yallambie      17 Amaroo Wy      4    h  1100000.0   \n",
              "18394       23545    Yarraville        6 Agnes St      4    h  1285000.0   \n",
              "18395       23546    Yarraville     33 Freeman St      4    h  1050000.0   \n",
              "\n",
              "      Method     SellerG        Date  Distance  ...  Bathroom  Car  Landsize  \\\n",
              "0          S      Biggin   3/12/2016       2.5  ...       1.0  1.0     202.0   \n",
              "1          S      Biggin   4/02/2016       2.5  ...       1.0  0.0     156.0   \n",
              "2         SP      Biggin   4/03/2017       2.5  ...       2.0  0.0     134.0   \n",
              "3         PI      Biggin   4/03/2017       2.5  ...       2.0  1.0      94.0   \n",
              "4         VB      Nelson   4/06/2016       2.5  ...       1.0  2.0     120.0   \n",
              "...      ...         ...         ...       ...  ...       ...  ...       ...   \n",
              "18391     SP        Greg  26/08/2017       6.8  ...       2.0  1.0       NaN   \n",
              "18392     PI     Sweeney  26/08/2017       6.8  ...       1.0  5.0     866.0   \n",
              "18393      S  Buckingham  26/08/2017      12.7  ...       3.0  2.0       NaN   \n",
              "18394     SP     Village  26/08/2017       6.3  ...       1.0  1.0     362.0   \n",
              "18395     VB     Village  26/08/2017       6.3  ...       2.0  2.0       NaN   \n",
              "\n",
              "       BuildingArea  YearBuilt  CouncilArea  Lattitude Longtitude  \\\n",
              "0               NaN        NaN        Yarra  -37.79960  144.99840   \n",
              "1              79.0     1900.0        Yarra  -37.80790  144.99340   \n",
              "2             150.0     1900.0        Yarra  -37.80930  144.99440   \n",
              "3               NaN        NaN        Yarra  -37.79690  144.99690   \n",
              "4             142.0     2014.0        Yarra  -37.80720  144.99410   \n",
              "...             ...        ...          ...        ...        ...   \n",
              "18391          89.0     2010.0          NaN  -37.86393  144.90484   \n",
              "18392         157.0     1920.0          NaN  -37.85908  144.89299   \n",
              "18393           NaN        NaN          NaN  -37.72006  145.10547   \n",
              "18394         112.0     1920.0          NaN  -37.81188  144.88449   \n",
              "18395         139.0     1950.0          NaN  -37.81829  144.87404   \n",
              "\n",
              "                  Regionname  Propertycount  \n",
              "0      Northern Metropolitan         4019.0  \n",
              "1      Northern Metropolitan         4019.0  \n",
              "2      Northern Metropolitan         4019.0  \n",
              "3      Northern Metropolitan         4019.0  \n",
              "4      Northern Metropolitan         4019.0  \n",
              "...                      ...            ...  \n",
              "18391   Western Metropolitan         6380.0  \n",
              "18392   Western Metropolitan         6380.0  \n",
              "18393  Northern Metropolitan         1369.0  \n",
              "18394   Western Metropolitan         6543.0  \n",
              "18395   Western Metropolitan         6543.0  \n",
              "\n",
              "[18396 rows x 22 columns]"
            ],
            "text/html": [
              "\n",
              "  <div id=\"df-acea5f76-ccc8-412f-8fa5-d00f84f29fce\" class=\"colab-df-container\">\n",
              "    <div>\n",
              "<style scoped>\n",
              "    .dataframe tbody tr th:only-of-type {\n",
              "        vertical-align: middle;\n",
              "    }\n",
              "\n",
              "    .dataframe tbody tr th {\n",
              "        vertical-align: top;\n",
              "    }\n",
              "\n",
              "    .dataframe thead th {\n",
              "        text-align: right;\n",
              "    }\n",
              "</style>\n",
              "<table border=\"1\" class=\"dataframe\">\n",
              "  <thead>\n",
              "    <tr style=\"text-align: right;\">\n",
              "      <th></th>\n",
              "      <th>Unnamed: 0</th>\n",
              "      <th>Suburb</th>\n",
              "      <th>Address</th>\n",
              "      <th>Rooms</th>\n",
              "      <th>Type</th>\n",
              "      <th>Price</th>\n",
              "      <th>Method</th>\n",
              "      <th>SellerG</th>\n",
              "      <th>Date</th>\n",
              "      <th>Distance</th>\n",
              "      <th>...</th>\n",
              "      <th>Bathroom</th>\n",
              "      <th>Car</th>\n",
              "      <th>Landsize</th>\n",
              "      <th>BuildingArea</th>\n",
              "      <th>YearBuilt</th>\n",
              "      <th>CouncilArea</th>\n",
              "      <th>Lattitude</th>\n",
              "      <th>Longtitude</th>\n",
              "      <th>Regionname</th>\n",
              "      <th>Propertycount</th>\n",
              "    </tr>\n",
              "  </thead>\n",
              "  <tbody>\n",
              "    <tr>\n",
              "      <th>0</th>\n",
              "      <td>1</td>\n",
              "      <td>Abbotsford</td>\n",
              "      <td>85 Turner St</td>\n",
              "      <td>2</td>\n",
              "      <td>h</td>\n",
              "      <td>1480000.0</td>\n",
              "      <td>S</td>\n",
              "      <td>Biggin</td>\n",
              "      <td>3/12/2016</td>\n",
              "      <td>2.5</td>\n",
              "      <td>...</td>\n",
              "      <td>1.0</td>\n",
              "      <td>1.0</td>\n",
              "      <td>202.0</td>\n",
              "      <td>NaN</td>\n",
              "      <td>NaN</td>\n",
              "      <td>Yarra</td>\n",
              "      <td>-37.79960</td>\n",
              "      <td>144.99840</td>\n",
              "      <td>Northern Metropolitan</td>\n",
              "      <td>4019.0</td>\n",
              "    </tr>\n",
              "    <tr>\n",
              "      <th>1</th>\n",
              "      <td>2</td>\n",
              "      <td>Abbotsford</td>\n",
              "      <td>25 Bloomburg St</td>\n",
              "      <td>2</td>\n",
              "      <td>h</td>\n",
              "      <td>1035000.0</td>\n",
              "      <td>S</td>\n",
              "      <td>Biggin</td>\n",
              "      <td>4/02/2016</td>\n",
              "      <td>2.5</td>\n",
              "      <td>...</td>\n",
              "      <td>1.0</td>\n",
              "      <td>0.0</td>\n",
              "      <td>156.0</td>\n",
              "      <td>79.0</td>\n",
              "      <td>1900.0</td>\n",
              "      <td>Yarra</td>\n",
              "      <td>-37.80790</td>\n",
              "      <td>144.99340</td>\n",
              "      <td>Northern Metropolitan</td>\n",
              "      <td>4019.0</td>\n",
              "    </tr>\n",
              "    <tr>\n",
              "      <th>2</th>\n",
              "      <td>4</td>\n",
              "      <td>Abbotsford</td>\n",
              "      <td>5 Charles St</td>\n",
              "      <td>3</td>\n",
              "      <td>h</td>\n",
              "      <td>1465000.0</td>\n",
              "      <td>SP</td>\n",
              "      <td>Biggin</td>\n",
              "      <td>4/03/2017</td>\n",
              "      <td>2.5</td>\n",
              "      <td>...</td>\n",
              "      <td>2.0</td>\n",
              "      <td>0.0</td>\n",
              "      <td>134.0</td>\n",
              "      <td>150.0</td>\n",
              "      <td>1900.0</td>\n",
              "      <td>Yarra</td>\n",
              "      <td>-37.80930</td>\n",
              "      <td>144.99440</td>\n",
              "      <td>Northern Metropolitan</td>\n",
              "      <td>4019.0</td>\n",
              "    </tr>\n",
              "    <tr>\n",
              "      <th>3</th>\n",
              "      <td>5</td>\n",
              "      <td>Abbotsford</td>\n",
              "      <td>40 Federation La</td>\n",
              "      <td>3</td>\n",
              "      <td>h</td>\n",
              "      <td>850000.0</td>\n",
              "      <td>PI</td>\n",
              "      <td>Biggin</td>\n",
              "      <td>4/03/2017</td>\n",
              "      <td>2.5</td>\n",
              "      <td>...</td>\n",
              "      <td>2.0</td>\n",
              "      <td>1.0</td>\n",
              "      <td>94.0</td>\n",
              "      <td>NaN</td>\n",
              "      <td>NaN</td>\n",
              "      <td>Yarra</td>\n",
              "      <td>-37.79690</td>\n",
              "      <td>144.99690</td>\n",
              "      <td>Northern Metropolitan</td>\n",
              "      <td>4019.0</td>\n",
              "    </tr>\n",
              "    <tr>\n",
              "      <th>4</th>\n",
              "      <td>6</td>\n",
              "      <td>Abbotsford</td>\n",
              "      <td>55a Park St</td>\n",
              "      <td>4</td>\n",
              "      <td>h</td>\n",
              "      <td>1600000.0</td>\n",
              "      <td>VB</td>\n",
              "      <td>Nelson</td>\n",
              "      <td>4/06/2016</td>\n",
              "      <td>2.5</td>\n",
              "      <td>...</td>\n",
              "      <td>1.0</td>\n",
              "      <td>2.0</td>\n",
              "      <td>120.0</td>\n",
              "      <td>142.0</td>\n",
              "      <td>2014.0</td>\n",
              "      <td>Yarra</td>\n",
              "      <td>-37.80720</td>\n",
              "      <td>144.99410</td>\n",
              "      <td>Northern Metropolitan</td>\n",
              "      <td>4019.0</td>\n",
              "    </tr>\n",
              "    <tr>\n",
              "      <th>...</th>\n",
              "      <td>...</td>\n",
              "      <td>...</td>\n",
              "      <td>...</td>\n",
              "      <td>...</td>\n",
              "      <td>...</td>\n",
              "      <td>...</td>\n",
              "      <td>...</td>\n",
              "      <td>...</td>\n",
              "      <td>...</td>\n",
              "      <td>...</td>\n",
              "      <td>...</td>\n",
              "      <td>...</td>\n",
              "      <td>...</td>\n",
              "      <td>...</td>\n",
              "      <td>...</td>\n",
              "      <td>...</td>\n",
              "      <td>...</td>\n",
              "      <td>...</td>\n",
              "      <td>...</td>\n",
              "      <td>...</td>\n",
              "      <td>...</td>\n",
              "    </tr>\n",
              "    <tr>\n",
              "      <th>18391</th>\n",
              "      <td>23540</td>\n",
              "      <td>Williamstown</td>\n",
              "      <td>8/2 Thompson St</td>\n",
              "      <td>2</td>\n",
              "      <td>t</td>\n",
              "      <td>622500.0</td>\n",
              "      <td>SP</td>\n",
              "      <td>Greg</td>\n",
              "      <td>26/08/2017</td>\n",
              "      <td>6.8</td>\n",
              "      <td>...</td>\n",
              "      <td>2.0</td>\n",
              "      <td>1.0</td>\n",
              "      <td>NaN</td>\n",
              "      <td>89.0</td>\n",
              "      <td>2010.0</td>\n",
              "      <td>NaN</td>\n",
              "      <td>-37.86393</td>\n",
              "      <td>144.90484</td>\n",
              "      <td>Western Metropolitan</td>\n",
              "      <td>6380.0</td>\n",
              "    </tr>\n",
              "    <tr>\n",
              "      <th>18392</th>\n",
              "      <td>23541</td>\n",
              "      <td>Williamstown</td>\n",
              "      <td>96 Verdon St</td>\n",
              "      <td>4</td>\n",
              "      <td>h</td>\n",
              "      <td>2500000.0</td>\n",
              "      <td>PI</td>\n",
              "      <td>Sweeney</td>\n",
              "      <td>26/08/2017</td>\n",
              "      <td>6.8</td>\n",
              "      <td>...</td>\n",
              "      <td>1.0</td>\n",
              "      <td>5.0</td>\n",
              "      <td>866.0</td>\n",
              "      <td>157.0</td>\n",
              "      <td>1920.0</td>\n",
              "      <td>NaN</td>\n",
              "      <td>-37.85908</td>\n",
              "      <td>144.89299</td>\n",
              "      <td>Western Metropolitan</td>\n",
              "      <td>6380.0</td>\n",
              "    </tr>\n",
              "    <tr>\n",
              "      <th>18393</th>\n",
              "      <td>23544</td>\n",
              "      <td>Yallambie</td>\n",
              "      <td>17 Amaroo Wy</td>\n",
              "      <td>4</td>\n",
              "      <td>h</td>\n",
              "      <td>1100000.0</td>\n",
              "      <td>S</td>\n",
              "      <td>Buckingham</td>\n",
              "      <td>26/08/2017</td>\n",
              "      <td>12.7</td>\n",
              "      <td>...</td>\n",
              "      <td>3.0</td>\n",
              "      <td>2.0</td>\n",
              "      <td>NaN</td>\n",
              "      <td>NaN</td>\n",
              "      <td>NaN</td>\n",
              "      <td>NaN</td>\n",
              "      <td>-37.72006</td>\n",
              "      <td>145.10547</td>\n",
              "      <td>Northern Metropolitan</td>\n",
              "      <td>1369.0</td>\n",
              "    </tr>\n",
              "    <tr>\n",
              "      <th>18394</th>\n",
              "      <td>23545</td>\n",
              "      <td>Yarraville</td>\n",
              "      <td>6 Agnes St</td>\n",
              "      <td>4</td>\n",
              "      <td>h</td>\n",
              "      <td>1285000.0</td>\n",
              "      <td>SP</td>\n",
              "      <td>Village</td>\n",
              "      <td>26/08/2017</td>\n",
              "      <td>6.3</td>\n",
              "      <td>...</td>\n",
              "      <td>1.0</td>\n",
              "      <td>1.0</td>\n",
              "      <td>362.0</td>\n",
              "      <td>112.0</td>\n",
              "      <td>1920.0</td>\n",
              "      <td>NaN</td>\n",
              "      <td>-37.81188</td>\n",
              "      <td>144.88449</td>\n",
              "      <td>Western Metropolitan</td>\n",
              "      <td>6543.0</td>\n",
              "    </tr>\n",
              "    <tr>\n",
              "      <th>18395</th>\n",
              "      <td>23546</td>\n",
              "      <td>Yarraville</td>\n",
              "      <td>33 Freeman St</td>\n",
              "      <td>4</td>\n",
              "      <td>h</td>\n",
              "      <td>1050000.0</td>\n",
              "      <td>VB</td>\n",
              "      <td>Village</td>\n",
              "      <td>26/08/2017</td>\n",
              "      <td>6.3</td>\n",
              "      <td>...</td>\n",
              "      <td>2.0</td>\n",
              "      <td>2.0</td>\n",
              "      <td>NaN</td>\n",
              "      <td>139.0</td>\n",
              "      <td>1950.0</td>\n",
              "      <td>NaN</td>\n",
              "      <td>-37.81829</td>\n",
              "      <td>144.87404</td>\n",
              "      <td>Western Metropolitan</td>\n",
              "      <td>6543.0</td>\n",
              "    </tr>\n",
              "  </tbody>\n",
              "</table>\n",
              "<p>18396 rows × 22 columns</p>\n",
              "</div>\n",
              "    <div class=\"colab-df-buttons\">\n",
              "\n",
              "  <div class=\"colab-df-container\">\n",
              "    <button class=\"colab-df-convert\" onclick=\"convertToInteractive('df-acea5f76-ccc8-412f-8fa5-d00f84f29fce')\"\n",
              "            title=\"Convert this dataframe to an interactive table.\"\n",
              "            style=\"display:none;\">\n",
              "\n",
              "  <svg xmlns=\"http://www.w3.org/2000/svg\" height=\"24px\" viewBox=\"0 -960 960 960\">\n",
              "    <path d=\"M120-120v-720h720v720H120Zm60-500h600v-160H180v160Zm220 220h160v-160H400v160Zm0 220h160v-160H400v160ZM180-400h160v-160H180v160Zm440 0h160v-160H620v160ZM180-180h160v-160H180v160Zm440 0h160v-160H620v160Z\"/>\n",
              "  </svg>\n",
              "    </button>\n",
              "\n",
              "  <style>\n",
              "    .colab-df-container {\n",
              "      display:flex;\n",
              "      gap: 12px;\n",
              "    }\n",
              "\n",
              "    .colab-df-convert {\n",
              "      background-color: #E8F0FE;\n",
              "      border: none;\n",
              "      border-radius: 50%;\n",
              "      cursor: pointer;\n",
              "      display: none;\n",
              "      fill: #1967D2;\n",
              "      height: 32px;\n",
              "      padding: 0 0 0 0;\n",
              "      width: 32px;\n",
              "    }\n",
              "\n",
              "    .colab-df-convert:hover {\n",
              "      background-color: #E2EBFA;\n",
              "      box-shadow: 0px 1px 2px rgba(60, 64, 67, 0.3), 0px 1px 3px 1px rgba(60, 64, 67, 0.15);\n",
              "      fill: #174EA6;\n",
              "    }\n",
              "\n",
              "    .colab-df-buttons div {\n",
              "      margin-bottom: 4px;\n",
              "    }\n",
              "\n",
              "    [theme=dark] .colab-df-convert {\n",
              "      background-color: #3B4455;\n",
              "      fill: #D2E3FC;\n",
              "    }\n",
              "\n",
              "    [theme=dark] .colab-df-convert:hover {\n",
              "      background-color: #434B5C;\n",
              "      box-shadow: 0px 1px 3px 1px rgba(0, 0, 0, 0.15);\n",
              "      filter: drop-shadow(0px 1px 2px rgba(0, 0, 0, 0.3));\n",
              "      fill: #FFFFFF;\n",
              "    }\n",
              "  </style>\n",
              "\n",
              "    <script>\n",
              "      const buttonEl =\n",
              "        document.querySelector('#df-acea5f76-ccc8-412f-8fa5-d00f84f29fce button.colab-df-convert');\n",
              "      buttonEl.style.display =\n",
              "        google.colab.kernel.accessAllowed ? 'block' : 'none';\n",
              "\n",
              "      async function convertToInteractive(key) {\n",
              "        const element = document.querySelector('#df-acea5f76-ccc8-412f-8fa5-d00f84f29fce');\n",
              "        const dataTable =\n",
              "          await google.colab.kernel.invokeFunction('convertToInteractive',\n",
              "                                                    [key], {});\n",
              "        if (!dataTable) return;\n",
              "\n",
              "        const docLinkHtml = 'Like what you see? Visit the ' +\n",
              "          '<a target=\"_blank\" href=https://colab.research.google.com/notebooks/data_table.ipynb>data table notebook</a>'\n",
              "          + ' to learn more about interactive tables.';\n",
              "        element.innerHTML = '';\n",
              "        dataTable['output_type'] = 'display_data';\n",
              "        await google.colab.output.renderOutput(dataTable, element);\n",
              "        const docLink = document.createElement('div');\n",
              "        docLink.innerHTML = docLinkHtml;\n",
              "        element.appendChild(docLink);\n",
              "      }\n",
              "    </script>\n",
              "  </div>\n",
              "\n",
              "\n",
              "<div id=\"df-15f1e520-176d-4551-9a25-9e373032a746\">\n",
              "  <button class=\"colab-df-quickchart\" onclick=\"quickchart('df-15f1e520-176d-4551-9a25-9e373032a746')\"\n",
              "            title=\"Suggest charts\"\n",
              "            style=\"display:none;\">\n",
              "\n",
              "<svg xmlns=\"http://www.w3.org/2000/svg\" height=\"24px\"viewBox=\"0 0 24 24\"\n",
              "     width=\"24px\">\n",
              "    <g>\n",
              "        <path d=\"M19 3H5c-1.1 0-2 .9-2 2v14c0 1.1.9 2 2 2h14c1.1 0 2-.9 2-2V5c0-1.1-.9-2-2-2zM9 17H7v-7h2v7zm4 0h-2V7h2v10zm4 0h-2v-4h2v4z\"/>\n",
              "    </g>\n",
              "</svg>\n",
              "  </button>\n",
              "\n",
              "<style>\n",
              "  .colab-df-quickchart {\n",
              "      --bg-color: #E8F0FE;\n",
              "      --fill-color: #1967D2;\n",
              "      --hover-bg-color: #E2EBFA;\n",
              "      --hover-fill-color: #174EA6;\n",
              "      --disabled-fill-color: #AAA;\n",
              "      --disabled-bg-color: #DDD;\n",
              "  }\n",
              "\n",
              "  [theme=dark] .colab-df-quickchart {\n",
              "      --bg-color: #3B4455;\n",
              "      --fill-color: #D2E3FC;\n",
              "      --hover-bg-color: #434B5C;\n",
              "      --hover-fill-color: #FFFFFF;\n",
              "      --disabled-bg-color: #3B4455;\n",
              "      --disabled-fill-color: #666;\n",
              "  }\n",
              "\n",
              "  .colab-df-quickchart {\n",
              "    background-color: var(--bg-color);\n",
              "    border: none;\n",
              "    border-radius: 50%;\n",
              "    cursor: pointer;\n",
              "    display: none;\n",
              "    fill: var(--fill-color);\n",
              "    height: 32px;\n",
              "    padding: 0;\n",
              "    width: 32px;\n",
              "  }\n",
              "\n",
              "  .colab-df-quickchart:hover {\n",
              "    background-color: var(--hover-bg-color);\n",
              "    box-shadow: 0 1px 2px rgba(60, 64, 67, 0.3), 0 1px 3px 1px rgba(60, 64, 67, 0.15);\n",
              "    fill: var(--button-hover-fill-color);\n",
              "  }\n",
              "\n",
              "  .colab-df-quickchart-complete:disabled,\n",
              "  .colab-df-quickchart-complete:disabled:hover {\n",
              "    background-color: var(--disabled-bg-color);\n",
              "    fill: var(--disabled-fill-color);\n",
              "    box-shadow: none;\n",
              "  }\n",
              "\n",
              "  .colab-df-spinner {\n",
              "    border: 2px solid var(--fill-color);\n",
              "    border-color: transparent;\n",
              "    border-bottom-color: var(--fill-color);\n",
              "    animation:\n",
              "      spin 1s steps(1) infinite;\n",
              "  }\n",
              "\n",
              "  @keyframes spin {\n",
              "    0% {\n",
              "      border-color: transparent;\n",
              "      border-bottom-color: var(--fill-color);\n",
              "      border-left-color: var(--fill-color);\n",
              "    }\n",
              "    20% {\n",
              "      border-color: transparent;\n",
              "      border-left-color: var(--fill-color);\n",
              "      border-top-color: var(--fill-color);\n",
              "    }\n",
              "    30% {\n",
              "      border-color: transparent;\n",
              "      border-left-color: var(--fill-color);\n",
              "      border-top-color: var(--fill-color);\n",
              "      border-right-color: var(--fill-color);\n",
              "    }\n",
              "    40% {\n",
              "      border-color: transparent;\n",
              "      border-right-color: var(--fill-color);\n",
              "      border-top-color: var(--fill-color);\n",
              "    }\n",
              "    60% {\n",
              "      border-color: transparent;\n",
              "      border-right-color: var(--fill-color);\n",
              "    }\n",
              "    80% {\n",
              "      border-color: transparent;\n",
              "      border-right-color: var(--fill-color);\n",
              "      border-bottom-color: var(--fill-color);\n",
              "    }\n",
              "    90% {\n",
              "      border-color: transparent;\n",
              "      border-bottom-color: var(--fill-color);\n",
              "    }\n",
              "  }\n",
              "</style>\n",
              "\n",
              "  <script>\n",
              "    async function quickchart(key) {\n",
              "      const quickchartButtonEl =\n",
              "        document.querySelector('#' + key + ' button');\n",
              "      quickchartButtonEl.disabled = true;  // To prevent multiple clicks.\n",
              "      quickchartButtonEl.classList.add('colab-df-spinner');\n",
              "      try {\n",
              "        const charts = await google.colab.kernel.invokeFunction(\n",
              "            'suggestCharts', [key], {});\n",
              "      } catch (error) {\n",
              "        console.error('Error during call to suggestCharts:', error);\n",
              "      }\n",
              "      quickchartButtonEl.classList.remove('colab-df-spinner');\n",
              "      quickchartButtonEl.classList.add('colab-df-quickchart-complete');\n",
              "    }\n",
              "    (() => {\n",
              "      let quickchartButtonEl =\n",
              "        document.querySelector('#df-15f1e520-176d-4551-9a25-9e373032a746 button');\n",
              "      quickchartButtonEl.style.display =\n",
              "        google.colab.kernel.accessAllowed ? 'block' : 'none';\n",
              "    })();\n",
              "  </script>\n",
              "</div>\n",
              "    </div>\n",
              "  </div>\n"
            ],
            "application/vnd.google.colaboratory.intrinsic+json": {
              "type": "dataframe",
              "variable_name": "data"
            }
          },
          "metadata": {},
          "execution_count": 4
        }
      ]
    },
    {
      "cell_type": "code",
      "source": [
        "# Ini adalah kode untuk menampilkan informasi tentang objek 'data'\n",
        "data.info()"
      ],
      "metadata": {
        "colab": {
          "base_uri": "https://localhost:8080/"
        },
        "id": "rca8yP6vZyyV",
        "outputId": "2c7788d2-5861-4dfe-bd75-1b6bd693bb8d"
      },
      "execution_count": 5,
      "outputs": [
        {
          "output_type": "stream",
          "name": "stdout",
          "text": [
            "<class 'pandas.core.frame.DataFrame'>\n",
            "RangeIndex: 18396 entries, 0 to 18395\n",
            "Data columns (total 22 columns):\n",
            " #   Column         Non-Null Count  Dtype  \n",
            "---  ------         --------------  -----  \n",
            " 0   Unnamed: 0     18396 non-null  int64  \n",
            " 1   Suburb         18396 non-null  object \n",
            " 2   Address        18396 non-null  object \n",
            " 3   Rooms          18396 non-null  int64  \n",
            " 4   Type           18396 non-null  object \n",
            " 5   Price          18396 non-null  float64\n",
            " 6   Method         18396 non-null  object \n",
            " 7   SellerG        18396 non-null  object \n",
            " 8   Date           18396 non-null  object \n",
            " 9   Distance       18395 non-null  float64\n",
            " 10  Postcode       18395 non-null  float64\n",
            " 11  Bedroom2       14927 non-null  float64\n",
            " 12  Bathroom       14925 non-null  float64\n",
            " 13  Car            14820 non-null  float64\n",
            " 14  Landsize       13603 non-null  float64\n",
            " 15  BuildingArea   7762 non-null   float64\n",
            " 16  YearBuilt      8958 non-null   float64\n",
            " 17  CouncilArea    12233 non-null  object \n",
            " 18  Lattitude      15064 non-null  float64\n",
            " 19  Longtitude     15064 non-null  float64\n",
            " 20  Regionname     18395 non-null  object \n",
            " 21  Propertycount  18395 non-null  float64\n",
            "dtypes: float64(12), int64(2), object(8)\n",
            "memory usage: 3.1+ MB\n"
          ]
        }
      ]
    },
    {
      "cell_type": "markdown",
      "source": [
        "Kode di atas membaca file CSV yang berisi data ke dalam sebuah DataFrame menggunakan Pandas. Path file CSV tersebut diambil dari Google Drive. Setelah itu, kode menampilkan isi dari dataset dengan memanggil variabel data.\n",
        "\n",
        "Selanjutnya, data.info() digunakan untuk menampilkan informasi tentang objek DataFrame data, termasuk informasi tentang jumlah baris dan kolom, tipe data setiap kolom, dan jumlah nilai non-null dalam setiap kolom."
      ],
      "metadata": {
        "id": "eU2wGZOAiptS"
      }
    },
    {
      "cell_type": "markdown",
      "source": [
        "# Bersihkan Data"
      ],
      "metadata": {
        "id": "Rtdi1xhVdrJb"
      }
    },
    {
      "cell_type": "code",
      "source": [
        "# Menghitung jumlah nilai NaN (Not a Number) pada kolom 'Bedroom2'\n",
        "nan_count_bedroom2 = data['Bedroom2'].isna().sum()\n",
        "\n",
        "# Menghitung jumlah nilai NaN pada kolom 'Bathroom'\n",
        "nan_count_bathroom = data['Bathroom'].isna().sum()\n",
        "\n",
        "# Menghitung jumlah nilai NaN pada kolom 'Car'\n",
        "nan_count_car = data['Car'].isna().sum()\n",
        "\n",
        "# Menampilkan jumlah NaN pada kolom 'Bedroom2' ke layar\n",
        "print(f\"Jumlah NaN pada kolom Bedroom2: {nan_count_bedroom2}\")\n",
        "\n",
        "# Menampilkan jumlah NaN pada kolom 'Bathroom' ke layar\n",
        "print(f\"Jumlah NaN pada kolom Bathroom: {nan_count_bathroom}\")\n",
        "\n",
        "# Menampilkan jumlah NaN pada kolom 'Car' ke layar\n",
        "print(f\"Jumlah NaN pada kolom Car: {nan_count_car}\")"
      ],
      "metadata": {
        "colab": {
          "base_uri": "https://localhost:8080/"
        },
        "id": "rSUFnknOZywR",
        "outputId": "217baaa4-7acf-41f2-c826-f40cf58d86b3"
      },
      "execution_count": 6,
      "outputs": [
        {
          "output_type": "stream",
          "name": "stdout",
          "text": [
            "Jumlah NaN pada kolom Bedroom2: 3469\n",
            "Jumlah NaN pada kolom Bathroom: 3471\n",
            "Jumlah NaN pada kolom Car: 3576\n"
          ]
        }
      ]
    },
    {
      "cell_type": "markdown",
      "source": [
        "Kode di atas menghitung jumlah nilai NaN (Not a Number) pada kolom 'Bedroom2', 'Bathroom', dan 'Car' dalam DataFrame data.\n",
        "\n",
        "1. Pada kolom 'Bedroom2', terdapat 3469 nilai NaN.\n",
        "2. Pada kolom 'Bathroom', terdapat 3471 nilai NaN.\n",
        "3. Pada kolom 'Car', terdapat 3576 nilai NaN.\n",
        "\n",
        "Nilai NaN menandakan adanya data yang hilang atau tidak tersedia dalam dataset. Mengetahui jumlah NaN pada setiap kolom penting untuk memahami kualitas dan integritas data serta dapat membantu dalam proses pembersihan data (data cleaning) dan pengambilan keputusan."
      ],
      "metadata": {
        "id": "mchUpRiciwGb"
      }
    },
    {
      "cell_type": "code",
      "source": [
        "# Menghapus baris (data) yang memiliki nilai yang hilang (NaN) dalam kolom 'Car'\n",
        "data.dropna(subset=['Car'], inplace=True)"
      ],
      "metadata": {
        "id": "hk_QJlOWZyt9"
      },
      "execution_count": 7,
      "outputs": []
    },
    {
      "cell_type": "code",
      "source": [
        "# Menghitung jumlah nilai NaN (missing values) dalam kolom 'Car' dari DataFrame 'data'\n",
        "nan_count_car = data['Car'].isna().sum()\n",
        "\n",
        "# Menampilkan jumlah nilai NaN dalam kolom 'Car' menggunakan f-string\n",
        "print(f\"Jumlah nilai NaN dalam kolom Car: {nan_count_car}\")"
      ],
      "metadata": {
        "colab": {
          "base_uri": "https://localhost:8080/"
        },
        "id": "wpHeSOwzZysF",
        "outputId": "9bfa9c9f-c433-4c18-d511-41f64ea2b0a8"
      },
      "execution_count": 8,
      "outputs": [
        {
          "output_type": "stream",
          "name": "stdout",
          "text": [
            "Jumlah nilai NaN dalam kolom Car: 0\n"
          ]
        }
      ]
    },
    {
      "cell_type": "markdown",
      "source": [
        "Kode di atas menghapus baris (data) yang memiliki nilai yang hilang (NaN) dalam kolom 'Car' dari DataFrame data. Setelah penghapusan dilakukan, dilakukan penghitungan ulang jumlah nilai NaN dalam kolom 'Car' untuk memastikan bahwa data telah dibersihkan dari nilai NaN.\n",
        "\n",
        "Ini menunjukkan bahwa setelah penghapusan, tidak ada lagi nilai NaN dalam kolom 'Car' pada DataFrame data."
      ],
      "metadata": {
        "id": "U4LLAyByjGB7"
      }
    },
    {
      "cell_type": "markdown",
      "source": [
        "# Pre-processing Data"
      ],
      "metadata": {
        "id": "qDNA3kuLd7DN"
      }
    },
    {
      "cell_type": "code",
      "source": [
        "# Mengambil bentuk (shape) dari data\n",
        "data.shape"
      ],
      "metadata": {
        "colab": {
          "base_uri": "https://localhost:8080/"
        },
        "id": "5BR-kfV7ZynI",
        "outputId": "7d60a7af-f3bf-46fb-9565-b5baa3699dff"
      },
      "execution_count": 9,
      "outputs": [
        {
          "output_type": "execute_result",
          "data": {
            "text/plain": [
              "(14820, 22)"
            ]
          },
          "metadata": {},
          "execution_count": 9
        }
      ]
    },
    {
      "cell_type": "code",
      "source": [
        "# Mengubah kolom 'Bedroom2' menjadi tipe data integer\n",
        "data['Bedroom2'] = data['Bedroom2'].astype(int)\n",
        "\n",
        "# Mengubah kolom 'Bathroom' menjadi tipe data integer\n",
        "data['Bathroom'] = data['Bathroom'].astype(int)\n",
        "\n",
        "# Mengubah kolom 'Car' menjadi tipe data integer\n",
        "data['Car'] = data['Car'].astype(int)"
      ],
      "metadata": {
        "id": "1CW4m5V2Zyli"
      },
      "execution_count": 10,
      "outputs": []
    },
    {
      "cell_type": "code",
      "source": [
        "# Pilih subset dari predictor (variabel independen) yang akan digunakan dalam analisis.\n",
        "cols_to_use = ['Rooms', 'Distance', 'Landsize', 'BuildingArea', 'YearBuilt']\n",
        "\n",
        "# Buat dataframe 'X' yang hanya berisi kolom-kolom yang terdapat dalam 'cols_to_use'.\n",
        "X = data[cols_to_use]"
      ],
      "metadata": {
        "id": "7ByiepypaNoF"
      },
      "execution_count": 11,
      "outputs": []
    },
    {
      "cell_type": "code",
      "source": [
        "# Select target\n",
        "y = data.Price"
      ],
      "metadata": {
        "id": "OtJhpDn0aNlc"
      },
      "execution_count": 12,
      "outputs": []
    },
    {
      "cell_type": "markdown",
      "source": [
        "Kode di atas melakukan beberapa langkah pemrosesan data:\n",
        "\n",
        "1. Mengambil bentuk (shape) dari data dengan menggunakan data.shape, yang akan memberikan informasi tentang jumlah baris dan kolom dalam DataFrame data.\n",
        "\n",
        "2. Mengubah tipe data kolom 'Bedroom2', 'Bathroom', dan 'Car' menjadi tipe data integer menggunakan metode astype(int).\n",
        "\n",
        "3. Memilih subset dari predictor (variabel independen) yang akan digunakan dalam analisis, yang disimpan dalam variabel cols_to_use.\n",
        "\n",
        "4. Membuat DataFrame X yang hanya berisi kolom-kolom yang terdapat dalam cols_to_use.\n",
        "\n",
        "5. Memilih target variabel (variabel dependen) yang akan diprediksi, disimpan dalam variabel y.\n",
        "\n",
        "Dengan langkah-langkah tersebut, kita telah mempersiapkan data untuk dilakukan analisis lebih lanjut menggunakan variabel independen yang telah dipilih (X) dan target variabel (y)."
      ],
      "metadata": {
        "id": "8XLcoZkvjY_K"
      }
    },
    {
      "cell_type": "markdown",
      "source": [
        "# Visualisasi Data"
      ],
      "metadata": {
        "id": "tX9dPZm3d_nm"
      }
    },
    {
      "cell_type": "code",
      "source": [
        "# Filter numeric columns\n",
        "numeric_data = data.select_dtypes(include=['float64', 'int64'])\n",
        "\n",
        "# Calculate Pearson correlation coefficients\n",
        "correlation_matrix = numeric_data.corr()\n",
        "\n",
        "# Display Pearson correlation coefficients\n",
        "plt.figure(figsize=(10, 8))\n",
        "sns.heatmap(correlation_matrix, annot=True, cmap='coolwarm', fmt=\".2f\", linewidths=0.5)\n",
        "plt.title('Correlation Heatmap')\n",
        "plt.show()"
      ],
      "metadata": {
        "colab": {
          "base_uri": "https://localhost:8080/",
          "height": 783
        },
        "id": "awVgrmt9cYKD",
        "outputId": "f82d1d4b-49b3-4751-a50f-f76812b95eb7"
      },
      "execution_count": 27,
      "outputs": [
        {
          "output_type": "display_data",
          "data": {
            "text/plain": [
              "<Figure size 1000x800 with 2 Axes>"
            ],
            "image/png": "[encoded data removed]"
          },
          "metadata": {}
        }
      ]
    },
    {
      "cell_type": "markdown",
      "source": [
        "Kode ini melakukan hal yang serupa dengan kode sebelumnya, yaitu menghasilkan heatmap yang menampilkan koefisien korelasi Pearson antar kolom numerik dalam DataFrame data. Langkah-langkahnya adalah:\n",
        "\n",
        "1. Filter kolom numerik: Kolom-kolom numerik dari DataFrame data difilter menggunakan select_dtypes(include=['float64', 'int64']), menghasilkan DataFrame baru yang hanya berisi kolom-kolom dengan tipe data numerik.\n",
        "\n",
        "2. Hitung koefisien korelasi Pearson: Menghitung koefisien korelasi Pearson antar kolom-kolom numerik yang dipilih dengan corr(), dan menyimpan hasilnya dalam correlation_matrix.\n",
        "\n",
        "3. Visualisasi dengan heatmap: Membuat heatmap dari matriks korelasi Pearson menggunakan Seaborn. Heatmap ditampilkan dalam ukuran 10x8 inch, dengan nilai korelasi diannotasikan di dalam sel (annot=True). Colormap 'coolwarm' digunakan untuk menunjukkan nilai korelasi, dan nilai-nilai korelasi diformat menjadi dua angka desimal (fmt=\".2f\"). Lebar garis antar sel dalam heatmap disetel menjadi 0.5 piksel (linewidths=0.5). Terakhir, ditambahkan judul 'Correlation Heatmap' menggunakan plt.title().\n",
        "\n",
        "Visualisasi heatmap ini berguna untuk melihat hubungan korelasi antar kolom numerik dalam dataset data."
      ],
      "metadata": {
        "id": "fgGhESqhj52v"
      }
    },
    {
      "cell_type": "markdown",
      "source": [
        "# Latih dan Evaluasi Data"
      ],
      "metadata": {
        "id": "RqJOm2ySeElH"
      }
    },
    {
      "cell_type": "code",
      "source": [
        "from sklearn.model_selection import train_test_split\n",
        "\n",
        "# Memisahkan data menjadi set pelatihan dan validasi\n",
        "X_train, X_valid, y_train, y_valid = train_test_split(X, y, random_state=42, test_size=0.3)"
      ],
      "metadata": {
        "id": "pQR18QP5aTN6"
      },
      "execution_count": 13,
      "outputs": []
    },
    {
      "cell_type": "code",
      "source": [
        "# Import library XGBRegressor dari XGBoost\n",
        "from xgboost import XGBRegressor\n",
        "\n",
        "# Membuat objek model XGBoost\n",
        "my_model = XGBRegressor()\n",
        "\n",
        "# Melatih model dengan data pelatihan X_train dan target y_train\n",
        "my_model.fit(X_train, y_train)"
      ],
      "metadata": {
        "colab": {
          "base_uri": "https://localhost:8080/",
          "height": 248
        },
        "id": "T5i0HVc9aTLZ",
        "outputId": "e9a9c473-8349-4386-e9aa-054f1849608d"
      },
      "execution_count": 14,
      "outputs": [
        {
          "output_type": "execute_result",
          "data": {
            "text/plain": [
              "XGBRegressor(base_score=None, booster=None, callbacks=None,\n",
              "             colsample_bylevel=None, colsample_bynode=None,\n",
              "             colsample_bytree=None, device=None, early_stopping_rounds=None,\n",
              "             enable_categorical=False, eval_metric=None, feature_types=None,\n",
              "             gamma=None, grow_policy=None, importance_type=None,\n",
              "             interaction_constraints=None, learning_rate=None, max_bin=None,\n",
              "             max_cat_threshold=None, max_cat_to_onehot=None,\n",
              "             max_delta_step=None, max_depth=None, max_leaves=None,\n",
              "             min_child_weight=None, missing=nan, monotone_constraints=None,\n",
              "             multi_strategy=None, n_estimators=None, n_jobs=None,\n",
              "             num_parallel_tree=None, random_state=None, ...)"
            ],
            "text/html": [
              "<style>#sk-container-id-1 {color: black;background-color: white;}#sk-container-id-1 pre{padding: 0;}#sk-container-id-1 div.sk-toggleable {background-color: white;}#sk-container-id-1 label.sk-toggleable__label {cursor: pointer;display: block;width: 100%;margin-bottom: 0;padding: 0.3em;box-sizing: border-box;text-align: center;}#sk-container-id-1 label.sk-toggleable__label-arrow:before {content: \"▸\";float: left;margin-right: 0.25em;color: #696969;}#sk-container-id-1 label.sk-toggleable__label-arrow:hover:before {color: black;}#sk-container-id-1 div.sk-estimator:hover label.sk-toggleable__label-arrow:before {color: black;}#sk-container-id-1 div.sk-toggleable__content {max-height: 0;max-width: 0;overflow: hidden;text-align: left;background-color: #f0f8ff;}#sk-container-id-1 div.sk-toggleable__content pre {margin: 0.2em;color: black;border-radius: 0.25em;background-color: #f0f8ff;}#sk-container-id-1 input.sk-toggleable__control:checked~div.sk-toggleable__content {max-height: 200px;max-width: 100%;overflow: auto;}#sk-container-id-1 input.sk-toggleable__control:checked~label.sk-toggleable__label-arrow:before {content: \"▾\";}#sk-container-id-1 div.sk-estimator input.sk-toggleable__control:checked~label.sk-toggleable__label {background-color: #d4ebff;}#sk-container-id-1 div.sk-label input.sk-toggleable__control:checked~label.sk-toggleable__label {background-color: #d4ebff;}#sk-container-id-1 input.sk-hidden--visually {border: 0;clip: rect(1px 1px 1px 1px);clip: rect(1px, 1px, 1px, 1px);height: 1px;margin: -1px;overflow: hidden;padding: 0;position: absolute;width: 1px;}#sk-container-id-1 div.sk-estimator {font-family: monospace;background-color: #f0f8ff;border: 1px dotted black;border-radius: 0.25em;box-sizing: border-box;margin-bottom: 0.5em;}#sk-container-id-1 div.sk-estimator:hover {background-color: #d4ebff;}#sk-container-id-1 div.sk-parallel-item::after {content: \"\";width: 100%;border-bottom: 1px solid gray;flex-grow: 1;}#sk-container-id-1 div.sk-label:hover label.sk-toggleable__label {background-color: #d4ebff;}#sk-container-id-1 div.sk-serial::before {content: \"\";position: absolute;border-left: 1px solid gray;box-sizing: border-box;top: 0;bottom: 0;left: 50%;z-index: 0;}#sk-container-id-1 div.sk-serial {display: flex;flex-direction: column;align-items: center;background-color: white;padding-right: 0.2em;padding-left: 0.2em;position: relative;}#sk-container-id-1 div.sk-item {position: relative;z-index: 1;}#sk-container-id-1 div.sk-parallel {display: flex;align-items: stretch;justify-content: center;background-color: white;position: relative;}#sk-container-id-1 div.sk-item::before, #sk-container-id-1 div.sk-parallel-item::before {content: \"\";position: absolute;border-left: 1px solid gray;box-sizing: border-box;top: 0;bottom: 0;left: 50%;z-index: -1;}#sk-container-id-1 div.sk-parallel-item {display: flex;flex-direction: column;z-index: 1;position: relative;background-color: white;}#sk-container-id-1 div.sk-parallel-item:first-child::after {align-self: flex-end;width: 50%;}#sk-container-id-1 div.sk-parallel-item:last-child::after {align-self: flex-start;width: 50%;}#sk-container-id-1 div.sk-parallel-item:only-child::after {width: 0;}#sk-container-id-1 div.sk-dashed-wrapped {border: 1px dashed gray;margin: 0 0.4em 0.5em 0.4em;box-sizing: border-box;padding-bottom: 0.4em;background-color: white;}#sk-container-id-1 div.sk-label label {font-family: monospace;font-weight: bold;display: inline-block;line-height: 1.2em;}#sk-container-id-1 div.sk-label-container {text-align: center;}#sk-container-id-1 div.sk-container {/* jupyter's `normalize.less` sets `[hidden] { display: none; }` but bootstrap.min.css set `[hidden] { display: none !important; }` so we also need the `!important` here to be able to override the default hidden behavior on the sphinx rendered scikit-learn.org. See: https://github.com/scikit-learn/scikit-learn/issues/21755 */display: inline-block !important;position: relative;}#sk-container-id-1 div.sk-text-repr-fallback {display: none;}</style><div id=\"sk-container-id-1\" class=\"sk-top-container\"><div class=\"sk-text-repr-fallback\"><pre>XGBRegressor(base_score=None, booster=None, callbacks=None,\n",
              "             colsample_bylevel=None, colsample_bynode=None,\n",
              "             colsample_bytree=None, device=None, early_stopping_rounds=None,\n",
              "             enable_categorical=False, eval_metric=None, feature_types=None,\n",
              "             gamma=None, grow_policy=None, importance_type=None,\n",
              "             interaction_constraints=None, learning_rate=None, max_bin=None,\n",
              "             max_cat_threshold=None, max_cat_to_onehot=None,\n",
              "             max_delta_step=None, max_depth=None, max_leaves=None,\n",
              "             min_child_weight=None, missing=nan, monotone_constraints=None,\n",
              "             multi_strategy=None, n_estimators=None, n_jobs=None,\n",
              "             num_parallel_tree=None, random_state=None, ...)</pre><b>In a Jupyter environment, please rerun this cell to show the HTML representation or trust the notebook. <br />On GitHub, the HTML representation is unable to render, please try loading this page with nbviewer.org.</b></div><div class=\"sk-container\" hidden><div class=\"sk-item\"><div class=\"sk-estimator sk-toggleable\"><input class=\"sk-toggleable__control sk-hidden--visually\" id=\"sk-estimator-id-1\" type=\"checkbox\" checked><label for=\"sk-estimator-id-1\" class=\"sk-toggleable__label sk-toggleable__label-arrow\">XGBRegressor</label><div class=\"sk-toggleable__content\"><pre>XGBRegressor(base_score=None, booster=None, callbacks=None,\n",
              "             colsample_bylevel=None, colsample_bynode=None,\n",
              "             colsample_bytree=None, device=None, early_stopping_rounds=None,\n",
              "             enable_categorical=False, eval_metric=None, feature_types=None,\n",
              "             gamma=None, grow_policy=None, importance_type=None,\n",
              "             interaction_constraints=None, learning_rate=None, max_bin=None,\n",
              "             max_cat_threshold=None, max_cat_to_onehot=None,\n",
              "             max_delta_step=None, max_depth=None, max_leaves=None,\n",
              "             min_child_weight=None, missing=nan, monotone_constraints=None,\n",
              "             multi_strategy=None, n_estimators=None, n_jobs=None,\n",
              "             num_parallel_tree=None, random_state=None, ...)</pre></div></div></div></div></div>"
            ]
          },
          "metadata": {},
          "execution_count": 14
        }
      ]
    },
    {
      "cell_type": "markdown",
      "source": [
        "Kode di atas melakukan beberapa hal terkait pemodelan:\n",
        "\n",
        "1. Memisahkan Data: Menggunakan train_test_split dari scikit-learn untuk membagi data menjadi set pelatihan (X_train, y_train) dan set validasi (X_valid, y_valid). Set pelatihan digunakan untuk melatih model, sedangkan set validasi digunakan untuk menguji kinerja model.\n",
        "\n",
        "2. Mengimpor XGBRegressor: Mengimpor kelas XGBRegressor dari pustaka XGBoost. Ini akan digunakan untuk membuat objek model.\n",
        "\n",
        "3. Membuat Objek Model: Membuat objek model XGBoost menggunakan XGBRegressor().\n",
        "\n",
        "4. Pelatihan Model: Melatih model XGBoost menggunakan metode fit(). Model dilatih menggunakan data pelatihan X_train dan target y_train.\n",
        "\n",
        "Setelah tahap ini, model XGBoost telah dilatih dengan data pelatihan dan siap untuk dievaluasi menggunakan data validasi."
      ],
      "metadata": {
        "id": "TFfZXKxZkN9S"
      }
    },
    {
      "cell_type": "code",
      "source": [
        "# Mengimpor modul mean_absolute_error dari sklearn.metrics\n",
        "from sklearn.metrics import mean_absolute_error\n",
        "\n",
        "# Melakukan prediksi menggunakan model (my_model) pada data validasi (X_valid)\n",
        "predictions = my_model.predict(X_valid)\n",
        "\n",
        "# Menghitung Mean Absolute Error (MAE) antara prediksi dan nilai target aktual (y_valid)\n",
        "# dan mencetak hasilnya\n",
        "print(\"Mean Absolute Error: \" + str(mean_absolute_error(predictions, y_valid)))"
      ],
      "metadata": {
        "colab": {
          "base_uri": "https://localhost:8080/"
        },
        "id": "LXaHK7WGaTJA",
        "outputId": "b6bb0e23-5222-40f6-faa1-276dad26344a"
      },
      "execution_count": 15,
      "outputs": [
        {
          "output_type": "stream",
          "name": "stdout",
          "text": [
            "Mean Absolute Error: 239917.9230611083\n"
          ]
        }
      ]
    },
    {
      "cell_type": "markdown",
      "source": [
        "Kode di atas melakukan evaluasi model XGBoost yang telah dilatih dengan menggunakan data validasi. Langkah-langkahnya adalah sebagai berikut:\n",
        "\n",
        "1. Mengimpor mean_absolute_error: Mengimpor modul mean_absolute_error dari sklearn.metrics. Modul ini akan digunakan untuk menghitung Mean Absolute Error (MAE) antara prediksi dan nilai target aktual.\n",
        "\n",
        "2. Melakukan Prediksi: Menggunakan model (my_model) yang telah dilatih untuk melakukan prediksi pada data validasi (X_valid) menggunakan metode predict().\n",
        "\n",
        "3. Menghitung MAE: Menghitung MAE antara prediksi dan nilai target aktual (y_valid) menggunakan mean_absolute_error().\n",
        "\n",
        "4. Mencetak Hasil: Hasil MAE dicetak ke layar menggunakan print().\n",
        "\n",
        "Hasil Mean Absolute Error (MAE) yang diperoleh adalah sekitar 239,917.92. MAE mengindikasikan rata-rata kesalahan absolut antara prediksi dan nilai target aktual pada data validasi. Dalam konteks ini, MAE sebesar 239,917.92 menunjukkan rata-rata kesalahan prediksi harga properti. Semakin rendah nilai MAE, semakin baik kinerja model dalam melakukan prediksi."
      ],
      "metadata": {
        "id": "vL4GhR1MkkQE"
      }
    },
    {
      "cell_type": "code",
      "source": [
        "# Membuat model XGBoost Regressor dengan 500 pohon keputusan (n_estimators=500)\n",
        "my_model_0 = XGBRegressor(n_estimators=500)\n",
        "\n",
        "# Melatih model menggunakan data pelatihan X_train dan label y_train\n",
        "my_model_0.fit(X_train, y_train)"
      ],
      "metadata": {
        "colab": {
          "base_uri": "https://localhost:8080/",
          "height": 248
        },
        "id": "ZD69dz9gaTGz",
        "outputId": "92eb3217-908e-42a9-c213-cee9fc1fef09"
      },
      "execution_count": 16,
      "outputs": [
        {
          "output_type": "execute_result",
          "data": {
            "text/plain": [
              "XGBRegressor(base_score=None, booster=None, callbacks=None,\n",
              "             colsample_bylevel=None, colsample_bynode=None,\n",
              "             colsample_bytree=None, device=None, early_stopping_rounds=None,\n",
              "             enable_categorical=False, eval_metric=None, feature_types=None,\n",
              "             gamma=None, grow_policy=None, importance_type=None,\n",
              "             interaction_constraints=None, learning_rate=None, max_bin=None,\n",
              "             max_cat_threshold=None, max_cat_to_onehot=None,\n",
              "             max_delta_step=None, max_depth=None, max_leaves=None,\n",
              "             min_child_weight=None, missing=nan, monotone_constraints=None,\n",
              "             multi_strategy=None, n_estimators=500, n_jobs=None,\n",
              "             num_parallel_tree=None, random_state=None, ...)"
            ],
            "text/html": [
              "<style>#sk-container-id-2 {color: black;background-color: white;}#sk-container-id-2 pre{padding: 0;}#sk-container-id-2 div.sk-toggleable {background-color: white;}#sk-container-id-2 label.sk-toggleable__label {cursor: pointer;display: block;width: 100%;margin-bottom: 0;padding: 0.3em;box-sizing: border-box;text-align: center;}#sk-container-id-2 label.sk-toggleable__label-arrow:before {content: \"▸\";float: left;margin-right: 0.25em;color: #696969;}#sk-container-id-2 label.sk-toggleable__label-arrow:hover:before {color: black;}#sk-container-id-2 div.sk-estimator:hover label.sk-toggleable__label-arrow:before {color: black;}#sk-container-id-2 div.sk-toggleable__content {max-height: 0;max-width: 0;overflow: hidden;text-align: left;background-color: #f0f8ff;}#sk-container-id-2 div.sk-toggleable__content pre {margin: 0.2em;color: black;border-radius: 0.25em;background-color: #f0f8ff;}#sk-container-id-2 input.sk-toggleable__control:checked~div.sk-toggleable__content {max-height: 200px;max-width: 100%;overflow: auto;}#sk-container-id-2 input.sk-toggleable__control:checked~label.sk-toggleable__label-arrow:before {content: \"▾\";}#sk-container-id-2 div.sk-estimator input.sk-toggleable__control:checked~label.sk-toggleable__label {background-color: #d4ebff;}#sk-container-id-2 div.sk-label input.sk-toggleable__control:checked~label.sk-toggleable__label {background-color: #d4ebff;}#sk-container-id-2 input.sk-hidden--visually {border: 0;clip: rect(1px 1px 1px 1px);clip: rect(1px, 1px, 1px, 1px);height: 1px;margin: -1px;overflow: hidden;padding: 0;position: absolute;width: 1px;}#sk-container-id-2 div.sk-estimator {font-family: monospace;background-color: #f0f8ff;border: 1px dotted black;border-radius: 0.25em;box-sizing: border-box;margin-bottom: 0.5em;}#sk-container-id-2 div.sk-estimator:hover {background-color: #d4ebff;}#sk-container-id-2 div.sk-parallel-item::after {content: \"\";width: 100%;border-bottom: 1px solid gray;flex-grow: 1;}#sk-container-id-2 div.sk-label:hover label.sk-toggleable__label {background-color: #d4ebff;}#sk-container-id-2 div.sk-serial::before {content: \"\";position: absolute;border-left: 1px solid gray;box-sizing: border-box;top: 0;bottom: 0;left: 50%;z-index: 0;}#sk-container-id-2 div.sk-serial {display: flex;flex-direction: column;align-items: center;background-color: white;padding-right: 0.2em;padding-left: 0.2em;position: relative;}#sk-container-id-2 div.sk-item {position: relative;z-index: 1;}#sk-container-id-2 div.sk-parallel {display: flex;align-items: stretch;justify-content: center;background-color: white;position: relative;}#sk-container-id-2 div.sk-item::before, #sk-container-id-2 div.sk-parallel-item::before {content: \"\";position: absolute;border-left: 1px solid gray;box-sizing: border-box;top: 0;bottom: 0;left: 50%;z-index: -1;}#sk-container-id-2 div.sk-parallel-item {display: flex;flex-direction: column;z-index: 1;position: relative;background-color: white;}#sk-container-id-2 div.sk-parallel-item:first-child::after {align-self: flex-end;width: 50%;}#sk-container-id-2 div.sk-parallel-item:last-child::after {align-self: flex-start;width: 50%;}#sk-container-id-2 div.sk-parallel-item:only-child::after {width: 0;}#sk-container-id-2 div.sk-dashed-wrapped {border: 1px dashed gray;margin: 0 0.4em 0.5em 0.4em;box-sizing: border-box;padding-bottom: 0.4em;background-color: white;}#sk-container-id-2 div.sk-label label {font-family: monospace;font-weight: bold;display: inline-block;line-height: 1.2em;}#sk-container-id-2 div.sk-label-container {text-align: center;}#sk-container-id-2 div.sk-container {/* jupyter's `normalize.less` sets `[hidden] { display: none; }` but bootstrap.min.css set `[hidden] { display: none !important; }` so we also need the `!important` here to be able to override the default hidden behavior on the sphinx rendered scikit-learn.org. See: https://github.com/scikit-learn/scikit-learn/issues/21755 */display: inline-block !important;position: relative;}#sk-container-id-2 div.sk-text-repr-fallback {display: none;}</style><div id=\"sk-container-id-2\" class=\"sk-top-container\"><div class=\"sk-text-repr-fallback\"><pre>XGBRegressor(base_score=None, booster=None, callbacks=None,\n",
              "             colsample_bylevel=None, colsample_bynode=None,\n",
              "             colsample_bytree=None, device=None, early_stopping_rounds=None,\n",
              "             enable_categorical=False, eval_metric=None, feature_types=None,\n",
              "             gamma=None, grow_policy=None, importance_type=None,\n",
              "             interaction_constraints=None, learning_rate=None, max_bin=None,\n",
              "             max_cat_threshold=None, max_cat_to_onehot=None,\n",
              "             max_delta_step=None, max_depth=None, max_leaves=None,\n",
              "             min_child_weight=None, missing=nan, monotone_constraints=None,\n",
              "             multi_strategy=None, n_estimators=500, n_jobs=None,\n",
              "             num_parallel_tree=None, random_state=None, ...)</pre><b>In a Jupyter environment, please rerun this cell to show the HTML representation or trust the notebook. <br />On GitHub, the HTML representation is unable to render, please try loading this page with nbviewer.org.</b></div><div class=\"sk-container\" hidden><div class=\"sk-item\"><div class=\"sk-estimator sk-toggleable\"><input class=\"sk-toggleable__control sk-hidden--visually\" id=\"sk-estimator-id-2\" type=\"checkbox\" checked><label for=\"sk-estimator-id-2\" class=\"sk-toggleable__label sk-toggleable__label-arrow\">XGBRegressor</label><div class=\"sk-toggleable__content\"><pre>XGBRegressor(base_score=None, booster=None, callbacks=None,\n",
              "             colsample_bylevel=None, colsample_bynode=None,\n",
              "             colsample_bytree=None, device=None, early_stopping_rounds=None,\n",
              "             enable_categorical=False, eval_metric=None, feature_types=None,\n",
              "             gamma=None, grow_policy=None, importance_type=None,\n",
              "             interaction_constraints=None, learning_rate=None, max_bin=None,\n",
              "             max_cat_threshold=None, max_cat_to_onehot=None,\n",
              "             max_delta_step=None, max_depth=None, max_leaves=None,\n",
              "             min_child_weight=None, missing=nan, monotone_constraints=None,\n",
              "             multi_strategy=None, n_estimators=500, n_jobs=None,\n",
              "             num_parallel_tree=None, random_state=None, ...)</pre></div></div></div></div></div>"
            ]
          },
          "metadata": {},
          "execution_count": 16
        }
      ]
    },
    {
      "cell_type": "markdown",
      "source": [
        "Kode di atas membuat model XGBoost Regressor dengan 500 pohon keputusan (n_estimators=500) dan melatih model menggunakan data pelatihan X_train dan label y_train. Dengan menambahkan lebih banyak pohon keputusan, model memiliki lebih banyak kapasitas untuk mempelajari pola yang kompleks dalam data pelatihan. Namun, perlu diingat bahwa peningkatan jumlah pohon keputusan juga dapat meningkatkan waktu pelatihan dan kompleksitas model."
      ],
      "metadata": {
        "id": "cuwOxSN0kyW9"
      }
    },
    {
      "cell_type": "code",
      "source": [
        "# Melakukan prediksi menggunakan model 'my_model_0' pada data validasi 'X_valid'\n",
        "predictions_0 = my_model_0.predict(X_valid)\n",
        "\n",
        "# Menghitung Mean Absolute Error (MAE) antara prediksi dan target sebenarnya 'y_valid'\n",
        "mae = mean_absolute_error(predictions_0, y_valid)\n",
        "\n",
        "# Menampilkan MAE ke layar\n",
        "print(\"Mean Absolute Error: \" + str(mae))"
      ],
      "metadata": {
        "colab": {
          "base_uri": "https://localhost:8080/"
        },
        "id": "hi8PSAJKaTEQ",
        "outputId": "b2f049ee-11da-4e04-c731-1eda1eb9ec83"
      },
      "execution_count": 17,
      "outputs": [
        {
          "output_type": "stream",
          "name": "stdout",
          "text": [
            "Mean Absolute Error: 252962.14232596717\n"
          ]
        }
      ]
    },
    {
      "cell_type": "markdown",
      "source": [
        "Hasil Mean Absolute Error (MAE) yang diperoleh dengan menggunakan model XGBoost Regressor yang memiliki 500 pohon keputusan adalah sekitar 252,962.14. Ini menunjukkan rata-rata kesalahan absolut antara prediksi dan nilai target aktual pada data validasi. Semakin rendah nilai MAE, semakin baik kinerja model dalam melakukan prediksi. Dalam kasus ini, MAE sedikit lebih tinggi dibandingkan dengan model sebelumnya yang menggunakan 100 pohon keputusan."
      ],
      "metadata": {
        "id": "npi0HnGNkzjA"
      }
    },
    {
      "cell_type": "code",
      "source": [
        "from sklearn.model_selection import GridSearchCV\n",
        "\n",
        "# Tentukan model XGBoost\n",
        "model_grid = XGBRegressor()\n",
        "\n",
        "# Tentukan parameter grid\n",
        "param_grid = {\n",
        "    'n_estimators': [150, 200, 250, 300, 1000]  # Ganti dengan rentang nilai yang ingin Anda coba\n",
        "}\n",
        "\n",
        "# Inisialisasi GridSearchCV\n",
        "grid_search = GridSearchCV(estimator=model_grid, param_grid=param_grid, cv=5, scoring='neg_mean_absolute_error')\n",
        "\n",
        "# Lakukan fitting menggunakan data training\n",
        "grid_search.fit(X_train, y_train)\n",
        "\n",
        "# Dapatkan parameter terbaik\n",
        "best_n_estimators = grid_search.best_params_['n_estimators']\n",
        "\n",
        "print(\"Nilai n_estimators terbaik:\", best_n_estimators)\n",
        "# Tentukan range nilai n_estimators yang akan diuji\n",
        "n_estimators_list = [100, 150, 200, 250, 300]\n",
        "\n",
        "# Inisialisasi sebuah list untuk menyimpan hasil MAE\n",
        "mae_results = []\n",
        "\n",
        "# Loop melalui setiap nilai n_estimators\n",
        "for n_estimators in n_estimators_list:\n",
        "    # Inisialisasi model dengan n_estimators tertentu\n",
        "    model_grid = XGBRegressor(n_estimators=n_estimators)\n",
        "\n",
        "    # Fitting model menggunakan data training\n",
        "    model_grid.fit(X_train, y_train)\n",
        "\n",
        "    # Lakukan prediksi pada data validasi\n",
        "    predictions = model_grid.predict(X_valid)\n",
        "\n",
        "    # Hitung Mean Absolute Error\n",
        "    mae = mean_absolute_error(predictions, y_valid)\n",
        "\n",
        "    # Tampilkan nilai n_estimators dan MAE\n",
        "    print(f\"n_estimators: {n_estimators}, Mean Absolute Error: {mae}\")\n",
        "\n",
        "    # Tambahkan nilai MAE ke dalam list\n",
        "    mae_results.append(mae)"
      ],
      "metadata": {
        "colab": {
          "base_uri": "https://localhost:8080/"
        },
        "id": "JCTnOcJAacbp",
        "outputId": "86f5c286-941d-48fb-b2d7-12f82b88fa93"
      },
      "execution_count": 18,
      "outputs": [
        {
          "output_type": "stream",
          "name": "stdout",
          "text": [
            "Nilai n_estimators terbaik: 150\n",
            "n_estimators: 100, Mean Absolute Error: 239917.9230611083\n",
            "n_estimators: 150, Mean Absolute Error: 241135.79867261302\n",
            "n_estimators: 200, Mean Absolute Error: 244287.76643155364\n",
            "n_estimators: 250, Mean Absolute Error: 245677.70205398815\n",
            "n_estimators: 300, Mean Absolute Error: 247880.2081312556\n"
          ]
        }
      ]
    },
    {
      "cell_type": "markdown",
      "source": [
        "Kode di atas menggunakan GridSearchCV dari scikit-learn untuk mencari parameter terbaik pada model XGBoost. Parameter yang diuji adalah 'n_estimators', dan hasilnya akan dibandingkan dengan pengujian manual dengan beberapa nilai 'n_estimators' yang telah ditentukan sebelumnya."
      ],
      "metadata": {
        "id": "zKVIqXrZh_Ia"
      }
    },
    {
      "cell_type": "code",
      "source": [
        "# Membuat model XGBoost Regressor dengan 100 pohon keputusan (n_estimators=100)\n",
        "my_model_2 = XGBRegressor(n_estimators=100)\n",
        "\n",
        "# Melatih model menggunakan data pelatihan (X_train, y_train) dengan early stopping\n",
        "# untuk menghentikan pelatihan jika tidak ada perbaikan dalam 5 iterasi\n",
        "# dan menggunakan data validasi (X_valid, y_valid) untuk evaluasi\n",
        "my_model_2.fit(X_train, y_train, early_stopping_rounds=5, eval_set=[(X_valid, y_valid)], verbose=False)\n",
        "\n",
        "# Melakukan prediksi pada data validasi menggunakan model yang telah dilatih\n",
        "predictions_2 = my_model_2.predict(X_valid)\n",
        "\n",
        "# Menghitung Mean Absolute Error (MAE) antara prediksi dan nilai sebenarnya pada data validasi\n",
        "print(\"Mean Absolute Error: \" + str(mean_absolute_error(predictions_2, y_valid)))"
      ],
      "metadata": {
        "colab": {
          "base_uri": "https://localhost:8080/"
        },
        "id": "kY3TW-Igae3a",
        "outputId": "725f1bb9-014b-4c60-eb9d-867cb4004d65"
      },
      "execution_count": 19,
      "outputs": [
        {
          "output_type": "stream",
          "name": "stdout",
          "text": [
            "Mean Absolute Error: 241970.1536651625\n"
          ]
        },
        {
          "output_type": "stream",
          "name": "stderr",
          "text": [
            "/usr/local/lib/python3.10/dist-packages/xgboost/sklearn.py:889: UserWarning: `early_stopping_rounds` in `fit` method is deprecated for better compatibility with scikit-learn, use `early_stopping_rounds` in constructor or`set_params` instead.\n",
            "  warnings.warn(\n"
          ]
        }
      ]
    },
    {
      "cell_type": "markdown",
      "source": [
        "Kode di atas adalah contoh penggunaan model XGBoost Regressor untuk melakukan prediksi pada data validasi dan mengukur kinerja model menggunakan metrik Mean Absolute Error (MAE). Berikut penjelasan dari setiap langkah dalam kode tersebut:\n",
        "\n",
        "1. Membuat model XGBoost Regressor dengan 100 pohon keputusan (n_estimators=100). Model ini akan digunakan untuk melakukan prediksi pada data.\n",
        "\n",
        "2. Melatih model menggunakan data pelatihan (X_train, y_train) dengan parameter tambahan early_stopping_rounds=5. Ini mengindikasikan bahwa pelatihan model akan berhenti jika tidak ada perbaikan dalam nilai evaluasi pada data validasi selama 5 iterasi. Data validasi digunakan untuk mengevaluasi kinerja model selama pelatihan.\n",
        "\n",
        "3. Melakukan prediksi pada data validasi (X_valid) menggunakan model yang telah dilatih. Hasil prediksi disimpan dalam variabel predictions_2.\n",
        "\n",
        "4. Menghitung Mean Absolute Error (MAE) antara hasil prediksi (predictions_2) dan nilai sebenarnya (y_valid) pada data validasi. MAE adalah metrik yang mengukur sejauh mana prediksi model dari nilai sebenarnya dalam satuan absolut. Hasil MAE dicetak ke layar sebagai keluaran.\n",
        "\n",
        "Selain itu, pesan peringatan dalam output yang mengatakan \"early_stopping_rounds\" dalam metode \"fit\" sudah tidak direkomendasikan dan harus digunakan dalam konstruktor atau \"set_params\" adalah peringatan yang menginformasikan bahwa penggunaan parameter early_stopping_rounds dalam metode fit di XGBoost sudah tidak disarankan dan seharusnya digunakan dalam konstruktor atau set_params untuk lebih baik kompatibilitas dengan scikit-learn."
      ],
      "metadata": {
        "id": "e1803dpzhhgm"
      }
    },
    {
      "cell_type": "code",
      "source": [
        "# Import library XGBRegressor untuk mengembangkan model XGBoost\n",
        "my_model_1 = XGBRegressor(n_estimators=100)\n",
        "\n",
        "# Melatih model menggunakan data pelatihan\n",
        "my_model_1.fit(X_train, y_train)\n",
        "\n",
        "# Membuat prediksi menggunakan model yang telah dilatih pada data validasi\n",
        "predictions_1 = my_model_1.predict(X_valid)\n",
        "\n",
        "# Menghitung dan mencetak Mean Absolute Error (MAE) dari prediksi model\n",
        "print(\"Mean Absolute Error: \" + str(mean_absolute_error(predictions_1, y_valid)))"
      ],
      "metadata": {
        "colab": {
          "base_uri": "https://localhost:8080/"
        },
        "id": "7lyWkzqOaj6Q",
        "outputId": "2d77a85a-d264-4c17-c50b-9c69acc0d2cc"
      },
      "execution_count": 20,
      "outputs": [
        {
          "output_type": "stream",
          "name": "stdout",
          "text": [
            "Mean Absolute Error: 239917.9230611083\n"
          ]
        }
      ]
    },
    {
      "cell_type": "markdown",
      "source": [
        "Kode di atas adalah contoh penggunaan library XGBoost untuk mengembangkan model regresi dengan XGBRegressor. Berikut adalah penjelasan langkah-langkahnya:\n",
        "\n",
        "1. Pertama-tama, library XGBRegressor diimpor ke dalam program. Ini adalah library yang digunakan untuk mengembangkan model regresi dengan algoritma XGBoost.\n",
        "\n",
        "2. Model regresi XGBoost didefinisikan dengan menggunakan XGBRegressor(n_estimators=100). n_estimators adalah parameter yang menentukan jumlah pohon keputusan yang akan digunakan dalam model. Dalam kasus ini, model akan terdiri dari 100 pohon keputusan.\n",
        "\n",
        "3. Selanjutnya, model tersebut dilatih dengan menggunakan data pelatihan. Data pelatihan diberikan dalam bentuk X_train (fitur) dan y_train (label/target).\n",
        "\n",
        "4. Setelah model dilatih, digunakan untuk membuat prediksi pada data validasi (X_valid).\n",
        "\n",
        "5. Mean Absolute Error (MAE) dihitung dengan membandingkan prediksi yang dihasilkan oleh model (predictions_1) dengan data validasi (y_valid). MAE adalah metrik evaluasi yang mengukur seberapa dekat prediksi model dengan nilai sebenarnya. Semakin rendah MAE, semakin baik kualitas model regresi.\n",
        "\n",
        "6. Hasil MAE dicetak ke layar untuk memberikan informasi tentang sejauh mana model dapat memprediksi data validasi dengan akurasi.\n",
        "\n",
        "Hasil keluaran dari kode di atas adalah nilai MAE yang mengindikasikan tingkat kesalahan prediksi model terhadap data validasi. Dalam contoh ini, MAE memiliki nilai sekitar 239917.9230611083, yang menunjukkan sejauh mana model dapat memprediksi data validasi dengan rata-rata kesalahan sekitar 239917.9230611083 unit. Semakin rendah nilai MAE, semakin baik kinerja model dalam memprediksi data."
      ],
      "metadata": {
        "id": "aWnagyJJhH90"
      }
    },
    {
      "cell_type": "code",
      "source": [
        "# Membuat model XGBoost Regressor dengan 100 pohon keputusan (n_estimators=100).\n",
        "# Model ini akan digunakan untuk memprediksi variabel target berdasarkan fitur-fitur dalam dataset.\n",
        "my_model_3 = XGBRegressor(n_estimators=100, learning_rate=0.05, n_jobs=6)\n",
        "\n",
        "# Melatih model dengan menggunakan data pelatihan (X_train) dan target (y_train).\n",
        "my_model_3.fit(X_train, y_train)"
      ],
      "metadata": {
        "colab": {
          "base_uri": "https://localhost:8080/",
          "height": 248
        },
        "id": "GPm1yGfraoWx",
        "outputId": "b6be2918-14a9-459e-8d5d-b7ff47860397"
      },
      "execution_count": 21,
      "outputs": [
        {
          "output_type": "execute_result",
          "data": {
            "text/plain": [
              "XGBRegressor(base_score=None, booster=None, callbacks=None,\n",
              "             colsample_bylevel=None, colsample_bynode=None,\n",
              "             colsample_bytree=None, device=None, early_stopping_rounds=None,\n",
              "             enable_categorical=False, eval_metric=None, feature_types=None,\n",
              "             gamma=None, grow_policy=None, importance_type=None,\n",
              "             interaction_constraints=None, learning_rate=0.05, max_bin=None,\n",
              "             max_cat_threshold=None, max_cat_to_onehot=None,\n",
              "             max_delta_step=None, max_depth=None, max_leaves=None,\n",
              "             min_child_weight=None, missing=nan, monotone_constraints=None,\n",
              "             multi_strategy=None, n_estimators=100, n_jobs=6,\n",
              "             num_parallel_tree=None, random_state=None, ...)"
            ],
            "text/html": [
              "<style>#sk-container-id-3 {color: black;background-color: white;}#sk-container-id-3 pre{padding: 0;}#sk-container-id-3 div.sk-toggleable {background-color: white;}#sk-container-id-3 label.sk-toggleable__label {cursor: pointer;display: block;width: 100%;margin-bottom: 0;padding: 0.3em;box-sizing: border-box;text-align: center;}#sk-container-id-3 label.sk-toggleable__label-arrow:before {content: \"▸\";float: left;margin-right: 0.25em;color: #696969;}#sk-container-id-3 label.sk-toggleable__label-arrow:hover:before {color: black;}#sk-container-id-3 div.sk-estimator:hover label.sk-toggleable__label-arrow:before {color: black;}#sk-container-id-3 div.sk-toggleable__content {max-height: 0;max-width: 0;overflow: hidden;text-align: left;background-color: #f0f8ff;}#sk-container-id-3 div.sk-toggleable__content pre {margin: 0.2em;color: black;border-radius: 0.25em;background-color: #f0f8ff;}#sk-container-id-3 input.sk-toggleable__control:checked~div.sk-toggleable__content {max-height: 200px;max-width: 100%;overflow: auto;}#sk-container-id-3 input.sk-toggleable__control:checked~label.sk-toggleable__label-arrow:before {content: \"▾\";}#sk-container-id-3 div.sk-estimator input.sk-toggleable__control:checked~label.sk-toggleable__label {background-color: #d4ebff;}#sk-container-id-3 div.sk-label input.sk-toggleable__control:checked~label.sk-toggleable__label {background-color: #d4ebff;}#sk-container-id-3 input.sk-hidden--visually {border: 0;clip: rect(1px 1px 1px 1px);clip: rect(1px, 1px, 1px, 1px);height: 1px;margin: -1px;overflow: hidden;padding: 0;position: absolute;width: 1px;}#sk-container-id-3 div.sk-estimator {font-family: monospace;background-color: #f0f8ff;border: 1px dotted black;border-radius: 0.25em;box-sizing: border-box;margin-bottom: 0.5em;}#sk-container-id-3 div.sk-estimator:hover {background-color: #d4ebff;}#sk-container-id-3 div.sk-parallel-item::after {content: \"\";width: 100%;border-bottom: 1px solid gray;flex-grow: 1;}#sk-container-id-3 div.sk-label:hover label.sk-toggleable__label {background-color: #d4ebff;}#sk-container-id-3 div.sk-serial::before {content: \"\";position: absolute;border-left: 1px solid gray;box-sizing: border-box;top: 0;bottom: 0;left: 50%;z-index: 0;}#sk-container-id-3 div.sk-serial {display: flex;flex-direction: column;align-items: center;background-color: white;padding-right: 0.2em;padding-left: 0.2em;position: relative;}#sk-container-id-3 div.sk-item {position: relative;z-index: 1;}#sk-container-id-3 div.sk-parallel {display: flex;align-items: stretch;justify-content: center;background-color: white;position: relative;}#sk-container-id-3 div.sk-item::before, #sk-container-id-3 div.sk-parallel-item::before {content: \"\";position: absolute;border-left: 1px solid gray;box-sizing: border-box;top: 0;bottom: 0;left: 50%;z-index: -1;}#sk-container-id-3 div.sk-parallel-item {display: flex;flex-direction: column;z-index: 1;position: relative;background-color: white;}#sk-container-id-3 div.sk-parallel-item:first-child::after {align-self: flex-end;width: 50%;}#sk-container-id-3 div.sk-parallel-item:last-child::after {align-self: flex-start;width: 50%;}#sk-container-id-3 div.sk-parallel-item:only-child::after {width: 0;}#sk-container-id-3 div.sk-dashed-wrapped {border: 1px dashed gray;margin: 0 0.4em 0.5em 0.4em;box-sizing: border-box;padding-bottom: 0.4em;background-color: white;}#sk-container-id-3 div.sk-label label {font-family: monospace;font-weight: bold;display: inline-block;line-height: 1.2em;}#sk-container-id-3 div.sk-label-container {text-align: center;}#sk-container-id-3 div.sk-container {/* jupyter's `normalize.less` sets `[hidden] { display: none; }` but bootstrap.min.css set `[hidden] { display: none !important; }` so we also need the `!important` here to be able to override the default hidden behavior on the sphinx rendered scikit-learn.org. See: https://github.com/scikit-learn/scikit-learn/issues/21755 */display: inline-block !important;position: relative;}#sk-container-id-3 div.sk-text-repr-fallback {display: none;}</style><div id=\"sk-container-id-3\" class=\"sk-top-container\"><div class=\"sk-text-repr-fallback\"><pre>XGBRegressor(base_score=None, booster=None, callbacks=None,\n",
              "             colsample_bylevel=None, colsample_bynode=None,\n",
              "             colsample_bytree=None, device=None, early_stopping_rounds=None,\n",
              "             enable_categorical=False, eval_metric=None, feature_types=None,\n",
              "             gamma=None, grow_policy=None, importance_type=None,\n",
              "             interaction_constraints=None, learning_rate=0.05, max_bin=None,\n",
              "             max_cat_threshold=None, max_cat_to_onehot=None,\n",
              "             max_delta_step=None, max_depth=None, max_leaves=None,\n",
              "             min_child_weight=None, missing=nan, monotone_constraints=None,\n",
              "             multi_strategy=None, n_estimators=100, n_jobs=6,\n",
              "             num_parallel_tree=None, random_state=None, ...)</pre><b>In a Jupyter environment, please rerun this cell to show the HTML representation or trust the notebook. <br />On GitHub, the HTML representation is unable to render, please try loading this page with nbviewer.org.</b></div><div class=\"sk-container\" hidden><div class=\"sk-item\"><div class=\"sk-estimator sk-toggleable\"><input class=\"sk-toggleable__control sk-hidden--visually\" id=\"sk-estimator-id-3\" type=\"checkbox\" checked><label for=\"sk-estimator-id-3\" class=\"sk-toggleable__label sk-toggleable__label-arrow\">XGBRegressor</label><div class=\"sk-toggleable__content\"><pre>XGBRegressor(base_score=None, booster=None, callbacks=None,\n",
              "             colsample_bylevel=None, colsample_bynode=None,\n",
              "             colsample_bytree=None, device=None, early_stopping_rounds=None,\n",
              "             enable_categorical=False, eval_metric=None, feature_types=None,\n",
              "             gamma=None, grow_policy=None, importance_type=None,\n",
              "             interaction_constraints=None, learning_rate=0.05, max_bin=None,\n",
              "             max_cat_threshold=None, max_cat_to_onehot=None,\n",
              "             max_delta_step=None, max_depth=None, max_leaves=None,\n",
              "             min_child_weight=None, missing=nan, monotone_constraints=None,\n",
              "             multi_strategy=None, n_estimators=100, n_jobs=6,\n",
              "             num_parallel_tree=None, random_state=None, ...)</pre></div></div></div></div></div>"
            ]
          },
          "metadata": {},
          "execution_count": 21
        }
      ]
    },
    {
      "cell_type": "markdown",
      "source": [
        "Kode di atas menciptakan sebuah model regresi menggunakan algoritma XGBoost dengan 100 pohon keputusan (n_estimators=100) yang akan digunakan untuk memprediksi variabel target berdasarkan fitur-fitur dalam dataset. Model ini ditentukan dengan konfigurasi berikut:\n",
        "\n",
        "1. XGBRegressor(n_estimators=100, learning_rate=0.05, n_jobs=6): Model XGBoost Regressor dibuat dengan beberapa parameter konfigurasi, termasuk:\n",
        "\n",
        "  - n_estimators=100: Model ini akan terdiri dari 100 pohon keputusan yang akan digunakan dalam proses prediksi.\n",
        "  - learning_rate=0.05: Tingkat pembelajaran yang digunakan dalam algoritma XGBoost. Ini mengontrol sejauh mana setiap pohon keputusan memperbarui prediksi model sebelumnya.\n",
        "  - n_jobs=6: Jumlah pekerjaan paralel yang akan digunakan dalam pelatihan model. Dalam hal ini, 6 pekerjaan akan digunakan untuk melatih model.\n",
        "\n",
        "2. my_model_3.fit(X_train, y_train): Model XGBoost ini dilatih menggunakan data pelatihan yang diberikan dalam X_train dan target yang diberikan dalam y_train. Proses pelatihan ini akan menghasilkan model yang dapat digunakan untuk membuat prediksi berdasarkan data yang tidak terlihat sebelumnya.\n",
        "\n",
        "Selain parameter-parameter yang disebutkan di atas, terdapat juga parameter lain yang bisa dikustomisasi dalam model XGBoost, seperti max_depth, gamma, colsample_bytree, dan banyak lagi. Model ini diarahkan untuk melakukan regresi, yaitu memprediksi nilai berkelanjutan, dan akan mencoba memahami pola dalam data pelatihan untuk melakukan prediksi yang akurat terhadap target yang diberikan."
      ],
      "metadata": {
        "id": "mzuXVm8ogvqr"
      }
    },
    {
      "cell_type": "code",
      "source": [
        "# predictions_3 adalah prediksi yang dihasilkan oleh model (my_model_3) terhadap data validasi (X_valid).\n",
        "predictions_3 = my_model_3.predict(X_valid)\n",
        "\n",
        "# mean_absolute_error adalah fungsi untuk menghitung Mean Absolute Error (MAE) antara prediksi (predictions_3) dan nilai sebenarnya (y_valid).\n",
        "# Hasil MAE ini mengukur sejauh mana prediksi model berbeda dari nilai sebenarnya dalam skala absolut.\n",
        "# Hasil MAE kemudian dicetak sebagai teks.\n",
        "print(\"Mean Absolute Error: \" + str(mean_absolute_error(predictions_3, y_valid)))"
      ],
      "metadata": {
        "colab": {
          "base_uri": "https://localhost:8080/"
        },
        "id": "LluajASSaoUN",
        "outputId": "0cf03167-8347-41be-cb1c-4a5e80c7db86"
      },
      "execution_count": 22,
      "outputs": [
        {
          "output_type": "stream",
          "name": "stdout",
          "text": [
            "Mean Absolute Error: 253334.320463619\n"
          ]
        }
      ]
    },
    {
      "cell_type": "markdown",
      "source": [
        "Kode di atas digunakan untuk menghitung Mean Absolute Error (MAE) antara prediksi yang dihasilkan oleh model (my_model_3) terhadap data validasi (X_valid) dan nilai sebenarnya (y_valid). Hasil MAE ini mengukur sejauh mana prediksi model berbeda dari nilai sebenarnya dalam skala absolut. Hasil MAE kemudian dicetak sebagai teks, yang dalam contoh ini adalah sekitar 253334.320463619."
      ],
      "metadata": {
        "id": "7pJPlqAngmGs"
      }
    }
  ]
}