{
  "nbformat": 4,
  "nbformat_minor": 0,
  "metadata": {
    "colab": {
      "provenance": [],
      "authorship_tag": "ABX9TyMYxawe0INAg6F57x9WVBwU",
      "include_colab_link": true
    },
    "kernelspec": {
      "name": "python3",
      "display_name": "Python 3"
    },
    "language_info": {
      "name": "python"
    }
  },
  "cells": [
    {
      "cell_type": "markdown",
      "metadata": {
        "id": "view-in-github",
        "colab_type": "text"
      },
      "source": [
        "<a href=\"https://colab.research.google.com/github/MochamadPhilliaWibowo/Machine-Learning-Class/blob/main/UTS/Google%20Colab/UTS_Machine_Learning_Mochamad_Phillia_Wibowo.ipynb\" target=\"_parent\"><img src=\"https://colab.research.google.com/assets/colab-badge.svg\" alt=\"Open In Colab\"/></a>"
      ]
    },
    {
      "cell_type": "markdown",
      "source": [
        "UTS MACHINE LEARNING\n",
        "\n",
        "Nama : Mochamad Phillia Wibowo\n",
        "\n",
        "NIM : 1103204191\n",
        "\n",
        "Kelas : Machine Learning (TK-44-G04)\n",
        "\n",
        "Model : Random Forest\n",
        "\n",
        "Dataset : https://www.kaggle.com/datasets/parisrohan/credit-score-classification/download?datasetVersionNumber=1"
      ],
      "metadata": {
        "id": "AI4YOJDM9uhC"
      }
    },
    {
      "cell_type": "markdown",
      "source": [
        "# Persiapan Data"
      ],
      "metadata": {
        "id": "0uWavQmf-siG"
      }
    },
    {
      "cell_type": "markdown",
      "source": [
        "Memuat Library yang diperlukan\n",
        "\n",
        "---\n",
        "\n"
      ],
      "metadata": {
        "id": "aHmTUbkMXhQQ"
      }
    },
    {
      "cell_type": "code",
      "execution_count": null,
      "metadata": {
        "id": "Yg9KbLyEFsK6"
      },
      "outputs": [],
      "source": [
        "# Digunakan untuk operasi array dan manipulasi numerik.\n",
        "import numpy as np\n",
        "\n",
        "# Digunakan untuk manipulasi data dan analisis data.\n",
        "import pandas as pd\n",
        "\n",
        "# Library untuk membuat visualisasi data interaktif.\n",
        "import plotly.express as px\n",
        "\n",
        "# Library lain untuk membuat visualisasi data interaktif.\n",
        "import plotly.graph_objects as go\n",
        "\n",
        "# Library untuk membuat visualisasi data statis.\n",
        "import matplotlib.pyplot as plt\n",
        "\n",
        "# Library untuk membuat visualisasi data statistik yang lebih menarik.\n",
        "import seaborn as sns\n",
        "\n",
        "# Untuk mengkodekan variabel kategorikal menjadi numerik.\n",
        "from sklearn.preprocessing import OrdinalEncoder, LabelEncoder\n",
        "\n",
        "# Untuk pemilihan fitur berdasarkan informasi mutal.\n",
        "from sklearn.feature_selection import mutual_info_classif\n",
        "\n",
        "# Untuk membagi data menjadi data latih dan data uji.\n",
        "from sklearn.model_selection import train_test_split\n",
        "\n",
        "# Model pohon keputusan ensambel.\n",
        "from sklearn.ensemble import RandomForestClassifier, RandomForestRegressor\n",
        "\n",
        "# Untuk evaluasi model.\n",
        "from sklearn.metrics import classification_report, confusion_matrix, accuracy_score, mean_squared_error\n",
        "\n",
        "# Untuk menangani ketidakseimbangan kelas dalam data klasifikasi.\n",
        "from imblearn.over_sampling import SMOTE\n",
        "\n",
        "# Implementasi algoritma XGBoost untuk regresi.\n",
        "from xgboost import XGBRegressor\n",
        "\n",
        "# Untuk menangani peringatan yang tidak perlu.\n",
        "import warnings\n",
        "\n",
        "# Mengabaikan peringatan FutureWarning.\n",
        "warnings.filterwarnings(\"ignore\", category=FutureWarning)\n"
      ]
    },
    {
      "cell_type": "markdown",
      "source": [
        "Kode ini adalah contoh penggunaan beberapa pustaka umum yang digunakan dalam analisis dan pemodelan data. Mari kita lihat penjelasannya satu per satu:\n",
        "\n",
        "1. `import numpy as np`: NumPy adalah pustaka yang digunakan untuk komputasi numerik. Ini menyediakan dukungan untuk array dan matriks, serta berbagai fungsi matematika.\n",
        "\n",
        "2. `import pandas as pd`: Pandas adalah pustaka untuk manipulasi dan analisis data. Ini menyediakan struktur data yang kuat dan mudah digunakan yang disebut DataFrame.\n",
        "\n",
        "3. `import plotly.express as px`: Plotly Express adalah pustaka untuk membuat visualisasi data interaktif dengan mudah dan cepat.\n",
        "\n",
        "4. `import plotly.graph_objects as go`: Plotly Graph Objects adalah pustaka yang memberikan kontrol yang lebih besar dalam membuat visualisasi data dengan Plotly.\n",
        "\n",
        "5. `import matplotlib.pyplot as plt`: Matplotlib adalah pustaka yang sering digunakan untuk membuat visualisasi statis dalam Python.\n",
        "\n",
        "6. `import seaborn as sns`: Seaborn adalah pustaka yang dibangun di atas Matplotlib untuk membuat visualisasi data statistik yang menarik dan informatif.\n",
        "\n",
        "7. `from sklearn.preprocessing import OrdinalEncoder, LabelEncoder`: Sklearn adalah pustaka yang digunakan untuk machine learning di Python. OrdinalEncoder dan LabelEncoder digunakan untuk mengkodekan variabel kategorikal menjadi angka.\n",
        "\n",
        "8. `from sklearn.feature_selection import mutual_info_classif`: Ini adalah pustaka dari Sklearn yang digunakan untuk pemilihan fitur berdasarkan informasi mutual antara fitur dan target.\n",
        "\n",
        "9. `from sklearn.model_selection import train_test_split`: Ini digunakan untuk membagi dataset menjadi subset pelatihan dan pengujian.\n",
        "\n",
        "10. `from sklearn.ensemble import RandomForestClassifier, RandomForestRegressor`: Ini adalah pustaka dari Sklearn yang digunakan untuk membangun model RandomForest untuk klasifikasi dan regresi.\n",
        "\n",
        "11. `from sklearn.metrics import classification_report, confusion_matrix, accuracy_score, mean_squared_error`: Ini adalah pustaka dari Sklearn yang digunakan untuk mengevaluasi kinerja model, seperti mencetak laporan klasifikasi, matriks kebingungan, dan menghitung akurasi.\n",
        "\n",
        "12. `from imblearn.over_sampling import SMOTE`: Ini adalah pustaka untuk menangani ketidakseimbangan kelas dalam data dengan oversampling menggunakan metode SMOTE.\n",
        "\n",
        "13. `from xgboost import XGBRegressor`: XGBoost adalah pustaka yang digunakan untuk implementasi algoritma boosting yang efisien, biasanya digunakan untuk regresi dan klasifikasi.\n",
        "\n",
        "14. `import warnings`: Warnings adalah modul bawaan Python yang digunakan untuk mengelola dan menangani pesan peringatan.\n",
        "\n",
        "Dengan mengimpor semua pustaka ini, Anda siap untuk melakukan analisis dan pemodelan data dengan berbagai teknik dan algoritma. Selanjutnya, Anda dapat menggunakannya untuk mengimpor dataset, membersihkan data, melakukan visualisasi, membangun dan mengevaluasi model machine learning, dan banyak lagi."
      ],
      "metadata": {
        "id": "wBTxpg1MOHIy"
      }
    },
    {
      "cell_type": "markdown",
      "source": [
        "Menghubungkan GDrive ke GColab\n",
        "\n",
        "---\n",
        "\n"
      ],
      "metadata": {
        "id": "JPnhVg1rXnoS"
      }
    },
    {
      "cell_type": "code",
      "source": [
        "# Modul untuk menghubungkan Google Drive dengan Colab.\n",
        "from google.colab import drive\n",
        "\n",
        "# Menghubungkan Google Drive dengan Colab.\n",
        "drive.mount('/content/gdrive')"
      ],
      "metadata": {
        "colab": {
          "base_uri": "https://localhost:8080/"
        },
        "id": "kPiSnxYET1Ye",
        "outputId": "4b5c4266-f380-44e7-d527-b505670a8b3d"
      },
      "execution_count": null,
      "outputs": [
        {
          "output_type": "stream",
          "name": "stdout",
          "text": [
            "Mounted at /content/gdrive\n"
          ]
        }
      ]
    },
    {
      "cell_type": "markdown",
      "source": [
        "Kode yang Anda berikan adalah kode untuk menghubungkan Google Colab dengan Google Drive. Ini memungkinkan Anda mengakses file-file yang disimpan di Google Drive Anda langsung dari Google Colab.\n",
        "\n",
        "Penjelasan singkat tentang kode tersebut:\n",
        "\n",
        "- `from google.colab import drive`: Ini mengimpor modul drive dari pustaka google.colab.\n",
        "- `drive.mount('/content/gdrive')`: Ini memanggil fungsi mount dari modul drive untuk me-mount Google Drive Anda ke direktori /content/gdrive di Google Colab.\n",
        "\n",
        "Saat Anda menjalankan kode ini, Google Colab akan meminta Anda untuk masuk ke akun Google Anda dan memberikan kode autentikasi untuk menghubungkan Colab ke Google Drive Anda. Setelah berhasil, Anda dapat mengakses file yang ada di Google Drive Anda melalui path /content/gdrive."
      ],
      "metadata": {
        "id": "2qcN17GbUlOl"
      }
    },
    {
      "cell_type": "markdown",
      "source": [
        "Membaca dan Menampilkan Data\n",
        "\n",
        "---\n",
        "\n"
      ],
      "metadata": {
        "id": "DXVzQIIyXt9Z"
      }
    },
    {
      "cell_type": "code",
      "source": [
        "# Membaca file 'train.csv' dari Google Drive.\n",
        "train = pd.read_csv('/content/gdrive/MyDrive/Credit score classification/train.csv', dtype={'Column26': str})\n",
        "\n",
        "# Menampilkan lima baris pertama dari dataframe 'train'.\n",
        "train.head()"
      ],
      "metadata": {
        "colab": {
          "base_uri": "https://localhost:8080/",
          "height": 463
        },
        "id": "P2s2rY95RKSK",
        "outputId": "ab2f7c6e-fa11-4c5a-c6e8-558a4601634b"
      },
      "execution_count": null,
      "outputs": [
        {
          "output_type": "stream",
          "name": "stderr",
          "text": [
            "<ipython-input-3-60b4835c1834>:2: DtypeWarning: Columns (26) have mixed types. Specify dtype option on import or set low_memory=False.\n",
            "  train = pd.read_csv('/content/gdrive/MyDrive/Credit score classification/train.csv', dtype={'Column26': str})\n"
          ]
        },
        {
          "output_type": "execute_result",
          "data": {
            "text/plain": [
              "       ID Customer_ID     Month           Name   Age          SSN Occupation  \\\n",
              "0  0x1602   CUS_0xd40   January  Aaron Maashoh    23  821-00-0265  Scientist   \n",
              "1  0x1603   CUS_0xd40  February  Aaron Maashoh    23  821-00-0265  Scientist   \n",
              "2  0x1604   CUS_0xd40     March  Aaron Maashoh  -500  821-00-0265  Scientist   \n",
              "3  0x1605   CUS_0xd40     April  Aaron Maashoh    23  821-00-0265  Scientist   \n",
              "4  0x1606   CUS_0xd40       May  Aaron Maashoh    23  821-00-0265  Scientist   \n",
              "\n",
              "  Annual_Income  Monthly_Inhand_Salary  Num_Bank_Accounts  ...  Credit_Mix  \\\n",
              "0      19114.12            1824.843333                  3  ...           _   \n",
              "1      19114.12                    NaN                  3  ...        Good   \n",
              "2      19114.12                    NaN                  3  ...        Good   \n",
              "3      19114.12                    NaN                  3  ...        Good   \n",
              "4      19114.12            1824.843333                  3  ...        Good   \n",
              "\n",
              "   Outstanding_Debt Credit_Utilization_Ratio     Credit_History_Age  \\\n",
              "0            809.98                26.822620  22 Years and 1 Months   \n",
              "1            809.98                31.944960                    NaN   \n",
              "2            809.98                28.609352  22 Years and 3 Months   \n",
              "3            809.98                31.377862  22 Years and 4 Months   \n",
              "4            809.98                24.797347  22 Years and 5 Months   \n",
              "\n",
              "   Payment_of_Min_Amount Total_EMI_per_month Amount_invested_monthly  \\\n",
              "0                     No           49.574949       80.41529543900253   \n",
              "1                     No           49.574949      118.28022162236736   \n",
              "2                     No           49.574949         81.699521264648   \n",
              "3                     No           49.574949       199.4580743910713   \n",
              "4                     No           49.574949      41.420153086217326   \n",
              "\n",
              "                  Payment_Behaviour     Monthly_Balance Credit_Score  \n",
              "0   High_spent_Small_value_payments  312.49408867943663         Good  \n",
              "1    Low_spent_Large_value_payments  284.62916249607184         Good  \n",
              "2   Low_spent_Medium_value_payments   331.2098628537912         Good  \n",
              "3    Low_spent_Small_value_payments  223.45130972736786         Good  \n",
              "4  High_spent_Medium_value_payments  341.48923103222177         Good  \n",
              "\n",
              "[5 rows x 28 columns]"
            ],
            "text/html": [
              "\n",
              "  <div id=\"df-6d19d61d-aa98-4251-917b-82c8245b0bf9\" class=\"colab-df-container\">\n",
              "    <div>\n",
              "<style scoped>\n",
              "    .dataframe tbody tr th:only-of-type {\n",
              "        vertical-align: middle;\n",
              "    }\n",
              "\n",
              "    .dataframe tbody tr th {\n",
              "        vertical-align: top;\n",
              "    }\n",
              "\n",
              "    .dataframe thead th {\n",
              "        text-align: right;\n",
              "    }\n",
              "</style>\n",
              "<table border=\"1\" class=\"dataframe\">\n",
              "  <thead>\n",
              "    <tr style=\"text-align: right;\">\n",
              "      <th></th>\n",
              "      <th>ID</th>\n",
              "      <th>Customer_ID</th>\n",
              "      <th>Month</th>\n",
              "      <th>Name</th>\n",
              "      <th>Age</th>\n",
              "      <th>SSN</th>\n",
              "      <th>Occupation</th>\n",
              "      <th>Annual_Income</th>\n",
              "      <th>Monthly_Inhand_Salary</th>\n",
              "      <th>Num_Bank_Accounts</th>\n",
              "      <th>...</th>\n",
              "      <th>Credit_Mix</th>\n",
              "      <th>Outstanding_Debt</th>\n",
              "      <th>Credit_Utilization_Ratio</th>\n",
              "      <th>Credit_History_Age</th>\n",
              "      <th>Payment_of_Min_Amount</th>\n",
              "      <th>Total_EMI_per_month</th>\n",
              "      <th>Amount_invested_monthly</th>\n",
              "      <th>Payment_Behaviour</th>\n",
              "      <th>Monthly_Balance</th>\n",
              "      <th>Credit_Score</th>\n",
              "    </tr>\n",
              "  </thead>\n",
              "  <tbody>\n",
              "    <tr>\n",
              "      <th>0</th>\n",
              "      <td>0x1602</td>\n",
              "      <td>CUS_0xd40</td>\n",
              "      <td>January</td>\n",
              "      <td>Aaron Maashoh</td>\n",
              "      <td>23</td>\n",
              "      <td>821-00-0265</td>\n",
              "      <td>Scientist</td>\n",
              "      <td>19114.12</td>\n",
              "      <td>1824.843333</td>\n",
              "      <td>3</td>\n",
              "      <td>...</td>\n",
              "      <td>_</td>\n",
              "      <td>809.98</td>\n",
              "      <td>26.822620</td>\n",
              "      <td>22 Years and 1 Months</td>\n",
              "      <td>No</td>\n",
              "      <td>49.574949</td>\n",
              "      <td>80.41529543900253</td>\n",
              "      <td>High_spent_Small_value_payments</td>\n",
              "      <td>312.49408867943663</td>\n",
              "      <td>Good</td>\n",
              "    </tr>\n",
              "    <tr>\n",
              "      <th>1</th>\n",
              "      <td>0x1603</td>\n",
              "      <td>CUS_0xd40</td>\n",
              "      <td>February</td>\n",
              "      <td>Aaron Maashoh</td>\n",
              "      <td>23</td>\n",
              "      <td>821-00-0265</td>\n",
              "      <td>Scientist</td>\n",
              "      <td>19114.12</td>\n",
              "      <td>NaN</td>\n",
              "      <td>3</td>\n",
              "      <td>...</td>\n",
              "      <td>Good</td>\n",
              "      <td>809.98</td>\n",
              "      <td>31.944960</td>\n",
              "      <td>NaN</td>\n",
              "      <td>No</td>\n",
              "      <td>49.574949</td>\n",
              "      <td>118.28022162236736</td>\n",
              "      <td>Low_spent_Large_value_payments</td>\n",
              "      <td>284.62916249607184</td>\n",
              "      <td>Good</td>\n",
              "    </tr>\n",
              "    <tr>\n",
              "      <th>2</th>\n",
              "      <td>0x1604</td>\n",
              "      <td>CUS_0xd40</td>\n",
              "      <td>March</td>\n",
              "      <td>Aaron Maashoh</td>\n",
              "      <td>-500</td>\n",
              "      <td>821-00-0265</td>\n",
              "      <td>Scientist</td>\n",
              "      <td>19114.12</td>\n",
              "      <td>NaN</td>\n",
              "      <td>3</td>\n",
              "      <td>...</td>\n",
              "      <td>Good</td>\n",
              "      <td>809.98</td>\n",
              "      <td>28.609352</td>\n",
              "      <td>22 Years and 3 Months</td>\n",
              "      <td>No</td>\n",
              "      <td>49.574949</td>\n",
              "      <td>81.699521264648</td>\n",
              "      <td>Low_spent_Medium_value_payments</td>\n",
              "      <td>331.2098628537912</td>\n",
              "      <td>Good</td>\n",
              "    </tr>\n",
              "    <tr>\n",
              "      <th>3</th>\n",
              "      <td>0x1605</td>\n",
              "      <td>CUS_0xd40</td>\n",
              "      <td>April</td>\n",
              "      <td>Aaron Maashoh</td>\n",
              "      <td>23</td>\n",
              "      <td>821-00-0265</td>\n",
              "      <td>Scientist</td>\n",
              "      <td>19114.12</td>\n",
              "      <td>NaN</td>\n",
              "      <td>3</td>\n",
              "      <td>...</td>\n",
              "      <td>Good</td>\n",
              "      <td>809.98</td>\n",
              "      <td>31.377862</td>\n",
              "      <td>22 Years and 4 Months</td>\n",
              "      <td>No</td>\n",
              "      <td>49.574949</td>\n",
              "      <td>199.4580743910713</td>\n",
              "      <td>Low_spent_Small_value_payments</td>\n",
              "      <td>223.45130972736786</td>\n",
              "      <td>Good</td>\n",
              "    </tr>\n",
              "    <tr>\n",
              "      <th>4</th>\n",
              "      <td>0x1606</td>\n",
              "      <td>CUS_0xd40</td>\n",
              "      <td>May</td>\n",
              "      <td>Aaron Maashoh</td>\n",
              "      <td>23</td>\n",
              "      <td>821-00-0265</td>\n",
              "      <td>Scientist</td>\n",
              "      <td>19114.12</td>\n",
              "      <td>1824.843333</td>\n",
              "      <td>3</td>\n",
              "      <td>...</td>\n",
              "      <td>Good</td>\n",
              "      <td>809.98</td>\n",
              "      <td>24.797347</td>\n",
              "      <td>22 Years and 5 Months</td>\n",
              "      <td>No</td>\n",
              "      <td>49.574949</td>\n",
              "      <td>41.420153086217326</td>\n",
              "      <td>High_spent_Medium_value_payments</td>\n",
              "      <td>341.48923103222177</td>\n",
              "      <td>Good</td>\n",
              "    </tr>\n",
              "  </tbody>\n",
              "</table>\n",
              "<p>5 rows × 28 columns</p>\n",
              "</div>\n",
              "    <div class=\"colab-df-buttons\">\n",
              "\n",
              "  <div class=\"colab-df-container\">\n",
              "    <button class=\"colab-df-convert\" onclick=\"convertToInteractive('df-6d19d61d-aa98-4251-917b-82c8245b0bf9')\"\n",
              "            title=\"Convert this dataframe to an interactive table.\"\n",
              "            style=\"display:none;\">\n",
              "\n",
              "  <svg xmlns=\"http://www.w3.org/2000/svg\" height=\"24px\" viewBox=\"0 -960 960 960\">\n",
              "    <path d=\"M120-120v-720h720v720H120Zm60-500h600v-160H180v160Zm220 220h160v-160H400v160Zm0 220h160v-160H400v160ZM180-400h160v-160H180v160Zm440 0h160v-160H620v160ZM180-180h160v-160H180v160Zm440 0h160v-160H620v160Z\"/>\n",
              "  </svg>\n",
              "    </button>\n",
              "\n",
              "  <style>\n",
              "    .colab-df-container {\n",
              "      display:flex;\n",
              "      gap: 12px;\n",
              "    }\n",
              "\n",
              "    .colab-df-convert {\n",
              "      background-color: #E8F0FE;\n",
              "      border: none;\n",
              "      border-radius: 50%;\n",
              "      cursor: pointer;\n",
              "      display: none;\n",
              "      fill: #1967D2;\n",
              "      height: 32px;\n",
              "      padding: 0 0 0 0;\n",
              "      width: 32px;\n",
              "    }\n",
              "\n",
              "    .colab-df-convert:hover {\n",
              "      background-color: #E2EBFA;\n",
              "      box-shadow: 0px 1px 2px rgba(60, 64, 67, 0.3), 0px 1px 3px 1px rgba(60, 64, 67, 0.15);\n",
              "      fill: #174EA6;\n",
              "    }\n",
              "\n",
              "    .colab-df-buttons div {\n",
              "      margin-bottom: 4px;\n",
              "    }\n",
              "\n",
              "    [theme=dark] .colab-df-convert {\n",
              "      background-color: #3B4455;\n",
              "      fill: #D2E3FC;\n",
              "    }\n",
              "\n",
              "    [theme=dark] .colab-df-convert:hover {\n",
              "      background-color: #434B5C;\n",
              "      box-shadow: 0px 1px 3px 1px rgba(0, 0, 0, 0.15);\n",
              "      filter: drop-shadow(0px 1px 2px rgba(0, 0, 0, 0.3));\n",
              "      fill: #FFFFFF;\n",
              "    }\n",
              "  </style>\n",
              "\n",
              "    <script>\n",
              "      const buttonEl =\n",
              "        document.querySelector('#df-6d19d61d-aa98-4251-917b-82c8245b0bf9 button.colab-df-convert');\n",
              "      buttonEl.style.display =\n",
              "        google.colab.kernel.accessAllowed ? 'block' : 'none';\n",
              "\n",
              "      async function convertToInteractive(key) {\n",
              "        const element = document.querySelector('#df-6d19d61d-aa98-4251-917b-82c8245b0bf9');\n",
              "        const dataTable =\n",
              "          await google.colab.kernel.invokeFunction('convertToInteractive',\n",
              "                                                    [key], {});\n",
              "        if (!dataTable) return;\n",
              "\n",
              "        const docLinkHtml = 'Like what you see? Visit the ' +\n",
              "          '<a target=\"_blank\" href=https://colab.research.google.com/notebooks/data_table.ipynb>data table notebook</a>'\n",
              "          + ' to learn more about interactive tables.';\n",
              "        element.innerHTML = '';\n",
              "        dataTable['output_type'] = 'display_data';\n",
              "        await google.colab.output.renderOutput(dataTable, element);\n",
              "        const docLink = document.createElement('div');\n",
              "        docLink.innerHTML = docLinkHtml;\n",
              "        element.appendChild(docLink);\n",
              "      }\n",
              "    </script>\n",
              "  </div>\n",
              "\n",
              "\n",
              "<div id=\"df-0a54c3d4-c094-4532-bd8a-cc0d8a831129\">\n",
              "  <button class=\"colab-df-quickchart\" onclick=\"quickchart('df-0a54c3d4-c094-4532-bd8a-cc0d8a831129')\"\n",
              "            title=\"Suggest charts\"\n",
              "            style=\"display:none;\">\n",
              "\n",
              "<svg xmlns=\"http://www.w3.org/2000/svg\" height=\"24px\"viewBox=\"0 0 24 24\"\n",
              "     width=\"24px\">\n",
              "    <g>\n",
              "        <path d=\"M19 3H5c-1.1 0-2 .9-2 2v14c0 1.1.9 2 2 2h14c1.1 0 2-.9 2-2V5c0-1.1-.9-2-2-2zM9 17H7v-7h2v7zm4 0h-2V7h2v10zm4 0h-2v-4h2v4z\"/>\n",
              "    </g>\n",
              "</svg>\n",
              "  </button>\n",
              "\n",
              "<style>\n",
              "  .colab-df-quickchart {\n",
              "      --bg-color: #E8F0FE;\n",
              "      --fill-color: #1967D2;\n",
              "      --hover-bg-color: #E2EBFA;\n",
              "      --hover-fill-color: #174EA6;\n",
              "      --disabled-fill-color: #AAA;\n",
              "      --disabled-bg-color: #DDD;\n",
              "  }\n",
              "\n",
              "  [theme=dark] .colab-df-quickchart {\n",
              "      --bg-color: #3B4455;\n",
              "      --fill-color: #D2E3FC;\n",
              "      --hover-bg-color: #434B5C;\n",
              "      --hover-fill-color: #FFFFFF;\n",
              "      --disabled-bg-color: #3B4455;\n",
              "      --disabled-fill-color: #666;\n",
              "  }\n",
              "\n",
              "  .colab-df-quickchart {\n",
              "    background-color: var(--bg-color);\n",
              "    border: none;\n",
              "    border-radius: 50%;\n",
              "    cursor: pointer;\n",
              "    display: none;\n",
              "    fill: var(--fill-color);\n",
              "    height: 32px;\n",
              "    padding: 0;\n",
              "    width: 32px;\n",
              "  }\n",
              "\n",
              "  .colab-df-quickchart:hover {\n",
              "    background-color: var(--hover-bg-color);\n",
              "    box-shadow: 0 1px 2px rgba(60, 64, 67, 0.3), 0 1px 3px 1px rgba(60, 64, 67, 0.15);\n",
              "    fill: var(--button-hover-fill-color);\n",
              "  }\n",
              "\n",
              "  .colab-df-quickchart-complete:disabled,\n",
              "  .colab-df-quickchart-complete:disabled:hover {\n",
              "    background-color: var(--disabled-bg-color);\n",
              "    fill: var(--disabled-fill-color);\n",
              "    box-shadow: none;\n",
              "  }\n",
              "\n",
              "  .colab-df-spinner {\n",
              "    border: 2px solid var(--fill-color);\n",
              "    border-color: transparent;\n",
              "    border-bottom-color: var(--fill-color);\n",
              "    animation:\n",
              "      spin 1s steps(1) infinite;\n",
              "  }\n",
              "\n",
              "  @keyframes spin {\n",
              "    0% {\n",
              "      border-color: transparent;\n",
              "      border-bottom-color: var(--fill-color);\n",
              "      border-left-color: var(--fill-color);\n",
              "    }\n",
              "    20% {\n",
              "      border-color: transparent;\n",
              "      border-left-color: var(--fill-color);\n",
              "      border-top-color: var(--fill-color);\n",
              "    }\n",
              "    30% {\n",
              "      border-color: transparent;\n",
              "      border-left-color: var(--fill-color);\n",
              "      border-top-color: var(--fill-color);\n",
              "      border-right-color: var(--fill-color);\n",
              "    }\n",
              "    40% {\n",
              "      border-color: transparent;\n",
              "      border-right-color: var(--fill-color);\n",
              "      border-top-color: var(--fill-color);\n",
              "    }\n",
              "    60% {\n",
              "      border-color: transparent;\n",
              "      border-right-color: var(--fill-color);\n",
              "    }\n",
              "    80% {\n",
              "      border-color: transparent;\n",
              "      border-right-color: var(--fill-color);\n",
              "      border-bottom-color: var(--fill-color);\n",
              "    }\n",
              "    90% {\n",
              "      border-color: transparent;\n",
              "      border-bottom-color: var(--fill-color);\n",
              "    }\n",
              "  }\n",
              "</style>\n",
              "\n",
              "  <script>\n",
              "    async function quickchart(key) {\n",
              "      const quickchartButtonEl =\n",
              "        document.querySelector('#' + key + ' button');\n",
              "      quickchartButtonEl.disabled = true;  // To prevent multiple clicks.\n",
              "      quickchartButtonEl.classList.add('colab-df-spinner');\n",
              "      try {\n",
              "        const charts = await google.colab.kernel.invokeFunction(\n",
              "            'suggestCharts', [key], {});\n",
              "      } catch (error) {\n",
              "        console.error('Error during call to suggestCharts:', error);\n",
              "      }\n",
              "      quickchartButtonEl.classList.remove('colab-df-spinner');\n",
              "      quickchartButtonEl.classList.add('colab-df-quickchart-complete');\n",
              "    }\n",
              "    (() => {\n",
              "      let quickchartButtonEl =\n",
              "        document.querySelector('#df-0a54c3d4-c094-4532-bd8a-cc0d8a831129 button');\n",
              "      quickchartButtonEl.style.display =\n",
              "        google.colab.kernel.accessAllowed ? 'block' : 'none';\n",
              "    })();\n",
              "  </script>\n",
              "</div>\n",
              "    </div>\n",
              "  </div>\n"
            ],
            "application/vnd.google.colaboratory.intrinsic+json": {
              "type": "dataframe",
              "variable_name": "train"
            }
          },
          "metadata": {},
          "execution_count": 3
        }
      ]
    },
    {
      "cell_type": "markdown",
      "source": [
        "# Pra Prosesan Data"
      ],
      "metadata": {
        "id": "FuE_J9xyXyEo"
      }
    },
    {
      "cell_type": "markdown",
      "source": [
        "Membersihkan Data\n",
        "\n",
        "---\n",
        "\n"
      ],
      "metadata": {
        "id": "SYJwN9AjYEMy"
      }
    },
    {
      "cell_type": "code",
      "source": [
        "# Perintah menampilkan struktur dataframe train\n",
        "train.info()"
      ],
      "metadata": {
        "colab": {
          "base_uri": "https://localhost:8080/"
        },
        "id": "Dvi0KE7AYD6d",
        "outputId": "7c806610-9c1e-4729-bddd-5fbee32e9069"
      },
      "execution_count": null,
      "outputs": [
        {
          "output_type": "stream",
          "name": "stdout",
          "text": [
            "<class 'pandas.core.frame.DataFrame'>\n",
            "RangeIndex: 100000 entries, 0 to 99999\n",
            "Data columns (total 28 columns):\n",
            " #   Column                    Non-Null Count   Dtype  \n",
            "---  ------                    --------------   -----  \n",
            " 0   ID                        100000 non-null  object \n",
            " 1   Customer_ID               100000 non-null  object \n",
            " 2   Month                     100000 non-null  object \n",
            " 3   Name                      90015 non-null   object \n",
            " 4   Age                       100000 non-null  object \n",
            " 5   SSN                       100000 non-null  object \n",
            " 6   Occupation                100000 non-null  object \n",
            " 7   Annual_Income             100000 non-null  object \n",
            " 8   Monthly_Inhand_Salary     84998 non-null   float64\n",
            " 9   Num_Bank_Accounts         100000 non-null  int64  \n",
            " 10  Num_Credit_Card           100000 non-null  int64  \n",
            " 11  Interest_Rate             100000 non-null  int64  \n",
            " 12  Num_of_Loan               100000 non-null  object \n",
            " 13  Type_of_Loan              88592 non-null   object \n",
            " 14  Delay_from_due_date       100000 non-null  int64  \n",
            " 15  Num_of_Delayed_Payment    92998 non-null   object \n",
            " 16  Changed_Credit_Limit      100000 non-null  object \n",
            " 17  Num_Credit_Inquiries      98035 non-null   float64\n",
            " 18  Credit_Mix                100000 non-null  object \n",
            " 19  Outstanding_Debt          100000 non-null  object \n",
            " 20  Credit_Utilization_Ratio  100000 non-null  float64\n",
            " 21  Credit_History_Age        90970 non-null   object \n",
            " 22  Payment_of_Min_Amount     100000 non-null  object \n",
            " 23  Total_EMI_per_month       100000 non-null  float64\n",
            " 24  Amount_invested_monthly   95521 non-null   object \n",
            " 25  Payment_Behaviour         100000 non-null  object \n",
            " 26  Monthly_Balance           98800 non-null   object \n",
            " 27  Credit_Score              100000 non-null  object \n",
            "dtypes: float64(4), int64(4), object(20)\n",
            "memory usage: 21.4+ MB\n"
          ]
        }
      ]
    },
    {
      "cell_type": "markdown",
      "source": [
        "Output dari train.info() memberikan informasi tentang struktur DataFrame train, termasuk jumlah entri, jumlah kolom, nama kolom, jumlah nilai non-null di setiap kolom, dan tipe data masing-masing kolom.\n",
        "\n",
        "1. <class 'pandas.core.frame.DataFrame'>: Ini menunjukkan bahwa objek yang sedang ditangani adalah DataFrame dari pustaka Pandas.\n",
        "\n",
        "2. RangeIndex: 100000 entries, 0 to 99999: DataFrame memiliki 100.000 entri dan indeks yang membentang dari 0 hingga 99.999.\n",
        "\n",
        "3. Data columns (total 28 columns): Terdapat total 28 kolom dalam DataFrame.\n",
        "\n",
        "4. Column dan Dtype: Daftar kolom dan tipe data masing-masing kolom. Dalam hal ini, terdapat kolom dengan tipe data float64, int64, dan object.\n",
        "\n",
        "5. Non-Null Count: Menunjukkan jumlah nilai non-null (non-kosong) di setiap kolom. Kolom dengan jumlah non-null yang lebih kecil dari jumlah entri menunjukkan adanya nilai yang hilang (missing values)."
      ],
      "metadata": {
        "id": "eNo8IuGkboDA"
      }
    },
    {
      "cell_type": "markdown",
      "source": [
        "Data Format\n",
        "\n",
        "---\n",
        "\n"
      ],
      "metadata": {
        "id": "ucDY0BOzX1ME"
      }
    },
    {
      "cell_type": "markdown",
      "source": [
        "Pada data format, disini kode akan mengisi nilai yang hilang dengan '0', mengekstrak angka dari nilai-nilai, dan mengonversi mereka menjadi bilangan bulat dalam kolom-kolom dibawah."
      ],
      "metadata": {
        "id": "4ZIaP5_ecSYv"
      }
    },
    {
      "cell_type": "markdown",
      "source": [
        "> Kolom : Age / Num_of_Loan / Num_of_Delayed_Payment\n",
        "\n"
      ],
      "metadata": {
        "id": "kNcIWldUYmKn"
      }
    },
    {
      "cell_type": "code",
      "source": [
        "train['Age'] = train['Age'].fillna('0').str.extract('(\\d+)').astype(float).astype(int)\n",
        "train['Num_of_Loan'] = train['Num_of_Loan'].fillna('0').str.extract('(\\d+)').astype(float).astype(int)\n",
        "train['Num_of_Delayed_Payment'] = train['Num_of_Delayed_Payment'].fillna('0').str.extract('(\\d+)').astype(float).astype(int)"
      ],
      "metadata": {
        "id": "CsXt6-MpXVTp"
      },
      "execution_count": null,
      "outputs": []
    },
    {
      "cell_type": "markdown",
      "source": [
        "1. train['Age'] = train['Age'].fillna('0').str.extract('(\\d+)').astype(float).astype(int):\n",
        "  - fillna('0'): Mengisi nilai yang hilang (missing values) dalam kolom 'Age' dengan string '0'.\n",
        "  - str.extract('(\\d+)'): Menggunakan ekspresi reguler untuk mengekstrak angka dari setiap nilai dalam kolom 'Age'.\n",
        "  - astype(float): Mengonversi nilai-nilai yang diekstrak menjadi tipe data float.\n",
        "  - astype(int): Mengonversi nilai-nilai float menjadi tipe data integer.\n",
        "  - Hasilnya adalah kolom 'Age' yang sekarang berisi nilai integer yang mewakili usia.\n",
        "\n",
        "2. train['Num_of_Loan'] = train['Num_of_Loan'].fillna('0').str.extract('(\\d+)').astype(float).astype(int):\n",
        "  - fillna('0'): Mengisi nilai yang hilang (missing values) dalam kolom 'Num_of_Loan' dengan string '0'.\n",
        "  - str.extract('(\\d+)'): Menggunakan ekspresi reguler untuk mengekstrak angka dari setiap nilai dalam kolom 'Num_of_Loan'.\n",
        "  - astype(float): Mengonversi nilai-nilai yang diekstrak menjadi tipe data float.\n",
        "  - astype(int): Mengonversi nilai-nilai float menjadi tipe data integer.\n",
        "  - Hasilnya adalah kolom 'Num_of_Loan' yang sekarang berisi nilai integer yang mewakili jumlah pinjaman.\n",
        "\n",
        "3. train['Num_of_Delayed_Payment'] = train['Num_of_Delayed_Payment'].fillna('0').str.extract('(\\d+)').astype(float).astype(int):\n",
        "  - fillna('0'): Mengisi nilai yang hilang (missing values) dalam kolom 'Num_of_Delayed_Payment' dengan string '0'.\n",
        "  - str.extract('(\\d+)'): Menggunakan ekspresi reguler untuk mengekstrak angka dari setiap nilai dalam kolom 'Num_of_Delayed_Payment'.\n",
        "  - astype(float): Mengonversi nilai-nilai yang diekstrak menjadi tipe data float.\n",
        "  - astype(int): Mengonversi nilai-nilai float menjadi tipe data integer.\n",
        "  - Hasilnya adalah kolom 'Num_of_Delayed_Payment' yang sekarang berisi nilai integer yang mewakili jumlah pembayaran yang tertunda."
      ],
      "metadata": {
        "id": "2cUreqexcoG2"
      }
    },
    {
      "cell_type": "markdown",
      "source": [
        "> Kolom : Annual_Income"
      ],
      "metadata": {
        "id": "9a5j7qHNaI_n"
      }
    },
    {
      "cell_type": "code",
      "source": [
        "train['Annual_Income'] = train['Annual_Income'].str.replace(r'[^0-9.]', '', regex=True)\n",
        "train['Annual_Income'] = train['Annual_Income'].astype(float)"
      ],
      "metadata": {
        "id": "urj_o-pyXVLb"
      },
      "execution_count": null,
      "outputs": []
    },
    {
      "cell_type": "markdown",
      "source": [
        "Kode ini untuk menghapus karakter non-digit dari nilai-nilai dalam kolom 'Annual_Income' menggunakan ekspresi reguler, dan kemudian mengonversi nilai-nilai tersebut menjadi tipe data float."
      ],
      "metadata": {
        "id": "_R16WanjdTCV"
      }
    },
    {
      "cell_type": "markdown",
      "source": [
        "> Kolom : Changed_Credit_Limit"
      ],
      "metadata": {
        "id": "XH1lu5aLbAjP"
      }
    },
    {
      "cell_type": "code",
      "source": [
        "train['Changed_Credit_Limit'] = train['Changed_Credit_Limit'].replace('_', np.nan)\n",
        "train['Changed_Credit_Limit'] = pd.to_numeric(train['Changed_Credit_Limit'], errors='coerce')\n",
        "train['Changed_Credit_Limit'] = train['Changed_Credit_Limit'].fillna(0)"
      ],
      "metadata": {
        "id": "MHhsAV8xa_wk"
      },
      "execution_count": null,
      "outputs": []
    },
    {
      "cell_type": "markdown",
      "source": [
        "Kode tersebut mengganti nilai '_' dengan NaN (nilai kosong) dalam kolom 'Changed_Credit_Limit', kemudian mengonversi nilai-nilai tersebut menjadi numerik, dengan parameter errors='coerce' yang mengubah nilai yang tidak dapat diubah menjadi NaN. Akhirnya, nilai-nilai NaN diganti dengan '0'."
      ],
      "metadata": {
        "id": "BM5A8sbcdUJX"
      }
    },
    {
      "cell_type": "markdown",
      "source": [
        "> Kolom : Outstanding_Debt"
      ],
      "metadata": {
        "id": "H9d1dRz5a_mn"
      }
    },
    {
      "cell_type": "code",
      "source": [
        "train['Outstanding_Debt'] = train['Outstanding_Debt'].astype(str)\n",
        "train['Outstanding_Debt'] = train['Outstanding_Debt'].str.replace(r'[^0-9.]', '', regex=True)\n",
        "train['Outstanding_Debt'] = pd.to_numeric(train['Outstanding_Debt'], errors='coerce')\n",
        "train['Outstanding_Debt'] = train['Outstanding_Debt'].fillna(0)"
      ],
      "metadata": {
        "id": "enlAhtBSbBMv"
      },
      "execution_count": null,
      "outputs": []
    },
    {
      "cell_type": "markdown",
      "source": [
        "Kode ini untuk mengonversi nilai-nilai dalam kolom 'Outstanding_Debt' menjadi string, kemudian menghapus karakter non-digit dari nilai-nilai tersebut menggunakan ekspresi reguler. Selanjutnya, nilai-nilai tersebut dikonversi menjadi numerik, dengan parameter errors='coerce' yang mengubah nilai yang tidak dapat diubah menjadi NaN. Akhirnya, nilai-nilai NaN diganti dengan '0'."
      ],
      "metadata": {
        "id": "B3_hkqZodYlk"
      }
    },
    {
      "cell_type": "markdown",
      "source": [
        "> Kolom : Amount_invested_monthly"
      ],
      "metadata": {
        "id": "cW2XncMQkAxV"
      }
    },
    {
      "cell_type": "code",
      "source": [
        "train['Amount_invested_monthly'] = train['Amount_invested_monthly'].astype(str)\n",
        "train['Amount_invested_monthly'] = train['Amount_invested_monthly'].replace('', '0')\n",
        "train['Amount_invested_monthly'] = train['Amount_invested_monthly'].str.replace(r'[^0-9.]', '')\n",
        "train['Amount_invested_monthly'] = pd.to_numeric(train['Amount_invested_monthly'], errors='coerce')\n",
        "train['Amount_invested_monthly'] = train['Amount_invested_monthly'].fillna(0)"
      ],
      "metadata": {
        "id": "XGCC3INTkBK6"
      },
      "execution_count": null,
      "outputs": []
    },
    {
      "cell_type": "markdown",
      "source": [
        "Kode ini untuk mengonversi nilai-nilai dalam kolom 'Amount_invested_monthly' menjadi string, kemudian mengganti nilai kosong dengan '0'. Selanjutnya, karakter non-digit dihapus dari nilai-nilai tersebut menggunakan ekspresi reguler. Nilai-nilai tersebut kemudian dikonversi menjadi numerik, dengan parameter errors='coerce' yang mengubah nilai yang tidak dapat diubah menjadi NaN. Akhirnya, nilai-nilai NaN diganti dengan '0'."
      ],
      "metadata": {
        "id": "UCjJUYVaddYT"
      }
    },
    {
      "cell_type": "markdown",
      "source": [
        "> Kolom : Monthly_Balance"
      ],
      "metadata": {
        "id": "Cu80ruHIkHvJ"
      }
    },
    {
      "cell_type": "code",
      "source": [
        "train['Monthly_Balance'] = train['Monthly_Balance'].astype(str)\n",
        "train['Monthly_Balance'] = train['Monthly_Balance'].str.replace(r'[^0-9.-]+', '')\n",
        "train['Monthly_Balance'] = pd.to_numeric(train['Monthly_Balance'], errors='coerce')\n",
        "train['Monthly_Balance'] = train['Monthly_Balance'].fillna(0)"
      ],
      "metadata": {
        "id": "gfhCAwXQkIDZ"
      },
      "execution_count": null,
      "outputs": []
    },
    {
      "cell_type": "markdown",
      "source": [
        "Kode ini untuk mengonversi nilai-nilai dalam kolom 'Monthly_Balance' menjadi string, kemudian menghapus karakter non-digit (kecuali '-') dari nilai-nilai tersebut menggunakan ekspresi reguler. Setelah itu, nilai-nilai tersebut dikonversi menjadi numerik, dengan parameter errors='coerce' yang mengubah nilai yang tidak dapat diubah menjadi NaN. Akhirnya, nilai-nilai NaN diganti dengan '0'."
      ],
      "metadata": {
        "id": "zt6C8DwsdiYM"
      }
    },
    {
      "cell_type": "markdown",
      "source": [
        "> Kolom : Credit History Age"
      ],
      "metadata": {
        "id": "CIwYo_RwkRzx"
      }
    },
    {
      "cell_type": "code",
      "source": [
        "def parse_years_and_months(age):\n",
        "    if isinstance(age, str):\n",
        "        age_parts = age.split(' Years and ')\n",
        "        years = int(age_parts[0]) if 'Years' in age else 0\n",
        "        months_str = age_parts[1].split(' Months')[0] if 'Months' in age_parts[1] else '0'\n",
        "        months = int(months_str)\n",
        "        total_months = years * 12 + months\n",
        "        return total_months\n",
        "    else:\n",
        "        return 0\n",
        "\n",
        "train['Credit_History_Age_Months'] = train['Credit_History_Age'].apply(parse_years_and_months)"
      ],
      "metadata": {
        "id": "0ZXiUqjako4M"
      },
      "execution_count": null,
      "outputs": []
    },
    {
      "cell_type": "markdown",
      "source": [
        "Fungsi parse_years_and_months ini mengonversi nilai usia dalam format \"tahun\" dan \"bulan\" menjadi total jumlah bulan. Berikut adalah penjelasan singkatnya:\n",
        "\n",
        "- Fungsi menerima satu argumen, age, yang diasumsikan sebagai string.\n",
        "- Fungsi memeriksa apakah age merupakan string atau bukan menggunakan isinstance().\n",
        "- Jika age adalah string, ia akan membaginya berdasarkan string ' Years and ' dan ' Months' untuk mendapatkan bagian tahun dan bulan.\n",
        "- Nilai tahun diubah menjadi integer, sedangkan nilai bulan diambil dari bagian string kedua dan juga diubah menjadi integer.\n",
        "- Kemudian, total jumlah bulan dihitung dengan mengalikan tahun dengan 12 dan menambahkannya dengan jumlah bulan.\n",
        "- Fungsi mengembalikan total jumlah bulan.\n",
        "- Jika age bukan string, fungsi mengembalikan nilai 0.\n",
        "\n",
        "Penerapan fungsi ini pada kolom 'Credit_History_Age' dari DataFrame train akan menghasilkan kolom baru 'Credit_History_Age_Months' yang berisi total jumlah bulan dari usia kredit."
      ],
      "metadata": {
        "id": "W0giDu6Qd0hE"
      }
    },
    {
      "cell_type": "markdown",
      "source": [
        "Duplicates\n",
        "\n",
        "---\n",
        "\n"
      ],
      "metadata": {
        "id": "hGSaUarfk3Wo"
      }
    },
    {
      "cell_type": "code",
      "source": [
        "# Metode duplicated()\n",
        "duplicates = train[train.duplicated()]\n",
        "\n",
        "# Menampung jumlah baris yang duplikat menggunakan shape[0]\n",
        "num_duplicates = duplicates.shape[0]\n",
        "\n",
        "# Pengujian kondisional\n",
        "if num_duplicates == 0:\n",
        "    print(\"Tidak ada duplikat\")\n",
        "else:\n",
        "    print(\"Masih ada\", num_duplicates, \"duplikat.\")"
      ],
      "metadata": {
        "colab": {
          "base_uri": "https://localhost:8080/"
        },
        "id": "8wGkjsSXk5_w",
        "outputId": "a789c429-f22f-4595-9d0c-bc5e4ba0d121"
      },
      "execution_count": null,
      "outputs": [
        {
          "output_type": "stream",
          "name": "stdout",
          "text": [
            "Tidak ada duplikat\n"
          ]
        }
      ]
    },
    {
      "cell_type": "markdown",
      "source": [
        "Kode ini digunakan untuk menemukan dan menghitung duplikat dalam DataFrame train. Berikut adalah penjelasan singkatnya:\n",
        "\n",
        "1. duplicates = train[train.duplicated()]: Baris ini mencari duplikat dalam DataFrame train dengan menggunakan metode duplicated(). Ini akan menghasilkan DataFrame baru yang berisi baris duplikat.\n",
        "\n",
        "2. num_duplicates = duplicates.shape[0]: Variabel num_duplicates menampung jumlah baris duplikat yang ditemukan dengan menggunakan atribut shape[0] dari DataFrame duplicates.\n",
        "\n",
        "3. if num_duplicates == 0:: Ini adalah pengujian kondisional untuk memeriksa apakah jumlah duplikat adalah 0.\n",
        "\n",
        "4. print(\"Tidak ada duplikat\"): Jika tidak ada duplikat yang ditemukan, pesan ini akan dicetak.\n",
        "\n",
        "5. else:: Jika ada duplikat yang ditemukan, pernyataan di bawah ini akan dijalankan.\n",
        "\n",
        "6. print(\"Masih ada\", num_duplicates, \"duplikat.\"): Jika ada duplikat, pesan ini akan mencetak jumlah duplikat yang ditemukan.\n",
        "\n",
        "Dengan cara ini, kode ini memberi tahu pengguna apakah ada duplikat dalam DataFrame train atau tidak."
      ],
      "metadata": {
        "id": "pMkSISBzeQ33"
      }
    },
    {
      "cell_type": "markdown",
      "source": [
        "Data Scalling\n",
        "\n",
        "---\n",
        "\n"
      ],
      "metadata": {
        "id": "MfuMkipblhv6"
      }
    },
    {
      "cell_type": "markdown",
      "source": [
        "Dalam proses scaling data, kita ingin menyesuaikan rentang nilai setiap fitur sehingga mereka memiliki skala yang serupa. Metode scaling umum termasuk Standard Scaling (z-score normalization) dan Min-Max Scaling.\n",
        "\n",
        "Namun, sebelum melakukan scaling, penting untuk memperhatikan adanya fitur yang memiliki nilai minimum negatif. Metode Min-Max Scaling tidak cocok untuk fitur-fitur semacam ini, karena akan mengubah nilai-nilai negatif menjadi positif."
      ],
      "metadata": {
        "id": "9QT2Wb4ne5wT"
      }
    },
    {
      "cell_type": "code",
      "source": [
        "# Mendeskripsikan didalam dataframe train\n",
        "train.describe().T"
      ],
      "metadata": {
        "colab": {
          "base_uri": "https://localhost:8080/",
          "height": 582
        },
        "id": "xYjwH3PUlO-z",
        "outputId": "9723fbc5-e30a-4c5f-e02f-8a707482bdfb"
      },
      "execution_count": null,
      "outputs": [
        {
          "output_type": "execute_result",
          "data": {
            "text/plain": [
              "                              count           mean           std          min  \\\n",
              "Age                        100000.0     119.509700  6.847573e+02    14.000000   \n",
              "Annual_Income              100000.0  176415.701298  1.429618e+06  7005.930000   \n",
              "Monthly_Inhand_Salary       84998.0    4194.170850  3.183686e+03   303.645417   \n",
              "Num_Bank_Accounts          100000.0      17.091280  1.174048e+02    -1.000000   \n",
              "Num_Credit_Card            100000.0      22.474430  1.290574e+02     0.000000   \n",
              "Interest_Rate              100000.0      72.466040  4.664226e+02     1.000000   \n",
              "Num_of_Loan                100000.0      10.761960  6.178993e+01     0.000000   \n",
              "Delay_from_due_date        100000.0      21.068780  1.486010e+01    -5.000000   \n",
              "Num_of_Delayed_Payment     100000.0      28.779410  2.181148e+02     0.000000   \n",
              "Changed_Credit_Limit       100000.0      10.171791  6.880628e+00    -6.490000   \n",
              "Num_Credit_Inquiries        98035.0      27.754251  1.931773e+02     0.000000   \n",
              "Outstanding_Debt           100000.0    1426.220376  1.155129e+03     0.230000   \n",
              "Credit_Utilization_Ratio   100000.0      32.285173  5.116875e+00    20.000000   \n",
              "Total_EMI_per_month        100000.0    1403.118217  8.306041e+03     0.000000   \n",
              "Amount_invested_monthly    100000.0     178.363270  1.984724e+02     0.000000   \n",
              "Monthly_Balance            100000.0     397.684413  2.171320e+02     0.000000   \n",
              "Credit_History_Age_Months  100000.0     201.221460  1.143207e+02     0.000000   \n",
              "\n",
              "                                    25%           50%           75%  \\\n",
              "Age                           25.000000     34.000000     42.000000   \n",
              "Annual_Income              19457.500000  37578.610000  72790.920000   \n",
              "Monthly_Inhand_Salary       1625.568229   3093.745000   5957.448333   \n",
              "Num_Bank_Accounts              3.000000      6.000000      7.000000   \n",
              "Num_Credit_Card                4.000000      5.000000      7.000000   \n",
              "Interest_Rate                  8.000000     13.000000     20.000000   \n",
              "Num_of_Loan                    2.000000      3.000000      6.000000   \n",
              "Delay_from_due_date           10.000000     18.000000     28.000000   \n",
              "Num_of_Delayed_Payment         8.000000     13.000000     18.000000   \n",
              "Changed_Credit_Limit           4.970000      9.250000     14.660000   \n",
              "Num_Credit_Inquiries           3.000000      6.000000      9.000000   \n",
              "Outstanding_Debt             566.072500   1166.155000   1945.962500   \n",
              "Credit_Utilization_Ratio      28.052567     32.305784     36.496663   \n",
              "Total_EMI_per_month           30.306660     69.249473    161.224249   \n",
              "Amount_invested_monthly       58.325837    116.545252    220.039055   \n",
              "Monthly_Balance              267.871374    334.806633    467.670597   \n",
              "Credit_History_Age_Months    114.000000    208.000000    292.000000   \n",
              "\n",
              "                                    max  \n",
              "Age                        8.698000e+03  \n",
              "Annual_Income              2.419806e+07  \n",
              "Monthly_Inhand_Salary      1.520463e+04  \n",
              "Num_Bank_Accounts          1.798000e+03  \n",
              "Num_Credit_Card            1.499000e+03  \n",
              "Interest_Rate              5.797000e+03  \n",
              "Num_of_Loan                1.496000e+03  \n",
              "Delay_from_due_date        6.700000e+01  \n",
              "Num_of_Delayed_Payment     4.397000e+03  \n",
              "Changed_Credit_Limit       3.697000e+01  \n",
              "Num_Credit_Inquiries       2.597000e+03  \n",
              "Outstanding_Debt           4.998070e+03  \n",
              "Credit_Utilization_Ratio   5.000000e+01  \n",
              "Total_EMI_per_month        8.233100e+04  \n",
              "Amount_invested_monthly    1.977326e+03  \n",
              "Monthly_Balance            1.602041e+03  \n",
              "Credit_History_Age_Months  4.040000e+02  "
            ],
            "text/html": [
              "\n",
              "  <div id=\"df-20d4ac8f-2a9c-40e8-b02a-d3dcd8778392\" class=\"colab-df-container\">\n",
              "    <div>\n",
              "<style scoped>\n",
              "    .dataframe tbody tr th:only-of-type {\n",
              "        vertical-align: middle;\n",
              "    }\n",
              "\n",
              "    .dataframe tbody tr th {\n",
              "        vertical-align: top;\n",
              "    }\n",
              "\n",
              "    .dataframe thead th {\n",
              "        text-align: right;\n",
              "    }\n",
              "</style>\n",
              "<table border=\"1\" class=\"dataframe\">\n",
              "  <thead>\n",
              "    <tr style=\"text-align: right;\">\n",
              "      <th></th>\n",
              "      <th>count</th>\n",
              "      <th>mean</th>\n",
              "      <th>std</th>\n",
              "      <th>min</th>\n",
              "      <th>25%</th>\n",
              "      <th>50%</th>\n",
              "      <th>75%</th>\n",
              "      <th>max</th>\n",
              "    </tr>\n",
              "  </thead>\n",
              "  <tbody>\n",
              "    <tr>\n",
              "      <th>Age</th>\n",
              "      <td>100000.0</td>\n",
              "      <td>119.509700</td>\n",
              "      <td>6.847573e+02</td>\n",
              "      <td>14.000000</td>\n",
              "      <td>25.000000</td>\n",
              "      <td>34.000000</td>\n",
              "      <td>42.000000</td>\n",
              "      <td>8.698000e+03</td>\n",
              "    </tr>\n",
              "    <tr>\n",
              "      <th>Annual_Income</th>\n",
              "      <td>100000.0</td>\n",
              "      <td>176415.701298</td>\n",
              "      <td>1.429618e+06</td>\n",
              "      <td>7005.930000</td>\n",
              "      <td>19457.500000</td>\n",
              "      <td>37578.610000</td>\n",
              "      <td>72790.920000</td>\n",
              "      <td>2.419806e+07</td>\n",
              "    </tr>\n",
              "    <tr>\n",
              "      <th>Monthly_Inhand_Salary</th>\n",
              "      <td>84998.0</td>\n",
              "      <td>4194.170850</td>\n",
              "      <td>3.183686e+03</td>\n",
              "      <td>303.645417</td>\n",
              "      <td>1625.568229</td>\n",
              "      <td>3093.745000</td>\n",
              "      <td>5957.448333</td>\n",
              "      <td>1.520463e+04</td>\n",
              "    </tr>\n",
              "    <tr>\n",
              "      <th>Num_Bank_Accounts</th>\n",
              "      <td>100000.0</td>\n",
              "      <td>17.091280</td>\n",
              "      <td>1.174048e+02</td>\n",
              "      <td>-1.000000</td>\n",
              "      <td>3.000000</td>\n",
              "      <td>6.000000</td>\n",
              "      <td>7.000000</td>\n",
              "      <td>1.798000e+03</td>\n",
              "    </tr>\n",
              "    <tr>\n",
              "      <th>Num_Credit_Card</th>\n",
              "      <td>100000.0</td>\n",
              "      <td>22.474430</td>\n",
              "      <td>1.290574e+02</td>\n",
              "      <td>0.000000</td>\n",
              "      <td>4.000000</td>\n",
              "      <td>5.000000</td>\n",
              "      <td>7.000000</td>\n",
              "      <td>1.499000e+03</td>\n",
              "    </tr>\n",
              "    <tr>\n",
              "      <th>Interest_Rate</th>\n",
              "      <td>100000.0</td>\n",
              "      <td>72.466040</td>\n",
              "      <td>4.664226e+02</td>\n",
              "      <td>1.000000</td>\n",
              "      <td>8.000000</td>\n",
              "      <td>13.000000</td>\n",
              "      <td>20.000000</td>\n",
              "      <td>5.797000e+03</td>\n",
              "    </tr>\n",
              "    <tr>\n",
              "      <th>Num_of_Loan</th>\n",
              "      <td>100000.0</td>\n",
              "      <td>10.761960</td>\n",
              "      <td>6.178993e+01</td>\n",
              "      <td>0.000000</td>\n",
              "      <td>2.000000</td>\n",
              "      <td>3.000000</td>\n",
              "      <td>6.000000</td>\n",
              "      <td>1.496000e+03</td>\n",
              "    </tr>\n",
              "    <tr>\n",
              "      <th>Delay_from_due_date</th>\n",
              "      <td>100000.0</td>\n",
              "      <td>21.068780</td>\n",
              "      <td>1.486010e+01</td>\n",
              "      <td>-5.000000</td>\n",
              "      <td>10.000000</td>\n",
              "      <td>18.000000</td>\n",
              "      <td>28.000000</td>\n",
              "      <td>6.700000e+01</td>\n",
              "    </tr>\n",
              "    <tr>\n",
              "      <th>Num_of_Delayed_Payment</th>\n",
              "      <td>100000.0</td>\n",
              "      <td>28.779410</td>\n",
              "      <td>2.181148e+02</td>\n",
              "      <td>0.000000</td>\n",
              "      <td>8.000000</td>\n",
              "      <td>13.000000</td>\n",
              "      <td>18.000000</td>\n",
              "      <td>4.397000e+03</td>\n",
              "    </tr>\n",
              "    <tr>\n",
              "      <th>Changed_Credit_Limit</th>\n",
              "      <td>100000.0</td>\n",
              "      <td>10.171791</td>\n",
              "      <td>6.880628e+00</td>\n",
              "      <td>-6.490000</td>\n",
              "      <td>4.970000</td>\n",
              "      <td>9.250000</td>\n",
              "      <td>14.660000</td>\n",
              "      <td>3.697000e+01</td>\n",
              "    </tr>\n",
              "    <tr>\n",
              "      <th>Num_Credit_Inquiries</th>\n",
              "      <td>98035.0</td>\n",
              "      <td>27.754251</td>\n",
              "      <td>1.931773e+02</td>\n",
              "      <td>0.000000</td>\n",
              "      <td>3.000000</td>\n",
              "      <td>6.000000</td>\n",
              "      <td>9.000000</td>\n",
              "      <td>2.597000e+03</td>\n",
              "    </tr>\n",
              "    <tr>\n",
              "      <th>Outstanding_Debt</th>\n",
              "      <td>100000.0</td>\n",
              "      <td>1426.220376</td>\n",
              "      <td>1.155129e+03</td>\n",
              "      <td>0.230000</td>\n",
              "      <td>566.072500</td>\n",
              "      <td>1166.155000</td>\n",
              "      <td>1945.962500</td>\n",
              "      <td>4.998070e+03</td>\n",
              "    </tr>\n",
              "    <tr>\n",
              "      <th>Credit_Utilization_Ratio</th>\n",
              "      <td>100000.0</td>\n",
              "      <td>32.285173</td>\n",
              "      <td>5.116875e+00</td>\n",
              "      <td>20.000000</td>\n",
              "      <td>28.052567</td>\n",
              "      <td>32.305784</td>\n",
              "      <td>36.496663</td>\n",
              "      <td>5.000000e+01</td>\n",
              "    </tr>\n",
              "    <tr>\n",
              "      <th>Total_EMI_per_month</th>\n",
              "      <td>100000.0</td>\n",
              "      <td>1403.118217</td>\n",
              "      <td>8.306041e+03</td>\n",
              "      <td>0.000000</td>\n",
              "      <td>30.306660</td>\n",
              "      <td>69.249473</td>\n",
              "      <td>161.224249</td>\n",
              "      <td>8.233100e+04</td>\n",
              "    </tr>\n",
              "    <tr>\n",
              "      <th>Amount_invested_monthly</th>\n",
              "      <td>100000.0</td>\n",
              "      <td>178.363270</td>\n",
              "      <td>1.984724e+02</td>\n",
              "      <td>0.000000</td>\n",
              "      <td>58.325837</td>\n",
              "      <td>116.545252</td>\n",
              "      <td>220.039055</td>\n",
              "      <td>1.977326e+03</td>\n",
              "    </tr>\n",
              "    <tr>\n",
              "      <th>Monthly_Balance</th>\n",
              "      <td>100000.0</td>\n",
              "      <td>397.684413</td>\n",
              "      <td>2.171320e+02</td>\n",
              "      <td>0.000000</td>\n",
              "      <td>267.871374</td>\n",
              "      <td>334.806633</td>\n",
              "      <td>467.670597</td>\n",
              "      <td>1.602041e+03</td>\n",
              "    </tr>\n",
              "    <tr>\n",
              "      <th>Credit_History_Age_Months</th>\n",
              "      <td>100000.0</td>\n",
              "      <td>201.221460</td>\n",
              "      <td>1.143207e+02</td>\n",
              "      <td>0.000000</td>\n",
              "      <td>114.000000</td>\n",
              "      <td>208.000000</td>\n",
              "      <td>292.000000</td>\n",
              "      <td>4.040000e+02</td>\n",
              "    </tr>\n",
              "  </tbody>\n",
              "</table>\n",
              "</div>\n",
              "    <div class=\"colab-df-buttons\">\n",
              "\n",
              "  <div class=\"colab-df-container\">\n",
              "    <button class=\"colab-df-convert\" onclick=\"convertToInteractive('df-20d4ac8f-2a9c-40e8-b02a-d3dcd8778392')\"\n",
              "            title=\"Convert this dataframe to an interactive table.\"\n",
              "            style=\"display:none;\">\n",
              "\n",
              "  <svg xmlns=\"http://www.w3.org/2000/svg\" height=\"24px\" viewBox=\"0 -960 960 960\">\n",
              "    <path d=\"M120-120v-720h720v720H120Zm60-500h600v-160H180v160Zm220 220h160v-160H400v160Zm0 220h160v-160H400v160ZM180-400h160v-160H180v160Zm440 0h160v-160H620v160ZM180-180h160v-160H180v160Zm440 0h160v-160H620v160Z\"/>\n",
              "  </svg>\n",
              "    </button>\n",
              "\n",
              "  <style>\n",
              "    .colab-df-container {\n",
              "      display:flex;\n",
              "      gap: 12px;\n",
              "    }\n",
              "\n",
              "    .colab-df-convert {\n",
              "      background-color: #E8F0FE;\n",
              "      border: none;\n",
              "      border-radius: 50%;\n",
              "      cursor: pointer;\n",
              "      display: none;\n",
              "      fill: #1967D2;\n",
              "      height: 32px;\n",
              "      padding: 0 0 0 0;\n",
              "      width: 32px;\n",
              "    }\n",
              "\n",
              "    .colab-df-convert:hover {\n",
              "      background-color: #E2EBFA;\n",
              "      box-shadow: 0px 1px 2px rgba(60, 64, 67, 0.3), 0px 1px 3px 1px rgba(60, 64, 67, 0.15);\n",
              "      fill: #174EA6;\n",
              "    }\n",
              "\n",
              "    .colab-df-buttons div {\n",
              "      margin-bottom: 4px;\n",
              "    }\n",
              "\n",
              "    [theme=dark] .colab-df-convert {\n",
              "      background-color: #3B4455;\n",
              "      fill: #D2E3FC;\n",
              "    }\n",
              "\n",
              "    [theme=dark] .colab-df-convert:hover {\n",
              "      background-color: #434B5C;\n",
              "      box-shadow: 0px 1px 3px 1px rgba(0, 0, 0, 0.15);\n",
              "      filter: drop-shadow(0px 1px 2px rgba(0, 0, 0, 0.3));\n",
              "      fill: #FFFFFF;\n",
              "    }\n",
              "  </style>\n",
              "\n",
              "    <script>\n",
              "      const buttonEl =\n",
              "        document.querySelector('#df-20d4ac8f-2a9c-40e8-b02a-d3dcd8778392 button.colab-df-convert');\n",
              "      buttonEl.style.display =\n",
              "        google.colab.kernel.accessAllowed ? 'block' : 'none';\n",
              "\n",
              "      async function convertToInteractive(key) {\n",
              "        const element = document.querySelector('#df-20d4ac8f-2a9c-40e8-b02a-d3dcd8778392');\n",
              "        const dataTable =\n",
              "          await google.colab.kernel.invokeFunction('convertToInteractive',\n",
              "                                                    [key], {});\n",
              "        if (!dataTable) return;\n",
              "\n",
              "        const docLinkHtml = 'Like what you see? Visit the ' +\n",
              "          '<a target=\"_blank\" href=https://colab.research.google.com/notebooks/data_table.ipynb>data table notebook</a>'\n",
              "          + ' to learn more about interactive tables.';\n",
              "        element.innerHTML = '';\n",
              "        dataTable['output_type'] = 'display_data';\n",
              "        await google.colab.output.renderOutput(dataTable, element);\n",
              "        const docLink = document.createElement('div');\n",
              "        docLink.innerHTML = docLinkHtml;\n",
              "        element.appendChild(docLink);\n",
              "      }\n",
              "    </script>\n",
              "  </div>\n",
              "\n",
              "\n",
              "<div id=\"df-ac3956d4-3e6b-4be4-80dd-654112ff9391\">\n",
              "  <button class=\"colab-df-quickchart\" onclick=\"quickchart('df-ac3956d4-3e6b-4be4-80dd-654112ff9391')\"\n",
              "            title=\"Suggest charts\"\n",
              "            style=\"display:none;\">\n",
              "\n",
              "<svg xmlns=\"http://www.w3.org/2000/svg\" height=\"24px\"viewBox=\"0 0 24 24\"\n",
              "     width=\"24px\">\n",
              "    <g>\n",
              "        <path d=\"M19 3H5c-1.1 0-2 .9-2 2v14c0 1.1.9 2 2 2h14c1.1 0 2-.9 2-2V5c0-1.1-.9-2-2-2zM9 17H7v-7h2v7zm4 0h-2V7h2v10zm4 0h-2v-4h2v4z\"/>\n",
              "    </g>\n",
              "</svg>\n",
              "  </button>\n",
              "\n",
              "<style>\n",
              "  .colab-df-quickchart {\n",
              "      --bg-color: #E8F0FE;\n",
              "      --fill-color: #1967D2;\n",
              "      --hover-bg-color: #E2EBFA;\n",
              "      --hover-fill-color: #174EA6;\n",
              "      --disabled-fill-color: #AAA;\n",
              "      --disabled-bg-color: #DDD;\n",
              "  }\n",
              "\n",
              "  [theme=dark] .colab-df-quickchart {\n",
              "      --bg-color: #3B4455;\n",
              "      --fill-color: #D2E3FC;\n",
              "      --hover-bg-color: #434B5C;\n",
              "      --hover-fill-color: #FFFFFF;\n",
              "      --disabled-bg-color: #3B4455;\n",
              "      --disabled-fill-color: #666;\n",
              "  }\n",
              "\n",
              "  .colab-df-quickchart {\n",
              "    background-color: var(--bg-color);\n",
              "    border: none;\n",
              "    border-radius: 50%;\n",
              "    cursor: pointer;\n",
              "    display: none;\n",
              "    fill: var(--fill-color);\n",
              "    height: 32px;\n",
              "    padding: 0;\n",
              "    width: 32px;\n",
              "  }\n",
              "\n",
              "  .colab-df-quickchart:hover {\n",
              "    background-color: var(--hover-bg-color);\n",
              "    box-shadow: 0 1px 2px rgba(60, 64, 67, 0.3), 0 1px 3px 1px rgba(60, 64, 67, 0.15);\n",
              "    fill: var(--button-hover-fill-color);\n",
              "  }\n",
              "\n",
              "  .colab-df-quickchart-complete:disabled,\n",
              "  .colab-df-quickchart-complete:disabled:hover {\n",
              "    background-color: var(--disabled-bg-color);\n",
              "    fill: var(--disabled-fill-color);\n",
              "    box-shadow: none;\n",
              "  }\n",
              "\n",
              "  .colab-df-spinner {\n",
              "    border: 2px solid var(--fill-color);\n",
              "    border-color: transparent;\n",
              "    border-bottom-color: var(--fill-color);\n",
              "    animation:\n",
              "      spin 1s steps(1) infinite;\n",
              "  }\n",
              "\n",
              "  @keyframes spin {\n",
              "    0% {\n",
              "      border-color: transparent;\n",
              "      border-bottom-color: var(--fill-color);\n",
              "      border-left-color: var(--fill-color);\n",
              "    }\n",
              "    20% {\n",
              "      border-color: transparent;\n",
              "      border-left-color: var(--fill-color);\n",
              "      border-top-color: var(--fill-color);\n",
              "    }\n",
              "    30% {\n",
              "      border-color: transparent;\n",
              "      border-left-color: var(--fill-color);\n",
              "      border-top-color: var(--fill-color);\n",
              "      border-right-color: var(--fill-color);\n",
              "    }\n",
              "    40% {\n",
              "      border-color: transparent;\n",
              "      border-right-color: var(--fill-color);\n",
              "      border-top-color: var(--fill-color);\n",
              "    }\n",
              "    60% {\n",
              "      border-color: transparent;\n",
              "      border-right-color: var(--fill-color);\n",
              "    }\n",
              "    80% {\n",
              "      border-color: transparent;\n",
              "      border-right-color: var(--fill-color);\n",
              "      border-bottom-color: var(--fill-color);\n",
              "    }\n",
              "    90% {\n",
              "      border-color: transparent;\n",
              "      border-bottom-color: var(--fill-color);\n",
              "    }\n",
              "  }\n",
              "</style>\n",
              "\n",
              "  <script>\n",
              "    async function quickchart(key) {\n",
              "      const quickchartButtonEl =\n",
              "        document.querySelector('#' + key + ' button');\n",
              "      quickchartButtonEl.disabled = true;  // To prevent multiple clicks.\n",
              "      quickchartButtonEl.classList.add('colab-df-spinner');\n",
              "      try {\n",
              "        const charts = await google.colab.kernel.invokeFunction(\n",
              "            'suggestCharts', [key], {});\n",
              "      } catch (error) {\n",
              "        console.error('Error during call to suggestCharts:', error);\n",
              "      }\n",
              "      quickchartButtonEl.classList.remove('colab-df-spinner');\n",
              "      quickchartButtonEl.classList.add('colab-df-quickchart-complete');\n",
              "    }\n",
              "    (() => {\n",
              "      let quickchartButtonEl =\n",
              "        document.querySelector('#df-ac3956d4-3e6b-4be4-80dd-654112ff9391 button');\n",
              "      quickchartButtonEl.style.display =\n",
              "        google.colab.kernel.accessAllowed ? 'block' : 'none';\n",
              "    })();\n",
              "  </script>\n",
              "</div>\n",
              "    </div>\n",
              "  </div>\n"
            ],
            "application/vnd.google.colaboratory.intrinsic+json": {
              "type": "dataframe",
              "summary": "{\n  \"name\": \"train\",\n  \"rows\": 17,\n  \"fields\": [\n    {\n      \"column\": \"count\",\n      \"properties\": {\n        \"dtype\": \"number\",\n        \"std\": 3639.9447535400213,\n        \"min\": 84998.0,\n        \"max\": 100000.0,\n        \"num_unique_values\": 3,\n        \"samples\": [\n          100000.0,\n          84998.0,\n          98035.0\n        ],\n        \"semantic_type\": \"\",\n        \"description\": \"\"\n      }\n    },\n    {\n      \"column\": \"mean\",\n      \"properties\": {\n        \"dtype\": \"number\",\n        \"std\": 42676.30219708766,\n        \"min\": 10.1717906,\n        \"max\": 176415.70129814997,\n        \"num_unique_values\": 17,\n        \"samples\": [\n          119.5097,\n          176415.70129814997,\n          72.46604\n        ],\n        \"semantic_type\": \"\",\n        \"description\": \"\"\n      }\n    },\n    {\n      \"column\": \"std\",\n      \"properties\": {\n        \"dtype\": \"number\",\n        \"std\": 346510.8911316061,\n        \"min\": 5.116875070150906,\n        \"max\": 1429618.0514141545,\n        \"num_unique_values\": 17,\n        \"samples\": [\n          684.7573134999684,\n          1429618.0514141545,\n          466.4226212217138\n        ],\n        \"semantic_type\": \"\",\n        \"description\": \"\"\n      }\n    },\n    {\n      \"column\": \"min\",\n      \"properties\": {\n        \"dtype\": \"number\",\n        \"std\": 1695.8294490789813,\n        \"min\": -6.49,\n        \"max\": 7005.93,\n        \"num_unique_values\": 10,\n        \"samples\": [\n          0.23,\n          7005.93,\n          1.0\n        ],\n        \"semantic_type\": \"\",\n        \"description\": \"\"\n      }\n    },\n    {\n      \"column\": \"25%\",\n      \"properties\": {\n        \"dtype\": \"number\",\n        \"std\": 4694.521200838325,\n        \"min\": 2.0,\n        \"max\": 19457.5,\n        \"num_unique_values\": 15,\n        \"samples\": [\n          566.0725,\n          30.306660494686994,\n          25.0\n        ],\n        \"semantic_type\": \"\",\n        \"description\": \"\"\n      }\n    },\n    {\n      \"column\": \"50%\",\n      \"properties\": {\n        \"dtype\": \"number\",\n        \"std\": 9069.089149388885,\n        \"min\": 3.0,\n        \"max\": 37578.61,\n        \"num_unique_values\": 15,\n        \"samples\": [\n          1166.155,\n          69.24947329972044,\n          34.0\n        ],\n        \"semantic_type\": \"\",\n        \"description\": \"\"\n      }\n    },\n    {\n      \"column\": \"75%\",\n      \"properties\": {\n        \"dtype\": \"number\",\n        \"std\": 17575.593922501772,\n        \"min\": 6.0,\n        \"max\": 72790.92,\n        \"num_unique_values\": 16,\n        \"samples\": [\n          42.0,\n          72790.92,\n          6.0\n        ],\n        \"semantic_type\": \"\",\n        \"description\": \"\"\n      }\n    },\n    {\n      \"column\": \"max\",\n      \"properties\": {\n        \"dtype\": \"number\",\n        \"std\": 5866909.108628571,\n        \"min\": 36.97,\n        \"max\": 24198062.0,\n        \"num_unique_values\": 17,\n        \"samples\": [\n          8698.0,\n          24198062.0,\n          5797.0\n        ],\n        \"semantic_type\": \"\",\n        \"description\": \"\"\n      }\n    }\n  ]\n}"
            }
          },
          "metadata": {},
          "execution_count": 13
        }
      ]
    },
    {
      "cell_type": "markdown",
      "source": [
        "- count: Jumlah entri non-null dalam setiap kolom.\n",
        "- mean: Rata-rata dari setiap kolom.\n",
        "- std: Standar deviasi dari setiap kolom.\n",
        "- min: Nilai minimum dari setiap kolom.\n",
        "- 25%: Kuartil pertama (Q1), atau nilai yang membagi data menjadi 25% terbawah.\n",
        "- 50%: Median (Q2), atau nilai tengah dari data.\n",
        "- 75%: Kuartil ketiga (Q3), atau nilai yang membagi data menjadi 25% teratas.\n",
        "- max: Nilai maksimum dari setiap kolom.\n",
        "\n",
        "Dengan output diatas, maka akan coba kita hilangkan outlier pada dataframe dengan men-scalling lagi tiap baris yang masih di atas persentil treshold."
      ],
      "metadata": {
        "id": "oYtAlvlEfGGr"
      }
    },
    {
      "cell_type": "code",
      "source": [
        "# Memilih kolom tertentu\n",
        "selected_columns_train = train[['Num_Bank_Accounts', 'Interest_Rate', 'Annual_Income', 'Num_of_Delayed_Payment', 'Num_Credit_Inquiries', 'Total_EMI_per_month', 'Num_of_Loan', 'Num_Credit_Card']]\n",
        "\n",
        "# Menentukan persentil untuk setiap kolom yang dipilih\n",
        "percentile_threshold = 0.98\n",
        "percentiles = selected_columns_train.quantile(percentile_threshold)\n",
        "\n",
        "# Perulangan pada baris kolom untuk menghapus nilai untuk setiap kolom yang masih diatas persentil yang ditentukan sebelumnya\n",
        "for column in selected_columns_train.columns:\n",
        "    train = train[train[column] <= percentiles[column]]"
      ],
      "metadata": {
        "id": "QfTSMvyZlqsU"
      },
      "execution_count": null,
      "outputs": []
    },
    {
      "cell_type": "markdown",
      "source": [
        "Kode ini memiliki dua tujuan utama:\n",
        "\n",
        "1. Memilih kolom tertentu dari DataFrame train.\n",
        "2. Menghapus baris-baris dari DataFrame train yang memiliki nilai di atas persentil tertentu untuk setiap kolom yang dipilih."
      ],
      "metadata": {
        "id": "NEHzXhXvfih3"
      }
    },
    {
      "cell_type": "code",
      "source": [
        "# Mendeskripsikan didalam dataframe train\n",
        "train.describe().T"
      ],
      "metadata": {
        "colab": {
          "base_uri": "https://localhost:8080/",
          "height": 582
        },
        "id": "CctXPhNnltgH",
        "outputId": "3149e463-9403-4b05-c082-85cf8ab0bc8e"
      },
      "execution_count": null,
      "outputs": [
        {
          "output_type": "execute_result",
          "data": {
            "text/plain": [
              "                             count          mean           std          min  \\\n",
              "Age                        85806.0    120.486003    690.067511    14.000000   \n",
              "Annual_Income              85806.0  49378.620726  36478.390299  7005.930000   \n",
              "Monthly_Inhand_Salary      72894.0   4105.781241   3036.319177   303.645417   \n",
              "Num_Bank_Accounts          85806.0      5.372759      2.585031    -1.000000   \n",
              "Num_Credit_Card            85806.0      5.779048      5.727016     0.000000   \n",
              "Interest_Rate              85806.0     14.551174      8.824173     1.000000   \n",
              "Num_of_Loan                85806.0      7.318381     18.881665     0.000000   \n",
              "Delay_from_due_date        85806.0     21.033483     14.786223    -5.000000   \n",
              "Num_of_Delayed_Payment     85806.0     12.348321      6.845002     0.000000   \n",
              "Changed_Credit_Limit       85806.0     10.189597      6.867078    -6.490000   \n",
              "Num_Credit_Inquiries       85806.0      5.757558      3.808858     0.000000   \n",
              "Outstanding_Debt           85806.0   1420.471486   1150.336514     0.230000   \n",
              "Credit_Utilization_Ratio   85806.0     32.250542      5.098798    20.000000   \n",
              "Total_EMI_per_month        85806.0    287.201729   1900.010819     0.000000   \n",
              "Amount_invested_monthly    85806.0    174.614986    190.440132     0.000000   \n",
              "Monthly_Balance            85806.0    393.844633    208.552121     0.000000   \n",
              "Credit_History_Age_Months  85806.0    201.374484    114.274695     0.000000   \n",
              "\n",
              "                                    25%           50%           75%  \\\n",
              "Age                           25.000000     34.000000     42.000000   \n",
              "Annual_Income              19294.460000  36780.030000  70825.760000   \n",
              "Monthly_Inhand_Salary       1623.778333   3069.091667   5899.970000   \n",
              "Num_Bank_Accounts              3.000000      6.000000      7.000000   \n",
              "Num_Credit_Card                4.000000      5.000000      7.000000   \n",
              "Interest_Rate                  7.000000     13.000000     20.000000   \n",
              "Num_of_Loan                    2.000000      3.000000      6.000000   \n",
              "Delay_from_due_date           10.000000     18.000000     28.000000   \n",
              "Num_of_Delayed_Payment         8.000000     13.000000     18.000000   \n",
              "Changed_Credit_Limit           4.990000      9.280000     14.710000   \n",
              "Num_Credit_Inquiries           3.000000      5.000000      8.000000   \n",
              "Outstanding_Debt             565.375000   1163.330000   1933.980000   \n",
              "Credit_Utilization_Ratio      28.024589     32.263129     36.468620   \n",
              "Total_EMI_per_month           29.489975     66.648703    148.997495   \n",
              "Amount_invested_monthly       58.040175    115.485412    216.812779   \n",
              "Monthly_Balance              268.094008    334.580384    464.420853   \n",
              "Credit_History_Age_Months    114.000000    209.000000    292.000000   \n",
              "\n",
              "                                     max  \n",
              "Age                          8698.000000  \n",
              "Annual_Income              166837.640000  \n",
              "Monthly_Inhand_Salary       14131.123333  \n",
              "Num_Bank_Accounts              10.000000  \n",
              "Num_Credit_Card               171.000000  \n",
              "Interest_Rate                 128.000000  \n",
              "Num_of_Loan                   100.000000  \n",
              "Delay_from_due_date            67.000000  \n",
              "Num_of_Delayed_Payment         25.000000  \n",
              "Changed_Credit_Limit           36.970000  \n",
              "Num_Credit_Inquiries           16.000000  \n",
              "Outstanding_Debt             4998.070000  \n",
              "Credit_Utilization_Ratio       48.489852  \n",
              "Total_EMI_per_month         29974.000000  \n",
              "Amount_invested_monthly      1775.048037  \n",
              "Monthly_Balance              1497.941923  \n",
              "Credit_History_Age_Months     404.000000  "
            ],
            "text/html": [
              "\n",
              "  <div id=\"df-0d3f95ef-b4d2-46b3-b68d-60a780d54e31\" class=\"colab-df-container\">\n",
              "    <div>\n",
              "<style scoped>\n",
              "    .dataframe tbody tr th:only-of-type {\n",
              "        vertical-align: middle;\n",
              "    }\n",
              "\n",
              "    .dataframe tbody tr th {\n",
              "        vertical-align: top;\n",
              "    }\n",
              "\n",
              "    .dataframe thead th {\n",
              "        text-align: right;\n",
              "    }\n",
              "</style>\n",
              "<table border=\"1\" class=\"dataframe\">\n",
              "  <thead>\n",
              "    <tr style=\"text-align: right;\">\n",
              "      <th></th>\n",
              "      <th>count</th>\n",
              "      <th>mean</th>\n",
              "      <th>std</th>\n",
              "      <th>min</th>\n",
              "      <th>25%</th>\n",
              "      <th>50%</th>\n",
              "      <th>75%</th>\n",
              "      <th>max</th>\n",
              "    </tr>\n",
              "  </thead>\n",
              "  <tbody>\n",
              "    <tr>\n",
              "      <th>Age</th>\n",
              "      <td>85806.0</td>\n",
              "      <td>120.486003</td>\n",
              "      <td>690.067511</td>\n",
              "      <td>14.000000</td>\n",
              "      <td>25.000000</td>\n",
              "      <td>34.000000</td>\n",
              "      <td>42.000000</td>\n",
              "      <td>8698.000000</td>\n",
              "    </tr>\n",
              "    <tr>\n",
              "      <th>Annual_Income</th>\n",
              "      <td>85806.0</td>\n",
              "      <td>49378.620726</td>\n",
              "      <td>36478.390299</td>\n",
              "      <td>7005.930000</td>\n",
              "      <td>19294.460000</td>\n",
              "      <td>36780.030000</td>\n",
              "      <td>70825.760000</td>\n",
              "      <td>166837.640000</td>\n",
              "    </tr>\n",
              "    <tr>\n",
              "      <th>Monthly_Inhand_Salary</th>\n",
              "      <td>72894.0</td>\n",
              "      <td>4105.781241</td>\n",
              "      <td>3036.319177</td>\n",
              "      <td>303.645417</td>\n",
              "      <td>1623.778333</td>\n",
              "      <td>3069.091667</td>\n",
              "      <td>5899.970000</td>\n",
              "      <td>14131.123333</td>\n",
              "    </tr>\n",
              "    <tr>\n",
              "      <th>Num_Bank_Accounts</th>\n",
              "      <td>85806.0</td>\n",
              "      <td>5.372759</td>\n",
              "      <td>2.585031</td>\n",
              "      <td>-1.000000</td>\n",
              "      <td>3.000000</td>\n",
              "      <td>6.000000</td>\n",
              "      <td>7.000000</td>\n",
              "      <td>10.000000</td>\n",
              "    </tr>\n",
              "    <tr>\n",
              "      <th>Num_Credit_Card</th>\n",
              "      <td>85806.0</td>\n",
              "      <td>5.779048</td>\n",
              "      <td>5.727016</td>\n",
              "      <td>0.000000</td>\n",
              "      <td>4.000000</td>\n",
              "      <td>5.000000</td>\n",
              "      <td>7.000000</td>\n",
              "      <td>171.000000</td>\n",
              "    </tr>\n",
              "    <tr>\n",
              "      <th>Interest_Rate</th>\n",
              "      <td>85806.0</td>\n",
              "      <td>14.551174</td>\n",
              "      <td>8.824173</td>\n",
              "      <td>1.000000</td>\n",
              "      <td>7.000000</td>\n",
              "      <td>13.000000</td>\n",
              "      <td>20.000000</td>\n",
              "      <td>128.000000</td>\n",
              "    </tr>\n",
              "    <tr>\n",
              "      <th>Num_of_Loan</th>\n",
              "      <td>85806.0</td>\n",
              "      <td>7.318381</td>\n",
              "      <td>18.881665</td>\n",
              "      <td>0.000000</td>\n",
              "      <td>2.000000</td>\n",
              "      <td>3.000000</td>\n",
              "      <td>6.000000</td>\n",
              "      <td>100.000000</td>\n",
              "    </tr>\n",
              "    <tr>\n",
              "      <th>Delay_from_due_date</th>\n",
              "      <td>85806.0</td>\n",
              "      <td>21.033483</td>\n",
              "      <td>14.786223</td>\n",
              "      <td>-5.000000</td>\n",
              "      <td>10.000000</td>\n",
              "      <td>18.000000</td>\n",
              "      <td>28.000000</td>\n",
              "      <td>67.000000</td>\n",
              "    </tr>\n",
              "    <tr>\n",
              "      <th>Num_of_Delayed_Payment</th>\n",
              "      <td>85806.0</td>\n",
              "      <td>12.348321</td>\n",
              "      <td>6.845002</td>\n",
              "      <td>0.000000</td>\n",
              "      <td>8.000000</td>\n",
              "      <td>13.000000</td>\n",
              "      <td>18.000000</td>\n",
              "      <td>25.000000</td>\n",
              "    </tr>\n",
              "    <tr>\n",
              "      <th>Changed_Credit_Limit</th>\n",
              "      <td>85806.0</td>\n",
              "      <td>10.189597</td>\n",
              "      <td>6.867078</td>\n",
              "      <td>-6.490000</td>\n",
              "      <td>4.990000</td>\n",
              "      <td>9.280000</td>\n",
              "      <td>14.710000</td>\n",
              "      <td>36.970000</td>\n",
              "    </tr>\n",
              "    <tr>\n",
              "      <th>Num_Credit_Inquiries</th>\n",
              "      <td>85806.0</td>\n",
              "      <td>5.757558</td>\n",
              "      <td>3.808858</td>\n",
              "      <td>0.000000</td>\n",
              "      <td>3.000000</td>\n",
              "      <td>5.000000</td>\n",
              "      <td>8.000000</td>\n",
              "      <td>16.000000</td>\n",
              "    </tr>\n",
              "    <tr>\n",
              "      <th>Outstanding_Debt</th>\n",
              "      <td>85806.0</td>\n",
              "      <td>1420.471486</td>\n",
              "      <td>1150.336514</td>\n",
              "      <td>0.230000</td>\n",
              "      <td>565.375000</td>\n",
              "      <td>1163.330000</td>\n",
              "      <td>1933.980000</td>\n",
              "      <td>4998.070000</td>\n",
              "    </tr>\n",
              "    <tr>\n",
              "      <th>Credit_Utilization_Ratio</th>\n",
              "      <td>85806.0</td>\n",
              "      <td>32.250542</td>\n",
              "      <td>5.098798</td>\n",
              "      <td>20.000000</td>\n",
              "      <td>28.024589</td>\n",
              "      <td>32.263129</td>\n",
              "      <td>36.468620</td>\n",
              "      <td>48.489852</td>\n",
              "    </tr>\n",
              "    <tr>\n",
              "      <th>Total_EMI_per_month</th>\n",
              "      <td>85806.0</td>\n",
              "      <td>287.201729</td>\n",
              "      <td>1900.010819</td>\n",
              "      <td>0.000000</td>\n",
              "      <td>29.489975</td>\n",
              "      <td>66.648703</td>\n",
              "      <td>148.997495</td>\n",
              "      <td>29974.000000</td>\n",
              "    </tr>\n",
              "    <tr>\n",
              "      <th>Amount_invested_monthly</th>\n",
              "      <td>85806.0</td>\n",
              "      <td>174.614986</td>\n",
              "      <td>190.440132</td>\n",
              "      <td>0.000000</td>\n",
              "      <td>58.040175</td>\n",
              "      <td>115.485412</td>\n",
              "      <td>216.812779</td>\n",
              "      <td>1775.048037</td>\n",
              "    </tr>\n",
              "    <tr>\n",
              "      <th>Monthly_Balance</th>\n",
              "      <td>85806.0</td>\n",
              "      <td>393.844633</td>\n",
              "      <td>208.552121</td>\n",
              "      <td>0.000000</td>\n",
              "      <td>268.094008</td>\n",
              "      <td>334.580384</td>\n",
              "      <td>464.420853</td>\n",
              "      <td>1497.941923</td>\n",
              "    </tr>\n",
              "    <tr>\n",
              "      <th>Credit_History_Age_Months</th>\n",
              "      <td>85806.0</td>\n",
              "      <td>201.374484</td>\n",
              "      <td>114.274695</td>\n",
              "      <td>0.000000</td>\n",
              "      <td>114.000000</td>\n",
              "      <td>209.000000</td>\n",
              "      <td>292.000000</td>\n",
              "      <td>404.000000</td>\n",
              "    </tr>\n",
              "  </tbody>\n",
              "</table>\n",
              "</div>\n",
              "    <div class=\"colab-df-buttons\">\n",
              "\n",
              "  <div class=\"colab-df-container\">\n",
              "    <button class=\"colab-df-convert\" onclick=\"convertToInteractive('df-0d3f95ef-b4d2-46b3-b68d-60a780d54e31')\"\n",
              "            title=\"Convert this dataframe to an interactive table.\"\n",
              "            style=\"display:none;\">\n",
              "\n",
              "  <svg xmlns=\"http://www.w3.org/2000/svg\" height=\"24px\" viewBox=\"0 -960 960 960\">\n",
              "    <path d=\"M120-120v-720h720v720H120Zm60-500h600v-160H180v160Zm220 220h160v-160H400v160Zm0 220h160v-160H400v160ZM180-400h160v-160H180v160Zm440 0h160v-160H620v160ZM180-180h160v-160H180v160Zm440 0h160v-160H620v160Z\"/>\n",
              "  </svg>\n",
              "    </button>\n",
              "\n",
              "  <style>\n",
              "    .colab-df-container {\n",
              "      display:flex;\n",
              "      gap: 12px;\n",
              "    }\n",
              "\n",
              "    .colab-df-convert {\n",
              "      background-color: #E8F0FE;\n",
              "      border: none;\n",
              "      border-radius: 50%;\n",
              "      cursor: pointer;\n",
              "      display: none;\n",
              "      fill: #1967D2;\n",
              "      height: 32px;\n",
              "      padding: 0 0 0 0;\n",
              "      width: 32px;\n",
              "    }\n",
              "\n",
              "    .colab-df-convert:hover {\n",
              "      background-color: #E2EBFA;\n",
              "      box-shadow: 0px 1px 2px rgba(60, 64, 67, 0.3), 0px 1px 3px 1px rgba(60, 64, 67, 0.15);\n",
              "      fill: #174EA6;\n",
              "    }\n",
              "\n",
              "    .colab-df-buttons div {\n",
              "      margin-bottom: 4px;\n",
              "    }\n",
              "\n",
              "    [theme=dark] .colab-df-convert {\n",
              "      background-color: #3B4455;\n",
              "      fill: #D2E3FC;\n",
              "    }\n",
              "\n",
              "    [theme=dark] .colab-df-convert:hover {\n",
              "      background-color: #434B5C;\n",
              "      box-shadow: 0px 1px 3px 1px rgba(0, 0, 0, 0.15);\n",
              "      filter: drop-shadow(0px 1px 2px rgba(0, 0, 0, 0.3));\n",
              "      fill: #FFFFFF;\n",
              "    }\n",
              "  </style>\n",
              "\n",
              "    <script>\n",
              "      const buttonEl =\n",
              "        document.querySelector('#df-0d3f95ef-b4d2-46b3-b68d-60a780d54e31 button.colab-df-convert');\n",
              "      buttonEl.style.display =\n",
              "        google.colab.kernel.accessAllowed ? 'block' : 'none';\n",
              "\n",
              "      async function convertToInteractive(key) {\n",
              "        const element = document.querySelector('#df-0d3f95ef-b4d2-46b3-b68d-60a780d54e31');\n",
              "        const dataTable =\n",
              "          await google.colab.kernel.invokeFunction('convertToInteractive',\n",
              "                                                    [key], {});\n",
              "        if (!dataTable) return;\n",
              "\n",
              "        const docLinkHtml = 'Like what you see? Visit the ' +\n",
              "          '<a target=\"_blank\" href=https://colab.research.google.com/notebooks/data_table.ipynb>data table notebook</a>'\n",
              "          + ' to learn more about interactive tables.';\n",
              "        element.innerHTML = '';\n",
              "        dataTable['output_type'] = 'display_data';\n",
              "        await google.colab.output.renderOutput(dataTable, element);\n",
              "        const docLink = document.createElement('div');\n",
              "        docLink.innerHTML = docLinkHtml;\n",
              "        element.appendChild(docLink);\n",
              "      }\n",
              "    </script>\n",
              "  </div>\n",
              "\n",
              "\n",
              "<div id=\"df-965dfdd3-9964-47d0-a3d5-a2003795bbfd\">\n",
              "  <button class=\"colab-df-quickchart\" onclick=\"quickchart('df-965dfdd3-9964-47d0-a3d5-a2003795bbfd')\"\n",
              "            title=\"Suggest charts\"\n",
              "            style=\"display:none;\">\n",
              "\n",
              "<svg xmlns=\"http://www.w3.org/2000/svg\" height=\"24px\"viewBox=\"0 0 24 24\"\n",
              "     width=\"24px\">\n",
              "    <g>\n",
              "        <path d=\"M19 3H5c-1.1 0-2 .9-2 2v14c0 1.1.9 2 2 2h14c1.1 0 2-.9 2-2V5c0-1.1-.9-2-2-2zM9 17H7v-7h2v7zm4 0h-2V7h2v10zm4 0h-2v-4h2v4z\"/>\n",
              "    </g>\n",
              "</svg>\n",
              "  </button>\n",
              "\n",
              "<style>\n",
              "  .colab-df-quickchart {\n",
              "      --bg-color: #E8F0FE;\n",
              "      --fill-color: #1967D2;\n",
              "      --hover-bg-color: #E2EBFA;\n",
              "      --hover-fill-color: #174EA6;\n",
              "      --disabled-fill-color: #AAA;\n",
              "      --disabled-bg-color: #DDD;\n",
              "  }\n",
              "\n",
              "  [theme=dark] .colab-df-quickchart {\n",
              "      --bg-color: #3B4455;\n",
              "      --fill-color: #D2E3FC;\n",
              "      --hover-bg-color: #434B5C;\n",
              "      --hover-fill-color: #FFFFFF;\n",
              "      --disabled-bg-color: #3B4455;\n",
              "      --disabled-fill-color: #666;\n",
              "  }\n",
              "\n",
              "  .colab-df-quickchart {\n",
              "    background-color: var(--bg-color);\n",
              "    border: none;\n",
              "    border-radius: 50%;\n",
              "    cursor: pointer;\n",
              "    display: none;\n",
              "    fill: var(--fill-color);\n",
              "    height: 32px;\n",
              "    padding: 0;\n",
              "    width: 32px;\n",
              "  }\n",
              "\n",
              "  .colab-df-quickchart:hover {\n",
              "    background-color: var(--hover-bg-color);\n",
              "    box-shadow: 0 1px 2px rgba(60, 64, 67, 0.3), 0 1px 3px 1px rgba(60, 64, 67, 0.15);\n",
              "    fill: var(--button-hover-fill-color);\n",
              "  }\n",
              "\n",
              "  .colab-df-quickchart-complete:disabled,\n",
              "  .colab-df-quickchart-complete:disabled:hover {\n",
              "    background-color: var(--disabled-bg-color);\n",
              "    fill: var(--disabled-fill-color);\n",
              "    box-shadow: none;\n",
              "  }\n",
              "\n",
              "  .colab-df-spinner {\n",
              "    border: 2px solid var(--fill-color);\n",
              "    border-color: transparent;\n",
              "    border-bottom-color: var(--fill-color);\n",
              "    animation:\n",
              "      spin 1s steps(1) infinite;\n",
              "  }\n",
              "\n",
              "  @keyframes spin {\n",
              "    0% {\n",
              "      border-color: transparent;\n",
              "      border-bottom-color: var(--fill-color);\n",
              "      border-left-color: var(--fill-color);\n",
              "    }\n",
              "    20% {\n",
              "      border-color: transparent;\n",
              "      border-left-color: var(--fill-color);\n",
              "      border-top-color: var(--fill-color);\n",
              "    }\n",
              "    30% {\n",
              "      border-color: transparent;\n",
              "      border-left-color: var(--fill-color);\n",
              "      border-top-color: var(--fill-color);\n",
              "      border-right-color: var(--fill-color);\n",
              "    }\n",
              "    40% {\n",
              "      border-color: transparent;\n",
              "      border-right-color: var(--fill-color);\n",
              "      border-top-color: var(--fill-color);\n",
              "    }\n",
              "    60% {\n",
              "      border-color: transparent;\n",
              "      border-right-color: var(--fill-color);\n",
              "    }\n",
              "    80% {\n",
              "      border-color: transparent;\n",
              "      border-right-color: var(--fill-color);\n",
              "      border-bottom-color: var(--fill-color);\n",
              "    }\n",
              "    90% {\n",
              "      border-color: transparent;\n",
              "      border-bottom-color: var(--fill-color);\n",
              "    }\n",
              "  }\n",
              "</style>\n",
              "\n",
              "  <script>\n",
              "    async function quickchart(key) {\n",
              "      const quickchartButtonEl =\n",
              "        document.querySelector('#' + key + ' button');\n",
              "      quickchartButtonEl.disabled = true;  // To prevent multiple clicks.\n",
              "      quickchartButtonEl.classList.add('colab-df-spinner');\n",
              "      try {\n",
              "        const charts = await google.colab.kernel.invokeFunction(\n",
              "            'suggestCharts', [key], {});\n",
              "      } catch (error) {\n",
              "        console.error('Error during call to suggestCharts:', error);\n",
              "      }\n",
              "      quickchartButtonEl.classList.remove('colab-df-spinner');\n",
              "      quickchartButtonEl.classList.add('colab-df-quickchart-complete');\n",
              "    }\n",
              "    (() => {\n",
              "      let quickchartButtonEl =\n",
              "        document.querySelector('#df-965dfdd3-9964-47d0-a3d5-a2003795bbfd button');\n",
              "      quickchartButtonEl.style.display =\n",
              "        google.colab.kernel.accessAllowed ? 'block' : 'none';\n",
              "    })();\n",
              "  </script>\n",
              "</div>\n",
              "    </div>\n",
              "  </div>\n"
            ],
            "application/vnd.google.colaboratory.intrinsic+json": {
              "type": "dataframe",
              "summary": "{\n  \"name\": \"train\",\n  \"rows\": 17,\n  \"fields\": [\n    {\n      \"column\": \"count\",\n      \"properties\": {\n        \"dtype\": \"number\",\n        \"std\": 3131.619990469131,\n        \"min\": 72894.0,\n        \"max\": 85806.0,\n        \"num_unique_values\": 2,\n        \"samples\": [\n          72894.0,\n          85806.0\n        ],\n        \"semantic_type\": \"\",\n        \"description\": \"\"\n      }\n    },\n    {\n      \"column\": \"mean\",\n      \"properties\": {\n        \"dtype\": \"number\",\n        \"std\": 11915.530549675861,\n        \"min\": 5.3727594806889964,\n        \"max\": 49378.62072553202,\n        \"num_unique_values\": 17,\n        \"samples\": [\n          120.48600330979185,\n          49378.62072553202\n        ],\n        \"semantic_type\": \"\",\n        \"description\": \"\"\n      }\n    },\n    {\n      \"column\": \"std\",\n      \"properties\": {\n        \"dtype\": \"number\",\n        \"std\": 8776.14081984341,\n        \"min\": 2.5850314955519034,\n        \"max\": 36478.39029890719,\n        \"num_unique_values\": 17,\n        \"samples\": [\n          690.0675110451233,\n          36478.39029890719\n        ],\n        \"semantic_type\": \"\",\n        \"description\": \"\"\n      }\n    },\n    {\n      \"column\": \"min\",\n      \"properties\": {\n        \"dtype\": \"number\",\n        \"std\": 1695.8294490789813,\n        \"min\": -6.49,\n        \"max\": 7005.93,\n        \"num_unique_values\": 10,\n        \"samples\": [\n          0.23,\n          7005.93\n        ],\n        \"semantic_type\": \"\",\n        \"description\": \"\"\n      }\n    },\n    {\n      \"column\": \"25%\",\n      \"properties\": {\n        \"dtype\": \"number\",\n        \"std\": 4655.156238810676,\n        \"min\": 2.0,\n        \"max\": 19294.46,\n        \"num_unique_values\": 16,\n        \"samples\": [\n          25.0,\n          19294.46\n        ],\n        \"semantic_type\": \"\",\n        \"description\": \"\"\n      }\n    },\n    {\n      \"column\": \"50%\",\n      \"properties\": {\n        \"dtype\": \"number\",\n        \"std\": 8876.103143539829,\n        \"min\": 3.0,\n        \"max\": 36780.03,\n        \"num_unique_values\": 15,\n        \"samples\": [\n          1163.33,\n          66.6487033985263\n        ],\n        \"semantic_type\": \"\",\n        \"description\": \"\"\n      }\n    },\n    {\n      \"column\": \"75%\",\n      \"properties\": {\n        \"dtype\": \"number\",\n        \"std\": 17100.865059758315,\n        \"min\": 6.0,\n        \"max\": 70825.76,\n        \"num_unique_values\": 16,\n        \"samples\": [\n          42.0,\n          70825.76\n        ],\n        \"semantic_type\": \"\",\n        \"description\": \"\"\n      }\n    },\n    {\n      \"column\": \"max\",\n      \"properties\": {\n        \"dtype\": \"number\",\n        \"std\": 40277.64769019069,\n        \"min\": 10.0,\n        \"max\": 166837.64,\n        \"num_unique_values\": 17,\n        \"samples\": [\n          8698.0,\n          166837.64\n        ],\n        \"semantic_type\": \"\",\n        \"description\": \"\"\n      }\n    }\n  ]\n}"
            }
          },
          "metadata": {},
          "execution_count": 15
        }
      ]
    },
    {
      "cell_type": "markdown",
      "source": [
        "Data sudah bebas dari outlier"
      ],
      "metadata": {
        "id": "Afa0TpppgG8H"
      }
    },
    {
      "cell_type": "markdown",
      "source": [
        "Data Entry Plus with Filtering\n",
        "\n",
        "---\n",
        "\n"
      ],
      "metadata": {
        "id": "4nR8Ag_Tma9O"
      }
    },
    {
      "cell_type": "code",
      "source": [
        "# Untuk menghilangkan nilai '!@9#%8' pada kolom Payment_Behaviour\n",
        "train = train[train['Payment_Behaviour'] != '!@9#%8']"
      ],
      "metadata": {
        "id": "VPhFNNbNmgCs"
      },
      "execution_count": null,
      "outputs": []
    },
    {
      "cell_type": "code",
      "source": [
        "# Untuk menghilangkan nilai '_______' pada kolom Occupation\n",
        "train = train[train['Occupation'] != '_______']\n",
        "\n",
        "# Mencetak nilai unik dari kolom Occupation setelah penghapusan dilakukan\n",
        "print(train['Occupation'].unique())"
      ],
      "metadata": {
        "colab": {
          "base_uri": "https://localhost:8080/"
        },
        "id": "U8OX2cx8nAxu",
        "outputId": "639f5b2f-966f-4131-efbd-fda0661e1615"
      },
      "execution_count": null,
      "outputs": [
        {
          "output_type": "stream",
          "name": "stdout",
          "text": [
            "['Scientist' 'Teacher' 'Engineer' 'Entrepreneur' 'Developer' 'Lawyer'\n",
            " 'Media_Manager' 'Doctor' 'Journalist' 'Manager' 'Accountant' 'Musician'\n",
            " 'Mechanic' 'Writer' 'Architect']\n"
          ]
        }
      ]
    },
    {
      "cell_type": "markdown",
      "source": [
        "Kode ini melakukan dua tindakan:\n",
        "\n",
        "1. Menghapus baris di mana kolom 'Payment_Behaviour' memiliki nilai '!@9#%8'.\n",
        "2. Menghapus baris di mana kolom 'Occupation' memiliki nilai '_______', kemudian mencetak nilai unik dari kolom 'Occupation' yang tersisa.\n",
        "\n",
        "Penjelasan detil :\n",
        "1. train = train[train['Payment_Behaviour'] != '!@9#%8']: Ini menghasilkan DataFrame baru di mana baris-baris dengan nilai '!@9#%8' dalam kolom 'Payment_Behaviour' dihapus.\n",
        "2. train = train[train['Occupation'] != '_______']: Ini menghasilkan DataFrame baru di mana baris-baris dengan nilai '_______' dalam kolom 'Occupation' dihapus.\n",
        "3. print(train['Occupation'].unique()): Ini mencetak nilai unik dari kolom 'Occupation' setelah penghapusan dilakukan. Hasilnya adalah array yang berisi berbagai jenis pekerjaan yang tersisa setelah proses filtering."
      ],
      "metadata": {
        "id": "EBkKrK-lgZJC"
      }
    },
    {
      "cell_type": "code",
      "source": [
        "# Untuk menghasilkan dataframe baru pada Credit_Mix yang tidak ada nilai '_'\n",
        "train = train[train['Credit_Mix'] != '_']\n",
        "\n",
        "# Mencetak nilai unik pada kolom Credit_Mix\n",
        "print(train['Credit_Mix'].unique())"
      ],
      "metadata": {
        "colab": {
          "base_uri": "https://localhost:8080/"
        },
        "id": "IuTeh3-0nAw4",
        "outputId": "9dc6d2e1-8c55-4f76-d172-ebf9763b2440"
      },
      "execution_count": null,
      "outputs": [
        {
          "output_type": "stream",
          "name": "stdout",
          "text": [
            "['Good' 'Standard' 'Bad']\n"
          ]
        }
      ]
    },
    {
      "cell_type": "markdown",
      "source": [
        "Kode ini memfilter DataFrame train berdasarkan kolom 'Credit_Mix', yaitu menghapus baris di mana nilai kolom 'Credit_Mix' sama dengan '_'. Kemudian, setelah filtering, kode ini mencetak nilai unik dari kolom 'Credit_Mix' yang tersisa.\n",
        "\n",
        "Penjelasan detil ⁉\n",
        "1. train = train[train['Credit_Mix'] != '_']: Ini menghasilkan DataFrame baru di mana baris-baris dengan nilai '_' dalam kolom 'Credit_Mix' dihapus.\n",
        "2. print(train['Credit_Mix'].unique()): Ini mencetak nilai unik dari kolom 'Credit_Mix' setelah filtering dilakukan. Hasilnya adalah array yang berisi nilai 'Good', 'Standard', dan 'Bad', yang merupakan nilai unik yang tersisa setelah proses filtering"
      ],
      "metadata": {
        "id": "nAp7GdZbgsgK"
      }
    },
    {
      "cell_type": "markdown",
      "source": [
        "Negative Values\n",
        "\n",
        "---\n",
        "\n"
      ],
      "metadata": {
        "id": "YeTUKNVWnRKl"
      }
    },
    {
      "cell_type": "code",
      "source": [
        "# Seleksi kolom untuk filtering\n",
        "selected_columns = ['Delay_from_due_date', 'Changed_Credit_Limit', 'Num_Bank_Accounts']\n",
        "\n",
        "# Perulangan untuk selain kurang dari 0 dihapus dari dataframe\n",
        "for column in selected_columns:\n",
        "    train = train[train[column] >= 0]"
      ],
      "metadata": {
        "id": "v_1LMbIbnAkI"
      },
      "execution_count": null,
      "outputs": []
    },
    {
      "cell_type": "markdown",
      "source": [
        "Filtering baris berdasarkan kolom tertentu :\n",
        "- Dalam loop for, setiap kolom yang tercantum dalam selected_columns ('Delay_from_due_date', 'Changed_Credit_Limit', 'Num_Bank_Accounts') diperiksa.\n",
        "- Baris-baris di mana nilai dalam kolom tersebut kurang dari 0 dihapus dari DataFrame train."
      ],
      "metadata": {
        "id": "MkIjQjXdhFBn"
      }
    },
    {
      "cell_type": "code",
      "source": [
        "# Dropping Columns (daftar yang ingin di drop)\n",
        "columns_to_drop = ['ID', 'Customer_ID', 'Month', 'Name', 'SSN', 'Credit_History_Age','Monthly_Inhand_Salary', 'Type_of_Loan']\n",
        "\n",
        "# Perintah drop columns tersebut\n",
        "train.drop(columns=columns_to_drop, inplace=True)"
      ],
      "metadata": {
        "id": "jyYSL7NGne4k"
      },
      "execution_count": null,
      "outputs": []
    },
    {
      "cell_type": "markdown",
      "source": [
        "Menghapus kolom tertentu :\n",
        "- Kolom-kolom yang tercantum dalam columns_to_drop ('ID', 'Customer_ID', 'Month', 'Name', 'SSN', 'Credit_History_Age', 'Monthly_Inhand_Salary', 'Type_of_Loan') dihapus dari DataFrame train menggunakan metode drop() dengan parameter columns=columns_to_drop.\n",
        "- inplace=True digunakan untuk mengubah DataFrame train secara langsung tanpa perlu menyimpan hasilnya ke variabel baru."
      ],
      "metadata": {
        "id": "7He3WhqShQE9"
      }
    },
    {
      "cell_type": "markdown",
      "source": [
        "Missing Values\n",
        "\n",
        "---\n",
        "\n"
      ],
      "metadata": {
        "id": "3D6tkPBOnnWU"
      }
    },
    {
      "cell_type": "code",
      "source": [
        "# Memeriksa total jumlah data yang kosong dalam dataframe\n",
        "total_missing_values = train.isnull().sum().sum()\n",
        "\n",
        "# Melakukan pengujian kondisional\n",
        "if total_missing_values == 0:\n",
        "    print(\"Tidak ada data yang kosong\")\n",
        "else:\n",
        "    print(\"Jumlah data yang kosong :\", total_missing_values)"
      ],
      "metadata": {
        "colab": {
          "base_uri": "https://localhost:8080/"
        },
        "id": "t2iPhubGno0X",
        "outputId": "a1fec2bc-803e-4593-e5f1-9428d61face0"
      },
      "execution_count": null,
      "outputs": [
        {
          "output_type": "stream",
          "name": "stdout",
          "text": [
            "Tidak ada data yang kosong\n"
          ]
        }
      ]
    },
    {
      "cell_type": "markdown",
      "source": [
        "Kode ini digunakan untuk memeriksa apakah terdapat data yang kosong (missing values) dalam DataFrame train.\n",
        "\n",
        "Penjelasan:\n",
        "\n",
        "1. train.isnull().sum().sum(): Memeriksa total jumlah data yang kosong dalam DataFrame train. Metode isnull() digunakan untuk mendeteksi nilai-nilai yang hilang (mengembalikan DataFrame yang berisi nilai boolean True jika nilai adalah null dan False jika tidak), kemudian sum() digunakan dua kali untuk menghitung jumlah total nilai yang hilang di seluruh DataFrame.\n",
        "2. if total_missing_values == 0:: Melakukan pengujian kondisional, apakah total_missing_values sama dengan 0, yang berarti tidak ada nilai yang hilang dalam DataFrame.\n",
        "3. print(\"Tidak ada data yang kosong\"): Jika tidak ada nilai yang hilang, pesan ini akan dicetak.\n",
        "4. else:: Jika ada nilai yang hilang, pernyataan di bawah ini akan dijalankan.\n",
        "5. print(\"Jumlah data yang kosong :\", total_missing_values): Jika ada nilai yang hilang, pesan ini akan mencetak jumlah total nilai yang hilang dalam DataFrame.\n",
        "\n",
        "Dalam kasus ini, outputnya menunjukkan bahwa tidak ada data yang kosong dalam DataFrame train."
      ],
      "metadata": {
        "id": "duRGHYZVhYF5"
      }
    },
    {
      "cell_type": "markdown",
      "source": [
        "# Feature Engineering"
      ],
      "metadata": {
        "id": "vj_nEvznnv8s"
      }
    },
    {
      "cell_type": "code",
      "source": [
        "# Mengidentifikasi jenis-jenis tipe data dan dimasukkan kedalam numerik kolom\n",
        "numeric_columns = train.select_dtypes(include=['int64', 'float64']).columns\n",
        "\n",
        "# Jumlah kolom yang ingin ditampilkan\n",
        "num_columns = 8\n",
        "\n",
        "# Jumlah baris yang ditampilkan sesuai dengan jumlah kolom yang ditentukan diatas\n",
        "num_rows = (len(numeric_columns) + num_columns - 1) // num_columns\n",
        "\n",
        "# Ukuran subplot\n",
        "fig, axes = plt.subplots(num_rows, num_columns, figsize=(16, 6))\n",
        "\n",
        "axes = axes.flatten()\n",
        "\n",
        "# Loop untuk membuat boxplot\n",
        "for i, column in enumerate(numeric_columns):\n",
        "    sns.boxplot(x=train[column], ax=axes[i])\n",
        "    axes[i].set_title(column, fontsize=7)\n",
        "    axes[i].set_xlabel('Value', fontsize=7)\n",
        "    axes[i].set_ylabel('Count', fontsize=7)\n",
        "\n",
        "# Loop untuk menyembunyikan subplot yang tidak digunakan\n",
        "for j in range(len(numeric_columns), num_columns*num_rows):\n",
        "    axes[j].axis('off')\n",
        "\n",
        "# Menata ulang tata letak plot agar sesuai\n",
        "plt.tight_layout()\n",
        "\n",
        "# Menampilkan Plot\n",
        "plt.show()"
      ],
      "metadata": {
        "colab": {
          "base_uri": "https://localhost:8080/",
          "height": 566
        },
        "id": "03X0iYZPn0mi",
        "outputId": "9ffb2e91-018e-4990-eed7-2d215b47d630"
      },
      "execution_count": null,
      "outputs": [
        {
          "output_type": "display_data",
          "data": {
            "text/plain": [
              "<Figure size 1600x600 with 16 Axes>"
            ],
            "image/png": "[encoded data removed]"
          },
          "metadata": {}
        }
      ]
    },
    {
      "cell_type": "markdown",
      "source": [
        "Kode ini digunakan untuk membuat beberapa boxplot untuk setiap kolom numerik dalam DataFrame train. Boxplot ini membantu dalam visualisasi distribusi nilai dan deteksi outlier.\n",
        "\n",
        "Penjelasan singkat:\n",
        "\n",
        "- numeric_columns = train.select_dtypes(include=['int64', 'float64']).columns: Mengidentifikasi kolom-kolom numerik dalam DataFrame train dan menyimpannya dalam variabel numeric_columns.\n",
        "- num_columns = 8: Menentukan jumlah kolom (grafik) yang ingin ditampilkan dalam setiap baris.\n",
        "- num_rows = (len(numeric_columns) + num_columns - 1) // num_columns: Menghitung jumlah baris yang diperlukan berdasarkan jumlah kolom numerik dan num_columns.\n",
        "- fig, axes = plt.subplots(num_rows, num_columns, figsize=(16, 6)): Membuat subplots dengan ukuran dan jumlah baris yang sudah dihitung sebelumnya.\n",
        "- axes = axes.flatten(): Mengubah array multidimensi axes menjadi array 1 dimensi.\n",
        "- Loop for digunakan untuk membuat boxplot untuk setiap kolom numerik:\n",
        "  - sns.boxplot(x=train[column], ax=axes[i]): Membuat boxplot untuk kolom column di subplot ke-i.\n",
        "  - axes[i].set_title(column, fontsize=7): Menentukan judul subplot dengan nama kolom.\n",
        "  - axes[i].set_xlabel('Value', fontsize=7): Menentukan label sumbu x.\n",
        "  - axes[i].set_ylabel('Count', fontsize=7): Menentukan label sumbu y.\n",
        "\n",
        "- Loop for berikutnya digunakan untuk menyembunyikan subplot yang tidak digunakan.\n",
        "- plt.tight_layout(): Menata ulang tata letak plot agar sesuai.\n",
        "- plt.show(): Menampilkan plot.\n",
        "\n",
        "Dengan kode ini, Anda dapat melihat distribusi nilai dari setiap kolom numerik dalam bentuk boxplot, serta mendeteksi adanya outlier."
      ],
      "metadata": {
        "id": "Cqy2SzSQic9S"
      }
    },
    {
      "cell_type": "markdown",
      "source": [
        "Scalling\n",
        "\n",
        "---\n",
        "\n",
        "\n",
        "\n"
      ],
      "metadata": {
        "id": "2un-MSEwVuyx"
      }
    },
    {
      "cell_type": "code",
      "source": [
        "# Tune scale pada tiap kolom\n",
        "train = train[train['Age'] < 60]\n",
        "train = train[train['Num_Credit_Card'] <= 10]\n",
        "train = train[train['Interest_Rate'] <= 50]\n",
        "train = train[train['Num_of_Loan'] <= 12]\n",
        "train = train[train['Num_Bank_Accounts'] <= 10]\n",
        "train = train[train['Delay_from_due_date'] <= 60]\n",
        "train = train[train['Changed_Credit_Limit'] <= 30]\n",
        "train = train[train['Num_Credit_Inquiries'] <= 12]\n",
        "train = train[train['Total_EMI_per_month'] <= 200]\n",
        "train = train[train['Outstanding_Debt'] <= 1500]"
      ],
      "metadata": {
        "id": "Q29X33guVt58"
      },
      "execution_count": null,
      "outputs": []
    },
    {
      "cell_type": "markdown",
      "source": [
        "Kode ini bertujuan untuk melakukan scaling pada beberapa kolom tertentu dalam DataFrame train dengan batasan tertentu.\n",
        "\n",
        "Penjelasan singkat:\n",
        "\n",
        "- Setiap baris dalam DataFrame train dipertahankan hanya jika nilai dalam kolom yang tercantum di bawah ini memenuhi batasan tertentu:\n",
        "  - 'Age' kurang dari 60.\n",
        "'Num_Credit_Card' kurang dari atau sama dengan 10.\n",
        "  - 'Interest_Rate' kurang dari atau sama dengan 50.\n",
        "  - 'Num_of_Loan' kurang dari atau sama dengan 12.\n",
        "  - 'Num_Bank_Accounts' kurang dari atau sama dengan 10.\n",
        "  - 'Delay_from_due_date' kurang dari atau sama dengan 60.\n",
        "  - 'Changed_Credit_Limit' kurang dari atau sama dengan 30.\n",
        "  - 'Num_Credit_Inquiries' kurang dari atau sama dengan 12.\n",
        "  - 'Total_EMI_per_month' kurang dari atau sama dengan 200.\n",
        "  - 'Outstanding_Debt' kurang dari atau sama dengan 1500.\n",
        "\n",
        "Dengan melakukan ini, Anda membatasi nilai dalam kolom-kolom yang tercantum di atas sesuai dengan batasan yang telah ditentukan."
      ],
      "metadata": {
        "id": "L7-866N4lJhM"
      }
    },
    {
      "cell_type": "markdown",
      "source": [
        "Encoding\n",
        "\n",
        "---\n",
        "\n"
      ],
      "metadata": {
        "id": "gTWzxE-XWIIn"
      }
    },
    {
      "cell_type": "markdown",
      "source": [
        "Kode di bawah melakukan encoding label pada beberapa kolom dalam DataFrame train."
      ],
      "metadata": {
        "id": "bwXt2Z4ul2PL"
      }
    },
    {
      "cell_type": "code",
      "source": [
        "#Label Encoder\n",
        "categories = ['Poor', 'Standard', 'Good']\n",
        "\n",
        "encoder = OrdinalEncoder(categories=[categories])\n",
        "\n",
        "train['Credit_Score_Encoded'] = encoder.fit_transform(train[['Credit_Score']])"
      ],
      "metadata": {
        "id": "JrbAfI7HWPZY"
      },
      "execution_count": null,
      "outputs": []
    },
    {
      "cell_type": "markdown",
      "source": [
        "Label Encoder untuk 'Credit_Score':\n",
        "  - Encoder Ordinal digunakan untuk melakukan encoding pada kolom 'Credit_Score'.\n",
        "  - Encoder diinisialisasi dengan daftar kategori yang diinginkan, yaitu ['Poor', 'Standard', 'Good'].\n",
        "  - Hasil dari encoding disimpan dalam kolom baru 'Credit_Score_Encoded'."
      ],
      "metadata": {
        "id": "J7414izkl5qE"
      }
    },
    {
      "cell_type": "code",
      "source": [
        "# Encoding Occupation\n",
        "label_encoder = LabelEncoder()\n",
        "train['Occupation_Encoded'] = label_encoder.fit_transform(train['Occupation'])"
      ],
      "metadata": {
        "id": "5CTpozhMW1cz"
      },
      "execution_count": null,
      "outputs": []
    },
    {
      "cell_type": "markdown",
      "source": [
        "Label Encoder untuk 'Occupation':\n",
        "  - LabelEncoder dari scikit-learn digunakan untuk melakukan encoding pada kolom 'Occupation'.\n",
        "  - Hasil encoding disimpan dalam kolom baru 'Occupation_Encoded'."
      ],
      "metadata": {
        "id": "qzd8lgSEl_N1"
      }
    },
    {
      "cell_type": "code",
      "source": [
        "#Ordinal Encoder\n",
        "categories = ['Bad', 'Standard', 'Good']\n",
        "\n",
        "encoder = OrdinalEncoder(categories=[categories])\n",
        "\n",
        "train['Credit_Mix_Encoded'] = encoder.fit_transform(train[['Credit_Mix']])"
      ],
      "metadata": {
        "id": "wM2zm-fYW7pz"
      },
      "execution_count": null,
      "outputs": []
    },
    {
      "cell_type": "markdown",
      "source": [
        "Kode di atas menggunakan encoder ordinal untuk melakukan encoding pada kolom 'Credit_Mix' dalam DataFrame 'train'.\n",
        "\n",
        "Encoder diinisialisasi dengan daftar kategori yang diinginkan, yaitu ['Bad', 'Standard', 'Good'].\n",
        "\n",
        "Hasil dari encoding disimpan dalam kolom baru 'Credit_Mix_Encoded'. Dengan menggunakan encoder ordinal, setiap kategori dalam kolom 'Credit_Mix' akan diberi label numerik berdasarkan urutan yang ditentukan dalam daftar kategori tersebut."
      ],
      "metadata": {
        "id": "-t_1wbENmGED"
      }
    },
    {
      "cell_type": "code",
      "source": [
        "categories_payment_behaviour = [\n",
        "    'Low_spent_Small_value_payments',\n",
        "    'Low_spent_Medium_value_payments',\n",
        "    'Low_spent_Large_value_payments',\n",
        "    'High_spent_Small_value_payments',\n",
        "    'High_spent_Medium_value_payments',\n",
        "    'High_spent_Large_value_payments'\n",
        "]\n",
        "\n",
        "encoder_payment_behaviour = OrdinalEncoder(categories=[categories_payment_behaviour])\n",
        "\n",
        "train['Payment_Behaviour_Encoded'] = encoder_payment_behaviour.fit_transform(train[['Payment_Behaviour']])"
      ],
      "metadata": {
        "id": "XYu11ZDeW7kT"
      },
      "execution_count": null,
      "outputs": []
    },
    {
      "cell_type": "markdown",
      "source": [
        "Ordinal Encoder untuk 'Payment_Behaviour':\n",
        "  - Encoder Ordinal digunakan untuk melakukan encoding pada kolom 'Payment_Behaviour'.\n",
        "  - Encoder diinisialisasi dengan daftar kategori yang diinginkan, yaitu categories_payment_behaviour.\n",
        "  - Hasil dari encoding disimpan dalam kolom baru 'Payment_Behaviour_Encoded'."
      ],
      "metadata": {
        "id": "mcYZ73SDmTUs"
      }
    },
    {
      "cell_type": "markdown",
      "source": [
        "Kode di atas menggunakan encoder ordinal untuk melakukan encoding pada kolom 'Payment_Behaviour' dalam DataFrame 'train'.\n",
        "\n",
        "Encoder diinisialisasi dengan daftar kategori yang diinginkan, yaitu ['Low_spent_Small_value_payments', 'Low_spent_Medium_value_payments', 'Low_spent_Large_value_payments', 'High_spent_Small_value_payments', 'High_spent_Medium_value_payments', 'High_spent_Large_value_payments'].\n",
        "\n",
        "Hasil dari encoding disimpan dalam kolom baru 'Payment_Behaviour_Encoded'. Dengan menggunakan encoder ordinal, setiap kategori dalam kolom 'Payment_Behaviour' akan diberi label numerik berdasarkan urutan yang ditentukan dalam daftar kategori tersebut."
      ],
      "metadata": {
        "id": "uOe0vRXnAhfd"
      }
    },
    {
      "cell_type": "code",
      "source": [
        "#Dropping Unencoded Columns\n",
        "columns_to_drop = [ 'Payment_Behaviour', 'Credit_Mix', 'Occupation','Credit_Score']\n",
        "train.drop(columns=columns_to_drop, inplace=True)"
      ],
      "metadata": {
        "id": "DYONS7vBXBy_"
      },
      "execution_count": null,
      "outputs": []
    },
    {
      "cell_type": "markdown",
      "source": [
        "Menghapus Kolom yang Sudah diencode Sebelumnya:\n",
        "  - Kolom-kolom yang sudah diencode sebelumnya, yaitu 'Payment_Behaviour', 'Credit_Mix', 'Occupation', dan 'Credit_Score', dihapus dari DataFrame train menggunakan metode drop().\n",
        "  - inplace=True digunakan untuk mengubah DataFrame train secara langsung tanpa perlu menyimpan hasilnya ke variabel baru."
      ],
      "metadata": {
        "id": "AUgJmV0KmZjK"
      }
    },
    {
      "cell_type": "markdown",
      "source": [
        "New Features\n",
        "\n",
        "---\n",
        "\n"
      ],
      "metadata": {
        "id": "Hjh2XvtyWJuh"
      }
    },
    {
      "cell_type": "code",
      "source": [
        "# Menghitung total jumlah (Bank Accounts + Credit Cards)\n",
        "\n",
        "train['Total_Num_Accounts'] = train['Num_Bank_Accounts'] + train['Num_Credit_Card']\n",
        "\n",
        "# Menghitung total jumlah hutang per akun\n",
        "\n",
        "train['Debt_Per_Account'] = train['Outstanding_Debt'] / train['Total_Num_Accounts']\n",
        "\n",
        "# Menghitung perbandingan hutang dan pemasukan\n",
        "\n",
        "train['Debt_to_Income_Ratio'] = train['Outstanding_Debt'] / train['Annual_Income']\n",
        "\n",
        "# Menghitung total jumlah pembayaran yang telat per akun\n",
        "\n",
        "train['Delayed_Payments_Per_Account'] = train['Num_of_Delayed_Payment'] / train['Total_Num_Accounts']\n",
        "\n",
        "# Menghitung pengeluaran bulanan (EMI + Investasi bulanan)\n",
        "\n",
        "train['Total_Monthly_Expenses'] = train['Total_EMI_per_month'] + train['Amount_invested_monthly']"
      ],
      "metadata": {
        "id": "ECnZ9vgBWNJQ"
      },
      "execution_count": null,
      "outputs": []
    },
    {
      "cell_type": "markdown",
      "source": [
        "Kode di atas melakukan perhitungan tambahan pada DataFrame train untuk menciptakan fitur-fitur baru yang mungkin berguna dalam analisis atau pemodelan data. Berikut adalah penjelasan dari setiap perhitungan:\n",
        "\n",
        "1. Total_Num_Accounts:\n",
        "Menghitung total jumlah akun dengan menjumlahkan 'Num_Bank_Accounts' dan 'Num_Credit_Card'. Fitur ini memberikan gambaran tentang total akun yang dimiliki oleh pelanggan.\n",
        "2. Debt_Per_Account:\n",
        "Menghitung rata-rata hutang per akun dengan membagi 'Outstanding_Debt' dengan 'Total_Num_Accounts'. Fitur ini memberikan informasi tentang seberapa besar rata-rata hutang yang dimiliki oleh setiap akun.\n",
        "3. Debt_to_Income_Ratio:\n",
        "Menghitung rasio hutang terhadap pendapatan dengan membagi 'Outstanding_Debt' dengan 'Annual_Income'. Fitur ini membantu dalam mengevaluasi kemampuan seseorang untuk membayar hutang berdasarkan pendapatannya.\n",
        "4. Delayed_Payments_Per_Account:\n",
        "Menghitung jumlah pembayaran yang telat per akun dengan membagi 'Num_of_Delayed_Payment' dengan 'Total_Num_Accounts'. Fitur ini memberikan informasi tentang seberapa sering pembayaran telat terjadi per akun.\n",
        "5. Total_Monthly_Expenses:\n",
        "Menghitung total pengeluaran bulanan dengan menjumlahkan 'Total_EMI_per_month' dan 'Amount_invested_monthly'. Fitur ini memberikan gambaran tentang total pengeluaran bulanan pelanggan termasuk cicilan dan investasi.\n",
        "\n",
        "Dengan menciptakan fitur-fitur ini, Anda dapat memperkaya data Anda dengan informasi tambahan yang dapat digunakan dalam analisis lebih lanjut atau dalam membangun model prediksi."
      ],
      "metadata": {
        "id": "I5wRzgEpnYkp"
      }
    },
    {
      "cell_type": "markdown",
      "source": [
        "Mutual Information Scores (MI Score)​\n",
        "\n",
        "---\n",
        "\n"
      ],
      "metadata": {
        "id": "EunE6xJLWQnX"
      }
    },
    {
      "cell_type": "code",
      "source": [
        "# Mengidentifikasi kolom-kolom kategorikal dalam DataFrame 'train'\n",
        "categorical_columns = train.select_dtypes(include=['object']).columns\n",
        "\n",
        "# Membuat salinan data 'train' untuk proses encoding\n",
        "data_encoded = train.copy()\n",
        "\n",
        "# Membuat encoder Ordinal\n",
        "encoder = OrdinalEncoder()\n",
        "\n",
        "# Melakukan encoding pada kolom-kolom kategorikal menggunakan encoder Ordinal\n",
        "data_encoded[categorical_columns] = encoder.fit_transform(data_encoded[categorical_columns])\n",
        "\n",
        "# Memisahkan target (y) dan fitur-fitur (X) dari data yang telah diencode\n",
        "y = data_encoded['Credit_Score_Encoded']\n",
        "X = data_encoded.drop(columns=['Credit_Score_Encoded'])\n",
        "\n",
        "# Menghitung skor informasi mutual antara setiap fitur dalam X dan target y\n",
        "mi_scores = mutual_info_classif(X, y)\n",
        "\n",
        "# Mencetak skor informasi mutual untuk setiap fitur\n",
        "for i, score in enumerate(mi_scores):\n",
        "    print(f\"Feature '{X.columns[i]}': Mutual Information Score = {score}\")"
      ],
      "metadata": {
        "colab": {
          "base_uri": "https://localhost:8080/"
        },
        "id": "bbj4O10_A1sL",
        "outputId": "b8c15e0c-5d92-46e1-9ac5-6d7d7713c6f3"
      },
      "execution_count": null,
      "outputs": [
        {
          "output_type": "stream",
          "name": "stdout",
          "text": [
            "Feature 'Age': Mutual Information Score = 0.01098262062094002\n",
            "Feature 'Annual_Income': Mutual Information Score = 0.427485666172875\n",
            "Feature 'Num_Bank_Accounts': Mutual Information Score = 0.06140714265320235\n",
            "Feature 'Num_Credit_Card': Mutual Information Score = 0.07414252477232597\n",
            "Feature 'Interest_Rate': Mutual Information Score = 0.09931801640079341\n",
            "Feature 'Num_of_Loan': Mutual Information Score = 0.02259043893278556\n",
            "Feature 'Delay_from_due_date': Mutual Information Score = 0.07110212703176733\n",
            "Feature 'Num_of_Delayed_Payment': Mutual Information Score = 0.054170701460416026\n",
            "Feature 'Changed_Credit_Limit': Mutual Information Score = 0.09860654680483916\n",
            "Feature 'Num_Credit_Inquiries': Mutual Information Score = 0.027454255643937886\n",
            "Feature 'Outstanding_Debt': Mutual Information Score = 0.4320970898018073\n",
            "Feature 'Credit_Utilization_Ratio': Mutual Information Score = 0.0008940600062685711\n",
            "Feature 'Payment_of_Min_Amount': Mutual Information Score = 0.07198116200383686\n",
            "Feature 'Total_EMI_per_month': Mutual Information Score = 0.35146274524439014\n",
            "Feature 'Amount_invested_monthly': Mutual Information Score = 0.0017832864526063918\n",
            "Feature 'Monthly_Balance': Mutual Information Score = 0.005211776983816252\n",
            "Feature 'Credit_History_Age_Months': Mutual Information Score = 0.016993367154926053\n",
            "Feature 'Occupation_Encoded': Mutual Information Score = 0.0007323001161445575\n",
            "Feature 'Credit_Mix_Encoded': Mutual Information Score = 0.1802606977966852\n",
            "Feature 'Payment_Behaviour_Encoded': Mutual Information Score = 0.0028598592021713554\n",
            "Feature 'Total_Num_Accounts': Mutual Information Score = 0.07872281224039046\n",
            "Feature 'Debt_Per_Account': Mutual Information Score = 0.4320345518442008\n",
            "Feature 'Debt_to_Income_Ratio': Mutual Information Score = 0.43457974094499585\n",
            "Feature 'Delayed_Payments_Per_Account': Mutual Information Score = 0.05648610008981558\n",
            "Feature 'Total_Monthly_Expenses': Mutual Information Score = 0.005116200567692353\n"
          ]
        }
      ]
    },
    {
      "cell_type": "markdown",
      "source": [
        "Kode di atas digunakan untuk menghitung skor informasi mutual (mutual information score) antara setiap fitur dalam dataset (X) dan target (y) yang telah diencode. Skor informasi mutual mengukur seberapa banyak informasi tentang target yang dapat diperoleh dari suatu fitur. Hasilnya dicetak dalam loop untuk setiap fitur dalam dataset. Skor ini dapat membantu dalam pemilihan fitur untuk model pembelajaran mesin, di mana fitur-fitur dengan skor yang lebih tinggi cenderung lebih informatif dalam memprediksi target."
      ],
      "metadata": {
        "id": "jVeUnimro005"
      }
    },
    {
      "cell_type": "code",
      "source": [
        "# Mengurutkan skor informasi mutual dan nama fitur secara terbalik\n",
        "sorted_mi_scores = sorted(zip(X.columns, mi_scores), key=lambda x: x[1], reverse=True)\n",
        "\n",
        "# Mendapatkan nama fitur yang sudah diurutkan\n",
        "sorted_columns = [x[0] for x in sorted_mi_scores]\n",
        "\n",
        "# Mendapatkan skor informasi mutual yang sudah diurutkan\n",
        "sorted_scores = [x[1] for x in sorted_mi_scores]\n",
        "\n",
        "# Skala warna yang digunakan untuk plot\n",
        "colorscale = 'Viridis'\n",
        "\n",
        "# Membuat plot batang dengan menggunakan skor informasi mutual dan nama fitur\n",
        "fig = go.Figure(data=[go.Bar(x=sorted_columns, y=sorted_scores, marker=dict(color=sorted_scores, colorbar=dict(title='Skor Informasi Mutual', len=0.5, y=0.2)))])\n",
        "\n",
        "# Menyesuaikan tata letak plot dan memberi judul pada sumbu-sumbunya\n",
        "fig.update_layout(title='Skor Informasi Mutual untuk Setiap Fitur',\n",
        "                  xaxis_title='Fitur',\n",
        "                  yaxis_title='Skor Informasi Mutual')\n",
        "\n",
        "# Menampilkan plot\n",
        "fig.show()"
      ],
      "metadata": {
        "id": "J0nlwuQpXO3f",
        "colab": {
          "base_uri": "https://localhost:8080/",
          "height": 542
        },
        "outputId": "f8e1aac6-ebf8-4e1d-d85a-4baec2cc2951"
      },
      "execution_count": null,
      "outputs": [
        {
          "output_type": "display_data",
          "data": {
            "text/html": [
              "<html>\n",
              "<head><meta charset=\"utf-8\" /></head>\n",
              "<body>\n",
              "    <div>            <script src=\"https://cdnjs.cloudflare.com/ajax/libs/mathjax/2.7.5/MathJax.js?config=TeX-AMS-MML_SVG\"></script><script type=\"text/javascript\">if (window.MathJax && window.MathJax.Hub && window.MathJax.Hub.Config) {window.MathJax.Hub.Config({SVG: {font: \"STIX-Web\"}});}</script>                <script type=\"text/javascript\">window.PlotlyConfig = {MathJaxConfig: 'local'};</script>\n",
              "        <script charset=\"utf-8\" src=\"https://cdn.plot.ly/plotly-2.24.1.min.js\"></script>                <div id=\"d497dfa8-1568-4b1a-9935-1ef687b1dcd4\" class=\"plotly-graph-div\" style=\"height:525px; width:100%;\"></div>            <script type=\"text/javascript\">                                    window.PLOTLYENV=window.PLOTLYENV || {};                                    if (document.getElementById(\"d497dfa8-1568-4b1a-9935-1ef687b1dcd4\")) {                    Plotly.newPlot(                        \"d497dfa8-1568-4b1a-9935-1ef687b1dcd4\",                        [{\"marker\":{\"color\":[0.43457974094499585,0.4320970898018073,0.4320345518442008,0.427485666172875,0.35146274524439014,0.1802606977966852,0.09931801640079341,0.09860654680483916,0.07872281224039046,0.07414252477232597,0.07198116200383686,0.07110212703176733,0.06140714265320235,0.05648610008981558,0.054170701460416026,0.027454255643937886,0.02259043893278556,0.016993367154926053,0.01098262062094002,0.005211776983816252,0.005116200567692353,0.0028598592021713554,0.0017832864526063918,0.0008940600062685711,0.0007323001161445575],\"colorbar\":{\"len\":0.5,\"title\":{\"text\":\"Skor Informasi Mutual\"},\"y\":0.2}},\"x\":[\"Debt_to_Income_Ratio\",\"Outstanding_Debt\",\"Debt_Per_Account\",\"Annual_Income\",\"Total_EMI_per_month\",\"Credit_Mix_Encoded\",\"Interest_Rate\",\"Changed_Credit_Limit\",\"Total_Num_Accounts\",\"Num_Credit_Card\",\"Payment_of_Min_Amount\",\"Delay_from_due_date\",\"Num_Bank_Accounts\",\"Delayed_Payments_Per_Account\",\"Num_of_Delayed_Payment\",\"Num_Credit_Inquiries\",\"Num_of_Loan\",\"Credit_History_Age_Months\",\"Age\",\"Monthly_Balance\",\"Total_Monthly_Expenses\",\"Payment_Behaviour_Encoded\",\"Amount_invested_monthly\",\"Credit_Utilization_Ratio\",\"Occupation_Encoded\"],\"y\":[0.43457974094499585,0.4320970898018073,0.4320345518442008,0.427485666172875,0.35146274524439014,0.1802606977966852,0.09931801640079341,0.09860654680483916,0.07872281224039046,0.07414252477232597,0.07198116200383686,0.07110212703176733,0.06140714265320235,0.05648610008981558,0.054170701460416026,0.027454255643937886,0.02259043893278556,0.016993367154926053,0.01098262062094002,0.005211776983816252,0.005116200567692353,0.0028598592021713554,0.0017832864526063918,0.0008940600062685711,0.0007323001161445575],\"type\":\"bar\"}],                        {\"template\":{\"data\":{\"histogram2dcontour\":[{\"type\":\"histogram2dcontour\",\"colorbar\":{\"outlinewidth\":0,\"ticks\":\"\"},\"colorscale\":[[0.0,\"#0d0887\"],[0.1111111111111111,\"#46039f\"],[0.2222222222222222,\"#7201a8\"],[0.3333333333333333,\"#9c179e\"],[0.4444444444444444,\"#bd3786\"],[0.5555555555555556,\"#d8576b\"],[0.6666666666666666,\"#ed7953\"],[0.7777777777777778,\"#fb9f3a\"],[0.8888888888888888,\"#fdca26\"],[1.0,\"#f0f921\"]]}],\"choropleth\":[{\"type\":\"choropleth\",\"colorbar\":{\"outlinewidth\":0,\"ticks\":\"\"}}],\"histogram2d\":[{\"type\":\"histogram2d\",\"colorbar\":{\"outlinewidth\":0,\"ticks\":\"\"},\"colorscale\":[[0.0,\"#0d0887\"],[0.1111111111111111,\"#46039f\"],[0.2222222222222222,\"#7201a8\"],[0.3333333333333333,\"#9c179e\"],[0.4444444444444444,\"#bd3786\"],[0.5555555555555556,\"#d8576b\"],[0.6666666666666666,\"#ed7953\"],[0.7777777777777778,\"#fb9f3a\"],[0.8888888888888888,\"#fdca26\"],[1.0,\"#f0f921\"]]}],\"heatmap\":[{\"type\":\"heatmap\",\"colorbar\":{\"outlinewidth\":0,\"ticks\":\"\"},\"colorscale\":[[0.0,\"#0d0887\"],[0.1111111111111111,\"#46039f\"],[0.2222222222222222,\"#7201a8\"],[0.3333333333333333,\"#9c179e\"],[0.4444444444444444,\"#bd3786\"],[0.5555555555555556,\"#d8576b\"],[0.6666666666666666,\"#ed7953\"],[0.7777777777777778,\"#fb9f3a\"],[0.8888888888888888,\"#fdca26\"],[1.0,\"#f0f921\"]]}],\"heatmapgl\":[{\"type\":\"heatmapgl\",\"colorbar\":{\"outlinewidth\":0,\"ticks\":\"\"},\"colorscale\":[[0.0,\"#0d0887\"],[0.1111111111111111,\"#46039f\"],[0.2222222222222222,\"#7201a8\"],[0.3333333333333333,\"#9c179e\"],[0.4444444444444444,\"#bd3786\"],[0.5555555555555556,\"#d8576b\"],[0.6666666666666666,\"#ed7953\"],[0.7777777777777778,\"#fb9f3a\"],[0.8888888888888888,\"#fdca26\"],[1.0,\"#f0f921\"]]}],\"contourcarpet\":[{\"type\":\"contourcarpet\",\"colorbar\":{\"outlinewidth\":0,\"ticks\":\"\"}}],\"contour\":[{\"type\":\"contour\",\"colorbar\":{\"outlinewidth\":0,\"ticks\":\"\"},\"colorscale\":[[0.0,\"#0d0887\"],[0.1111111111111111,\"#46039f\"],[0.2222222222222222,\"#7201a8\"],[0.3333333333333333,\"#9c179e\"],[0.4444444444444444,\"#bd3786\"],[0.5555555555555556,\"#d8576b\"],[0.6666666666666666,\"#ed7953\"],[0.7777777777777778,\"#fb9f3a\"],[0.8888888888888888,\"#fdca26\"],[1.0,\"#f0f921\"]]}],\"surface\":[{\"type\":\"surface\",\"colorbar\":{\"outlinewidth\":0,\"ticks\":\"\"},\"colorscale\":[[0.0,\"#0d0887\"],[0.1111111111111111,\"#46039f\"],[0.2222222222222222,\"#7201a8\"],[0.3333333333333333,\"#9c179e\"],[0.4444444444444444,\"#bd3786\"],[0.5555555555555556,\"#d8576b\"],[0.6666666666666666,\"#ed7953\"],[0.7777777777777778,\"#fb9f3a\"],[0.8888888888888888,\"#fdca26\"],[1.0,\"#f0f921\"]]}],\"mesh3d\":[{\"type\":\"mesh3d\",\"colorbar\":{\"outlinewidth\":0,\"ticks\":\"\"}}],\"scatter\":[{\"fillpattern\":{\"fillmode\":\"overlay\",\"size\":10,\"solidity\":0.2},\"type\":\"scatter\"}],\"parcoords\":[{\"type\":\"parcoords\",\"line\":{\"colorbar\":{\"outlinewidth\":0,\"ticks\":\"\"}}}],\"scatterpolargl\":[{\"type\":\"scatterpolargl\",\"marker\":{\"colorbar\":{\"outlinewidth\":0,\"ticks\":\"\"}}}],\"bar\":[{\"error_x\":{\"color\":\"#2a3f5f\"},\"error_y\":{\"color\":\"#2a3f5f\"},\"marker\":{\"line\":{\"color\":\"#E5ECF6\",\"width\":0.5},\"pattern\":{\"fillmode\":\"overlay\",\"size\":10,\"solidity\":0.2}},\"type\":\"bar\"}],\"scattergeo\":[{\"type\":\"scattergeo\",\"marker\":{\"colorbar\":{\"outlinewidth\":0,\"ticks\":\"\"}}}],\"scatterpolar\":[{\"type\":\"scatterpolar\",\"marker\":{\"colorbar\":{\"outlinewidth\":0,\"ticks\":\"\"}}}],\"histogram\":[{\"marker\":{\"pattern\":{\"fillmode\":\"overlay\",\"size\":10,\"solidity\":0.2}},\"type\":\"histogram\"}],\"scattergl\":[{\"type\":\"scattergl\",\"marker\":{\"colorbar\":{\"outlinewidth\":0,\"ticks\":\"\"}}}],\"scatter3d\":[{\"type\":\"scatter3d\",\"line\":{\"colorbar\":{\"outlinewidth\":0,\"ticks\":\"\"}},\"marker\":{\"colorbar\":{\"outlinewidth\":0,\"ticks\":\"\"}}}],\"scattermapbox\":[{\"type\":\"scattermapbox\",\"marker\":{\"colorbar\":{\"outlinewidth\":0,\"ticks\":\"\"}}}],\"scatterternary\":[{\"type\":\"scatterternary\",\"marker\":{\"colorbar\":{\"outlinewidth\":0,\"ticks\":\"\"}}}],\"scattercarpet\":[{\"type\":\"scattercarpet\",\"marker\":{\"colorbar\":{\"outlinewidth\":0,\"ticks\":\"\"}}}],\"carpet\":[{\"aaxis\":{\"endlinecolor\":\"#2a3f5f\",\"gridcolor\":\"white\",\"linecolor\":\"white\",\"minorgridcolor\":\"white\",\"startlinecolor\":\"#2a3f5f\"},\"baxis\":{\"endlinecolor\":\"#2a3f5f\",\"gridcolor\":\"white\",\"linecolor\":\"white\",\"minorgridcolor\":\"white\",\"startlinecolor\":\"#2a3f5f\"},\"type\":\"carpet\"}],\"table\":[{\"cells\":{\"fill\":{\"color\":\"#EBF0F8\"},\"line\":{\"color\":\"white\"}},\"header\":{\"fill\":{\"color\":\"#C8D4E3\"},\"line\":{\"color\":\"white\"}},\"type\":\"table\"}],\"barpolar\":[{\"marker\":{\"line\":{\"color\":\"#E5ECF6\",\"width\":0.5},\"pattern\":{\"fillmode\":\"overlay\",\"size\":10,\"solidity\":0.2}},\"type\":\"barpolar\"}],\"pie\":[{\"automargin\":true,\"type\":\"pie\"}]},\"layout\":{\"autotypenumbers\":\"strict\",\"colorway\":[\"#636efa\",\"#EF553B\",\"#00cc96\",\"#ab63fa\",\"#FFA15A\",\"#19d3f3\",\"#FF6692\",\"#B6E880\",\"#FF97FF\",\"#FECB52\"],\"font\":{\"color\":\"#2a3f5f\"},\"hovermode\":\"closest\",\"hoverlabel\":{\"align\":\"left\"},\"paper_bgcolor\":\"white\",\"plot_bgcolor\":\"#E5ECF6\",\"polar\":{\"bgcolor\":\"#E5ECF6\",\"angularaxis\":{\"gridcolor\":\"white\",\"linecolor\":\"white\",\"ticks\":\"\"},\"radialaxis\":{\"gridcolor\":\"white\",\"linecolor\":\"white\",\"ticks\":\"\"}},\"ternary\":{\"bgcolor\":\"#E5ECF6\",\"aaxis\":{\"gridcolor\":\"white\",\"linecolor\":\"white\",\"ticks\":\"\"},\"baxis\":{\"gridcolor\":\"white\",\"linecolor\":\"white\",\"ticks\":\"\"},\"caxis\":{\"gridcolor\":\"white\",\"linecolor\":\"white\",\"ticks\":\"\"}},\"coloraxis\":{\"colorbar\":{\"outlinewidth\":0,\"ticks\":\"\"}},\"colorscale\":{\"sequential\":[[0.0,\"#0d0887\"],[0.1111111111111111,\"#46039f\"],[0.2222222222222222,\"#7201a8\"],[0.3333333333333333,\"#9c179e\"],[0.4444444444444444,\"#bd3786\"],[0.5555555555555556,\"#d8576b\"],[0.6666666666666666,\"#ed7953\"],[0.7777777777777778,\"#fb9f3a\"],[0.8888888888888888,\"#fdca26\"],[1.0,\"#f0f921\"]],\"sequentialminus\":[[0.0,\"#0d0887\"],[0.1111111111111111,\"#46039f\"],[0.2222222222222222,\"#7201a8\"],[0.3333333333333333,\"#9c179e\"],[0.4444444444444444,\"#bd3786\"],[0.5555555555555556,\"#d8576b\"],[0.6666666666666666,\"#ed7953\"],[0.7777777777777778,\"#fb9f3a\"],[0.8888888888888888,\"#fdca26\"],[1.0,\"#f0f921\"]],\"diverging\":[[0,\"#8e0152\"],[0.1,\"#c51b7d\"],[0.2,\"#de77ae\"],[0.3,\"#f1b6da\"],[0.4,\"#fde0ef\"],[0.5,\"#f7f7f7\"],[0.6,\"#e6f5d0\"],[0.7,\"#b8e186\"],[0.8,\"#7fbc41\"],[0.9,\"#4d9221\"],[1,\"#276419\"]]},\"xaxis\":{\"gridcolor\":\"white\",\"linecolor\":\"white\",\"ticks\":\"\",\"title\":{\"standoff\":15},\"zerolinecolor\":\"white\",\"automargin\":true,\"zerolinewidth\":2},\"yaxis\":{\"gridcolor\":\"white\",\"linecolor\":\"white\",\"ticks\":\"\",\"title\":{\"standoff\":15},\"zerolinecolor\":\"white\",\"automargin\":true,\"zerolinewidth\":2},\"scene\":{\"xaxis\":{\"backgroundcolor\":\"#E5ECF6\",\"gridcolor\":\"white\",\"linecolor\":\"white\",\"showbackground\":true,\"ticks\":\"\",\"zerolinecolor\":\"white\",\"gridwidth\":2},\"yaxis\":{\"backgroundcolor\":\"#E5ECF6\",\"gridcolor\":\"white\",\"linecolor\":\"white\",\"showbackground\":true,\"ticks\":\"\",\"zerolinecolor\":\"white\",\"gridwidth\":2},\"zaxis\":{\"backgroundcolor\":\"#E5ECF6\",\"gridcolor\":\"white\",\"linecolor\":\"white\",\"showbackground\":true,\"ticks\":\"\",\"zerolinecolor\":\"white\",\"gridwidth\":2}},\"shapedefaults\":{\"line\":{\"color\":\"#2a3f5f\"}},\"annotationdefaults\":{\"arrowcolor\":\"#2a3f5f\",\"arrowhead\":0,\"arrowwidth\":1},\"geo\":{\"bgcolor\":\"white\",\"landcolor\":\"#E5ECF6\",\"subunitcolor\":\"white\",\"showland\":true,\"showlakes\":true,\"lakecolor\":\"white\"},\"title\":{\"x\":0.05},\"mapbox\":{\"style\":\"light\"}}},\"title\":{\"text\":\"Skor Informasi Mutual untuk Setiap Fitur\"},\"xaxis\":{\"title\":{\"text\":\"Fitur\"}},\"yaxis\":{\"title\":{\"text\":\"Skor Informasi Mutual\"}}},                        {\"responsive\": true}                    ).then(function(){\n",
              "                            \n",
              "var gd = document.getElementById('d497dfa8-1568-4b1a-9935-1ef687b1dcd4');\n",
              "var x = new MutationObserver(function (mutations, observer) {{\n",
              "        var display = window.getComputedStyle(gd).display;\n",
              "        if (!display || display === 'none') {{\n",
              "            console.log([gd, 'removed!']);\n",
              "            Plotly.purge(gd);\n",
              "            observer.disconnect();\n",
              "        }}\n",
              "}});\n",
              "\n",
              "// Listen for the removal of the full notebook cells\n",
              "var notebookContainer = gd.closest('#notebook-container');\n",
              "if (notebookContainer) {{\n",
              "    x.observe(notebookContainer, {childList: true});\n",
              "}}\n",
              "\n",
              "// Listen for the clearing of the current output cell\n",
              "var outputEl = gd.closest('.output');\n",
              "if (outputEl) {{\n",
              "    x.observe(outputEl, {childList: true});\n",
              "}}\n",
              "\n",
              "                        })                };                            </script>        </div>\n",
              "</body>\n",
              "</html>"
            ]
          },
          "metadata": {}
        }
      ]
    },
    {
      "cell_type": "markdown",
      "source": [
        "Kode di atas menghasilkan sebuah plot batang yang menunjukkan skor informasi mutual untuk setiap fitur dalam dataset, yang telah diurutkan berdasarkan skor tersebut secara menurun. Hal ini membantu dalam visualisasi dan pemahaman tentang seberapa informatif setiap fitur dalam memprediksi target. Skala warna pada plot menunjukkan seberapa tinggi skor informasi mutual untuk setiap fitur."
      ],
      "metadata": {
        "id": "mcwlkVmio4dH"
      }
    },
    {
      "cell_type": "markdown",
      "source": [
        "# Machine Learning Model"
      ],
      "metadata": {
        "id": "l7yWPvQ1XdAP"
      }
    },
    {
      "cell_type": "code",
      "source": [
        "# Menyiapkan dataframe untuk latih pada variabel y pada kolom Credit_Score_Encoded\n",
        "y = train['Credit_Score_Encoded']\n",
        "\n",
        "# # Menyiapkan dataframe untuk latih pada variabel X pada kolom yang ditentukan dibawah\n",
        "X = train[['Annual_Income', 'Num_Bank_Accounts', 'Num_Credit_Card',\n",
        "       'Interest_Rate', 'Num_of_Loan', 'Delay_from_due_date',\n",
        "       'Num_of_Delayed_Payment', 'Changed_Credit_Limit',\n",
        "       'Num_Credit_Inquiries', 'Outstanding_Debt', 'Total_EMI_per_month',\n",
        "       'Credit_History_Age_Months', 'Credit_Mix_Encoded', 'Total_Num_Accounts',\n",
        "       'Debt_Per_Account', 'Debt_to_Income_Ratio', 'Delayed_Payments_Per_Account']]\n",
        "\n",
        "# Membagi data menjadi data latih dan data uji\n",
        "X_train, X_test, y_train, y_test = train_test_split(X, y, test_size=0.2, random_state=77)"
      ],
      "metadata": {
        "id": "Q54eMLQJXkv6"
      },
      "execution_count": null,
      "outputs": []
    },
    {
      "cell_type": "markdown",
      "source": [
        "Kode di atas membagi data menjadi data latih (X_train, y_train) dan data uji (X_test, y_test) dengan proporsi 80:20.\n",
        "\n",
        "Fitur-fitur yang digunakan untuk membangun model adalah 'Annual_Income', 'Num_Bank_Accounts', 'Num_Credit_Card', 'Interest_Rate', 'Num_of_Loan', 'Delay_from_due_date', 'Num_of_Delayed_Payment', 'Changed_Credit_Limit', 'Num_Credit_Inquiries', 'Outstanding_Debt', 'Total_EMI_per_month', 'Credit_History_Age_Months', 'Credit_Mix_Encoded', 'Total_Num_Accounts', 'Debt_Per_Account', 'Debt_to_Income_Ratio', dan 'Delayed_Payments_Per_Account'.\n",
        "\n",
        "Data diacak menggunakan nilai seed 77 untuk memastikan hasil yang konsisten dalam pengujian berulang-ulang."
      ],
      "metadata": {
        "id": "rBDwv1VFp6VH"
      }
    },
    {
      "cell_type": "markdown",
      "source": [
        "Random Forest\n",
        "\n",
        "---\n",
        "\n"
      ],
      "metadata": {
        "id": "db6G3neZYqRw"
      }
    },
    {
      "cell_type": "code",
      "source": [
        "model = RandomForestRegressor(n_estimators=500, bootstrap=True, random_state=77)\n",
        "model.fit(X_train, y_train)"
      ],
      "metadata": {
        "id": "nFTAN003Yn4w",
        "colab": {
          "base_uri": "https://localhost:8080/",
          "height": 74
        },
        "outputId": "d7faf3be-a801-4698-faf8-c3246726beb5"
      },
      "execution_count": null,
      "outputs": [
        {
          "output_type": "execute_result",
          "data": {
            "text/plain": [
              "RandomForestRegressor(n_estimators=500, random_state=77)"
            ],
            "text/html": [
              "<style>#sk-container-id-1 {color: black;background-color: white;}#sk-container-id-1 pre{padding: 0;}#sk-container-id-1 div.sk-toggleable {background-color: white;}#sk-container-id-1 label.sk-toggleable__label {cursor: pointer;display: block;width: 100%;margin-bottom: 0;padding: 0.3em;box-sizing: border-box;text-align: center;}#sk-container-id-1 label.sk-toggleable__label-arrow:before {content: \"▸\";float: left;margin-right: 0.25em;color: #696969;}#sk-container-id-1 label.sk-toggleable__label-arrow:hover:before {color: black;}#sk-container-id-1 div.sk-estimator:hover label.sk-toggleable__label-arrow:before {color: black;}#sk-container-id-1 div.sk-toggleable__content {max-height: 0;max-width: 0;overflow: hidden;text-align: left;background-color: #f0f8ff;}#sk-container-id-1 div.sk-toggleable__content pre {margin: 0.2em;color: black;border-radius: 0.25em;background-color: #f0f8ff;}#sk-container-id-1 input.sk-toggleable__control:checked~div.sk-toggleable__content {max-height: 200px;max-width: 100%;overflow: auto;}#sk-container-id-1 input.sk-toggleable__control:checked~label.sk-toggleable__label-arrow:before {content: \"▾\";}#sk-container-id-1 div.sk-estimator input.sk-toggleable__control:checked~label.sk-toggleable__label {background-color: #d4ebff;}#sk-container-id-1 div.sk-label input.sk-toggleable__control:checked~label.sk-toggleable__label {background-color: #d4ebff;}#sk-container-id-1 input.sk-hidden--visually {border: 0;clip: rect(1px 1px 1px 1px);clip: rect(1px, 1px, 1px, 1px);height: 1px;margin: -1px;overflow: hidden;padding: 0;position: absolute;width: 1px;}#sk-container-id-1 div.sk-estimator {font-family: monospace;background-color: #f0f8ff;border: 1px dotted black;border-radius: 0.25em;box-sizing: border-box;margin-bottom: 0.5em;}#sk-container-id-1 div.sk-estimator:hover {background-color: #d4ebff;}#sk-container-id-1 div.sk-parallel-item::after {content: \"\";width: 100%;border-bottom: 1px solid gray;flex-grow: 1;}#sk-container-id-1 div.sk-label:hover label.sk-toggleable__label {background-color: #d4ebff;}#sk-container-id-1 div.sk-serial::before {content: \"\";position: absolute;border-left: 1px solid gray;box-sizing: border-box;top: 0;bottom: 0;left: 50%;z-index: 0;}#sk-container-id-1 div.sk-serial {display: flex;flex-direction: column;align-items: center;background-color: white;padding-right: 0.2em;padding-left: 0.2em;position: relative;}#sk-container-id-1 div.sk-item {position: relative;z-index: 1;}#sk-container-id-1 div.sk-parallel {display: flex;align-items: stretch;justify-content: center;background-color: white;position: relative;}#sk-container-id-1 div.sk-item::before, #sk-container-id-1 div.sk-parallel-item::before {content: \"\";position: absolute;border-left: 1px solid gray;box-sizing: border-box;top: 0;bottom: 0;left: 50%;z-index: -1;}#sk-container-id-1 div.sk-parallel-item {display: flex;flex-direction: column;z-index: 1;position: relative;background-color: white;}#sk-container-id-1 div.sk-parallel-item:first-child::after {align-self: flex-end;width: 50%;}#sk-container-id-1 div.sk-parallel-item:last-child::after {align-self: flex-start;width: 50%;}#sk-container-id-1 div.sk-parallel-item:only-child::after {width: 0;}#sk-container-id-1 div.sk-dashed-wrapped {border: 1px dashed gray;margin: 0 0.4em 0.5em 0.4em;box-sizing: border-box;padding-bottom: 0.4em;background-color: white;}#sk-container-id-1 div.sk-label label {font-family: monospace;font-weight: bold;display: inline-block;line-height: 1.2em;}#sk-container-id-1 div.sk-label-container {text-align: center;}#sk-container-id-1 div.sk-container {/* jupyter's `normalize.less` sets `[hidden] { display: none; }` but bootstrap.min.css set `[hidden] { display: none !important; }` so we also need the `!important` here to be able to override the default hidden behavior on the sphinx rendered scikit-learn.org. See: https://github.com/scikit-learn/scikit-learn/issues/21755 */display: inline-block !important;position: relative;}#sk-container-id-1 div.sk-text-repr-fallback {display: none;}</style><div id=\"sk-container-id-1\" class=\"sk-top-container\"><div class=\"sk-text-repr-fallback\"><pre>RandomForestRegressor(n_estimators=500, random_state=77)</pre><b>In a Jupyter environment, please rerun this cell to show the HTML representation or trust the notebook. <br />On GitHub, the HTML representation is unable to render, please try loading this page with nbviewer.org.</b></div><div class=\"sk-container\" hidden><div class=\"sk-item\"><div class=\"sk-estimator sk-toggleable\"><input class=\"sk-toggleable__control sk-hidden--visually\" id=\"sk-estimator-id-1\" type=\"checkbox\" checked><label for=\"sk-estimator-id-1\" class=\"sk-toggleable__label sk-toggleable__label-arrow\">RandomForestRegressor</label><div class=\"sk-toggleable__content\"><pre>RandomForestRegressor(n_estimators=500, random_state=77)</pre></div></div></div></div></div>"
            ]
          },
          "metadata": {},
          "execution_count": 33
        }
      ]
    },
    {
      "cell_type": "markdown",
      "source": [
        "Kode di atas menciptakan model Regresi Random Forest dengan menggunakan kelas RandomForestRegressor dari modul sklearn.ensemble. Model ini akan dilatih dengan menggunakan data latih (X_train dan y_train).\n",
        "\n",
        "Parameter yang digunakan untuk membuat model ini adalah sebagai berikut:\n",
        "\n",
        "- n_estimators=500: Menentukan jumlah pohon keputusan yang akan digunakan dalam ensemble. Dalam hal ini, kami menggunakan 500 pohon.\n",
        "- bootstrap=True: Menentukan apakah pengambilan sampel bootstrap dilakukan saat pembuatan setiap pohon. Jika diatur ke True, setiap pohon akan dilatih dengan sampel yang diambil secara acak dengan penggantian dari data latih. Ini membantu meningkatkan variasi antar pohon, yang sering kali menghasilkan model yang lebih kuat.\n",
        "- random_state=77: Menentukan seed untuk pengacakan. Seed ini digunakan untuk membuat hasil yang dapat direproduksi, sehingga model akan memberikan hasil yang konsisten ketika dijalankan berulang kali dengan seed yang sama.\n",
        "\n",
        "Setelah model dibuat, fungsi fit() digunakan untuk melatih model menggunakan data latih, yaitu fitur-fitur dalam X_train dan label y_train. Model ini akan belajar untuk memetakan fitur-fitur ini ke label y_train, sehingga dapat melakukan prediksi nilai Credit_Score_Encoded berdasarkan fitur-fitur yang diberikan."
      ],
      "metadata": {
        "id": "CR3YEsaNCVxP"
      }
    },
    {
      "cell_type": "markdown",
      "source": [
        "# Model Evaluation\n",
        "\n"
      ],
      "metadata": {
        "id": "GsqZKo0-Y0UY"
      }
    },
    {
      "cell_type": "markdown",
      "source": [
        "Mean Squared Error (MSE)\n",
        "\n",
        "---\n",
        "\n"
      ],
      "metadata": {
        "id": "toyVbFROZIAg"
      }
    },
    {
      "cell_type": "code",
      "source": [
        "y_pred = model.predict(X_test)\n",
        "mse = mean_squared_error(y_test, y_pred)\n",
        "print(\"Mean Squared Error:\", mse)"
      ],
      "metadata": {
        "id": "MxlakVCnY0l5",
        "colab": {
          "base_uri": "https://localhost:8080/"
        },
        "outputId": "f9203e41-66e7-4f64-b648-d13d816e0d58"
      },
      "execution_count": null,
      "outputs": [
        {
          "output_type": "stream",
          "name": "stdout",
          "text": [
            "Mean Squared Error: 0.1621489922101923\n"
          ]
        }
      ]
    },
    {
      "cell_type": "markdown",
      "source": [
        "Kode di atas digunakan untuk membuat prediksi menggunakan model Regresi Random Forest yang telah dilatih sebelumnya (model) pada data uji (X_test). Prediksi kemudian disimpan dalam variabel y_pred.\n",
        "\n",
        "Selanjutnya, menggunakan nilai prediksi (y_pred) dan nilai sebenarnya dari data uji (y_test), dihitung Mean Squared Error (MSE) dengan memanggil fungsi mean_squared_error() dari modul sklearn.metrics. Nilai MSE digunakan sebagai metrik untuk mengevaluasi seberapa baik model melakukan prediksi terhadap data yang belum pernah dilihat sebelumnya.\n",
        "\n",
        "Hasil MSE kemudian dicetak untuk memberikan informasi tentang seberapa baik model yang telah dilatih mampu melakukan prediksi terhadap data uji. Semakin rendah nilai MSE, semakin baik kinerja model dalam melakukan prediksi."
      ],
      "metadata": {
        "id": "_NNtbCuqCWW2"
      }
    },
    {
      "cell_type": "markdown",
      "source": [
        "Accuracy Test\n",
        "\n",
        "---\n",
        "\n"
      ],
      "metadata": {
        "id": "X4NV69RbZyUe"
      }
    },
    {
      "cell_type": "code",
      "source": [
        "rf_classifier = RandomForestClassifier(n_estimators=500, bootstrap=True)\n",
        "rf_classifier.fit(X_train, y_train)"
      ],
      "metadata": {
        "id": "qumW38YjaCXJ",
        "colab": {
          "base_uri": "https://localhost:8080/",
          "height": 74
        },
        "outputId": "dd450c73-b8c3-4d7f-e0aa-db79e10f3cd9"
      },
      "execution_count": null,
      "outputs": [
        {
          "output_type": "execute_result",
          "data": {
            "text/plain": [
              "RandomForestClassifier(n_estimators=500)"
            ],
            "text/html": [
              "<style>#sk-container-id-2 {color: black;background-color: white;}#sk-container-id-2 pre{padding: 0;}#sk-container-id-2 div.sk-toggleable {background-color: white;}#sk-container-id-2 label.sk-toggleable__label {cursor: pointer;display: block;width: 100%;margin-bottom: 0;padding: 0.3em;box-sizing: border-box;text-align: center;}#sk-container-id-2 label.sk-toggleable__label-arrow:before {content: \"▸\";float: left;margin-right: 0.25em;color: #696969;}#sk-container-id-2 label.sk-toggleable__label-arrow:hover:before {color: black;}#sk-container-id-2 div.sk-estimator:hover label.sk-toggleable__label-arrow:before {color: black;}#sk-container-id-2 div.sk-toggleable__content {max-height: 0;max-width: 0;overflow: hidden;text-align: left;background-color: #f0f8ff;}#sk-container-id-2 div.sk-toggleable__content pre {margin: 0.2em;color: black;border-radius: 0.25em;background-color: #f0f8ff;}#sk-container-id-2 input.sk-toggleable__control:checked~div.sk-toggleable__content {max-height: 200px;max-width: 100%;overflow: auto;}#sk-container-id-2 input.sk-toggleable__control:checked~label.sk-toggleable__label-arrow:before {content: \"▾\";}#sk-container-id-2 div.sk-estimator input.sk-toggleable__control:checked~label.sk-toggleable__label {background-color: #d4ebff;}#sk-container-id-2 div.sk-label input.sk-toggleable__control:checked~label.sk-toggleable__label {background-color: #d4ebff;}#sk-container-id-2 input.sk-hidden--visually {border: 0;clip: rect(1px 1px 1px 1px);clip: rect(1px, 1px, 1px, 1px);height: 1px;margin: -1px;overflow: hidden;padding: 0;position: absolute;width: 1px;}#sk-container-id-2 div.sk-estimator {font-family: monospace;background-color: #f0f8ff;border: 1px dotted black;border-radius: 0.25em;box-sizing: border-box;margin-bottom: 0.5em;}#sk-container-id-2 div.sk-estimator:hover {background-color: #d4ebff;}#sk-container-id-2 div.sk-parallel-item::after {content: \"\";width: 100%;border-bottom: 1px solid gray;flex-grow: 1;}#sk-container-id-2 div.sk-label:hover label.sk-toggleable__label {background-color: #d4ebff;}#sk-container-id-2 div.sk-serial::before {content: \"\";position: absolute;border-left: 1px solid gray;box-sizing: border-box;top: 0;bottom: 0;left: 50%;z-index: 0;}#sk-container-id-2 div.sk-serial {display: flex;flex-direction: column;align-items: center;background-color: white;padding-right: 0.2em;padding-left: 0.2em;position: relative;}#sk-container-id-2 div.sk-item {position: relative;z-index: 1;}#sk-container-id-2 div.sk-parallel {display: flex;align-items: stretch;justify-content: center;background-color: white;position: relative;}#sk-container-id-2 div.sk-item::before, #sk-container-id-2 div.sk-parallel-item::before {content: \"\";position: absolute;border-left: 1px solid gray;box-sizing: border-box;top: 0;bottom: 0;left: 50%;z-index: -1;}#sk-container-id-2 div.sk-parallel-item {display: flex;flex-direction: column;z-index: 1;position: relative;background-color: white;}#sk-container-id-2 div.sk-parallel-item:first-child::after {align-self: flex-end;width: 50%;}#sk-container-id-2 div.sk-parallel-item:last-child::after {align-self: flex-start;width: 50%;}#sk-container-id-2 div.sk-parallel-item:only-child::after {width: 0;}#sk-container-id-2 div.sk-dashed-wrapped {border: 1px dashed gray;margin: 0 0.4em 0.5em 0.4em;box-sizing: border-box;padding-bottom: 0.4em;background-color: white;}#sk-container-id-2 div.sk-label label {font-family: monospace;font-weight: bold;display: inline-block;line-height: 1.2em;}#sk-container-id-2 div.sk-label-container {text-align: center;}#sk-container-id-2 div.sk-container {/* jupyter's `normalize.less` sets `[hidden] { display: none; }` but bootstrap.min.css set `[hidden] { display: none !important; }` so we also need the `!important` here to be able to override the default hidden behavior on the sphinx rendered scikit-learn.org. See: https://github.com/scikit-learn/scikit-learn/issues/21755 */display: inline-block !important;position: relative;}#sk-container-id-2 div.sk-text-repr-fallback {display: none;}</style><div id=\"sk-container-id-2\" class=\"sk-top-container\"><div class=\"sk-text-repr-fallback\"><pre>RandomForestClassifier(n_estimators=500)</pre><b>In a Jupyter environment, please rerun this cell to show the HTML representation or trust the notebook. <br />On GitHub, the HTML representation is unable to render, please try loading this page with nbviewer.org.</b></div><div class=\"sk-container\" hidden><div class=\"sk-item\"><div class=\"sk-estimator sk-toggleable\"><input class=\"sk-toggleable__control sk-hidden--visually\" id=\"sk-estimator-id-2\" type=\"checkbox\" checked><label for=\"sk-estimator-id-2\" class=\"sk-toggleable__label sk-toggleable__label-arrow\">RandomForestClassifier</label><div class=\"sk-toggleable__content\"><pre>RandomForestClassifier(n_estimators=500)</pre></div></div></div></div></div>"
            ]
          },
          "metadata": {},
          "execution_count": 35
        }
      ]
    },
    {
      "cell_type": "markdown",
      "source": [
        "Kode di atas digunakan untuk membuat dan melatih model klasifikasi Random Forest menggunakan RandomForestClassifier dari library scikit-learn. Model tersebut dilatih pada data latih (X_train dan y_train) menggunakan 500 pohon keputusan (estimators) dan penggunaan sampel bootstrap untuk pembangunan setiap pohon.\n",
        "\n",
        "Setelah melatih model, model tersebut siap untuk digunakan untuk membuat prediksi kelas pada data uji atau digunakan untuk tujuan klasifikasi lainnya."
      ],
      "metadata": {
        "id": "5TI0tt0hCXlt"
      }
    },
    {
      "cell_type": "code",
      "source": [
        "y_pred = rf_classifier.predict(X_test)\n",
        "\n",
        "accuracy = accuracy_score(y_test, y_pred)\n",
        "print(\"Accuracy on original test set:\", accuracy)\n",
        "\n",
        "matrix = confusion_matrix(y_test, y_pred)\n",
        "plt.figure(figsize=(6, 6))\n",
        "sns.heatmap(matrix, annot=True, cbar=False, cmap='twilight', linewidth=0.5, fmt=\"d\")\n",
        "plt.ylabel('True Label')\n",
        "plt.xlabel('Predicted Label')\n",
        "plt.title('Confusion Matrix for RandomForestClassifier on original test set')\n",
        "\n",
        "print('\\nClassification report for original test set:\\n', classification_report(y_test, y_pred))"
      ],
      "metadata": {
        "id": "ZWu87vN6Zyn_",
        "colab": {
          "base_uri": "https://localhost:8080/",
          "height": 790
        },
        "outputId": "e5b12d41-4803-4c67-8acb-56f89b378529"
      },
      "execution_count": null,
      "outputs": [
        {
          "output_type": "stream",
          "name": "stdout",
          "text": [
            "Accuracy on original test set: 0.8078666235027517\n",
            "\n",
            "Classification report for original test set:\n",
            "               precision    recall  f1-score   support\n",
            "\n",
            "         0.0       0.75      0.67      0.71       901\n",
            "         1.0       0.84      0.87      0.85      3810\n",
            "         2.0       0.76      0.74      0.75      1467\n",
            "\n",
            "    accuracy                           0.81      6178\n",
            "   macro avg       0.78      0.76      0.77      6178\n",
            "weighted avg       0.81      0.81      0.81      6178\n",
            "\n"
          ]
        },
        {
          "output_type": "display_data",
          "data": {
            "text/plain": [
              "<Figure size 600x600 with 1 Axes>"
            ],
            "image/png": "[encoded data removed]"
          },
          "metadata": {}
        }
      ]
    },
    {
      "cell_type": "markdown",
      "source": [
        "Kode tersebut digunakan untuk melakukan evaluasi kinerja model klasifikasi Random Forest pada data uji. Pertama, model digunakan untuk membuat prediksi kelas pada data uji (X_test) menggunakan metode predict().\n",
        "\n",
        "Kemudian, akurasi model dihitung dengan membandingkan prediksi yang dihasilkan (y_pred) dengan label sebenarnya dari data uji (y_test) menggunakan fungsi accuracy_score() dari modul sklearn.metrics.\n",
        "\n",
        "Selanjutnya, dilakukan pembuatan confusion matrix dengan memanfaatkan fungsi confusion_matrix() dari modul sklearn.metrics untuk menunjukkan seberapa baik model dalam memprediksi kelas tertentu. Confusion matrix ini ditampilkan menggunakan heatmap dari library Seaborn.\n",
        "\n",
        "Terakhir, dilakukan pencetakan laporan klasifikasi yang mencakup beberapa metrik evaluasi seperti precision, recall, dan f1-score menggunakan fungsi classification_report() dari modul sklearn.metrics. Laporan ini memberikan informasi lebih detail tentang kinerja model dalam mengklasifikasikan setiap kelas."
      ],
      "metadata": {
        "id": "glGUqD6ZCYCW"
      }
    }
  ]
}